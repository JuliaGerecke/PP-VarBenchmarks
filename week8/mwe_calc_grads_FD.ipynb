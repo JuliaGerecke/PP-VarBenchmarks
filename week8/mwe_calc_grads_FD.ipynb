{
 "cells": [
  {
   "cell_type": "code",
   "execution_count": 1,
   "id": "07a41a7e",
   "metadata": {},
   "outputs": [],
   "source": [
    "using PauliPropagation\n",
    "using Plots\n",
    "using Bits\n",
    "using Random\n",
    "using Distributions: Uniform"
   ]
  },
  {
   "cell_type": "code",
   "execution_count": 2,
   "id": "23b0a14e",
   "metadata": {},
   "outputs": [],
   "source": [
    "# new imports\n",
    "using ForwardDiff"
   ]
  },
  {
   "cell_type": "code",
   "execution_count": 3,
   "id": "841bb527",
   "metadata": {},
   "outputs": [
    {
     "data": {
      "text/plain": [
       "heisenberg_hamiltonian (generic function with 2 methods)"
      ]
     },
     "metadata": {},
     "output_type": "display_data"
    }
   ],
   "source": [
    "# Heisenberg Hamiltonian ready to be used in lossfunctions\n",
    "# keep topology as main argument to avoid forgetting it\n",
    "function heisenberg_hamiltonian(::Type{CT}, nq::Int, topology; J=1.0) where CT\n",
    "    \n",
    "    psum = PauliSum(CT,nq)\n",
    "    Jc = convert(CT, J)\n",
    "    if isnothing(topology)\n",
    "        topology = bricklayertopology(nq;periodic=false) #chain with obc\n",
    "    end\n",
    "\n",
    "    for pair in topology\n",
    "        add!(psum, [:X,:X], collect(pair), Jc)\n",
    "        add!(psum, [:Y,:Y], collect(pair), Jc)\n",
    "        add!(psum, [:Z,:Z], collect(pair), Jc)\n",
    "    end\n",
    "    return psum\n",
    "end\n",
    "# add type default\n",
    "heisenberg_hamiltonian(nq::Int, topology; J=1.0) = heisenberg_hamiltonian(Float64, nq, topology; J=J)"
   ]
  },
  {
   "cell_type": "code",
   "execution_count": 4,
   "id": "9925c5f6",
   "metadata": {},
   "outputs": [
    {
     "data": {
      "text/plain": [
       "PauliSum(nqubits: 3, 9 Pauli terms:\n",
       " 1.0 * XXI\n",
       " 1.0 * YIY\n",
       " 1.0 * ZZI\n",
       " 1.0 * ZIZ\n",
       " 1.0 * IXX\n",
       " 1.0 * YYI\n",
       " 1.0 * IZZ\n",
       " 1.0 * XIX\n",
       " 1.0 * IYY\n",
       ")"
      ]
     },
     "metadata": {},
     "output_type": "display_data"
    }
   ],
   "source": [
    "nq = 3\n",
    "topology = bricklayertopology(nq;periodic=true)\n",
    "heisenberg_hamiltonian(nq, topology; J=1.0)"
   ]
  },
  {
   "cell_type": "code",
   "execution_count": 5,
   "id": "9229e28a",
   "metadata": {},
   "outputs": [
    {
     "data": {
      "text/plain": [
       "neel_bits (generic function with 1 method)"
      ]
     },
     "metadata": {},
     "output_type": "display_data"
    }
   ],
   "source": [
    "function neel_bits(nq::Int; up_on_odd::Bool=true)\n",
    "    if up_on_odd\n",
    "        # |0101...> → \"1\" on even sites\n",
    "        return collect(2:2:nq)\n",
    "    else\n",
    "        # |1010...> → \"1\" on odd sites\n",
    "        return collect(1:2:nq)\n",
    "    end\n",
    "end"
   ]
  },
  {
   "cell_type": "code",
   "execution_count": 6,
   "id": "2ea99d3f",
   "metadata": {},
   "outputs": [
    {
     "data": {
      "text/plain": [
       "overlapwithneel (generic function with 1 method)"
      ]
     },
     "metadata": {},
     "output_type": "display_data"
    }
   ],
   "source": [
    "# customized overlap function\n",
    "# since we are in the Heisenberg picture, we propagate observables and in the final step, calculate the overlap with the initial state\n",
    "function overlapwithneel(operator, nq::Int; \n",
    "                           up_on_odd::Bool=true, \n",
    "                           params=nothing)\n",
    "                           \n",
    "    # Create Néel state bit representation: indices of \"1\" bits\n",
    "    nb = neel_bits(nq; up_on_odd=up_on_odd)\n",
    "    \n",
    "    # Compute overlap with computational basis state\n",
    "    return overlapwithcomputational(operator, nb)\n",
    "end"
   ]
  },
  {
   "cell_type": "code",
   "execution_count": 7,
   "id": "9776a0fe",
   "metadata": {},
   "outputs": [
    {
     "data": {
      "text/plain": [
       "generate_full_bit_pool (generic function with 1 method)"
      ]
     },
     "metadata": {},
     "output_type": "display_data"
    }
   ],
   "source": [
    "function generate_full_bit_pool(nq::Int)\n",
    "    # Choose appropriate UInt type based on number of qubits (same as PP does)\n",
    "    # Work with bit representations directly (easier to manipulate)\n",
    "    UIntType = if nq <= 4\n",
    "        UInt8\n",
    "    elseif nq <= 8\n",
    "        UInt16\n",
    "    elseif nq <= 16\n",
    "        UInt32\n",
    "    else\n",
    "        UInt64\n",
    "    end\n",
    "    \n",
    "    # Here, we generate all non-identity bit patterns (therefore -1), which gives the full operator pool.\n",
    "    pool = UIntType[]\n",
    "    for i in 1:(4^nq - 1)\n",
    "        push!(pool, UIntType(i))\n",
    "    end\n",
    "    \n",
    "    return pool\n",
    "end"
   ]
  },
  {
   "cell_type": "code",
   "execution_count": 8,
   "id": "8f748282",
   "metadata": {},
   "outputs": [
    {
     "data": {
      "text/plain": [
       "bit_to_paulistring (generic function with 1 method)"
      ]
     },
     "metadata": {},
     "output_type": "display_data"
    }
   ],
   "source": [
    "function bit_to_paulistring(bit_repr, nq)\n",
    "    paulis = Symbol[]\n",
    "    sites = Int[]\n",
    "    \n",
    "    for qubit in 1:nq #going from right to left in bitstring\n",
    "        pauli_val = getpauli(bit_repr, qubit) # get pauli of qubit as 0,1,2,3\n",
    "        #println(\"Qubit $qubit: Pauli value = $pauli_val\")\n",
    "        if pauli_val != 0  # Skip identity (0) since Paulis are initialised as identity by default\n",
    "            pauli_symbol = [:I, :X, :Y, :Z][pauli_val + 1] # julia indexing starts at 1!\n",
    "            push!(paulis, pauli_symbol)\n",
    "            push!(sites, qubit)\n",
    "        end\n",
    "    end\n",
    "    \n",
    "    return PauliString(nq, paulis, sites, 1.0), paulis, sites\n",
    "end"
   ]
  },
  {
   "cell_type": "code",
   "execution_count": 9,
   "id": "a01d5b39",
   "metadata": {},
   "outputs": [
    {
     "data": {
      "text/plain": [
       "PauliSum(nqubits: 3, 9 Pauli terms:\n",
       " 1.0 * XXI\n",
       " 1.0 * YIY\n",
       " 1.0 * ZZI\n",
       " 1.0 * ZIZ\n",
       " 1.0 * IXX\n",
       " 1.0 * YYI\n",
       " 1.0 * IZZ\n",
       " 1.0 * XIX\n",
       " 1.0 * IYY\n",
       ")"
      ]
     },
     "metadata": {},
     "output_type": "display_data"
    }
   ],
   "source": [
    "psum = heisenberg_hamiltonian(nq, topology; J=1.0)"
   ]
  },
  {
   "cell_type": "code",
   "execution_count": 10,
   "id": "aa26dbf7",
   "metadata": {},
   "outputs": [
    {
     "data": {
      "text/plain": [
       "promote_paulisum_coeffs (generic function with 1 method)"
      ]
     },
     "metadata": {},
     "output_type": "display_data"
    }
   ],
   "source": [
    "# promote PauliSum coefficients to target numeric type CT\n",
    "function promote_paulisum_coeffs(psum::PauliSum, ::Type{CT}) where {CT}\n",
    "    newpsum = PauliSum(CT, psum.nqubits)\n",
    "    for (pstr, coeff) in psum\n",
    "        # `pstr` is a PauliStringType; add! accepts pstr directly\n",
    "        add!(newpsum, pstr, convert(CT, tonumber(coeff)))\n",
    "    end\n",
    "    return newpsum\n",
    "end"
   ]
  },
  {
   "cell_type": "code",
   "execution_count": 11,
   "id": "a459e8fb",
   "metadata": {},
   "outputs": [
    {
     "data": {
      "text/plain": [
       "bit_to_paulistring (generic function with 1 method)"
      ]
     },
     "metadata": {},
     "output_type": "display_data"
    }
   ],
   "source": [
    "# Function to convert bit representation to PauliString when needed\n",
    "function bit_to_paulistring(bit_repr, nq)\n",
    "    paulis = Symbol[]\n",
    "    sites = Int[]\n",
    "    \n",
    "    for qubit in 1:nq #going from right to left in bitstring\n",
    "        pauli_val = getpauli(bit_repr, qubit) # get pauli of qubit as 0,1,2,3\n",
    "        #println(\"Qubit $qubit: Pauli value = $pauli_val\")\n",
    "        if pauli_val != 0  # Skip identity (0) since Paulis are initialised as identity by default\n",
    "            pauli_symbol = [:I, :X, :Y, :Z][pauli_val + 1] # julia indexing starts at 1!\n",
    "            push!(paulis, pauli_symbol)\n",
    "            push!(sites, qubit)\n",
    "        end\n",
    "    end\n",
    "    \n",
    "    return PauliString(nq, paulis, sites, 1.0), paulis, sites\n",
    "end"
   ]
  },
  {
   "cell_type": "code",
   "execution_count": 12,
   "id": "0a3792a1",
   "metadata": {},
   "outputs": [
    {
     "data": {
      "text/plain": [
       "pauli_rotation_from_bits (generic function with 1 method)"
      ]
     },
     "metadata": {},
     "output_type": "display_data"
    }
   ],
   "source": [
    "function pauli_rotation_from_bits(bit_repr, nq)\n",
    "    _, paulis, sites = bit_to_paulistring(bit_repr, nq) \n",
    "    return PauliRotation(paulis, sites)\n",
    "end"
   ]
  },
  {
   "cell_type": "code",
   "execution_count": 13,
   "id": "a52b383f",
   "metadata": {},
   "outputs": [
    {
     "data": {
      "text/plain": [
       "append_from_bits! (generic function with 1 method)"
      ]
     },
     "metadata": {},
     "output_type": "display_data"
    }
   ],
   "source": [
    "function append_from_bits!(circuit, thetas, chose_op, nq; theta_init=rand())\n",
    "    gate = pauli_rotation_from_bits(chose_op, nq)\n",
    "    push!(circuit, gate) # not pushfirst! since we want to apply new gate last (Schrödinger!!)\n",
    "    push!(thetas, theta_init) # we warm-start the parameters of the new circuit (reusing thetas)\n",
    "    return circuit, thetas    # index of the new parameter\n",
    "end"
   ]
  },
  {
   "cell_type": "code",
   "execution_count": 14,
   "id": "6a27a83a",
   "metadata": {},
   "outputs": [
    {
     "data": {
      "text/plain": [
       "calc_gradients"
      ]
     },
     "metadata": {},
     "output_type": "display_data"
    }
   ],
   "source": [
    "# this is the physically exact formula (using the commutator from the BCH formula) which is incorrect once we truncate\n",
    "# it shows us the operators which in the untruncated case would be relevant - but we can get stuck in local minima due to this mismatch.\n",
    "\"\"\"\n",
    "    calc_gradients(bit_pool, H, nq;\n",
    "                   circuit=nothing, params=nothing,\n",
    "                   tol=1e-12, verbose=false, up_on_odd=true)\n",
    "\n",
    "ADAPT-VQE gradients with in-place propagation:\n",
    "g_P = ⟨φ₀ | [U† H U, U† P U] i | φ₀⟩, where |φ₀⟩ is the Néel state\n",
    "selected by `up_on_odd`.\n",
    "\"\"\"\n",
    "function calc_gradients(bit_pool, H, nq;\n",
    "                        circuit::Union{Nothing,Any}=nothing,\n",
    "                        params::Union{Nothing,AbstractVector}=nothing,\n",
    "                        tol::Float64=1e-12,\n",
    "                        verbose::Bool=false,\n",
    "                        up_on_odd::Bool=true)\n",
    "\n",
    "    grads = Float64[]\n",
    "\n",
    "    # Pre-propagate H once: H_prop = U† H U (only if a circuit is provided)\n",
    "    H_prop = H\n",
    "    if circuit !== nothing\n",
    "        H_prop = deepcopy(H)                 # avoid mutating H\n",
    "        propagate!(circuit, H_prop, params)  # in-place propagation\n",
    "    end\n",
    "\n",
    "    # For each pool element, pre-propagate P (to P_prop) and form [H_prop, P_prop]\n",
    "    for (k, bit_repr) in enumerate(bit_pool)\n",
    "        P= bit_to_paulistring(bit_repr, nq)[1]\n",
    "        psum = PauliSum(nq)\n",
    "        P = add!(psum, P) # PP works with PauliSums (see datatypes example notebook)\n",
    "\n",
    "        P_prop = P\n",
    "        if circuit !== nothing\n",
    "            P_prop = deepcopy(P)                 # avoid mutating the pool op\n",
    "            propagate!(circuit, P_prop, params)  # in-place propagation\n",
    "        end\n",
    "        \n",
    "        C = commutator(H_prop, P_prop) \n",
    "        if !(iterate(C) !== nothing)           # if the commutator is empty \n",
    "            verbose && println(\"op[$k]: \", P, \"  commutator=0  → grad=0.0\")\n",
    "            push!(grads, 0.0)\n",
    "            continue\n",
    "        end\n",
    "        g = overlapwithneel(im * C, nq; up_on_odd=up_on_odd)\n",
    "        if abs(imag(g)) > tol\n",
    "            @warn \"Gradient has non-negligible imaginary part\" imag=imag(g) op=P\n",
    "        end\n",
    "\n",
    "        push!(grads, real(g))\n",
    "        verbose && println(\"op[$k]: \", P, \"  grad=\", real(g))\n",
    "    end\n",
    "\n",
    "    return grads\n",
    "end"
   ]
  },
  {
   "cell_type": "code",
   "execution_count": 15,
   "id": "138f2d4b",
   "metadata": {},
   "outputs": [
    {
     "data": {
      "text/plain": [
       "63-element Vector{Float64}:\n",
       "  0.0\n",
       "  0.0\n",
       "  0.0\n",
       "  0.0\n",
       "  0.0\n",
       " -4.0\n",
       "  0.0\n",
       "  0.0\n",
       "  4.0\n",
       "  0.0\n",
       "  ⋮\n",
       "  0.0\n",
       "  0.0\n",
       "  4.0\n",
       "  0.0\n",
       "  0.0\n",
       "  0.0\n",
       "  0.0\n",
       "  0.0\n",
       "  0.0"
      ]
     },
     "metadata": {},
     "output_type": "display_data"
    }
   ],
   "source": [
    "grads_std = calc_gradients(generate_full_bit_pool(nq), heisenberg_hamiltonian(nq, topology), nq; verbose=false, up_on_odd=true)\n"
   ]
  },
  {
   "cell_type": "code",
   "execution_count": 16,
   "id": "69928c1d",
   "metadata": {},
   "outputs": [
    {
     "data": {
      "text/plain": [
       "calc_gradients_math"
      ]
     },
     "metadata": {},
     "output_type": "display_data"
    }
   ],
   "source": [
    "# an equivalent formulation with the commutator, with slight reordering of terms (time benchmark to do)\n",
    "\"\"\"\n",
    "    calc_gradients(bit_pool, H, nq;\n",
    "                   circuit=nothing, params=nothing,\n",
    "                   tol=1e-12, verbose=false, up_on_odd=true)\n",
    "\n",
    "ADAPT-VQE gradients with in-place propagation:\n",
    "g_P = -i * ⟨φ₀ | U_ansatz† [H, P] U_ansatz | φ₀⟩, where |φ₀⟩ is the Néel state\n",
    "selected by `up_on_odd`.\n",
    "\"\"\"\n",
    "function calc_gradients_math(bit_pool, H, nq;\n",
    "                        circuit::Union{Nothing,Any}=nothing,\n",
    "                        params::Union{Nothing,AbstractVector}=nothing,\n",
    "                        tol::Float64=1e-12,\n",
    "                        verbose::Bool=false,\n",
    "                        up_on_odd::Bool=true)\n",
    "\n",
    "    grads = Float64[]\n",
    "\n",
    "    for (k, bit_repr) in enumerate(bit_pool)\n",
    "        P_op, _, _ = bit_to_paulistring(bit_repr, nq)\n",
    "        P = PauliSum(nq)\n",
    "        add!(P, P_op)\n",
    "\n",
    "        # Calculate the commutator with the original Hamiltonian\n",
    "        C = commutator(H, P)\n",
    "\n",
    "        if !(iterate(C) !== nothing) # if the commutator is empty\n",
    "            verbose && println(\"op[$k]: \", P, \"  commutator=0  → grad=0.0\")\n",
    "            push!(grads, 0.0)\n",
    "            continue\n",
    "        end\n",
    "\n",
    "        # Propagate the commutator through the circuit if it exists\n",
    "        C_prop = C\n",
    "        if circuit !== nothing\n",
    "            C_prop = deepcopy(C)\n",
    "            propagate!(circuit, C_prop, params)\n",
    "        end\n",
    "\n",
    "        # Calculate the gradient as the expectation value of the propagated commutator\n",
    "        g = overlapwithneel(im * C_prop, nq; up_on_odd=up_on_odd)\n",
    "\n",
    "        if abs(imag(g)) > tol\n",
    "            @warn \"Gradient has non-negligible imaginary part\" imag=imag(g) op=P\n",
    "        end\n",
    "\n",
    "        push!(grads, real(g))\n",
    "        verbose && println(\"op[$k]: \", P, \"  grad=\", real(g))\n",
    "    end\n",
    "\n",
    "    return grads\n",
    "end"
   ]
  },
  {
   "cell_type": "code",
   "execution_count": 17,
   "id": "ac76b88e",
   "metadata": {},
   "outputs": [
    {
     "data": {
      "text/plain": [
       "63-element Vector{Float64}:\n",
       "  0.0\n",
       "  0.0\n",
       "  0.0\n",
       "  0.0\n",
       "  0.0\n",
       " -4.0\n",
       "  0.0\n",
       "  0.0\n",
       "  4.0\n",
       "  0.0\n",
       "  ⋮\n",
       "  0.0\n",
       "  0.0\n",
       "  4.0\n",
       "  0.0\n",
       "  0.0\n",
       "  0.0\n",
       "  0.0\n",
       "  0.0\n",
       "  0.0"
      ]
     },
     "metadata": {},
     "output_type": "display_data"
    }
   ],
   "source": [
    "grads_math = calc_gradients_math(generate_full_bit_pool(nq), heisenberg_hamiltonian(nq, topology), nq; verbose=false, up_on_odd=true)   "
   ]
  },
  {
   "cell_type": "code",
   "execution_count": 18,
   "id": "20224561",
   "metadata": {},
   "outputs": [
    {
     "data": {
      "text/plain": [
       "true"
      ]
     },
     "metadata": {},
     "output_type": "display_data"
    }
   ],
   "source": [
    "grads_math == grads_std"
   ]
  },
  {
   "cell_type": "markdown",
   "id": "d5f4c7cc",
   "metadata": {},
   "source": [
    "### Goal: Replace the commutator by a finite difference gradient calculation\n",
    "- so far, the results do not match! "
   ]
  },
  {
   "cell_type": "code",
   "execution_count": 19,
   "id": "820f33e6",
   "metadata": {},
   "outputs": [
    {
     "data": {
      "text/plain": [
       "calc_gradients_FD"
      ]
     },
     "metadata": {},
     "output_type": "display_data"
    }
   ],
   "source": [
    "\"\"\"\n",
    "    calc_gradients_FD(bit_pool, H, nq;\n",
    "                      circuit=nothing, params=nothing,\n",
    "                      tol=1e-12, verbose=false, up_on_odd=true)\n",
    "\n",
    "ADAPT-VQE gradients with in-place propagation and ForwardDiff:\n",
    "g_P = d/dθ ⟨φ₀|U†(θ) H_prop U(θ)|φ₀⟩|_{θ=0}\n",
    "where U(θ) = exp(-iθP) and H_prop = U_ansatz† H U_ansatz\n",
    "\"\"\"\n",
    "function calc_gradients_FD(bit_pool, H::PauliSum{CT}, nq;\n",
    "                        circuit::Union{Nothing,Any}=nothing,\n",
    "                        params::Union{Nothing,AbstractVector}=nothing,\n",
    "                        tol::Float64=1e-12,\n",
    "                        verbose::Bool=false,\n",
    "                        up_on_odd::Bool=true) where {CT}\n",
    "\n",
    "    grads = Float64[]\n",
    "\n",
    "    # Pre-propagate H once: H_prop = U† H U (only if a circuit is provided)\n",
    "    H_prop = H\n",
    "    if circuit !== nothing\n",
    "        H_prop = deepcopy(H)                 # avoid mutating H\n",
    "        propagate!(circuit, H_prop, params)  # in-place propagation\n",
    "    end\n",
    "\n",
    "    # For each pool element, pre-propagate P (to P_prop) and form [H_prop, P_prop]\n",
    "    for (k, bit_repr) in enumerate(bit_pool)\n",
    "        \n",
    "        gate = pauli_rotation_from_bits(bit_repr, nq)\n",
    "        temp_circuit = [gate]\n",
    "\n",
    "        # Define the energy function for a single parameter theta\n",
    "        function energy_func(theta_vec::Vector{T}) where T\n",
    "            theta = theta_vec[1]\n",
    "            #println(theta)\n",
    "            # We need a fresh copy of H_prop for each evaluation inside the gradient calculation\n",
    "            # and we need to promote the coefficients to the Dual number type\n",
    "            H_theta = promote_paulisum_coeffs(H_prop, T)\n",
    "            \n",
    "            propagate!(temp_circuit, H_theta, [theta])\n",
    "            \n",
    "            # The imaginary part should be zero for Hermitian observables, but can have small numerical noise\n",
    "            return real(overlapwithneel(H_theta, nq; up_on_odd=up_on_odd))\n",
    "        end\n",
    "\n",
    "        # Calculate the gradient at theta=0\n",
    "        # ForwardDiff.gradient expects a vector input\n",
    "        g = ForwardDiff.gradient(energy_func, [0.0])[1]\n",
    "\n",
    "        push!(grads, g)\n",
    "        verbose && println(\"op[$k]: \", bit_repr, \"  grad=\", g)\n",
    "    end\n",
    "\n",
    "    return grads\n",
    "end"
   ]
  },
  {
   "cell_type": "code",
   "execution_count": 20,
   "id": "ff096e12",
   "metadata": {},
   "outputs": [
    {
     "data": {
      "text/plain": [
       "63-element Vector{Float64}:\n",
       "  0.0\n",
       "  0.0\n",
       "  0.0\n",
       "  0.0\n",
       "  0.0\n",
       "  0.0\n",
       "  0.0\n",
       "  0.0\n",
       "  0.0\n",
       "  0.0\n",
       "  ⋮\n",
       "  0.0\n",
       "  0.0\n",
       " -2.0\n",
       "  0.0\n",
       "  0.0\n",
       "  0.0\n",
       "  0.0\n",
       "  0.0\n",
       "  0.0"
      ]
     },
     "metadata": {},
     "output_type": "display_data"
    }
   ],
   "source": [
    "grads_fd = calc_gradients_FD(generate_full_bit_pool(nq), heisenberg_hamiltonian(nq, topology), nq; verbose=false, up_on_odd=true)"
   ]
  },
  {
   "cell_type": "code",
   "execution_count": 21,
   "id": "16dfabc1",
   "metadata": {},
   "outputs": [
    {
     "data": {
      "text/plain": [
       "4-element Vector{Int64}:\n",
       " 27\n",
       " 39\n",
       " 54\n",
       " 57"
      ]
     },
     "metadata": {},
     "output_type": "display_data"
    }
   ],
   "source": [
    "nonzero_indices = findall(x -> abs(x) > 1e-8, grads_fd)"
   ]
  },
  {
   "cell_type": "code",
   "execution_count": 22,
   "id": "2e4f91ae",
   "metadata": {},
   "outputs": [
    {
     "data": {
      "text/plain": [
       "8-element Vector{Int64}:\n",
       "  6\n",
       "  9\n",
       " 24\n",
       " 27\n",
       " 36\n",
       " 39\n",
       " 54\n",
       " 57"
      ]
     },
     "metadata": {},
     "output_type": "display_data"
    }
   ],
   "source": [
    "nonzero_indices = findall(x -> abs(x) > 1e-8, grads_std)"
   ]
  },
  {
   "cell_type": "markdown",
   "id": "ed1fcf9b",
   "metadata": {},
   "source": [
    "This cannot be a sign issue since the nonzero indices don't match. For no truncation we would expect this to give (approx) the same result."
   ]
  }
 ],
 "metadata": {
  "kernelspec": {
   "display_name": "Julia 1.11.5",
   "language": "julia",
   "name": "julia-1.11"
  },
  "language_info": {
   "file_extension": ".jl",
   "mimetype": "application/julia",
   "name": "julia",
   "version": "1.11.5"
  }
 },
 "nbformat": 4,
 "nbformat_minor": 5
}
