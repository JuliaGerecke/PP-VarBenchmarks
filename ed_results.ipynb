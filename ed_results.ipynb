{
 "cells": [
  {
   "cell_type": "code",
   "execution_count": 1,
   "id": "0ddfe01f",
   "metadata": {},
   "outputs": [],
   "source": [
    "import netket as nk"
   ]
  },
  {
   "cell_type": "code",
   "execution_count": 56,
   "id": "459e6a04",
   "metadata": {},
   "outputs": [],
   "source": [
    "L =4 \n",
    "g = nk.graph.Chain(length=L,pbc=False)"
   ]
  },
  {
   "cell_type": "code",
   "execution_count": 57,
   "id": "f3ab94f2",
   "metadata": {},
   "outputs": [],
   "source": [
    "# Define the Hilbert space based on this graph\n",
    "# We impose to have a fixed total magnetization of zero\n",
    "hi = nk.hilbert.Spin(s=0.5, N=g.n_nodes)"
   ]
  },
  {
   "cell_type": "code",
   "execution_count": 58,
   "id": "7f459b7f",
   "metadata": {},
   "outputs": [],
   "source": [
    "# calling the Heisenberg Hamiltonian\n",
    "#ha = nk.operator.Heisenberg(hilbert=hi, graph=g)\n",
    "ha = nk.operator.Ising(hilbert=hi, graph=g, h=-1.0) # -h\\sum_i \\sigma_i^{(x)} +J\\sum_{\\langle i,j\\rangle} \\sigma_i^{(z)}\\sigma_j^{(z)}`."
   ]
  },
  {
   "cell_type": "markdown",
   "id": "311ac72d",
   "metadata": {},
   "source": [
    "### ED"
   ]
  },
  {
   "cell_type": "code",
   "execution_count": 59,
   "id": "d586d503",
   "metadata": {},
   "outputs": [
    {
     "name": "stdout",
     "output_type": "stream",
     "text": [
      "[-1.18969262 -1.01604444]\n",
      "The exact ground-state energy is E0= -1.1896926207859084\n"
     ]
    }
   ],
   "source": [
    "# compute the ground-state energy (here we only need the lowest energy, and do not need the eigenstate)\n",
    "evals = nk.exact.lanczos_ed(ha, compute_eigenvectors=False, k=2)\n",
    "print(evals/L)\n",
    "exact_gs_energy = evals[0]/L\n",
    "print(\"The exact ground-state energy is E0=\", exact_gs_energy)"
   ]
  },
  {
   "cell_type": "markdown",
   "id": "f9d8169d",
   "metadata": {},
   "source": [
    "### ED results Heisenberg:\n",
    "- nq = 3: -1.333333333333334\n",
    "- nq = 4: -1.6160254037844388\n",
    "- nq = 5: -1.5423090026543964"
   ]
  },
  {
   "cell_type": "markdown",
   "id": "a28c10f5",
   "metadata": {},
   "source": [
    "### ED results TFIM:\n",
    "- nq = 3: -1.1646530691449783 (first excited state: -0.86795849)\n",
    "- nq = 4: -1.1896926207859086 (first excited: -1.01604444)\n",
    "- nq = 5: -1.2053348366664525 (first excited: -1.09148297)\n",
    "- nq = 6: -1.21603830175979 (first exc: -1.13568051)\n",
    "- nq = 7: -1.2238246  (first excited: -1.16409405)\n",
    "- nq = 8: -1.22974393 (first excited: -1.18360975)"
   ]
  },
  {
   "cell_type": "markdown",
   "id": "a53776a3",
   "metadata": {},
   "source": []
  }
 ],
 "metadata": {
  "kernelspec": {
   "display_name": "netket-env",
   "language": "python",
   "name": "python3"
  },
  "language_info": {
   "codemirror_mode": {
    "name": "ipython",
    "version": 3
   },
   "file_extension": ".py",
   "mimetype": "text/x-python",
   "name": "python",
   "nbconvert_exporter": "python",
   "pygments_lexer": "ipython3",
   "version": "3.10.18"
  }
 },
 "nbformat": 4,
 "nbformat_minor": 5
}
