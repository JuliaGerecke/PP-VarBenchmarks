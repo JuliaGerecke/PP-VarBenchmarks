{
 "cells": [
  {
   "cell_type": "code",
   "execution_count": null,
   "id": "13136b15",
   "metadata": {},
   "outputs": [
    {
     "name": "stderr",
     "output_type": "stream",
     "text": [
      "WARNING: using Flux.gradient in module Main conflicts with an existing identifier.\n"
     ]
    }
   ],
   "source": [
    "using PauliPropagation\n",
    "using Plots\n",
    "using ReverseDiff: GradientTape, gradient!, compile, gradient\n",
    "#include(\"anticommutator.jl\") # eff calc of vscore\n"
   ]
  },
  {
   "cell_type": "markdown",
   "id": "3967f2a0",
   "metadata": {},
   "source": [
    "# Test of the V-Score calculation for the TFIM\n",
    "\n",
    "### System setup and GS search\n",
    "- 10 qubits, chain, obc\n",
    "- QAOA ansatz is only suitable for the FM phase, but requires only few parameters\n",
    "- setup taken from CDR paper (Czarnik et al.)\n",
    "- not useful for the Hamiltonians of the VB paper, but includes a vscore calculation"
   ]
  },
  {
   "cell_type": "code",
   "execution_count": 2,
   "id": "4c35e932",
   "metadata": {},
   "outputs": [],
   "source": [
    "nq = 10\n",
    "nl = 6; # expressivity of qaoa ansatz"
   ]
  },
  {
   "cell_type": "code",
   "execution_count": 3,
   "id": "3541eb92",
   "metadata": {},
   "outputs": [
    {
     "data": {
      "text/plain": [
       "tfimqaoacircuit (generic function with 1 method)"
      ]
     },
     "metadata": {},
     "output_type": "display_data"
    }
   ],
   "source": [
    "function tfimqaoacircuit(nqubits::Integer, nlayers::Integer; topology=nothing)\n",
    "    circuit::Vector{Gate} = []\n",
    "\n",
    "    if isnothing(topology)\n",
    "        topology = bricklayertopology(nqubits;periodic=false) #chain with obc\n",
    "    end\n",
    "\n",
    "    for i in 1:nlayers\n",
    "        rzzlayer!(circuit, topology)\n",
    "        for qubit in 1:nqubits\n",
    "            push!(circuit, CliffordGate(:S, qubit))\n",
    "            push!(circuit, PauliRotation(:X, qubit, π/2)) # Fig 10: P=R_X(π/2)\n",
    "            push!(circuit, PauliRotation(:Z, qubit)) # only this is parametrized\n",
    "            push!(circuit, PauliRotation(:X, qubit, π/2))\n",
    "            push!(circuit, CliffordGate(:S, qubit))\n",
    "\n",
    "        end\n",
    "    end\n",
    "    return circuit, topology\n",
    "end"
   ]
  },
  {
   "cell_type": "code",
   "execution_count": 4,
   "id": "059493e0",
   "metadata": {},
   "outputs": [
    {
     "data": {
      "text/plain": [
       "repartition_function_QAOA (generic function with 1 method)"
      ]
     },
     "metadata": {},
     "output_type": "display_data"
    }
   ],
   "source": [
    "function repartition_function_QAOA(nqubits, nlayers) #qaoa repartition function\n",
    "    repartition = Vector{Vector{Int}}()\n",
    "    idx = 1\n",
    "    for i in 1:nlayers\n",
    "            push!(repartition, collect(idx:idx + (nqubits - 2)))  # First nqubits-1 indices\n",
    "            idx += (nqubits - 1)\n",
    "            push!(repartition, collect(idx:idx + nqubits - 1))  # Next nqubits indices\n",
    "            idx += nqubits\n",
    "    end\n",
    "    return repartition\n",
    "end"
   ]
  },
  {
   "cell_type": "code",
   "execution_count": null,
   "id": "e98f4050",
   "metadata": {},
   "outputs": [
    {
     "data": {
      "text/plain": [
       "constrain_params (generic function with 1 method)"
      ]
     },
     "metadata": {},
     "output_type": "display_data"
    }
   ],
   "source": [
    "function constrain_params(thetas, repartition) #corresponding to qaoa ansatz\n",
    "    for r in repartition\n",
    "        for q in r\n",
    "            thetas[q] = thetas[r[1]]\n",
    "        end\n",
    "    end\n",
    "    return thetas\n",
    "end"
   ]
  },
  {
   "cell_type": "code",
   "execution_count": null,
   "id": "5ff2dec9",
   "metadata": {},
   "outputs": [
    {
     "data": {
      "text/plain": [
       "fulllossfunction (generic function with 1 method)"
      ]
     },
     "metadata": {},
     "output_type": "display_data"
    }
   ],
   "source": [
    "function fulllossfunction(thetas, circuit, nq; J=1.0, G=1.0, topology=nothing, max_freq = Inf, max_weight = Inf)\n",
    "    if isnothing(topology)\n",
    "        topology = bricklayertopology(nq;periodic=false) #chain with obc\n",
    "    end\n",
    "\n",
    "    # differentiation libraries use custom types to trace through the computation\n",
    "    # we need to make all of our objects typed like that so that nothing breaks\n",
    "    CoeffType = eltype(thetas)\n",
    "\n",
    "    # define H again \n",
    "    H = PauliSum(CoeffType, nq)\n",
    "    for qind in 1:nq\n",
    "        add!(H, :X, qind, CoeffType(J))\n",
    "    end\n",
    "    for pair in topology\n",
    "        add!(H, [:Z, :Z], collect(pair), CoeffType(G))\n",
    "    end\n",
    "\n",
    "    # wrap the coefficients into PauliFreqTracker so that we can use `max_freq` truncation.\n",
    "    # usually this happens automatically but the in-place propagate!() function does not allow that.\n",
    "    wrapped_H = wrapcoefficients(H, PauliFreqTracker)\n",
    "\n",
    "    # we also need to run the in-place version with `!`, because by default we copy the Pauli sum\n",
    "    output_H = propagate!(circuit, wrapped_H, thetas; max_freq, max_weight);\n",
    "    return overlapwithplus(output_H)\n",
    "end"
   ]
  },
  {
   "cell_type": "code",
   "execution_count": null,
   "id": "a604e137",
   "metadata": {},
   "outputs": [
    {
     "data": {
      "text/plain": [
       "gd (generic function with 1 method)"
      ]
     },
     "metadata": {},
     "output_type": "display_data"
    }
   ],
   "source": [
    "function gd(thetas_init,closed_lossfunction, nqubits, repartition; eta=0.01, steps=100)\n",
    "    \n",
    "\n",
    "    # some inputs and work buffer to play around with\n",
    "    grad_array_compiled = similar(thetas_init);\n",
    "\n",
    "    # pre-record a GradientTape for `gradsimulation` using inputs of length m with Float64 elements\n",
    "    \n",
    "    simulation_tape = GradientTape(closed_lossfunction, thetas_init)\n",
    "    compiled_simulation_tape = compile(simulation_tape)\n",
    "\n",
    "    opt_energy_gd = []\n",
    "    thetas = thetas_init\n",
    "    for i in 1:steps \n",
    "        gradient!(grad_array_compiled, simulation_tape, thetas)\n",
    "        thetas .-= eta * grad_array_compiled\n",
    "        constrain_params(thetas, repartition)\n",
    "        opt_energy_gd = push!(opt_energy_gd, closed_lossfunction(thetas)/nqubits)\n",
    "    end\n",
    "\n",
    "    return thetas, opt_energy_gd\n",
    "end"
   ]
  },
  {
   "cell_type": "code",
   "execution_count": null,
   "id": "536d1b61",
   "metadata": {},
   "outputs": [
    {
     "data": {
      "text/plain": [
       "adam (generic function with 1 method)"
      ]
     },
     "metadata": {},
     "output_type": "display_data"
    }
   ],
   "source": [
    "## ADAM implementation\n",
    "\n",
    "# Build a gather index that enforces tying without mutation\n",
    "# For each parameter j, gather[j] = representative index of its tie group\n",
    "function build_tie_gather(repartition::Vector{Vector{Int}}, nparams::Int)\n",
    "    gather = collect(1:nparams)                 # default: each points to itself\n",
    "    for r in repartition\n",
    "        rep = r[1]\n",
    "        for j in r\n",
    "            gather[j] = rep\n",
    "        end\n",
    "    end\n",
    "    return gather\n",
    "end\n",
    "\n",
    "# Adam optimizer (same signature as `gd`)\n",
    "function adam(thetas_init, closed_lossfunction, nqubits, repartition; eta=0.02, steps=100)\n",
    "    nparams = length(thetas_init)\n",
    "    gather = build_tie_gather(repartition, nparams)\n",
    "\n",
    "    # Tie parameters via indexing (no setindex! anywhere)\n",
    "    loss_tied = let f = closed_lossfunction, gath = gather\n",
    "        θ -> f(θ[gath])                          # θ[gath] enforces tying\n",
    "    end\n",
    "\n",
    "    # ReverseDiff tape on the tied loss (same as GD system)\n",
    "    tape = GradientTape(loss_tied, thetas_init)\n",
    "    compiled_tape = compile(tape)\n",
    "\n",
    "    # Buffers & Adam state\n",
    "    grad = similar(thetas_init)\n",
    "    thetas = copy(thetas_init)\n",
    "    opt_energy = Vector{Float64}(undef, 0)\n",
    "\n",
    "    m = zero(thetas); v = zero(thetas)\n",
    "    β1, β2, ϵ = 0.9, 0.999, 1e-8\n",
    "\n",
    "    for t in 1:steps\n",
    "        gradient!(grad, tape, thetas)\n",
    "\n",
    "        # Adam update\n",
    "        m .= β1 .* m .+ (1 - β1) .* grad\n",
    "        v .= β2 .* v .+ (1 - β2) .* (grad .^ 2)\n",
    "        mhat = m ./ (1 - β1^t)\n",
    "        vhat = v ./ (1 - β2^t)\n",
    "        thetas .-= eta .* mhat ./ (sqrt.(vhat) .+ ϵ)\n",
    "\n",
    "        # Log E/Q using the tied view\n",
    "        push!(opt_energy, loss_tied(thetas) / nqubits)\n",
    "    end\n",
    "    return thetas[gather], opt_energy\n",
    "end\n"
   ]
  },
  {
   "cell_type": "code",
   "execution_count": 9,
   "id": "50d19db5",
   "metadata": {},
   "outputs": [
    {
     "data": {
      "text/plain": [
       "target_optimization (generic function with 1 method)"
      ]
     },
     "metadata": {},
     "output_type": "display_data"
    }
   ],
   "source": [
    "function target_optimization(nqubits, nlayers,repartition,circuit; J=1.0, G=1.0, max_freq=Inf, max_weight=Inf, verbose = false)\n",
    "\n",
    "    thetas_init = rand((2*nqubits-1)*nlayers) \n",
    "    println(length(thetas_init))\n",
    "    thetas_init = constrain_params(thetas_init, repartition)\n",
    "    closed_lossfunction = let const_nqubits = nqubits, const_nlayers = nlayers, const_J=J, const_G=G, const_max_freq=max_freq, const_max_weight=max_weight\n",
    "        # these are now all captured variables with known types and we return a function that only takes thetas s.t. ReverseDiff works\n",
    "        # See also \"closures\"\n",
    "        theta -> fulllossfunction(theta, circuit, nqubits; J=const_J, G=const_G, max_freq=const_max_freq, max_weight=const_max_weight)\n",
    "    end\n",
    "    opt_thetas, opt_energy_gd = adam(thetas_init,closed_lossfunction,nqubits,repartition)\n",
    "    if verbose\n",
    "        println(\"Optimized thetas: \", opt_thetas)\n",
    "        println(\"Optimized energy per qubit: \", opt_energy_gd[end])\n",
    "\n",
    "        plot(opt_energy_gd)\n",
    "        display(plot!(title = \"Energy optimisation\", xlabel = \"runs\", ylabel = \"E/Q\"))\n",
    "    end\n",
    "\n",
    "    return opt_thetas, opt_energy_gd\n",
    "end"
   ]
  },
  {
   "cell_type": "code",
   "execution_count": 10,
   "id": "fd0da697",
   "metadata": {},
   "outputs": [
    {
     "data": {
      "text/plain": [
       "fulllossfunction_H2 (generic function with 1 method)"
      ]
     },
     "metadata": {},
     "output_type": "display_data"
    }
   ],
   "source": [
    "function fulllossfunction_H2(thetas, circuit, nq; J=1.0, G=1.0, topology=nothing, max_freq = Inf, max_weight = Inf)\n",
    "    if isnothing(topology)\n",
    "        topology = bricklayertopology(nq;periodic=false) #chain with obc\n",
    "    end\n",
    "\n",
    "    # differentiation libraries use custom types to trace through the computation\n",
    "    # we need to make all of our objects typed like that so that nothing breaks\n",
    "    CoeffType = eltype(thetas)\n",
    "\n",
    "    # define H again \n",
    "    H = PauliSum(CoeffType, nq)\n",
    "    for qind in 1:nq\n",
    "        add!(H, :X, qind, CoeffType(J))\n",
    "    end\n",
    "    for pair in topology\n",
    "        add!(H, [:Z, :Z], collect(pair), CoeffType(G))\n",
    "    end\n",
    "    H2 = H*H # brute force for now (factor lin. worse than anticomm method)\n",
    "    # wrapp the coefficients into PauliFreqTracker so that we can use `max_freq` truncation.\n",
    "    # usually this happens automatically but the in-place propagate!() function does not allow that.\n",
    "\n",
    "    wrapped_H = wrapcoefficients(H2, PauliFreqTracker)\n",
    "\n",
    "    # be also need to run the in-place version with `!`, because by default we copy the Pauli sum\n",
    "    output_H = propagate!(circuit, wrapped_H, thetas; max_freq, max_weight);\n",
    "    return overlapwithplus(output_H)\n",
    "end"
   ]
  },
  {
   "cell_type": "code",
   "execution_count": 11,
   "id": "86f20ad6",
   "metadata": {},
   "outputs": [
    {
     "data": {
      "text/plain": [
       "12-element Vector{Vector{Int64}}:\n",
       " [1, 2, 3, 4, 5, 6, 7, 8, 9]\n",
       " [10, 11, 12, 13, 14, 15, 16, 17, 18, 19]\n",
       " [20, 21, 22, 23, 24, 25, 26, 27, 28]\n",
       " [29, 30, 31, 32, 33, 34, 35, 36, 37, 38]\n",
       " [39, 40, 41, 42, 43, 44, 45, 46, 47]\n",
       " [48, 49, 50, 51, 52, 53, 54, 55, 56, 57]\n",
       " [58, 59, 60, 61, 62, 63, 64, 65, 66]\n",
       " [67, 68, 69, 70, 71, 72, 73, 74, 75, 76]\n",
       " [77, 78, 79, 80, 81, 82, 83, 84, 85]\n",
       " [86, 87, 88, 89, 90, 91, 92, 93, 94, 95]\n",
       " [96, 97, 98, 99, 100, 101, 102, 103, 104]\n",
       " [105, 106, 107, 108, 109, 110, 111, 112, 113, 114]"
      ]
     },
     "metadata": {},
     "output_type": "display_data"
    }
   ],
   "source": [
    "repartition = repartition_function_QAOA(nq, nl)"
   ]
  },
  {
   "cell_type": "code",
   "execution_count": 12,
   "id": "9044b614",
   "metadata": {},
   "outputs": [
    {
     "data": {
      "text/plain": [
       "354-element Vector{Gate}:\n",
       " PauliRotation([:Z, :Z], [1, 2])\n",
       " PauliRotation([:Z, :Z], [3, 4])\n",
       " PauliRotation([:Z, :Z], [5, 6])\n",
       " PauliRotation([:Z, :Z], [7, 8])\n",
       " PauliRotation([:Z, :Z], [9, 10])\n",
       " PauliRotation([:Z, :Z], [2, 3])\n",
       " PauliRotation([:Z, :Z], [4, 5])\n",
       " PauliRotation([:Z, :Z], [6, 7])\n",
       " PauliRotation([:Z, :Z], [8, 9])\n",
       " CliffordGate(:S, [1])\n",
       " ⋮\n",
       " FrozenGate(PauliRotation([:X], [9]), parameter = 1.57)\n",
       " PauliRotation([:Z], [9])\n",
       " FrozenGate(PauliRotation([:X], [9]), parameter = 1.57)\n",
       " CliffordGate(:S, [9])\n",
       " CliffordGate(:S, [10])\n",
       " FrozenGate(PauliRotation([:X], [10]), parameter = 1.57)\n",
       " PauliRotation([:Z], [10])\n",
       " FrozenGate(PauliRotation([:X], [10]), parameter = 1.57)\n",
       " CliffordGate(:S, [10])"
      ]
     },
     "metadata": {},
     "output_type": "display_data"
    }
   ],
   "source": [
    "circuit = tfimqaoacircuit(nq, nl)[1]"
   ]
  },
  {
   "cell_type": "markdown",
   "id": "e6352d4f",
   "metadata": {},
   "source": [
    "# V-Score calculation for QAOA with CDR-paper parameters\n",
    "$$\n",
    " H = -g \\sum_{<i,j>}Z_iZ_j -\\sum_i X_i .\n",
    " $$\n",
    " \n",
    "as seen in the CDR paper. For Variational Benchmark TFIM, set g=-1 and change sign of X term.\n",
    "$$\n",
    " \\mathrm{v-score}= \\frac{N \\mathrm{Var} E}{(E-E_\\infty)^2}\n",
    " $$\n",
    "\n",
    " $$\n",
    " \\mathrm{Var} E = <H^2>-<H>^2\n",
    "$$ "
   ]
  },
  {
   "cell_type": "code",
   "execution_count": 13,
   "id": "e8ff6e70",
   "metadata": {},
   "outputs": [
    {
     "name": "stdout",
     "output_type": "stream",
     "text": [
      "114\n",
      "Optimized thetas: [0.18170789746942248, 0.18170789746942248, 0.18170789746942248, 0.18170789746942248, 0.18170789746942248, 0.18170789746942248, 0.18170789746942248, 0.18170789746942248, 0.18170789746942248, 0.8033153929197203, 0.8033153929197203, 0.8033153929197203, 0.8033153929197203, 0.8033153929197203, 0.8033153929197203, 0.8033153929197203, 0.8033153929197203, 0.8033153929197203, 0.8033153929197203, 0.04345966530474238, 0.04345966530474238, 0.04345966530474238, 0.04345966530474238, 0.04345966530474238, 0.04345966530474238, 0.04345966530474238, 0.04345966530474238, 0.04345966530474238, 0.7406146564986413, 0.7406146564986413, 0.7406146564986413, 0.7406146564986413, 0.7406146564986413, 0.7406146564986413, 0.7406146564986413, 0.7406146564986413, 0.7406146564986413, 0.7406146564986413, 0.43635364149117567, 0.43635364149117567, 0.43635364149117567, 0.43635364149117567, 0.43635364149117567, 0.43635364149117567, 0.43635364149117567, 0.43635364149117567, 0.43635364149117567, 0.36111007034637627, 0.36111007034637627, 0.36111007034637627, 0.36111007034637627, 0.36111007034637627, 0.36111007034637627, 0.36111007034637627, 0.36111007034637627, 0.36111007034637627, 0.36111007034637627, -0.01943380599232418, -0.01943380599232418, -0.01943380599232418, -0.01943380599232418, -0.01943380599232418, -0.01943380599232418, -0.01943380599232418, -0.01943380599232418, -0.01943380599232418, 0.19155184798028155, 0.19155184798028155, 0.19155184798028155, 0.19155184798028155, 0.19155184798028155, 0.19155184798028155, 0.19155184798028155, 0.19155184798028155, 0.19155184798028155, 0.19155184798028155, 0.07195658615408765, 0.07195658615408765, 0.07195658615408765, 0.07195658615408765, 0.07195658615408765, 0.07195658615408765, 0.07195658615408765, 0.07195658615408765, 0.07195658615408765, 0.7699239059323157, 0.7699239059323157, 0.7699239059323157, 0.7699239059323157, 0.7699239059323157, 0.7699239059323157, 0.7699239059323157, 0.7699239059323157, 0.7699239059323157, 0.7699239059323157, 0.4547310766604587, 0.4547310766604587, 0.4547310766604587, 0.4547310766604587, 0.4547310766604587, 0.4547310766604587, 0.4547310766604587, 0.4547310766604587, 0.4547310766604587, 0.5156319402342905, 0.5156319402342905, 0.5156319402342905, 0.5156319402342905, 0.5156319402342905, 0.5156319402342905, 0.5156319402342905, 0.5156319402342905, 0.5156319402342905, 0.5156319402342905]\n",
      "Optimized energy per qubit: -2.1137748118976267\n"
     ]
    },
    {
     "data": {
      "image/png": "[encoded data removed]",
      "image/svg+xml": [
       "<?xml version=\"1.0\" encoding=\"utf-8\"?>\n",
       "<svg xmlns=\"http://www.w3.org/2000/svg\" xmlns:xlink=\"http://www.w3.org/1999/xlink\" width=\"600\" height=\"400\" viewBox=\"0 0 2400 1600\">\n",
       "<defs>\n",
       "  <clipPath id=\"clip610\">\n",
       "    <rect x=\"0\" y=\"0\" width=\"2400\" height=\"1600\"/>\n",
       "  </clipPath>\n",
       "</defs>\n",
       "<path clip-path=\"url(#clip610)\" d=\"M0 1600 L2400 1600 L2400 0 L0 0  Z\" fill=\"#ffffff\" fill-rule=\"evenodd\" fill-opacity=\"1\"/>\n",
       "<defs>\n",
       "  <clipPath id=\"clip611\">\n",
       "    <rect x=\"480\" y=\"0\" width=\"1681\" height=\"1600\"/>\n",
       "  </clipPath>\n",
       "</defs>\n",
       "<path clip-path=\"url(#clip610)\" d=\"M287.366 1423.18 L2352.76 1423.18 L2352.76 123.472 L287.366 123.472  Z\" fill=\"#ffffff\" fill-rule=\"evenodd\" fill-opacity=\"1\"/>\n",
       "<defs>\n",
       "  <clipPath id=\"clip612\">\n",
       "    <rect x=\"287\" y=\"123\" width=\"2066\" height=\"1301\"/>\n",
       "  </clipPath>\n",
       "</defs>\n",
       "<polyline clip-path=\"url(#clip612)\" style=\"stroke:#000000; stroke-linecap:round; stroke-linejoin:round; stroke-width:2; stroke-opacity:0.1; fill:none\" points=\"326.139,1423.18 326.139,123.472 \"/>\n",
       "<polyline clip-path=\"url(#clip612)\" style=\"stroke:#000000; stroke-linecap:round; stroke-linejoin:round; stroke-width:2; stroke-opacity:0.1; fill:none\" points=\"818.179,1423.18 818.179,123.472 \"/>\n",
       "<polyline clip-path=\"url(#clip612)\" style=\"stroke:#000000; stroke-linecap:round; stroke-linejoin:round; stroke-width:2; stroke-opacity:0.1; fill:none\" points=\"1310.22,1423.18 1310.22,123.472 \"/>\n",
       "<polyline clip-path=\"url(#clip612)\" style=\"stroke:#000000; stroke-linecap:round; stroke-linejoin:round; stroke-width:2; stroke-opacity:0.1; fill:none\" points=\"1802.26,1423.18 1802.26,123.472 \"/>\n",
       "<polyline clip-path=\"url(#clip612)\" style=\"stroke:#000000; stroke-linecap:round; stroke-linejoin:round; stroke-width:2; stroke-opacity:0.1; fill:none\" points=\"2294.3,1423.18 2294.3,123.472 \"/>\n",
       "<polyline clip-path=\"url(#clip612)\" style=\"stroke:#000000; stroke-linecap:round; stroke-linejoin:round; stroke-width:2; stroke-opacity:0.1; fill:none\" points=\"287.366,1302.05 2352.76,1302.05 \"/>\n",
       "<polyline clip-path=\"url(#clip612)\" style=\"stroke:#000000; stroke-linecap:round; stroke-linejoin:round; stroke-width:2; stroke-opacity:0.1; fill:none\" points=\"287.366,995.88 2352.76,995.88 \"/>\n",
       "<polyline clip-path=\"url(#clip612)\" style=\"stroke:#000000; stroke-linecap:round; stroke-linejoin:round; stroke-width:2; stroke-opacity:0.1; fill:none\" points=\"287.366,689.712 2352.76,689.712 \"/>\n",
       "<polyline clip-path=\"url(#clip612)\" style=\"stroke:#000000; stroke-linecap:round; stroke-linejoin:round; stroke-width:2; stroke-opacity:0.1; fill:none\" points=\"287.366,383.544 2352.76,383.544 \"/>\n",
       "<polyline clip-path=\"url(#clip610)\" style=\"stroke:#000000; stroke-linecap:round; stroke-linejoin:round; stroke-width:4; stroke-opacity:1; fill:none\" points=\"287.366,1423.18 2352.76,1423.18 \"/>\n",
       "<polyline clip-path=\"url(#clip610)\" style=\"stroke:#000000; stroke-linecap:round; stroke-linejoin:round; stroke-width:4; stroke-opacity:1; fill:none\" points=\"326.139,1423.18 326.139,1404.28 \"/>\n",
       "<polyline clip-path=\"url(#clip610)\" style=\"stroke:#000000; stroke-linecap:round; stroke-linejoin:round; stroke-width:4; stroke-opacity:1; fill:none\" points=\"818.179,1423.18 818.179,1404.28 \"/>\n",
       "<polyline clip-path=\"url(#clip610)\" style=\"stroke:#000000; stroke-linecap:round; stroke-linejoin:round; stroke-width:4; stroke-opacity:1; fill:none\" points=\"1310.22,1423.18 1310.22,1404.28 \"/>\n",
       "<polyline clip-path=\"url(#clip610)\" style=\"stroke:#000000; stroke-linecap:round; stroke-linejoin:round; stroke-width:4; stroke-opacity:1; fill:none\" points=\"1802.26,1423.18 1802.26,1404.28 \"/>\n",
       "<polyline clip-path=\"url(#clip610)\" style=\"stroke:#000000; stroke-linecap:round; stroke-linejoin:round; stroke-width:4; stroke-opacity:1; fill:none\" points=\"2294.3,1423.18 2294.3,1404.28 \"/>\n",
       "<path clip-path=\"url(#clip610)\" d=\"M326.139 1454.1 Q322.528 1454.1 320.699 1457.66 Q318.893 1461.2 318.893 1468.33 Q318.893 1475.44 320.699 1479.01 Q322.528 1482.55 326.139 1482.55 Q329.773 1482.55 331.578 1479.01 Q333.407 1475.44 333.407 1468.33 Q333.407 1461.2 331.578 1457.66 Q329.773 1454.1 326.139 1454.1 M326.139 1450.39 Q331.949 1450.39 335.004 1455 Q338.083 1459.58 338.083 1468.33 Q338.083 1477.06 335.004 1481.67 Q331.949 1486.25 326.139 1486.25 Q320.329 1486.25 317.25 1481.67 Q314.194 1477.06 314.194 1468.33 Q314.194 1459.58 317.25 1455 Q320.329 1450.39 326.139 1450.39 Z\" fill=\"#000000\" fill-rule=\"nonzero\" fill-opacity=\"1\" /><path clip-path=\"url(#clip610)\" d=\"M797.45 1481.64 L813.77 1481.64 L813.77 1485.58 L791.825 1485.58 L791.825 1481.64 Q794.487 1478.89 799.071 1474.26 Q803.677 1469.61 804.858 1468.27 Q807.103 1465.74 807.983 1464.01 Q808.885 1462.25 808.885 1460.56 Q808.885 1457.8 806.941 1456.07 Q805.02 1454.33 801.918 1454.33 Q799.719 1454.33 797.265 1455.09 Q794.835 1455.86 792.057 1457.41 L792.057 1452.69 Q794.881 1451.55 797.335 1450.97 Q799.788 1450.39 801.825 1450.39 Q807.196 1450.39 810.39 1453.08 Q813.585 1455.77 813.585 1460.26 Q813.585 1462.39 812.774 1464.31 Q811.987 1466.2 809.881 1468.8 Q809.302 1469.47 806.2 1472.69 Q803.098 1475.88 797.45 1481.64 Z\" fill=\"#000000\" fill-rule=\"nonzero\" fill-opacity=\"1\" /><path clip-path=\"url(#clip610)\" d=\"M823.631 1451.02 L841.987 1451.02 L841.987 1454.96 L827.913 1454.96 L827.913 1463.43 Q828.932 1463.08 829.95 1462.92 Q830.969 1462.73 831.987 1462.73 Q837.774 1462.73 841.154 1465.9 Q844.533 1469.08 844.533 1474.49 Q844.533 1480.07 841.061 1483.17 Q837.589 1486.25 831.27 1486.25 Q829.094 1486.25 826.825 1485.88 Q824.58 1485.51 822.172 1484.77 L822.172 1480.07 Q824.256 1481.2 826.478 1481.76 Q828.7 1482.32 831.177 1482.32 Q835.182 1482.32 837.52 1480.21 Q839.858 1478.1 839.858 1474.49 Q839.858 1470.88 837.52 1468.77 Q835.182 1466.67 831.177 1466.67 Q829.302 1466.67 827.427 1467.08 Q825.575 1467.5 823.631 1468.38 L823.631 1451.02 Z\" fill=\"#000000\" fill-rule=\"nonzero\" fill-opacity=\"1\" /><path clip-path=\"url(#clip610)\" d=\"M1284.92 1451.02 L1303.28 1451.02 L1303.28 1454.96 L1289.2 1454.96 L1289.2 1463.43 Q1290.22 1463.08 1291.24 1462.92 Q1292.26 1462.73 1293.28 1462.73 Q1299.06 1462.73 1302.44 1465.9 Q1305.82 1469.08 1305.82 1474.49 Q1305.82 1480.07 1302.35 1483.17 Q1298.88 1486.25 1292.56 1486.25 Q1290.38 1486.25 1288.11 1485.88 Q1285.87 1485.51 1283.46 1484.77 L1283.46 1480.07 Q1285.54 1481.2 1287.77 1481.76 Q1289.99 1482.32 1292.47 1482.32 Q1296.47 1482.32 1298.81 1480.21 Q1301.15 1478.1 1301.15 1474.49 Q1301.15 1470.88 1298.81 1468.77 Q1296.47 1466.67 1292.47 1466.67 Q1290.59 1466.67 1288.72 1467.08 Q1286.86 1467.5 1284.92 1468.38 L1284.92 1451.02 Z\" fill=\"#000000\" fill-rule=\"nonzero\" fill-opacity=\"1\" /><path clip-path=\"url(#clip610)\" d=\"M1325.03 1454.1 Q1321.42 1454.1 1319.6 1457.66 Q1317.79 1461.2 1317.79 1468.33 Q1317.79 1475.44 1319.6 1479.01 Q1321.42 1482.55 1325.03 1482.55 Q1328.67 1482.55 1330.47 1479.01 Q1332.3 1475.44 1332.3 1468.33 Q1332.3 1461.2 1330.47 1457.66 Q1328.67 1454.1 1325.03 1454.1 M1325.03 1450.39 Q1330.84 1450.39 1333.9 1455 Q1336.98 1459.58 1336.98 1468.33 Q1336.98 1477.06 1333.9 1481.67 Q1330.84 1486.25 1325.03 1486.25 Q1319.22 1486.25 1316.15 1481.67 Q1313.09 1477.06 1313.09 1468.33 Q1313.09 1459.58 1316.15 1455 Q1319.22 1450.39 1325.03 1450.39 Z\" fill=\"#000000\" fill-rule=\"nonzero\" fill-opacity=\"1\" /><path clip-path=\"url(#clip610)\" d=\"M1776.12 1451.02 L1798.34 1451.02 L1798.34 1453.01 L1785.79 1485.58 L1780.91 1485.58 L1792.71 1454.96 L1776.12 1454.96 L1776.12 1451.02 Z\" fill=\"#000000\" fill-rule=\"nonzero\" fill-opacity=\"1\" /><path clip-path=\"url(#clip610)\" d=\"M1807.5 1451.02 L1825.86 1451.02 L1825.86 1454.96 L1811.79 1454.96 L1811.79 1463.43 Q1812.8 1463.08 1813.82 1462.92 Q1814.84 1462.73 1815.86 1462.73 Q1821.65 1462.73 1825.03 1465.9 Q1828.41 1469.08 1828.41 1474.49 Q1828.41 1480.07 1824.93 1483.17 Q1821.46 1486.25 1815.14 1486.25 Q1812.97 1486.25 1810.7 1485.88 Q1808.45 1485.51 1806.05 1484.77 L1806.05 1480.07 Q1808.13 1481.2 1810.35 1481.76 Q1812.57 1482.32 1815.05 1482.32 Q1819.05 1482.32 1821.39 1480.21 Q1823.73 1478.1 1823.73 1474.49 Q1823.73 1470.88 1821.39 1468.77 Q1819.05 1466.67 1815.05 1466.67 Q1813.18 1466.67 1811.3 1467.08 Q1809.45 1467.5 1807.5 1468.38 L1807.5 1451.02 Z\" fill=\"#000000\" fill-rule=\"nonzero\" fill-opacity=\"1\" /><path clip-path=\"url(#clip610)\" d=\"M2253.91 1481.64 L2261.55 1481.64 L2261.55 1455.28 L2253.24 1456.95 L2253.24 1452.69 L2261.5 1451.02 L2266.18 1451.02 L2266.18 1481.64 L2273.82 1481.64 L2273.82 1485.58 L2253.91 1485.58 L2253.91 1481.64 Z\" fill=\"#000000\" fill-rule=\"nonzero\" fill-opacity=\"1\" /><path clip-path=\"url(#clip610)\" d=\"M2293.26 1454.1 Q2289.65 1454.1 2287.82 1457.66 Q2286.01 1461.2 2286.01 1468.33 Q2286.01 1475.44 2287.82 1479.01 Q2289.65 1482.55 2293.26 1482.55 Q2296.89 1482.55 2298.7 1479.01 Q2300.53 1475.44 2300.53 1468.33 Q2300.53 1461.2 2298.7 1457.66 Q2296.89 1454.1 2293.26 1454.1 M2293.26 1450.39 Q2299.07 1450.39 2302.13 1455 Q2305.2 1459.58 2305.2 1468.33 Q2305.2 1477.06 2302.13 1481.67 Q2299.07 1486.25 2293.26 1486.25 Q2287.45 1486.25 2284.37 1481.67 Q2281.32 1477.06 2281.32 1468.33 Q2281.32 1459.58 2284.37 1455 Q2287.45 1450.39 2293.26 1450.39 Z\" fill=\"#000000\" fill-rule=\"nonzero\" fill-opacity=\"1\" /><path clip-path=\"url(#clip610)\" d=\"M2323.42 1454.1 Q2319.81 1454.1 2317.98 1457.66 Q2316.18 1461.2 2316.18 1468.33 Q2316.18 1475.44 2317.98 1479.01 Q2319.81 1482.55 2323.42 1482.55 Q2327.06 1482.55 2328.86 1479.01 Q2330.69 1475.44 2330.69 1468.33 Q2330.69 1461.2 2328.86 1457.66 Q2327.06 1454.1 2323.42 1454.1 M2323.42 1450.39 Q2329.23 1450.39 2332.29 1455 Q2335.37 1459.58 2335.37 1468.33 Q2335.37 1477.06 2332.29 1481.67 Q2329.23 1486.25 2323.42 1486.25 Q2317.61 1486.25 2314.53 1481.67 Q2311.48 1477.06 2311.48 1468.33 Q2311.48 1459.58 2314.53 1455 Q2317.61 1450.39 2323.42 1450.39 Z\" fill=\"#000000\" fill-rule=\"nonzero\" fill-opacity=\"1\" /><path clip-path=\"url(#clip610)\" d=\"M1273.8 1537.87 Q1272.81 1537.3 1271.63 1537.04 Q1270.49 1536.76 1269.09 1536.76 Q1264.12 1536.76 1261.45 1540 Q1258.81 1543.22 1258.81 1549.27 L1258.81 1568.04 L1252.92 1568.04 L1252.92 1532.4 L1258.81 1532.4 L1258.81 1537.93 Q1260.65 1534.69 1263.61 1533.13 Q1266.57 1531.54 1270.81 1531.54 Q1271.41 1531.54 1272.14 1531.63 Q1272.88 1531.7 1273.77 1531.85 L1273.8 1537.87 Z\" fill=\"#000000\" fill-rule=\"nonzero\" fill-opacity=\"1\" /><path clip-path=\"url(#clip610)\" d=\"M1279.34 1553.98 L1279.34 1532.4 L1285.19 1532.4 L1285.19 1553.75 Q1285.19 1558.81 1287.17 1561.36 Q1289.14 1563.87 1293.09 1563.87 Q1297.83 1563.87 1300.57 1560.85 Q1303.34 1557.83 1303.34 1552.61 L1303.34 1532.4 L1309.19 1532.4 L1309.19 1568.04 L1303.34 1568.04 L1303.34 1562.57 Q1301.2 1565.82 1298.37 1567.41 Q1295.57 1568.97 1291.84 1568.97 Q1285.7 1568.97 1282.52 1565.15 Q1279.34 1561.33 1279.34 1553.98 M1294.07 1531.54 L1294.07 1531.54 Z\" fill=\"#000000\" fill-rule=\"nonzero\" fill-opacity=\"1\" /><path clip-path=\"url(#clip610)\" d=\"M1350.89 1546.53 L1350.89 1568.04 L1345.03 1568.04 L1345.03 1546.72 Q1345.03 1541.66 1343.06 1539.14 Q1341.08 1536.63 1337.14 1536.63 Q1332.39 1536.63 1329.66 1539.65 Q1326.92 1542.68 1326.92 1547.9 L1326.92 1568.04 L1321.03 1568.04 L1321.03 1532.4 L1326.92 1532.4 L1326.92 1537.93 Q1329.02 1534.72 1331.85 1533.13 Q1334.72 1531.54 1338.44 1531.54 Q1344.58 1531.54 1347.74 1535.36 Q1350.89 1539.14 1350.89 1546.53 Z\" fill=\"#000000\" fill-rule=\"nonzero\" fill-opacity=\"1\" /><path clip-path=\"url(#clip610)\" d=\"M1385.29 1533.45 L1385.29 1538.98 Q1382.81 1537.71 1380.14 1537.07 Q1377.46 1536.44 1374.6 1536.44 Q1370.24 1536.44 1368.04 1537.77 Q1365.88 1539.11 1365.88 1541.79 Q1365.88 1543.82 1367.44 1545 Q1369 1546.15 1373.71 1547.2 L1375.71 1547.64 Q1381.95 1548.98 1384.56 1551.43 Q1387.2 1553.85 1387.2 1558.21 Q1387.2 1563.17 1383.26 1566.07 Q1379.34 1568.97 1372.47 1568.97 Q1369.6 1568.97 1366.48 1568.39 Q1363.4 1567.85 1359.96 1566.74 L1359.96 1560.69 Q1363.2 1562.38 1366.36 1563.24 Q1369.51 1564.07 1372.59 1564.07 Q1376.73 1564.07 1378.96 1562.66 Q1381.19 1561.23 1381.19 1558.65 Q1381.19 1556.27 1379.56 1554.99 Q1377.97 1553.72 1372.53 1552.54 L1370.49 1552.07 Q1365.05 1550.92 1362.63 1548.56 Q1360.21 1546.18 1360.21 1542.04 Q1360.21 1537.01 1363.78 1534.27 Q1367.34 1531.54 1373.9 1531.54 Q1377.15 1531.54 1380.01 1532.01 Q1382.87 1532.49 1385.29 1533.45 Z\" fill=\"#000000\" fill-rule=\"nonzero\" fill-opacity=\"1\" /><polyline clip-path=\"url(#clip610)\" style=\"stroke:#000000; stroke-linecap:round; stroke-linejoin:round; stroke-width:4; stroke-opacity:1; fill:none\" points=\"287.366,1423.18 287.366,123.472 \"/>\n",
       "<polyline clip-path=\"url(#clip610)\" style=\"stroke:#000000; stroke-linecap:round; stroke-linejoin:round; stroke-width:4; stroke-opacity:1; fill:none\" points=\"287.366,1302.05 306.264,1302.05 \"/>\n",
       "<polyline clip-path=\"url(#clip610)\" style=\"stroke:#000000; stroke-linecap:round; stroke-linejoin:round; stroke-width:4; stroke-opacity:1; fill:none\" points=\"287.366,995.88 306.264,995.88 \"/>\n",
       "<polyline clip-path=\"url(#clip610)\" style=\"stroke:#000000; stroke-linecap:round; stroke-linejoin:round; stroke-width:4; stroke-opacity:1; fill:none\" points=\"287.366,689.712 306.264,689.712 \"/>\n",
       "<polyline clip-path=\"url(#clip610)\" style=\"stroke:#000000; stroke-linecap:round; stroke-linejoin:round; stroke-width:4; stroke-opacity:1; fill:none\" points=\"287.366,383.544 306.264,383.544 \"/>\n",
       "<path clip-path=\"url(#clip610)\" d=\"M114.26 1302.5 L143.936 1302.5 L143.936 1306.43 L114.26 1306.43 L114.26 1302.5 Z\" fill=\"#000000\" fill-rule=\"nonzero\" fill-opacity=\"1\" /><path clip-path=\"url(#clip610)\" d=\"M158.056 1315.39 L174.376 1315.39 L174.376 1319.33 L152.431 1319.33 L152.431 1315.39 Q155.093 1312.64 159.677 1308.01 Q164.283 1303.36 165.464 1302.01 Q167.709 1299.49 168.589 1297.75 Q169.491 1295.99 169.491 1294.3 Q169.491 1291.55 167.547 1289.81 Q165.626 1288.08 162.524 1288.08 Q160.325 1288.08 157.871 1288.84 Q155.44 1289.61 152.663 1291.16 L152.663 1286.43 Q155.487 1285.3 157.94 1284.72 Q160.394 1284.14 162.431 1284.14 Q167.802 1284.14 170.996 1286.83 Q174.19 1289.51 174.19 1294 Q174.19 1296.13 173.38 1298.05 Q172.593 1299.95 170.487 1302.55 Q169.908 1303.22 166.806 1306.43 Q163.704 1309.63 158.056 1315.39 Z\" fill=\"#000000\" fill-rule=\"nonzero\" fill-opacity=\"1\" /><path clip-path=\"url(#clip610)\" d=\"M184.19 1313.45 L189.075 1313.45 L189.075 1319.33 L184.19 1319.33 L184.19 1313.45 Z\" fill=\"#000000\" fill-rule=\"nonzero\" fill-opacity=\"1\" /><path clip-path=\"url(#clip610)\" d=\"M200.07 1315.39 L207.709 1315.39 L207.709 1289.03 L199.399 1290.69 L199.399 1286.43 L207.662 1284.77 L212.338 1284.77 L212.338 1315.39 L219.977 1315.39 L219.977 1319.33 L200.07 1319.33 L200.07 1315.39 Z\" fill=\"#000000\" fill-rule=\"nonzero\" fill-opacity=\"1\" /><path clip-path=\"url(#clip610)\" d=\"M239.422 1287.85 Q235.81 1287.85 233.982 1291.41 Q232.176 1294.95 232.176 1302.08 Q232.176 1309.19 233.982 1312.75 Q235.81 1316.3 239.422 1316.3 Q243.056 1316.3 244.861 1312.75 Q246.69 1309.19 246.69 1302.08 Q246.69 1294.95 244.861 1291.41 Q243.056 1287.85 239.422 1287.85 M239.422 1284.14 Q245.232 1284.14 248.287 1288.75 Q251.366 1293.33 251.366 1302.08 Q251.366 1310.81 248.287 1315.42 Q245.232 1320 239.422 1320 Q233.611 1320 230.533 1315.42 Q227.477 1310.81 227.477 1302.08 Q227.477 1293.33 230.533 1288.75 Q233.611 1284.14 239.422 1284.14 Z\" fill=\"#000000\" fill-rule=\"nonzero\" fill-opacity=\"1\" /><path clip-path=\"url(#clip610)\" d=\"M115.256 996.331 L144.931 996.331 L144.931 1000.27 L115.256 1000.27 L115.256 996.331 Z\" fill=\"#000000\" fill-rule=\"nonzero\" fill-opacity=\"1\" /><path clip-path=\"url(#clip610)\" d=\"M159.052 1009.22 L175.371 1009.22 L175.371 1013.16 L153.427 1013.16 L153.427 1009.22 Q156.089 1006.47 160.672 1001.84 Q165.278 997.188 166.459 995.845 Q168.704 993.322 169.584 991.586 Q170.487 989.826 170.487 988.137 Q170.487 985.382 168.542 983.646 Q166.621 981.91 163.519 981.91 Q161.32 981.91 158.866 982.674 Q156.436 983.438 153.658 984.989 L153.658 980.266 Q156.482 979.132 158.936 978.553 Q161.39 977.975 163.427 977.975 Q168.797 977.975 171.991 980.66 Q175.186 983.345 175.186 987.836 Q175.186 989.965 174.376 991.887 Q173.589 993.785 171.482 996.377 Q170.903 997.049 167.802 1000.27 Q164.7 1003.46 159.052 1009.22 Z\" fill=\"#000000\" fill-rule=\"nonzero\" fill-opacity=\"1\" /><path clip-path=\"url(#clip610)\" d=\"M185.186 1007.28 L190.07 1007.28 L190.07 1013.16 L185.186 1013.16 L185.186 1007.28 Z\" fill=\"#000000\" fill-rule=\"nonzero\" fill-opacity=\"1\" /><path clip-path=\"url(#clip610)\" d=\"M210.255 981.678 Q206.644 981.678 204.815 985.243 Q203.01 988.785 203.01 995.914 Q203.01 1003.02 204.815 1006.59 Q206.644 1010.13 210.255 1010.13 Q213.889 1010.13 215.695 1006.59 Q217.523 1003.02 217.523 995.914 Q217.523 988.785 215.695 985.243 Q213.889 981.678 210.255 981.678 M210.255 977.975 Q216.065 977.975 219.121 982.581 Q222.199 987.164 222.199 995.914 Q222.199 1004.64 219.121 1009.25 Q216.065 1013.83 210.255 1013.83 Q204.445 1013.83 201.366 1009.25 Q198.311 1004.64 198.311 995.914 Q198.311 987.164 201.366 982.581 Q204.445 977.975 210.255 977.975 Z\" fill=\"#000000\" fill-rule=\"nonzero\" fill-opacity=\"1\" /><path clip-path=\"url(#clip610)\" d=\"M230.463 978.6 L248.82 978.6 L248.82 982.535 L234.746 982.535 L234.746 991.007 Q235.764 990.66 236.783 990.498 Q237.801 990.313 238.82 990.313 Q244.607 990.313 247.986 993.484 Q251.366 996.655 251.366 1002.07 Q251.366 1007.65 247.894 1010.75 Q244.421 1013.83 238.102 1013.83 Q235.926 1013.83 233.658 1013.46 Q231.412 1013.09 229.005 1012.35 L229.005 1007.65 Q231.088 1008.78 233.31 1009.34 Q235.533 1009.9 238.009 1009.9 Q242.014 1009.9 244.352 1007.79 Q246.69 1005.68 246.69 1002.07 Q246.69 998.461 244.352 996.354 Q242.014 994.248 238.009 994.248 Q236.135 994.248 234.26 994.664 Q232.408 995.081 230.463 995.961 L230.463 978.6 Z\" fill=\"#000000\" fill-rule=\"nonzero\" fill-opacity=\"1\" /><path clip-path=\"url(#clip610)\" d=\"M114.26 690.163 L143.936 690.163 L143.936 694.098 L114.26 694.098 L114.26 690.163 Z\" fill=\"#000000\" fill-rule=\"nonzero\" fill-opacity=\"1\" /><path clip-path=\"url(#clip610)\" d=\"M158.056 703.057 L174.376 703.057 L174.376 706.992 L152.431 706.992 L152.431 703.057 Q155.093 700.302 159.677 695.672 Q164.283 691.02 165.464 689.677 Q167.709 687.154 168.589 685.418 Q169.491 683.659 169.491 681.969 Q169.491 679.214 167.547 677.478 Q165.626 675.742 162.524 675.742 Q160.325 675.742 157.871 676.506 Q155.44 677.27 152.663 678.821 L152.663 674.098 Q155.487 672.964 157.94 672.385 Q160.394 671.807 162.431 671.807 Q167.802 671.807 170.996 674.492 Q174.19 677.177 174.19 681.668 Q174.19 683.797 173.38 685.719 Q172.593 687.617 170.487 690.209 Q169.908 690.881 166.806 694.098 Q163.704 697.293 158.056 703.057 Z\" fill=\"#000000\" fill-rule=\"nonzero\" fill-opacity=\"1\" /><path clip-path=\"url(#clip610)\" d=\"M184.19 701.112 L189.075 701.112 L189.075 706.992 L184.19 706.992 L184.19 701.112 Z\" fill=\"#000000\" fill-rule=\"nonzero\" fill-opacity=\"1\" /><path clip-path=\"url(#clip610)\" d=\"M209.26 675.51 Q205.649 675.51 203.82 679.075 Q202.014 682.617 202.014 689.746 Q202.014 696.853 203.82 700.418 Q205.649 703.959 209.26 703.959 Q212.894 703.959 214.699 700.418 Q216.528 696.853 216.528 689.746 Q216.528 682.617 214.699 679.075 Q212.894 675.51 209.26 675.51 M209.26 671.807 Q215.07 671.807 218.125 676.413 Q221.204 680.997 221.204 689.746 Q221.204 698.473 218.125 703.08 Q215.07 707.663 209.26 707.663 Q203.449 707.663 200.371 703.08 Q197.315 698.473 197.315 689.746 Q197.315 680.997 200.371 676.413 Q203.449 671.807 209.26 671.807 Z\" fill=\"#000000\" fill-rule=\"nonzero\" fill-opacity=\"1\" /><path clip-path=\"url(#clip610)\" d=\"M239.422 675.51 Q235.81 675.51 233.982 679.075 Q232.176 682.617 232.176 689.746 Q232.176 696.853 233.982 700.418 Q235.81 703.959 239.422 703.959 Q243.056 703.959 244.861 700.418 Q246.69 696.853 246.69 689.746 Q246.69 682.617 244.861 679.075 Q243.056 675.51 239.422 675.51 M239.422 671.807 Q245.232 671.807 248.287 676.413 Q251.366 680.997 251.366 689.746 Q251.366 698.473 248.287 703.08 Q245.232 707.663 239.422 707.663 Q233.611 707.663 230.533 703.08 Q227.477 698.473 227.477 689.746 Q227.477 680.997 230.533 676.413 Q233.611 671.807 239.422 671.807 Z\" fill=\"#000000\" fill-rule=\"nonzero\" fill-opacity=\"1\" /><path clip-path=\"url(#clip610)\" d=\"M115.256 383.995 L144.931 383.995 L144.931 387.93 L115.256 387.93 L115.256 383.995 Z\" fill=\"#000000\" fill-rule=\"nonzero\" fill-opacity=\"1\" /><path clip-path=\"url(#clip610)\" d=\"M155.834 396.889 L163.473 396.889 L163.473 370.523 L155.163 372.19 L155.163 367.931 L163.427 366.264 L168.102 366.264 L168.102 396.889 L175.741 396.889 L175.741 400.824 L155.834 400.824 L155.834 396.889 Z\" fill=\"#000000\" fill-rule=\"nonzero\" fill-opacity=\"1\" /><path clip-path=\"url(#clip610)\" d=\"M185.186 394.944 L190.07 394.944 L190.07 400.824 L185.186 400.824 L185.186 394.944 Z\" fill=\"#000000\" fill-rule=\"nonzero\" fill-opacity=\"1\" /><path clip-path=\"url(#clip610)\" d=\"M200.394 400.106 L200.394 395.847 Q202.153 396.68 203.959 397.12 Q205.764 397.56 207.5 397.56 Q212.13 397.56 214.561 394.458 Q217.014 391.333 217.361 384.991 Q216.019 386.981 213.959 388.046 Q211.899 389.111 209.399 389.111 Q204.213 389.111 201.181 385.986 Q198.172 382.838 198.172 377.398 Q198.172 372.074 201.32 368.856 Q204.468 365.639 209.699 365.639 Q215.695 365.639 218.843 370.245 Q222.014 374.829 222.014 383.579 Q222.014 391.75 218.125 396.634 Q214.26 401.495 207.709 401.495 Q205.949 401.495 204.144 401.148 Q202.338 400.801 200.394 400.106 M209.699 385.454 Q212.848 385.454 214.676 383.301 Q216.528 381.148 216.528 377.398 Q216.528 373.671 214.676 371.518 Q212.848 369.343 209.699 369.343 Q206.551 369.343 204.699 371.518 Q202.871 373.671 202.871 377.398 Q202.871 381.148 204.699 383.301 Q206.551 385.454 209.699 385.454 Z\" fill=\"#000000\" fill-rule=\"nonzero\" fill-opacity=\"1\" /><path clip-path=\"url(#clip610)\" d=\"M230.463 366.264 L248.82 366.264 L248.82 370.199 L234.746 370.199 L234.746 378.671 Q235.764 378.324 236.783 378.162 Q237.801 377.977 238.82 377.977 Q244.607 377.977 247.986 381.148 Q251.366 384.319 251.366 389.736 Q251.366 395.315 247.894 398.416 Q244.421 401.495 238.102 401.495 Q235.926 401.495 233.658 401.125 Q231.412 400.754 229.005 400.014 L229.005 395.315 Q231.088 396.449 233.31 397.004 Q235.533 397.56 238.009 397.56 Q242.014 397.56 244.352 395.454 Q246.69 393.347 246.69 389.736 Q246.69 386.125 244.352 384.018 Q242.014 381.912 238.009 381.912 Q236.135 381.912 234.26 382.329 Q232.408 382.745 230.463 383.625 L230.463 366.264 Z\" fill=\"#000000\" fill-rule=\"nonzero\" fill-opacity=\"1\" /><path clip-path=\"url(#clip610)\" d=\"M16.4842 825.525 L16.4842 795.479 L21.895 795.479 L21.895 819.095 L35.9632 819.095 L35.9632 796.465 L41.3741 796.465 L41.3741 819.095 L58.5933 819.095 L58.5933 794.906 L64.0042 794.906 L64.0042 825.525 L16.4842 825.525 Z\" fill=\"#000000\" fill-rule=\"nonzero\" fill-opacity=\"1\" /><path clip-path=\"url(#clip610)\" d=\"M16.4842 774.185 L16.4842 768.775 L70.0516 785.325 L70.0516 790.736 L16.4842 774.185 Z\" fill=\"#000000\" fill-rule=\"nonzero\" fill-opacity=\"1\" /><path clip-path=\"url(#clip610)\" d=\"M20.8447 743.089 Q20.8447 750.091 26.0645 754.229 Q31.2844 758.335 40.2919 758.335 Q49.2675 758.335 54.4874 754.229 Q59.7073 750.091 59.7073 743.089 Q59.7073 736.087 54.4874 732.013 Q49.2675 727.907 40.2919 727.907 Q31.2844 727.907 26.0645 732.013 Q20.8447 736.087 20.8447 743.089 M63.1448 734.081 L72.4069 725.615 L72.4069 733.381 L64.7999 740.415 Q64.8635 741.466 64.8954 742.039 Q64.9272 742.58 64.9272 743.089 Q64.9272 753.115 58.2432 759.13 Q51.5274 765.114 40.2919 765.114 Q29.0246 765.114 22.3406 759.13 Q15.6248 753.115 15.6248 743.089 Q15.6248 733.095 22.3406 727.111 Q29.0246 721.127 40.2919 721.127 Q48.5673 721.127 54.4556 724.469 Q60.3439 727.779 63.1448 734.081 Z\" fill=\"#000000\" fill-rule=\"nonzero\" fill-opacity=\"1\" /><path clip-path=\"url(#clip610)\" d=\"M911.325 12.096 L949.565 12.096 L949.565 18.9825 L919.507 18.9825 L919.507 36.8875 L948.309 36.8875 L948.309 43.7741 L919.507 43.7741 L919.507 65.6895 L950.294 65.6895 L950.294 72.576 L911.325 72.576 L911.325 12.096 Z\" fill=\"#000000\" fill-rule=\"nonzero\" fill-opacity=\"1\" /><path clip-path=\"url(#clip610)\" d=\"M1001.13 45.1919 L1001.13 72.576 L993.68 72.576 L993.68 45.4349 Q993.68 38.994 991.168 35.7938 Q988.656 32.5936 983.633 32.5936 Q977.597 32.5936 974.114 36.4419 Q970.63 40.2903 970.63 46.9338 L970.63 72.576 L963.136 72.576 L963.136 27.2059 L970.63 27.2059 L970.63 34.2544 Q973.304 30.163 976.909 28.1376 Q980.555 26.1121 985.294 26.1121 Q993.112 26.1121 997.123 30.9732 Q1001.13 35.7938 1001.13 45.1919 Z\" fill=\"#000000\" fill-rule=\"nonzero\" fill-opacity=\"1\" /><path clip-path=\"url(#clip610)\" d=\"M1054.81 48.0275 L1054.81 51.6733 L1020.54 51.6733 Q1021.02 59.3701 1025.16 63.421 Q1029.33 67.4314 1036.74 67.4314 Q1041.03 67.4314 1045.05 66.3781 Q1049.1 65.3249 1053.07 63.2184 L1053.07 70.267 Q1049.06 71.9684 1044.84 72.8596 Q1040.63 73.7508 1036.3 73.7508 Q1025.44 73.7508 1019.08 67.4314 Q1012.76 61.1119 1012.76 50.3365 Q1012.76 39.1965 1018.75 32.6746 Q1024.79 26.1121 1035 26.1121 Q1044.15 26.1121 1049.46 32.0264 Q1054.81 37.9003 1054.81 48.0275 M1047.35 45.84 Q1047.27 39.7232 1043.91 36.0774 Q1040.59 32.4315 1035.08 32.4315 Q1028.84 32.4315 1025.07 35.9558 Q1021.35 39.4801 1020.78 45.8805 L1047.35 45.84 Z\" fill=\"#000000\" fill-rule=\"nonzero\" fill-opacity=\"1\" /><path clip-path=\"url(#clip610)\" d=\"M1093.33 34.1734 Q1092.08 33.4443 1090.58 33.1202 Q1089.12 32.7556 1087.34 32.7556 Q1081.02 32.7556 1077.61 36.8875 Q1074.25 40.9789 1074.25 48.6757 L1074.25 72.576 L1066.76 72.576 L1066.76 27.2059 L1074.25 27.2059 L1074.25 34.2544 Q1076.6 30.1225 1080.37 28.1376 Q1084.14 26.1121 1089.52 26.1121 Q1090.29 26.1121 1091.23 26.2337 Q1092.16 26.3147 1093.29 26.5172 L1093.33 34.1734 Z\" fill=\"#000000\" fill-rule=\"nonzero\" fill-opacity=\"1\" /><path clip-path=\"url(#clip610)\" d=\"M1129.55 49.3643 Q1129.55 41.2625 1126.18 36.8065 Q1122.86 32.3505 1116.83 32.3505 Q1110.83 32.3505 1107.47 36.8065 Q1104.15 41.2625 1104.15 49.3643 Q1104.15 57.4256 1107.47 61.8816 Q1110.83 66.3376 1116.83 66.3376 Q1122.86 66.3376 1126.18 61.8816 Q1129.55 57.4256 1129.55 49.3643 M1137 66.9452 Q1137 78.5308 1131.86 84.1616 Q1126.71 89.8329 1116.1 89.8329 Q1112.17 89.8329 1108.68 89.2252 Q1105.2 88.6581 1101.92 87.4428 L1101.92 80.1917 Q1105.2 81.9741 1108.4 82.8248 Q1111.6 83.6755 1114.92 83.6755 Q1122.26 83.6755 1125.9 79.8271 Q1129.55 76.0193 1129.55 68.282 L1129.55 64.5957 Q1127.24 68.6061 1123.63 70.5911 Q1120.03 72.576 1115 72.576 Q1106.66 72.576 1101.56 66.2161 Q1096.45 59.8562 1096.45 49.3643 Q1096.45 38.832 1101.56 32.472 Q1106.66 26.1121 1115 26.1121 Q1120.03 26.1121 1123.63 28.0971 Q1127.24 30.082 1129.55 34.0924 L1129.55 27.2059 L1137 27.2059 L1137 66.9452 Z\" fill=\"#000000\" fill-rule=\"nonzero\" fill-opacity=\"1\" /><path clip-path=\"url(#clip610)\" d=\"M1171.23 76.7889 Q1168.07 84.8907 1165.07 87.3618 Q1162.08 89.8329 1157.05 89.8329 L1151.1 89.8329 L1151.1 83.5945 L1155.47 83.5945 Q1158.55 83.5945 1160.25 82.1361 Q1161.95 80.6778 1164.02 75.2496 L1165.36 71.8468 L1147.01 27.2059 L1154.91 27.2059 L1169.08 62.6918 L1183.26 27.2059 L1191.16 27.2059 L1171.23 76.7889 Z\" fill=\"#000000\" fill-rule=\"nonzero\" fill-opacity=\"1\" /><path clip-path=\"url(#clip610)\" d=\"M1245.4 32.4315 Q1239.41 32.4315 1235.92 37.1306 Q1232.44 41.7891 1232.44 49.9314 Q1232.44 58.0738 1235.88 62.7728 Q1239.37 67.4314 1245.4 67.4314 Q1251.36 67.4314 1254.84 62.7323 Q1258.33 58.0333 1258.33 49.9314 Q1258.33 41.8701 1254.84 37.1711 Q1251.36 32.4315 1245.4 32.4315 M1245.4 26.1121 Q1255.12 26.1121 1260.67 32.4315 Q1266.22 38.7509 1266.22 49.9314 Q1266.22 61.0714 1260.67 67.4314 Q1255.12 73.7508 1245.4 73.7508 Q1235.64 73.7508 1230.09 67.4314 Q1224.58 61.0714 1224.58 49.9314 Q1224.58 38.7509 1230.09 32.4315 Q1235.64 26.1121 1245.4 26.1121 Z\" fill=\"#000000\" fill-rule=\"nonzero\" fill-opacity=\"1\" /><path clip-path=\"url(#clip610)\" d=\"M1285.79 65.7705 L1285.79 89.8329 L1278.3 89.8329 L1278.3 27.2059 L1285.79 27.2059 L1285.79 34.0924 Q1288.14 30.0415 1291.7 28.0971 Q1295.31 26.1121 1300.29 26.1121 Q1308.56 26.1121 1313.7 32.6746 Q1318.89 39.2371 1318.89 49.9314 Q1318.89 60.6258 1313.7 67.1883 Q1308.56 73.7508 1300.29 73.7508 Q1295.31 73.7508 1291.7 71.8063 Q1288.14 69.8214 1285.79 65.7705 M1311.15 49.9314 Q1311.15 41.7081 1307.75 37.0496 Q1304.38 32.3505 1298.47 32.3505 Q1292.56 32.3505 1289.15 37.0496 Q1285.79 41.7081 1285.79 49.9314 Q1285.79 58.1548 1289.15 62.8538 Q1292.56 67.5124 1298.47 67.5124 Q1304.38 67.5124 1307.75 62.8538 Q1311.15 58.1548 1311.15 49.9314 Z\" fill=\"#000000\" fill-rule=\"nonzero\" fill-opacity=\"1\" /><path clip-path=\"url(#clip610)\" d=\"M1338.61 14.324 L1338.61 27.2059 L1353.97 27.2059 L1353.97 32.9987 L1338.61 32.9987 L1338.61 57.6282 Q1338.61 63.1779 1340.11 64.7578 Q1341.65 66.3376 1346.31 66.3376 L1353.97 66.3376 L1353.97 72.576 L1346.31 72.576 Q1337.68 72.576 1334.4 69.3758 Q1331.12 66.1351 1331.12 57.6282 L1331.12 32.9987 L1325.65 32.9987 L1325.65 27.2059 L1331.12 27.2059 L1331.12 14.324 L1338.61 14.324 Z\" fill=\"#000000\" fill-rule=\"nonzero\" fill-opacity=\"1\" /><path clip-path=\"url(#clip610)\" d=\"M1363.77 27.2059 L1371.22 27.2059 L1371.22 72.576 L1363.77 72.576 L1363.77 27.2059 M1363.77 9.54393 L1371.22 9.54393 L1371.22 18.9825 L1363.77 18.9825 L1363.77 9.54393 Z\" fill=\"#000000\" fill-rule=\"nonzero\" fill-opacity=\"1\" /><path clip-path=\"url(#clip610)\" d=\"M1422.14 35.9153 Q1424.94 30.8922 1428.83 28.5022 Q1432.72 26.1121 1437.98 26.1121 Q1445.07 26.1121 1448.92 31.0947 Q1452.77 36.0368 1452.77 45.1919 L1452.77 72.576 L1445.27 72.576 L1445.27 45.4349 Q1445.27 38.913 1442.97 35.7533 Q1440.66 32.5936 1435.92 32.5936 Q1430.12 32.5936 1426.76 36.4419 Q1423.4 40.2903 1423.4 46.9338 L1423.4 72.576 L1415.91 72.576 L1415.91 45.4349 Q1415.91 38.8725 1413.6 35.7533 Q1411.29 32.5936 1406.47 32.5936 Q1400.75 32.5936 1397.39 36.4824 Q1394.03 40.3308 1394.03 46.9338 L1394.03 72.576 L1386.54 72.576 L1386.54 27.2059 L1394.03 27.2059 L1394.03 34.2544 Q1396.58 30.082 1400.15 28.0971 Q1403.71 26.1121 1408.61 26.1121 Q1413.56 26.1121 1417 28.6237 Q1420.48 31.1352 1422.14 35.9153 Z\" fill=\"#000000\" fill-rule=\"nonzero\" fill-opacity=\"1\" /><path clip-path=\"url(#clip610)\" d=\"M1467.64 27.2059 L1475.09 27.2059 L1475.09 72.576 L1467.64 72.576 L1467.64 27.2059 M1467.64 9.54393 L1475.09 9.54393 L1475.09 18.9825 L1467.64 18.9825 L1467.64 9.54393 Z\" fill=\"#000000\" fill-rule=\"nonzero\" fill-opacity=\"1\" /><path clip-path=\"url(#clip610)\" d=\"M1519.61 28.5427 L1519.61 35.5912 Q1516.45 33.9709 1513.05 33.1607 Q1509.64 32.3505 1506 32.3505 Q1500.45 32.3505 1497.65 34.0519 Q1494.9 35.7533 1494.9 39.156 Q1494.9 41.7486 1496.88 43.2475 Q1498.87 44.7058 1504.86 46.0426 L1507.42 46.6097 Q1515.35 48.3111 1518.68 51.4303 Q1522.04 54.509 1522.04 60.0587 Q1522.04 66.3781 1517.02 70.0644 Q1512.03 73.7508 1503.28 73.7508 Q1499.64 73.7508 1495.67 73.0216 Q1491.74 72.3329 1487.36 70.9151 L1487.36 63.2184 Q1491.5 65.3654 1495.51 66.4591 Q1499.52 67.5124 1503.45 67.5124 Q1508.71 67.5124 1511.55 65.73 Q1514.38 63.9071 1514.38 60.6258 Q1514.38 57.5877 1512.32 55.9673 Q1510.29 54.3469 1503.36 52.8481 L1500.77 52.2405 Q1493.84 50.7821 1490.77 47.7845 Q1487.69 44.7463 1487.69 39.4801 Q1487.69 33.0797 1492.22 29.5959 Q1496.76 26.1121 1505.11 26.1121 Q1509.24 26.1121 1512.88 26.7198 Q1516.53 27.3274 1519.61 28.5427 Z\" fill=\"#000000\" fill-rule=\"nonzero\" fill-opacity=\"1\" /><path clip-path=\"url(#clip610)\" d=\"M1554.53 49.7694 Q1545.49 49.7694 1542.01 51.8354 Q1538.53 53.9013 1538.53 58.8839 Q1538.53 62.8538 1541.12 65.2034 Q1543.75 67.5124 1548.25 67.5124 Q1554.45 67.5124 1558.17 63.1374 Q1561.94 58.7219 1561.94 51.4303 L1561.94 49.7694 L1554.53 49.7694 M1569.39 46.6907 L1569.39 72.576 L1561.94 72.576 L1561.94 65.6895 Q1559.39 69.8214 1555.58 71.8063 Q1551.77 73.7508 1546.26 73.7508 Q1539.3 73.7508 1535.16 69.8619 Q1531.07 65.9325 1531.07 59.3701 Q1531.07 51.7138 1536.18 47.825 Q1541.32 43.9361 1551.49 43.9361 L1561.94 43.9361 L1561.94 43.2069 Q1561.94 38.0623 1558.54 35.2672 Q1555.18 32.4315 1549.06 32.4315 Q1545.17 32.4315 1541.48 33.3632 Q1537.8 34.295 1534.39 36.1584 L1534.39 29.2718 Q1538.49 27.692 1542.33 26.9223 Q1546.18 26.1121 1549.83 26.1121 Q1559.67 26.1121 1564.53 31.2163 Q1569.39 36.3204 1569.39 46.6907 Z\" fill=\"#000000\" fill-rule=\"nonzero\" fill-opacity=\"1\" /><path clip-path=\"url(#clip610)\" d=\"M1592.12 14.324 L1592.12 27.2059 L1607.47 27.2059 L1607.47 32.9987 L1592.12 32.9987 L1592.12 57.6282 Q1592.12 63.1779 1593.62 64.7578 Q1595.16 66.3376 1599.82 66.3376 L1607.47 66.3376 L1607.47 72.576 L1599.82 72.576 Q1591.19 72.576 1587.91 69.3758 Q1584.63 66.1351 1584.63 57.6282 L1584.63 32.9987 L1579.16 32.9987 L1579.16 27.2059 L1584.63 27.2059 L1584.63 14.324 L1592.12 14.324 Z\" fill=\"#000000\" fill-rule=\"nonzero\" fill-opacity=\"1\" /><path clip-path=\"url(#clip610)\" d=\"M1617.28 27.2059 L1624.73 27.2059 L1624.73 72.576 L1617.28 72.576 L1617.28 27.2059 M1617.28 9.54393 L1624.73 9.54393 L1624.73 18.9825 L1617.28 18.9825 L1617.28 9.54393 Z\" fill=\"#000000\" fill-rule=\"nonzero\" fill-opacity=\"1\" /><path clip-path=\"url(#clip610)\" d=\"M1657.91 32.4315 Q1651.91 32.4315 1648.43 37.1306 Q1644.94 41.7891 1644.94 49.9314 Q1644.94 58.0738 1648.39 62.7728 Q1651.87 67.4314 1657.91 67.4314 Q1663.86 67.4314 1667.34 62.7323 Q1670.83 58.0333 1670.83 49.9314 Q1670.83 41.8701 1667.34 37.1711 Q1663.86 32.4315 1657.91 32.4315 M1657.91 26.1121 Q1667.63 26.1121 1673.18 32.4315 Q1678.73 38.7509 1678.73 49.9314 Q1678.73 61.0714 1673.18 67.4314 Q1667.63 73.7508 1657.91 73.7508 Q1648.14 73.7508 1642.59 67.4314 Q1637.08 61.0714 1637.08 49.9314 Q1637.08 38.7509 1642.59 32.4315 Q1648.14 26.1121 1657.91 26.1121 Z\" fill=\"#000000\" fill-rule=\"nonzero\" fill-opacity=\"1\" /><path clip-path=\"url(#clip610)\" d=\"M1728.8 45.1919 L1728.8 72.576 L1721.34 72.576 L1721.34 45.4349 Q1721.34 38.994 1718.83 35.7938 Q1716.32 32.5936 1711.3 32.5936 Q1705.26 32.5936 1701.78 36.4419 Q1698.29 40.2903 1698.29 46.9338 L1698.29 72.576 L1690.8 72.576 L1690.8 27.2059 L1698.29 27.2059 L1698.29 34.2544 Q1700.97 30.163 1704.57 28.1376 Q1708.22 26.1121 1712.96 26.1121 Q1720.78 26.1121 1724.79 30.9732 Q1728.8 35.7938 1728.8 45.1919 Z\" fill=\"#000000\" fill-rule=\"nonzero\" fill-opacity=\"1\" /><polyline clip-path=\"url(#clip612)\" style=\"stroke:#009af9; stroke-linecap:round; stroke-linejoin:round; stroke-width:4; stroke-opacity:1; fill:none\" points=\"345.82,160.256 365.502,552.65 385.184,806.077 404.865,955.912 424.547,1039.05 444.228,1090 463.91,1130.18 483.592,1167.6 503.273,1202.06 522.955,1230.14 542.637,1248.88 562.318,1258.16 582,1261.07 601.681,1262.22 621.363,1265.48 641.045,1272.88 660.726,1284.56 680.408,1299.39 700.09,1315.63 719.771,1331.46 739.453,1345.29 759.135,1356.08 778.816,1363.64 798.498,1368.61 818.179,1372.07 837.861,1375 857.543,1377.76 877.224,1380.12 896.906,1381.6 916.588,1381.87 936.269,1380.98 955.951,1379.39 975.632,1377.72 995.314,1376.6 1015,1376.38 1034.68,1377.03 1054.36,1378.14 1074.04,1379.22 1093.72,1379.94 1113.4,1380.3 1133.09,1380.58 1152.77,1381.05 1172.45,1381.85 1192.13,1382.86 1211.81,1383.86 1231.49,1384.61 1251.18,1385.01 1270.86,1385.09 1290.54,1385.03 1310.22,1385.01 1329.9,1385.11 1349.58,1385.28 1369.26,1385.4 1388.95,1385.38 1408.63,1385.25 1428.31,1385.09 1447.99,1385.01 1467.67,1385.04 1487.35,1385.16 1507.04,1385.3 1526.72,1385.4 1546.4,1385.44 1566.08,1385.46 1585.76,1385.5 1605.44,1385.59 1625.13,1385.71 1644.81,1385.81 1664.49,1385.87 1684.17,1385.89 1703.85,1385.89 1723.53,1385.9 1743.22,1385.93 1762.9,1385.97 1782.58,1386.01 1802.26,1386.02 1821.94,1386.02 1841.62,1386.03 1861.31,1386.04 1880.99,1386.08 1900.67,1386.11 1920.35,1386.14 1940.03,1386.15 1959.71,1386.16 1979.4,1386.18 1999.08,1386.2 2018.76,1386.22 2038.44,1386.24 2058.12,1386.26 2077.8,1386.26 2097.49,1386.27 2117.17,1386.28 2136.85,1386.3 2156.53,1386.31 2176.21,1386.32 2195.89,1386.33 2215.57,1386.34 2235.26,1386.36 2254.94,1386.37 2274.62,1386.38 2294.3,1386.4 \"/>\n",
       "<path clip-path=\"url(#clip610)\" d=\"M2024.94 270.476 L2283.91 270.476 L2283.91 166.796 L2024.94 166.796  Z\" fill=\"#ffffff\" fill-rule=\"evenodd\" fill-opacity=\"1\"/>\n",
       "<polyline clip-path=\"url(#clip610)\" style=\"stroke:#000000; stroke-linecap:round; stroke-linejoin:round; stroke-width:4; stroke-opacity:1; fill:none\" points=\"2024.94,270.476 2283.91,270.476 2283.91,166.796 2024.94,166.796 2024.94,270.476 \"/>\n",
       "<polyline clip-path=\"url(#clip610)\" style=\"stroke:#009af9; stroke-linecap:round; stroke-linejoin:round; stroke-width:4; stroke-opacity:1; fill:none\" points=\"2047.89,218.636 2185.58,218.636 \"/>\n",
       "<path clip-path=\"url(#clip610)\" d=\"M2222.37 238.323 Q2220.57 242.953 2218.85 244.365 Q2217.14 245.777 2214.27 245.777 L2210.87 245.777 L2210.87 242.212 L2213.37 242.212 Q2215.13 242.212 2216.1 241.379 Q2217.07 240.545 2218.25 237.443 L2219.02 235.499 L2208.53 209.99 L2213.04 209.99 L2221.15 230.268 L2229.25 209.99 L2233.76 209.99 L2222.37 238.323 Z\" fill=\"#000000\" fill-rule=\"nonzero\" fill-opacity=\"1\" /><path clip-path=\"url(#clip610)\" d=\"M2241.05 231.981 L2248.69 231.981 L2248.69 205.615 L2240.38 207.282 L2240.38 203.022 L2248.65 201.356 L2253.32 201.356 L2253.32 231.981 L2260.96 231.981 L2260.96 235.916 L2241.05 235.916 L2241.05 231.981 Z\" fill=\"#000000\" fill-rule=\"nonzero\" fill-opacity=\"1\" /></svg>\n"
      ],
      "text/html": [
       "<img src=\"data:image/png;base64,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\" />"
      ]
     },
     "metadata": {},
     "output_type": "display_data"
    }
   ],
   "source": [
    "J_CDR = -2.0\n",
    "G_CDR = -1.0\n",
    "opt_thetas_target, opt_energy_gd = target_optimization(nq,nl,repartition, circuit;J=J_CDR,G=G_CDR, max_freq=Inf, max_weight=Inf, verbose = true);"
   ]
  },
  {
   "cell_type": "code",
   "execution_count": 14,
   "id": "22c5a577",
   "metadata": {},
   "outputs": [
    {
     "data": {
      "text/plain": [
       "446.80439554128463"
      ]
     },
     "metadata": {},
     "output_type": "display_data"
    }
   ],
   "source": [
    "sq_exp_energy = fulllossfunction(opt_thetas_target, circuit, nq;J=J_CDR,G=G_CDR)^2"
   ]
  },
  {
   "cell_type": "code",
   "execution_count": 15,
   "id": "19b48aaf",
   "metadata": {},
   "outputs": [
    {
     "data": {
      "text/plain": [
       "446.81729416598125 + 0.0im"
      ]
     },
     "metadata": {},
     "output_type": "display_data"
    }
   ],
   "source": [
    "fulllossfunction_H2(opt_thetas_target, circuit, nq; J=J_CDR, G=G_CDR)"
   ]
  },
  {
   "cell_type": "code",
   "execution_count": 16,
   "id": "df0ad62a",
   "metadata": {},
   "outputs": [
    {
     "data": {
      "text/plain": [
       "0.012898624696617844 + 0.0im"
      ]
     },
     "metadata": {},
     "output_type": "display_data"
    }
   ],
   "source": [
    "varE = fulllossfunction_H2(opt_thetas_target, circuit, nq; J=J_CDR, G=G_CDR) - sq_exp_energy"
   ]
  },
  {
   "cell_type": "code",
   "execution_count": 17,
   "id": "9013c6fe",
   "metadata": {},
   "outputs": [
    {
     "data": {
      "text/plain": [
       "6.461130794350512e-7 + 0.0im"
      ]
     },
     "metadata": {},
     "output_type": "display_data"
    }
   ],
   "source": [
    "E_inf = 0 # energy shift of Hamiltonian (vscore invariant under shift)\n",
    "vscore = varE*nq/(sq_exp_energy-E_inf)^2"
   ]
  }
 ],
 "metadata": {
  "kernelspec": {
   "display_name": "Julia 1.11.5",
   "language": "julia",
   "name": "julia-1.11"
  },
  "language_info": {
   "file_extension": ".jl",
   "mimetype": "application/julia",
   "name": "julia",
   "version": "1.11.5"
  }
 },
 "nbformat": 4,
 "nbformat_minor": 5
}
