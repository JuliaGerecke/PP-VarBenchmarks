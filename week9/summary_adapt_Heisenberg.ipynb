{
 "cells": [
  {
   "cell_type": "markdown",
   "id": "52d81cc1",
   "metadata": {},
   "source": [
    "### GSS with adaptVQE for Heisenberg Hamiltonian\n",
    "Main changes:\n",
    "- calc_gradients function for operator pool gradients runs faster (changed order of computation)\n",
    "- comparison for different truncations added (similar to PP (Classically estim. obs...)paper)\n",
    "\n",
    "Future improvements:\n",
    "- ForwardDiff gradient calculation for operator pool (actual gradient of truncated evolution, not the physically correct formula(BCH))\n",
    "\n",
    "- SPSA-ADAM optimizer, which only needs 2 function evaluations per gradient calculation (same as in HVA paper - GSS with PP) --> if this works great, we can skip the next 2 steps\n",
    "- use Mooncake backend and thus min_abs_coeff truncations as opposed to max_freq (max freq is only justified for small parameters, due to accumulated sign terms, here we are not in the small angle regime)\n",
    "- have a Base.Threads option, which paralellizes the for loop on CPU cores (either RD or Mooncake)\n",
    "- ThreadsX parallelisation in the lossfunction (term wise propagation of H)"
   ]
  },
  {
   "cell_type": "code",
   "execution_count": null,
   "id": "129c69b4",
   "metadata": {},
   "outputs": [],
   "source": [
    "using PauliPropagation\n",
    "using Plots\n",
    "using ReverseDiff\n",
    "using ReverseDiff: GradientTape, gradient!, compile, gradient\n",
    "using Bits\n",
    "using Random\n",
    "using Distributions: Uniform\n",
    "using NLopt\n",
    "import ForwardDiff"
   ]
  },
  {
   "cell_type": "markdown",
   "id": "8b9d5d7a",
   "metadata": {
    "vscode": {
     "languageId": "julia"
    }
   },
   "source": [
    "### 0) System and Initial State Construction"
   ]
  },
  {
   "cell_type": "code",
   "execution_count": null,
   "id": "74af9439",
   "metadata": {},
   "outputs": [],
   "source": [
    "# Heisenberg Hamiltonian ready to be used in lossfunctions\n",
    "# keep topology as main argument to avoid forgetting it\n",
    "function heisenberg_hamiltonian(::Type{CT}, nq::Int, topology; J=1.0) where CT\n",
    "    \n",
    "    psum = PauliSum(CT,nq)\n",
    "    Jc = convert(CT, J)\n",
    "    if isnothing(topology)\n",
    "        topology = bricklayertopology(nq;periodic=false) #chain with obc\n",
    "    end\n",
    "\n",
    "    for pair in topology\n",
    "        add!(psum, [:X,:X], collect(pair), Jc)\n",
    "        add!(psum, [:Y,:Y], collect(pair), Jc)\n",
    "        add!(psum, [:Z,:Z], collect(pair), Jc)\n",
    "    end\n",
    "    return psum\n",
    "end\n",
    "# add type default\n",
    "heisenberg_hamiltonian(nq::Int, topology; J=1.0) = heisenberg_hamiltonian(Float64, nq, topology; J=J)"
   ]
  },
  {
   "cell_type": "code",
   "execution_count": null,
   "id": "680e3c71",
   "metadata": {},
   "outputs": [],
   "source": [
    "nq = 3\n",
    "topology = bricklayertopology(nq;periodic=false)\n",
    "heisenberg_hamiltonian(nq, topology; J=1.0)"
   ]
  },
  {
   "cell_type": "code",
   "execution_count": null,
   "id": "1c4df511",
   "metadata": {},
   "outputs": [],
   "source": [
    "function neel_bits(nq::Int; up_on_odd::Bool=true)\n",
    "    if up_on_odd\n",
    "        # |0101...> → \"1\" on even sites\n",
    "        return collect(2:2:nq)\n",
    "    else\n",
    "        # |1010...> → \"1\" on odd sites\n",
    "        return collect(1:2:nq)\n",
    "    end\n",
    "end"
   ]
  },
  {
   "cell_type": "code",
   "execution_count": null,
   "id": "3e0b0c5d",
   "metadata": {},
   "outputs": [],
   "source": [
    "@time grads = calc_gradients_phys(generate_full_bit_pool(nq), heisenberg_hamiltonian(nq, topology; J=1.0), nq; verbose=false)"
   ]
  },
  {
   "cell_type": "code",
   "execution_count": null,
   "id": "785ab1f0",
   "metadata": {},
   "outputs": [],
   "source": [
    "# example usage:\n",
    "neel_bits(10; up_on_odd=true)"
   ]
  },
  {
   "cell_type": "code",
   "execution_count": null,
   "id": "ca5daf5d",
   "metadata": {},
   "outputs": [],
   "source": [
    "# customized overlap function\n",
    "# since we are in the Heisenberg picture, we propagate observables and in the final step, calculate the overlap with the initial state\n",
    "function overlapwithneel(operator, nq::Int; \n",
    "                           up_on_odd::Bool=true, \n",
    "                           params=nothing)\n",
    "                           \n",
    "    # Create Néel state bit representation: indices of \"1\" bits\n",
    "    nb = neel_bits(nq; up_on_odd=up_on_odd)\n",
    "    \n",
    "    # Compute overlap with computational basis state\n",
    "    return overlapwithcomputational(operator, nb)\n",
    "end"
   ]
  },
  {
   "cell_type": "markdown",
   "id": "6ee21cde",
   "metadata": {},
   "source": [
    "### 1) Full Operator Pool (Hamiltonian-Independent)"
   ]
  },
  {
   "cell_type": "code",
   "execution_count": null,
   "id": "c63d70b1",
   "metadata": {},
   "outputs": [],
   "source": [
    "function generate_full_bit_pool(nq::Int)\n",
    "    # Choose appropriate UInt type based on number of qubits (same as PP does)\n",
    "    # Work with bit representations directly (easier to manipulate)\n",
    "    UIntType = if nq <= 4\n",
    "        UInt8\n",
    "    elseif nq <= 8\n",
    "        UInt16\n",
    "    elseif nq <= 16\n",
    "        UInt32\n",
    "    else\n",
    "        UInt64\n",
    "    end\n",
    "    \n",
    "    # Here, we generate all non-identity bit patterns (therefore -1), which gives the full operator pool.\n",
    "    pool = UIntType[]\n",
    "    for i in 1:(4^nq - 1)\n",
    "        push!(pool, UIntType(i))\n",
    "    end\n",
    "    \n",
    "    return pool\n",
    "end"
   ]
  },
  {
   "cell_type": "code",
   "execution_count": null,
   "id": "c6d52ce6",
   "metadata": {},
   "outputs": [],
   "source": [
    "# Function to convert bit representation to PauliString when needed\n",
    "function bit_to_paulistring(bit_repr, nq)\n",
    "    paulis = Symbol[]\n",
    "    sites = Int[]\n",
    "    \n",
    "    for qubit in 1:nq #going from right to left in bitstring\n",
    "        pauli_val = getpauli(bit_repr, qubit) # get pauli of qubit as 0,1,2,3\n",
    "        #println(\"Qubit $qubit: Pauli value = $pauli_val\")\n",
    "        if pauli_val != 0  # Skip identity (0) since Paulis are initialised as identity by default\n",
    "            pauli_symbol = [:I, :X, :Y, :Z][pauli_val + 1] # julia indexing starts at 1!\n",
    "            push!(paulis, pauli_symbol)\n",
    "            push!(sites, qubit)\n",
    "        end\n",
    "    end\n",
    "    \n",
    "    return PauliString(nq, paulis, sites, 1.0), paulis, sites\n",
    "end"
   ]
  },
  {
   "cell_type": "markdown",
   "id": "6f97bc3e",
   "metadata": {},
   "source": [
    "### 2) AdaptVQE Elements and Tests"
   ]
  },
  {
   "cell_type": "code",
   "execution_count": null,
   "id": "4262422f",
   "metadata": {},
   "outputs": [],
   "source": [
    "\"\"\"\n",
    "    calc_gradients(bit_pool, H, nq;\n",
    "                   circuit=nothing, params=nothing,\n",
    "                   tol=1e-12, verbose=false, up_on_odd=true)\n",
    "\n",
    "ADAPT-VQE gradients with in-place propagation:\n",
    "g_P = ⟨φ₀ | [U† H U, U† P U] i | φ₀⟩, where |φ₀⟩ is the Néel state\n",
    "selected by `up_on_odd`.\n",
    "\"\"\"\n",
    "function calc_gradients(bit_pool, H, nq;\n",
    "                        circuit::Union{Nothing,Any}=nothing,\n",
    "                        params::Union{Nothing,AbstractVector}=nothing,\n",
    "                        tol::Float64=1e-12,\n",
    "                        verbose::Bool=false,\n",
    "                        up_on_odd::Bool=true)\n",
    "\n",
    "    grads = Float64[]\n",
    "\n",
    "    # Pre-propagate H once: H_prop = U† H U (only if a circuit is provided)\n",
    "    H_prop = H\n",
    "    if circuit !== nothing\n",
    "        H_prop = deepcopy(H)                 # avoid mutating H\n",
    "        propagate!(circuit, H_prop, params)  # in-place propagation\n",
    "    end\n",
    "\n",
    "    # For each pool element, pre-propagate P (to P_prop) and form [H_prop, P_prop]\n",
    "    for (k, bit_repr) in enumerate(bit_pool)\n",
    "        P= bit_to_paulistring(bit_repr, nq)[1]\n",
    "        psum = PauliSum(nq)\n",
    "        P = add!(psum, P) # PP works with PauliSums (see datatypes example notebook)\n",
    "\n",
    "        P_prop = P\n",
    "        if circuit !== nothing\n",
    "            P_prop = deepcopy(P)                 # avoid mutating the pool op\n",
    "            propagate!(circuit, P_prop, params)  # in-place propagation\n",
    "        end\n",
    "        \n",
    "        C = commutator(H_prop, P_prop) \n",
    "        if !(iterate(C) !== nothing)           # if the commutator is empty \n",
    "            verbose && println(\"op[$k]: \", P, \"  commutator=0  → grad=0.0\")\n",
    "            push!(grads, 0.0)\n",
    "            continue\n",
    "        end\n",
    "        g = overlapwithneel(im * C, nq; up_on_odd=up_on_odd)\n",
    "        if abs(imag(g)) > tol\n",
    "            @warn \"Gradient has non-negligible imaginary part\" imag=imag(g) op=P\n",
    "        end\n",
    "\n",
    "        push!(grads, real(g))\n",
    "        verbose && println(\"op[$k]: \", P, \"  grad=\", real(g))\n",
    "    end\n",
    "\n",
    "    return grads\n",
    "end"
   ]
  },
  {
   "cell_type": "code",
   "execution_count": null,
   "id": "75684e79",
   "metadata": {},
   "outputs": [],
   "source": [
    "# an equivalent formulation with the commutator, with slight reordering of terms (time benchmark to do)\n",
    "\"\"\"\n",
    "    calc_gradients_phys(bit_pool, H, nq;\n",
    "                   circuit=nothing, params=nothing,\n",
    "                   tol=1e-12, verbose=false, up_on_odd=true)\n",
    "\n",
    "ADAPT-VQE gradients with in-place propagation:\n",
    "g_P = i * ⟨φ₀ | U_ansatz† [H, P] U_ansatz | φ₀⟩, where |φ₀⟩ is the Néel state\n",
    "selected by `up_on_odd`.\n",
    "\"\"\"\n",
    "function calc_gradients_phys(bit_pool, H, nq;\n",
    "                        circuit::Union{Nothing,Any}=nothing,\n",
    "                        params::Union{Nothing,AbstractVector}=nothing,\n",
    "                        tol::Float64=1e-12,\n",
    "                        verbose::Bool=false,\n",
    "                        up_on_odd::Bool=true)\n",
    "\n",
    "    grads = Float64[]\n",
    "\n",
    "    for (k, bit_repr) in enumerate(bit_pool)\n",
    "        P_op, _, _ = bit_to_paulistring(bit_repr, nq)\n",
    "        P = PauliSum(nq)\n",
    "        add!(P, P_op)\n",
    "\n",
    "        # Calculate the commutator with the original Hamiltonian\n",
    "        C = commutator(H, P)\n",
    "\n",
    "        if !(iterate(C) !== nothing) # if the commutator is empty\n",
    "            verbose && println(\"op[$k]: \", P, \"  commutator=0  → grad=0.0\")\n",
    "            push!(grads, 0.0)\n",
    "            continue\n",
    "        end\n",
    "\n",
    "        # Propagate the commutator through the circuit if it exists\n",
    "        C_prop = C\n",
    "        if circuit !== nothing\n",
    "            C_prop = deepcopy(C)\n",
    "            propagate!(circuit, C_prop, params)\n",
    "        end\n",
    "\n",
    "        # Calculate the gradient as the expectation value of the propagated commutator\n",
    "        g = overlapwithneel(im * C_prop, nq; up_on_odd=up_on_odd)\n",
    "\n",
    "        if abs(imag(g)) > tol\n",
    "            @warn \"Gradient has non-negligible imaginary part\" imag=imag(g) op=P\n",
    "        end\n",
    "\n",
    "        push!(grads, real(g))\n",
    "        verbose && println(\"op[$k]: \", P, \"  grad=\", real(g))\n",
    "    end\n",
    "\n",
    "    return grads\n",
    "end"
   ]
  },
  {
   "cell_type": "code",
   "execution_count": null,
   "id": "ca34e576",
   "metadata": {},
   "outputs": [],
   "source": [
    "# example usage\n",
    "topo = bricklayertopology(nq;periodic=false)\n",
    "grads = calc_gradients_phys(generate_full_bit_pool(nq), heisenberg_hamiltonian(nq, topo), nq; verbose=false, up_on_odd=true)"
   ]
  },
  {
   "cell_type": "code",
   "execution_count": null,
   "id": "206981cb",
   "metadata": {},
   "outputs": [],
   "source": [
    "function pick_top_operator(gradients::AbstractVector, operators::AbstractVector; rng=Random.GLOBAL_RNG)\n",
    "    length(gradients) == length(operators) || throw(ArgumentError(\"gradients and operators must have same length\"))\n",
    "    isempty(gradients) && throw(ArgumentError(\"gradients must not be empty\"))\n",
    "    \n",
    "    mags = abs.(gradients)\n",
    "    order = sortperm(mags, rev=true)  # indices sorted by |grad| descending (following the nature paper implementation)\n",
    "    gradients_sorted = gradients[order]\n",
    "    operators_sorted = operators[order]\n",
    "\n",
    "    max_mag = mags[order[1]]\n",
    "    tied_top = filter(i -> mags[i] == max_mag, order)\n",
    "\n",
    "    chosen_idx = rand(rng, tied_top)\n",
    "\n",
    "    return operators[chosen_idx], gradients[chosen_idx], gradients_sorted, operators_sorted\n",
    "end"
   ]
  },
  {
   "cell_type": "code",
   "execution_count": null,
   "id": "907faa35",
   "metadata": {},
   "outputs": [],
   "source": [
    "# example usage:\n",
    "top_op, top_grad, grads_sorted, ops_sorted = pick_top_operator(grads, generate_full_bit_pool(nq))\n",
    "println(\"Top operator: \", bit_to_paulistring(top_op,nq)[1], \" with gradient \", top_grad)\n",
    "println(\"Top gradient: \", grads_sorted) # we ignore the signs when sorting"
   ]
  },
  {
   "cell_type": "code",
   "execution_count": null,
   "id": "daab7ef8",
   "metadata": {},
   "outputs": [],
   "source": [
    "function check_convergence(gradients; tol=1e-4)\n",
    "    max_grad = maximum(abs.(gradients))\n",
    "    return max_grad < tol, max_grad\n",
    "end"
   ]
  },
  {
   "cell_type": "code",
   "execution_count": null,
   "id": "290de254",
   "metadata": {},
   "outputs": [],
   "source": [
    "# example usage:\n",
    "check_convergence(grads; tol=1e-4)"
   ]
  },
  {
   "cell_type": "code",
   "execution_count": null,
   "id": "e9e39299",
   "metadata": {},
   "outputs": [],
   "source": [
    "function pauli_rotation_from_bits(bit_repr, nq)\n",
    "    _, paulis, sites = bit_to_paulistring(bit_repr, nq) \n",
    "    return PauliRotation(paulis, sites)\n",
    "end"
   ]
  },
  {
   "cell_type": "code",
   "execution_count": null,
   "id": "4ebb7e1b",
   "metadata": {},
   "outputs": [],
   "source": [
    "# example usage:\n",
    "pauli_rotation_from_bits(top_op,nq)"
   ]
  },
  {
   "cell_type": "code",
   "execution_count": null,
   "id": "10de8756",
   "metadata": {},
   "outputs": [],
   "source": [
    "function append_from_bits!(circuit, thetas, chose_op, nq; theta_init=rand())\n",
    "    gate = pauli_rotation_from_bits(chose_op, nq)\n",
    "    push!(circuit, gate) # not pushfirst! since we want to apply new gate last (Schrödinger!!)\n",
    "    push!(thetas, theta_init) # we warm-start the parameters of the new circuit (reusing thetas)\n",
    "    return circuit, thetas    # index of the new parameter\n",
    "end"
   ]
  },
  {
   "cell_type": "code",
   "execution_count": null,
   "id": "99e6e59c",
   "metadata": {},
   "outputs": [],
   "source": [
    "# example usage:\n",
    "circuit = Any[]      # initialize the adaptVQE circuit\n",
    "thetas  = Float64[]  # initialize the parameter list\n",
    "circuit, thetas = append_from_bits!(circuit,thetas,top_op,nq; theta_init = 0.2)"
   ]
  },
  {
   "cell_type": "markdown",
   "id": "d49e2d65",
   "metadata": {},
   "source": [
    "### 3) Loss functions and Closures\n",
    "If we use L-BFGS optimizer, we have several options:\n",
    "- DONE: ReverseDiff lossfunction (with frequency tracker - as previously done)\n",
    "- Mooncake lossfunction (with min_abs_coeff, this makes more sense since the max_freq truncation is justified for small angles only), small coefficients just contribute less to the final expectation value\n",
    "\n",
    "For both versions, we can either thread the for-loop of the full loss function or not. (TODO: compare runtimes for high enough load)\n",
    "\n",
    "There is also the alternative to use the ThreadsX package for more highlevel (further optimized) threading. This needs to be inbuilt in the optimizer.\n",
    "\n",
    "Alternatively, we can avoid the AD gradient calculation by using the SPSA-ADAM optimizer.\n",
    "\n",
    "Here, I'll put the SPSA-ADAM and an L-BFGS with ReverseDiff (no threading).\n",
    "The optimizer is chosen in the target_optimization function."
   ]
  },
  {
   "cell_type": "code",
   "execution_count": null,
   "id": "0075ec98",
   "metadata": {},
   "outputs": [],
   "source": [
    "function fulllossfunction(thetas, circuit, nq;topology = nothing, max_freq = Inf, max_weight = Inf)\n",
    "\n",
    "    if isnothing(topology)\n",
    "        topology = bricklayertopology(nq;periodic=false) #chain with obc\n",
    "    end\n",
    "\n",
    "    # differentiation libraries use custom types to trace through the computation\n",
    "    # we need to make all of our objects typed like that so that nothing breaks\n",
    "    CoeffType = eltype(thetas)\n",
    "\n",
    "    H = PauliSum(CoeffType, nq)\n",
    "\n",
    "    for pair in topology\n",
    "        add!(H, [:X,:X], collect(pair),CoeffType(1.0))\n",
    "        add!(H, [:Y,:Y], collect(pair),CoeffType(1.0))\n",
    "        add!(H, [:Z,:Z], collect(pair),CoeffType(1.0))\n",
    "    end\n",
    "\n",
    "    # wrap the coefficients into PauliFreqTracker so that we can use `max_freq` truncation.\n",
    "    # usually this happens automatically but the in-place propagate!() function does not allow that.\n",
    "    wrapped_H = wrapcoefficients(H, PauliFreqTracker)\n",
    "    \n",
    "    # we also need to run the in-place version with `!`, because by default we copy the Pauli sum\n",
    "    output_H = propagate!(circuit, wrapped_H, thetas; max_freq, max_weight);\n",
    "    return overlapwithneel(output_H,nq)\n",
    "end"
   ]
  },
  {
   "cell_type": "code",
   "execution_count": null,
   "id": "21acf970",
   "metadata": {},
   "outputs": [],
   "source": [
    "function adam_optimizer(thetas_init, lossfun, nq; eta=0.02, steps=150, refresh_grad_tape=10)\n",
    "    tape = GradientTape(lossfun, thetas_init)\n",
    "    compile(tape)\n",
    "    grad = similar(thetas_init)\n",
    "    thetas = copy(thetas_init)\n",
    "    opt_energy = Float64[]\n",
    "\n",
    "    m = zero(thetas)\n",
    "    v = zero(thetas)\n",
    "    β1, β2, ϵ = 0.9, 0.999, 1e-8\n",
    "\n",
    "    for t in 1:steps\n",
    "\n",
    "        if t%refresh_grad_tape == 0 # refresh the tape to avoid wrong gradients\n",
    "                tape = GradientTape(lossfun, thetas)\n",
    "                compile(tape)\n",
    "        end\n",
    "        gradient!(grad, tape, thetas)\n",
    "        m .= β1 .* m .+ (1 - β1) .* grad\n",
    "        v .= β2 .* v .+ (1 - β2) .* (grad .^ 2)\n",
    "        m̂ = m ./ (1 - β1^t)\n",
    "        v̂ = v ./ (1 - β2^t)\n",
    "        thetas .-= eta .* m̂ ./ (sqrt.(v̂) .+ ϵ)\n",
    "        push!(opt_energy, lossfun(thetas) / nq)\n",
    "    end\n",
    "    return thetas, opt_energy\n",
    "end\n"
   ]
  },
  {
   "cell_type": "code",
   "execution_count": null,
   "id": "6cd999bd",
   "metadata": {},
   "outputs": [],
   "source": [
    "function lbfgs_optimizer(thetas_init, lossfun, nq; max_iters=300, refresh_grad_tape=10)\n",
    "    n = length(thetas_init)\n",
    "    tape_ref = Ref(GradientTape(lossfun, thetas_init)) # Ref is only necessary in the LBFGS case because the closure otherwise can’t update an outer variable that NLopt is still using.\n",
    "    compile(tape_ref[])\n",
    "    gradbuf = zeros(n)\n",
    "    iter_ref = Ref(0)\n",
    "    opt = NLopt.Opt(:LD_LBFGS, n)\n",
    "    NLopt.maxeval!(opt, max_iters)\n",
    "\n",
    "    opt_energy = Float64[]\n",
    "    NLopt.min_objective!(opt, (x, grad) -> begin\n",
    "\n",
    "        iter_ref[] += 1\n",
    "        # Re-record the tape every `refresh_grad_tape` evaluations\n",
    "        # record with the current x so shapes/aliasing match\n",
    "        if refresh_grad_tape > 0 && (iter_ref[] % refresh_grad_tape == 0)\n",
    "            tape_ref[] = GradientTape(lossfun, x)\n",
    "            compile(tape_ref[])\n",
    "        end\n",
    "\n",
    "        fx = lossfun(x)::Float64\n",
    "        if !isempty(grad)\n",
    "            gradient!(gradbuf, tape_ref[], x)\n",
    "            grad .= gradbuf\n",
    "        end\n",
    "        push!(opt_energy, fx)\n",
    "        return fx\n",
    "    end)\n",
    "    minf, thetas, ret = NLopt.optimize(opt, thetas_init)\n",
    "    return thetas, opt_energy ./ nq\n",
    "end\n"
   ]
  },
  {
   "cell_type": "code",
   "execution_count": null,
   "id": "ad653fd7",
   "metadata": {},
   "outputs": [],
   "source": [
    "function target_optimization(nq, circuit, thetas; max_freq=Inf, max_weight=Inf, verbose = false, refresh_grad_tape=10)\n",
    "    # again, automatic diff example notebook for more details\n",
    "    closed_lossfunction = let const_nq=nq, const_max_freq=max_freq, const_max_weight=max_weight\n",
    "        # these are now all captured variables with known types and we return a function that only takes thetas s.t. ReverseDiff works\n",
    "        # See also \"closures\"\n",
    "        theta -> fulllossfunction(theta, circuit, const_nq; max_freq=const_max_freq, max_weight=const_max_weight)\n",
    "    end\n",
    "    \n",
    "    #opt_thetas, opt_energy_gd = adam_optimizer(thetas,closed_lossfunction,nq)\n",
    "    opt_thetas,opt_energy_gd = lbfgs_optimizer(thetas,closed_lossfunction,nq;refresh_grad_tape=refresh_grad_tape)\n",
    "    if verbose\n",
    "        println(\"Optimized thetas: \", opt_thetas)\n",
    "        println(\"Optimized energy per qubit: \", opt_energy_gd[end])\n",
    "\n",
    "        plot(opt_energy_gd)\n",
    "        display(plot!(title = \"Energy optimisation\", xlabel = \"runs\", ylabel = \"E/Q\"))\n",
    "    end\n",
    "\n",
    "    return opt_thetas, opt_energy_gd\n",
    "end"
   ]
  },
  {
   "cell_type": "markdown",
   "id": "acfdd82e",
   "metadata": {},
   "source": [
    "### 4) AdaptVQE Loop"
   ]
  },
  {
   "cell_type": "code",
   "execution_count": null,
   "id": "cce2535d",
   "metadata": {},
   "outputs": [],
   "source": [
    "function adaptVQE_loop(nq, hamiltonian, bit_pool; theta_init = rand(Uniform(-π, π)), max_iters=10, max_freq=Inf, max_weight=Inf, conv_tol=1e-4, refresh_grad_tape=10, verbose=true)\n",
    "    circuit = Any[]      # initialize the adaptVQE circuit\n",
    "    thetas  = Float64[]; # initialize the parameter list\n",
    "    energy_per_loop = Float64[];\n",
    "    max_grads = Float64[] # collect for analysis\n",
    "    chosen_ops = UInt[]\n",
    "\n",
    "    for iter in 1:max_iters\n",
    "\n",
    "        # 1) Calculate gradients\n",
    "     \n",
    "        grads = calc_gradients_phys(bit_pool, hamiltonian, nq; circuit=circuit, params=thetas, tol=1e-12, verbose=false, up_on_odd=true)\n",
    "\n",
    "        # 2) Check convergence\n",
    "        converged, max_grad = check_convergence(grads; tol=conv_tol)\n",
    "        push!(max_grads, max_grad)\n",
    "        \n",
    "        if converged\n",
    "            println(\"Convergence achieved with max gradient < $conv_tol\")\n",
    "            break\n",
    "        end\n",
    "\n",
    "        # 3) Pick top operator\n",
    "        chose_op, grad_op, grads_sorted, _ = pick_top_operator(grads, bit_pool)\n",
    "\n",
    "        push!(chosen_ops, chose_op)\n",
    "\n",
    "        # 4) Append operator to circuit\n",
    "        circuit, thetas = append_from_bits!(circuit, thetas, chose_op, nq; theta_init=theta_init) \n",
    "\n",
    "        # 5) Optimize parameters\n",
    "\n",
    "        thetas, opt_energy_gd = target_optimization(nq, circuit, thetas; max_freq=max_freq, max_weight=max_weight,verbose=false, refresh_grad_tape=refresh_grad_tape)\n",
    "    \n",
    "        \n",
    "        # wrap the thetas to [-π,π] since they are angles\n",
    "        thetas = rem2pi.(thetas,RoundNearest) # does not seem to help the optimization\n",
    "        push!(energy_per_loop, opt_energy_gd[end])\n",
    "    end\n",
    "\n",
    "    # 6) Plot the gradient convergence\n",
    "    if verbose\n",
    "        plot(max_grads, marker=:o)\n",
    "        display(plot!(title = \"Max Gradient Convergence\", xlabel = \"Iteration\", ylabel = \"Max Gradient\"))\n",
    "    end\n",
    "\n",
    "    return circuit, thetas, chosen_ops, energy_per_loop, max_grads\n",
    "end"
   ]
  },
  {
   "cell_type": "markdown",
   "id": "8d60f1aa",
   "metadata": {},
   "source": [
    "### Small Full Pool Run"
   ]
  },
  {
   "cell_type": "code",
   "execution_count": null,
   "id": "24a8bf51",
   "metadata": {},
   "outputs": [],
   "source": [
    "# we can run without truncations for small full pool\n",
    "nq = 3\n",
    "topo = bricklayertopology(nq;periodic=false)\n",
    "hamiltonian = heisenberg_hamiltonian(nq, topo)\n",
    "full_bit_pool = generate_full_bit_pool(nq)\n",
    "circuit, thetas, chosen_ops, energy_per_loop, max_grads = adaptVQE_loop(nq, hamiltonian, full_bit_pool;theta_init = rand(Uniform(-0.1,0.1)), max_iters=25, conv_tol=1e-4, verbose=false);"
   ]
  },
  {
   "cell_type": "code",
   "execution_count": null,
   "id": "e50055dd",
   "metadata": {},
   "outputs": [],
   "source": [
    "println(\"size of full bit pool: \", size(full_bit_pool))"
   ]
  },
  {
   "cell_type": "code",
   "execution_count": null,
   "id": "63a65d53",
   "metadata": {},
   "outputs": [],
   "source": [
    "println(\"Final thetas: \", thetas)"
   ]
  },
  {
   "cell_type": "code",
   "execution_count": null,
   "id": "640029f3",
   "metadata": {},
   "outputs": [],
   "source": [
    "energy_per_loop # -1.333 is the ED result for 3 qubits, -1.6160254 ED for 4 qubits, -1.54230900265439 for 5 qubits."
   ]
  },
  {
   "cell_type": "code",
   "execution_count": null,
   "id": "15a4b917",
   "metadata": {},
   "outputs": [],
   "source": [
    "plot(energy_per_loop, marker=:o)\n",
    "plot!(title = \"Energy per qubit convergence\", xlabel = \"ADAPT-VQE Iteration\", ylabel = \"E/Q\")"
   ]
  },
  {
   "cell_type": "markdown",
   "id": "025865c3",
   "metadata": {},
   "source": [
    "### 5) Tiles Approach"
   ]
  },
  {
   "cell_type": "code",
   "execution_count": null,
   "id": "a6451729",
   "metadata": {},
   "outputs": [],
   "source": [
    "function scaled_pool_selection(nq, hamiltonian, full_bit_pool; num_runs=5, run_iters=5, conv_tol=1e-4, refresh_grad_tape=10, verbose=false)\n",
    "    all_chosen_ops = UInt[]\n",
    "    for run in 1:num_runs\n",
    "        #println(\"=== ADAPT-VQE Run $run ===\")\n",
    "        circuit, thetas, chosen_ops = adaptVQE_loop(nq, hamiltonian, full_bit_pool; max_iters=run_iters, conv_tol=conv_tol, verbose=verbose, refresh_grad_tape=refresh_grad_tape)\n",
    "        append!(all_chosen_ops, chosen_ops)\n",
    "    end\n",
    "    return unique(all_chosen_ops)  # Return unique operators from all runs\n",
    "end\n",
    "\n",
    "\n",
    "function scaled_pool_generation(tile_nq, scaled_nq,hamiltonian, full_bit_pool; num_runs=5, run_iters=5, conv_tol=1e-4, refresh_grad_tape=10, verbose=false)\n",
    "    #Choose appropriate UInt type based on number of qubits (same as PP does)\n",
    "        UIntType = if scaled_nq <= 4\n",
    "            UInt8\n",
    "        elseif scaled_nq <= 8\n",
    "            UInt16\n",
    "        elseif scaled_nq <= 16\n",
    "            UInt32\n",
    "        else\n",
    "            UInt64\n",
    "        end\n",
    "\n",
    "        chosen_ops = scaled_pool_selection(tile_nq, hamiltonian, full_bit_pool; num_runs=num_runs, run_iters=run_iters, conv_tol=conv_tol, refresh_grad_tape=refresh_grad_tape, verbose=verbose)\n",
    "        println(\"Chosen operators from tile ADAPT-VQE: \", length(chosen_ops))\n",
    "        scaled_pool = UIntType[]\n",
    "        for op in chosen_ops\n",
    "            ps, paulis, sites = bit_to_paulistring(op, tile_nq) \n",
    "            weight = length(paulis)\n",
    "            # Preserve the operator's internal geometry: compute zero-based relative offsets\n",
    "            min_site = minimum(sites)\n",
    "            rel_sites = sites .- min_site\n",
    "            block_span = maximum(rel_sites) + 1 # equivalent to block_span = maximum(sites) - minimum(sites) + \n",
    "        # Slide the block from left to right without wrapping (open boundaries)\n",
    "        for start in 1:(scaled_nq - block_span + 1)\n",
    "            new_sites = start .+ rel_sites  # keep internal offsets\n",
    "            new_op = PauliString(scaled_nq, paulis, collect(new_sites), 1.0)\n",
    "            push!(scaled_pool, (new_op.term))\n",
    "        end\n",
    "    end\n",
    "    return unique(scaled_pool)\n",
    "end"
   ]
  },
  {
   "cell_type": "markdown",
   "id": "0b368b9e",
   "metadata": {},
   "source": [
    "### Run AdaptVQE with new Pool"
   ]
  },
  {
   "cell_type": "code",
   "execution_count": null,
   "id": "960b4ed2",
   "metadata": {},
   "outputs": [],
   "source": [
    "# check the scaled pool generation\n",
    "tile_nq = 3\n",
    "scaled_nq = 15\n",
    "\n",
    "\n",
    "tile_full_bit_pool = generate_full_bit_pool(tile_nq)\n",
    "topo_tile = bricklayertopology(tile_nq;periodic=false)\n",
    "tile_hamiltonian = heisenberg_hamiltonian(tile_nq, topo_tile)\n",
    "\n",
    "scaled_pool = scaled_pool_generation(tile_nq, scaled_nq, tile_hamiltonian, tile_full_bit_pool; num_runs=15, run_iters=10, conv_tol=1e-2, verbose=false) \n",
    "# need approx. 15 runs to hit the 12 different operators \n",
    "# convert scaled pool to PauliStrings for printing\n",
    "topo_scaled = bricklayertopology(scaled_nq;periodic=false)\n",
    "scaled_hamiltonian = heisenberg_hamiltonian(scaled_nq, topo_scaled)\n",
    "# truncations\n",
    "max_freq = 10\n",
    "max_weight = 5\n",
    "\n",
    "circuit, thetas, chosen_ops, opt_energy_gd, max_grads = adaptVQE_loop(scaled_nq, scaled_hamiltonian, scaled_pool;theta_init = rand(Uniform(-pi,pi)), max_iters=30, conv_tol=1e-2, max_freq=max_freq, max_weight=max_weight, refresh_grad_tape=10, verbose=false\n",
    ");\n",
    "println(\"opt_energy_gd: \", opt_energy_gd)\n",
    "println(\"max grads: \" , max_grads)"
   ]
  },
  {
   "cell_type": "code",
   "execution_count": null,
   "id": "5ba6bc6e",
   "metadata": {},
   "outputs": [],
   "source": [
    "plot(max_grads, marker=:o)\n",
    "plot!(title = \"Max Gradient Convergence\", xlabel = \"ADAPT-VQE Iteration\", ylabel = \"Max Gradient\")"
   ]
  },
  {
   "cell_type": "code",
   "execution_count": null,
   "id": "6103f5b9",
   "metadata": {},
   "outputs": [],
   "source": [
    "plot(opt_energy_gd, marker=:o)\n",
    "display(plot!(title = \"Energy per qubit convergence\", xlabel = \"Iteration\", ylabel = \"E/Q\"))"
   ]
  },
  {
   "cell_type": "code",
   "execution_count": null,
   "id": "ebabccdd",
   "metadata": {},
   "outputs": [],
   "source": [
    "println(\"Final energy\", opt_energy_gd[end]*scaled_nq) # -1.616 is ED for 4 qubits, -1.54230900265439 for 5 qubits."
   ]
  },
  {
   "cell_type": "markdown",
   "id": "f06f9d42",
   "metadata": {},
   "source": [
    "This goes below the gs energy. But evaluate this with a higher truncation:"
   ]
  },
  {
   "cell_type": "code",
   "execution_count": null,
   "id": "73278fc3",
   "metadata": {},
   "outputs": [],
   "source": [
    "max_freq = 100\n",
    "max_weight = 4\n",
    "fulllossfunction(thetas, circuit, scaled_nq; max_freq=max_freq, max_weight=max_weight)"
   ]
  },
  {
   "cell_type": "markdown",
   "id": "decedd5b",
   "metadata": {},
   "source": [
    "### Comparison plot of weight truncations"
   ]
  },
  {
   "cell_type": "code",
   "execution_count": null,
   "id": "6364fbe8",
   "metadata": {},
   "outputs": [],
   "source": [
    "# check the scaled pool generation\n",
    "tile_nq = 3\n",
    "scaled_nq = 15\n",
    "\n",
    "\n",
    "tile_full_bit_pool = generate_full_bit_pool(tile_nq)\n",
    "topo_tile = bricklayertopology(tile_nq;periodic=false)\n",
    "tile_hamiltonian = heisenberg_hamiltonian(tile_nq, topo_tile)\n",
    "\n",
    "scaled_pool = scaled_pool_generation(tile_nq, scaled_nq, tile_hamiltonian, tile_full_bit_pool; num_runs=15, run_iters=10, conv_tol=1e-2, verbose=false) \n",
    "# need approx. 15 runs to hit the 12 different operators \n",
    "# convert scaled pool to PauliStrings for printing\n",
    "topo_scaled = bricklayertopology(scaled_nq;periodic=false)\n",
    "scaled_hamiltonian = heisenberg_hamiltonian(scaled_nq, topo_scaled)\n",
    "# truncations\n",
    "\n",
    "max_freq = 15\n",
    "max_weights = [2,3,4,5,6]\n",
    "max_grads_all = Dict{Int, Vector{Float64}}()\n",
    "opt_energy_all = Dict{Int, Vector{Float64}}()\n",
    "for max_weight in max_weights\n",
    "    println(\"=== Running adaptVQE with max_weight = $max_weight ===\")\n",
    "     circuit, thetas, chosen_ops, opt_energy_gd, max_grads = adaptVQE_loop(scaled_nq, scaled_hamiltonian, scaled_pool;theta_init = rand(Uniform(-pi,pi)), max_iters=40, conv_tol=1e-2, max_freq=max_freq, max_weight=max_weight, refresh_grad_tape=10, verbose=false\n",
    "    );\n",
    "    max_grads_all[max_weight] = max_grads\n",
    "    opt_energy_all[max_weight] = opt_energy_gd\n",
    "end"
   ]
  },
  {
   "cell_type": "code",
   "execution_count": null,
   "id": "3b347801",
   "metadata": {},
   "outputs": [],
   "source": [
    "exact_energy_per_qubit = -25.667/nq\n",
    "plot(max_weights, [opt_energy_all[w] for w in max_weights], label=\"Optimal Energy\", marker=:o)\n",
    "#plot!([1,maximum(max_weights)], [exact_energy_per_qubit, exact_energy_per_qubit], label=\"Exact Energy\", linestyle=:dash, color=:black)\n",
    "plot!(title = \"Energy per qubit convergence for different max_weight\", xlabel = \"ADAPT-VQE Iteration\", ylabel = \"E/Q\")"
   ]
  },
  {
   "cell_type": "code",
   "execution_count": null,
   "id": "7d883c32",
   "metadata": {},
   "outputs": [],
   "source": [
    "exact_energy_per_qubit = -25.667/scaled_nq\n",
    "# Create an empty plot to hold the results\n",
    "p = plot(title = \"Energy per qubit convergence for different max_weight\", \n",
    "         xlabel = \"ADAPT-VQE Iteration\", \n",
    "         ylabel = \"E/Q\")\n",
    "plot!([1,length(opt_energy_all[max_weights[1]])], [exact_energy_per_qubit, exact_energy_per_qubit], label=\"Exact Energy\", linestyle=:dash, color=:black)\n",
    "# Loop through each max_weight and add its energy curve to the plot\n",
    "for w in max_weights\n",
    "    plot!(p, opt_energy_all[w], label=\"max_weight = $w\", marker=:o)\n",
    "end\n",
    "\n",
    "# Display the final plot\n",
    "display(p)"
   ]
  },
  {
   "cell_type": "code",
   "execution_count": null,
   "id": "7ce0127b",
   "metadata": {},
   "outputs": [],
   "source": [
    "# gradients comparison plot\n",
    "p2 = plot(title = \"Max Gradient Convergence for different max_weight\", \n",
    "         xlabel = \"ADAPT-VQE Iteration\", \n",
    "         ylabel = \"Max Gradient\")\n",
    "for w in max_weights\n",
    "    plot!(p2, max_grads_all[w], label=\"max_weight = $w\", marker=:o)\n",
    "end\n",
    "\n",
    "# Display the final plot\n",
    "display(p2) "
   ]
  }
 ],
 "metadata": {
  "kernelspec": {
   "display_name": "Julia 1.11.5",
   "language": "julia",
   "name": "julia-1.11"
  },
  "language_info": {
   "file_extension": ".jl",
   "mimetype": "application/julia",
   "name": "julia",
   "version": "1.11.5"
  }
 },
 "nbformat": 4,
 "nbformat_minor": 5
}
