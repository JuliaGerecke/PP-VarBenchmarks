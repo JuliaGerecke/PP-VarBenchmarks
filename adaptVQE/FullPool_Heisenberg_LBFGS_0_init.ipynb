{
 "cells": [
  {
   "cell_type": "markdown",
   "id": "52d81cc1",
   "metadata": {},
   "source": [
    "# AdaptVQE for the Heisenberg Chain (obc) Hamiltonian\n",
    "### Relevant literature:\n",
    "- Basic adaptVQE algorithm (for fermionic systems) [[Grimsley et al., Nature 2019](https://www.nature.com/articles/s41467-019-10988-2)]\n",
    "- Expansion to qubits (via Jordan Wigner trafo) [[Tang et al., PRX Quantum 2021](https://journals.aps.org/prxquantum/abstract/10.1103/PRXQuantum.2.020310)]\n",
    "\n",
    "- Tile-based adaptVQE approach [[Dyke et al., Phys. Rev. Res. 2024](https://link.aps.org/doi/10.1103/PhysRevResearch.6.L012030)]\n",
    "\n",
    "\n",
    "### Main purpose is debugging:\n",
    "- for small systems nq=5, the full operator pool gradients stall. Hard to say if this is expectable (since Mafaldas code base dependencies are broken, I can't check- quspin (which version?))\n",
    "- but intuitively, as long as all calculations are accurate and feasible, the full operator pool should always be the best choice"
   ]
  },
  {
   "cell_type": "code",
   "execution_count": 32,
   "id": "129c69b4",
   "metadata": {},
   "outputs": [],
   "source": [
    "using PauliPropagation\n",
    "using Plots\n",
    "using ReverseDiff\n",
    "using ReverseDiff: GradientTape, gradient!, compile, gradient\n",
    "using Bits\n",
    "using Random\n",
    "using Distributions: Uniform\n",
    "using NLopt\n",
    "using Optim"
   ]
  },
  {
   "cell_type": "markdown",
   "id": "8b9d5d7a",
   "metadata": {
    "vscode": {
     "languageId": "julia"
    }
   },
   "source": [
    "### 0) System and Initial State Construction"
   ]
  },
  {
   "cell_type": "code",
   "execution_count": 2,
   "id": "1491fc9d",
   "metadata": {},
   "outputs": [
    {
     "data": {
      "text/plain": [
       "3"
      ]
     },
     "metadata": {},
     "output_type": "display_data"
    }
   ],
   "source": [
    "nq = 3"
   ]
  },
  {
   "cell_type": "code",
   "execution_count": 3,
   "id": "76f6d4e5",
   "metadata": {},
   "outputs": [
    {
     "data": {
      "text/plain": [
       "heisenberg_1d_obc (generic function with 1 method)"
      ]
     },
     "metadata": {},
     "output_type": "display_data"
    }
   ],
   "source": [
    "function heisenberg_1d_obc(nq::Int; topology = nothing)\n",
    "    \n",
    "    if isnothing(topology)\n",
    "        topology = bricklayertopology(nq;periodic=false) #chain with obc\n",
    "    end\n",
    "\n",
    "    H = PauliSum(nq)\n",
    "    for pair in topology\n",
    "        add!(H, [:X,:X], collect(pair),1.0)\n",
    "        add!(H, [:Y,:Y], collect(pair),1.0)\n",
    "        add!(H, [:Z,:Z], collect(pair),1.0)\n",
    "    end\n",
    "    return H\n",
    "end"
   ]
  },
  {
   "cell_type": "code",
   "execution_count": 4,
   "id": "c1ebd4ec",
   "metadata": {},
   "outputs": [
    {
     "data": {
      "text/plain": [
       "PauliSum(nqubits: 3, 6 Pauli terms:\n",
       " 1.0 * XXI\n",
       " 1.0 * ZZI\n",
       " 1.0 * IXX\n",
       " 1.0 * YYI\n",
       " 1.0 * IZZ\n",
       " 1.0 * IYY\n",
       ")"
      ]
     },
     "metadata": {},
     "output_type": "display_data"
    }
   ],
   "source": [
    "heisenberg_1d_obc(nq)"
   ]
  },
  {
   "cell_type": "code",
   "execution_count": 5,
   "id": "1c4df511",
   "metadata": {},
   "outputs": [
    {
     "data": {
      "text/plain": [
       "neel_bits (generic function with 1 method)"
      ]
     },
     "metadata": {},
     "output_type": "display_data"
    }
   ],
   "source": [
    "function neel_bits(nq::Int; up_on_odd::Bool=true)\n",
    "    if up_on_odd\n",
    "        # |0101...> → \"1\" on even sites\n",
    "        return collect(2:2:nq)\n",
    "    else\n",
    "        # |1010...> → \"1\" on odd sites\n",
    "        return collect(1:2:nq)\n",
    "    end\n",
    "end"
   ]
  },
  {
   "cell_type": "code",
   "execution_count": 6,
   "id": "785ab1f0",
   "metadata": {},
   "outputs": [
    {
     "data": {
      "text/plain": [
       "5-element Vector{Int64}:\n",
       "  2\n",
       "  4\n",
       "  6\n",
       "  8\n",
       " 10"
      ]
     },
     "metadata": {},
     "output_type": "display_data"
    }
   ],
   "source": [
    "# example usage:\n",
    "neel_bits(10; up_on_odd=true)"
   ]
  },
  {
   "cell_type": "markdown",
   "id": "4d1258e4",
   "metadata": {},
   "source": [
    "We calculate the overlap with the Neel state because it has a final overlap with the ground state (Neel state is classical limit of the ground state of the Heisenberg model).\n",
    "The AFM ordering of the Neel state matches our parameter choice (J=1)."
   ]
  },
  {
   "cell_type": "code",
   "execution_count": 7,
   "id": "ca5daf5d",
   "metadata": {},
   "outputs": [
    {
     "data": {
      "text/plain": [
       "overlapwithneel (generic function with 1 method)"
      ]
     },
     "metadata": {},
     "output_type": "display_data"
    }
   ],
   "source": [
    "# customized overlap function\n",
    "# since we are in the Heisenberg picture, we propagate observables and in the final step, calculate the overlap with the initial state\n",
    "function overlapwithneel(operator, nq::Int; \n",
    "                           up_on_odd::Bool=true, \n",
    "                           params=nothing)\n",
    "                           \n",
    "    # Create Néel state bit representation: indices of \"1\" bits\n",
    "    nb = neel_bits(nq; up_on_odd=up_on_odd)\n",
    "    \n",
    "    # Compute overlap with computational basis state\n",
    "    return overlapwithcomputational(operator, nb)\n",
    "end"
   ]
  },
  {
   "cell_type": "markdown",
   "id": "6ee21cde",
   "metadata": {},
   "source": [
    "### 1) Full Operator Pool (Hamiltonian-Independent)"
   ]
  },
  {
   "cell_type": "code",
   "execution_count": 8,
   "id": "c63d70b1",
   "metadata": {},
   "outputs": [
    {
     "data": {
      "text/plain": [
       "generate_full_bit_pool (generic function with 1 method)"
      ]
     },
     "metadata": {},
     "output_type": "display_data"
    }
   ],
   "source": [
    "function generate_full_bit_pool(nq::Int)\n",
    "    # Choose appropriate UInt type based on number of qubits (same as PP does)\n",
    "    # Work with bit representations directly (easier to manipulate)\n",
    "    UIntType = if nq <= 4\n",
    "        UInt8\n",
    "    elseif nq <= 8\n",
    "        UInt16\n",
    "    elseif nq <= 16\n",
    "        UInt32\n",
    "    else\n",
    "        UInt64\n",
    "    end\n",
    "    \n",
    "    # Here, we generate all non-identity bit patterns (therefore -1), which gives the full operator pool.\n",
    "    pool = UIntType[]\n",
    "    for i in 1:(4^nq - 1)\n",
    "        push!(pool, UIntType(i))\n",
    "    end\n",
    "    \n",
    "    return pool\n",
    "end"
   ]
  },
  {
   "cell_type": "code",
   "execution_count": 9,
   "id": "c6d52ce6",
   "metadata": {},
   "outputs": [
    {
     "data": {
      "text/plain": [
       "bit_to_paulistring (generic function with 1 method)"
      ]
     },
     "metadata": {},
     "output_type": "display_data"
    }
   ],
   "source": [
    "# Function to convert bit representation to PauliString when needed\n",
    "function bit_to_paulistring(bit_repr, nq)\n",
    "    paulis = Symbol[]\n",
    "    sites = Int[]\n",
    "    \n",
    "    for qubit in 1:nq #going from right to left in bitstring\n",
    "        pauli_val = getpauli(bit_repr, qubit) # get pauli of qubit as 0,1,2,3\n",
    "        #println(\"Qubit $qubit: Pauli value = $pauli_val\")\n",
    "        if pauli_val != 0  # Skip identity (0) since Paulis are initialised as identity by default\n",
    "            pauli_symbol = [:I, :X, :Y, :Z][pauli_val + 1] # julia indexing starts at 1!\n",
    "            push!(paulis, pauli_symbol)\n",
    "            push!(sites, qubit)\n",
    "        end\n",
    "    end\n",
    "    \n",
    "    return PauliString(nq, paulis, sites, 1.0), paulis, sites\n",
    "end"
   ]
  },
  {
   "cell_type": "markdown",
   "id": "6f97bc3e",
   "metadata": {},
   "source": [
    "### 2) AdaptVQE Elements and Tests"
   ]
  },
  {
   "cell_type": "code",
   "execution_count": 10,
   "id": "4262422f",
   "metadata": {},
   "outputs": [
    {
     "data": {
      "text/plain": [
       "calc_gradients"
      ]
     },
     "metadata": {},
     "output_type": "display_data"
    }
   ],
   "source": [
    "\"\"\"\n",
    "    calc_gradients(bit_pool, H, nq;\n",
    "                   circuit=nothing, params=nothing,\n",
    "                   tol=1e-12, verbose=false, up_on_odd=true)\n",
    "\n",
    "ADAPT-VQE gradients with in-place propagation:\n",
    "g_P = ⟨φ₀ | [U† H U, U† P U] i | φ₀⟩, where |φ₀⟩ is the Néel state\n",
    "selected by `up_on_odd`.\n",
    "\"\"\"\n",
    "function calc_gradients(bit_pool, H, nq;\n",
    "                        circuit::Union{Nothing,Any}=nothing,\n",
    "                        params::Union{Nothing,AbstractVector}=nothing,\n",
    "                        tol::Float64=1e-12,\n",
    "                        verbose::Bool=false,\n",
    "                        up_on_odd::Bool=true)\n",
    "\n",
    "    grads = Float64[]\n",
    "\n",
    "    # Pre-propagate H once: H_prop = U† H U (only if a circuit is provided)\n",
    "    H_prop = H\n",
    "    if circuit !== nothing\n",
    "        H_prop = deepcopy(H)                 # avoid mutating H\n",
    "        propagate!(circuit, H_prop, params)  # in-place propagation\n",
    "    end\n",
    "\n",
    "    # For each pool element, pre-propagate P (to P_prop) and form [H_prop, P_prop]\n",
    "    for (k, bit_repr) in enumerate(bit_pool)\n",
    "        P= bit_to_paulistring(bit_repr, nq)[1]\n",
    "        psum = PauliSum(nq)\n",
    "        P = add!(psum, P) # PP works with PauliSums (see datatypes example notebook)\n",
    "        #println(\"Calculating gradient for op[$k]: \", P)\n",
    "\n",
    "        P_prop = P\n",
    "        if circuit !== nothing\n",
    "            P_prop = deepcopy(P)                 # avoid mutating the pool op\n",
    "            propagate!(circuit, P_prop, params)  # in-place propagation\n",
    "        end\n",
    "        \n",
    "        C = commutator(H_prop, P_prop) \n",
    "        if !(iterate(C) !== nothing)           # if the commutator is empty \n",
    "            verbose && println(\"op[$k]: \", P, \"  commutator=0  → grad=0.0\")\n",
    "            push!(grads, 0.0)\n",
    "            continue\n",
    "        end\n",
    "        g = overlapwithneel(im * C, nq; up_on_odd=up_on_odd)\n",
    "        if abs(imag(g)) > tol\n",
    "            @warn \"Gradient has non-negligible imaginary part\" imag=imag(g) op=P\n",
    "        end\n",
    "\n",
    "        push!(grads, real(g))\n",
    "        verbose && println(\"op[$k]: \", P, \"  grad=\", real(g))\n",
    "    end\n",
    "\n",
    "    return grads\n",
    "end"
   ]
  },
  {
   "cell_type": "code",
   "execution_count": 11,
   "id": "ca34e576",
   "metadata": {},
   "outputs": [
    {
     "data": {
      "text/plain": [
       "63-element Vector{Float64}:\n",
       "  0.0\n",
       "  0.0\n",
       "  0.0\n",
       "  0.0\n",
       "  0.0\n",
       " -4.0\n",
       "  0.0\n",
       "  0.0\n",
       "  4.0\n",
       "  0.0\n",
       "  ⋮\n",
       "  0.0\n",
       "  0.0\n",
       "  4.0\n",
       "  0.0\n",
       "  0.0\n",
       "  0.0\n",
       "  0.0\n",
       "  0.0\n",
       "  0.0"
      ]
     },
     "metadata": {},
     "output_type": "display_data"
    }
   ],
   "source": [
    "# example usage\n",
    "grads = calc_gradients(generate_full_bit_pool(nq), heisenberg_1d_obc(nq), nq; verbose=false, up_on_odd=true)"
   ]
  },
  {
   "cell_type": "code",
   "execution_count": 12,
   "id": "206981cb",
   "metadata": {},
   "outputs": [
    {
     "data": {
      "text/plain": [
       "pick_top_operator (generic function with 1 method)"
      ]
     },
     "metadata": {},
     "output_type": "display_data"
    }
   ],
   "source": [
    "function pick_top_operator(gradients::AbstractVector, operators::AbstractVector; rng=Random.GLOBAL_RNG)\n",
    "    length(gradients) == length(operators) || throw(ArgumentError(\"gradients and operators must have same length\"))\n",
    "    isempty(gradients) && throw(ArgumentError(\"gradients must not be empty\"))\n",
    "    \n",
    "    mags = abs.(gradients)\n",
    "    order = sortperm(mags, rev=true)  # indices sorted by |grad| descending (following the nature paper implementation)\n",
    "    gradients_sorted = gradients[order]\n",
    "    operators_sorted = operators[order]\n",
    "\n",
    "    max_mag = mags[order[1]]\n",
    "    tied_top = filter(i -> mags[i] == max_mag, order)\n",
    "\n",
    "    chosen_idx = rand(rng, tied_top)\n",
    "\n",
    "    return operators[chosen_idx], gradients[chosen_idx], gradients_sorted, operators_sorted\n",
    "end"
   ]
  },
  {
   "cell_type": "code",
   "execution_count": 13,
   "id": "907faa35",
   "metadata": {},
   "outputs": [
    {
     "name": "stdout",
     "output_type": "stream",
     "text": [
      "Top operator: PauliString(nqubits: 3, 1.0 * ZYX) with gradient 4.0\n",
      "Top gradient: [-4.0, 4.0, 4.0, 4.0, -4.0, -4.0, -4.0, 4.0, 0.0, 0.0, 0.0, 0.0, 0.0, 0.0, 0.0, 0.0, 0.0, 0.0, 0.0, 0.0, 0.0, 0.0, 0.0, 0.0, 0.0, 0.0, 0.0, 0.0, 0.0, 0.0, 0.0, 0.0, 0.0, 0.0, 0.0, 0.0, 0.0, 0.0, 0.0, 0.0, 0.0, 0.0, 0.0, 0.0, 0.0, 0.0, 0.0, 0.0, 0.0, 0.0, 0.0, 0.0, 0.0, 0.0, 0.0, 0.0, 0.0, 0.0, 0.0, 0.0, 0.0, 0.0, 0.0]\n"
     ]
    }
   ],
   "source": [
    "# example usage:\n",
    "top_op, top_grad, grads_sorted, ops_sorted = pick_top_operator(grads, generate_full_bit_pool(nq))\n",
    "println(\"Top operator: \", bit_to_paulistring(top_op,nq)[1], \" with gradient \", top_grad)\n",
    "println(\"Top gradient: \", grads_sorted) # we ignore the signs when sorting"
   ]
  },
  {
   "cell_type": "code",
   "execution_count": 14,
   "id": "daab7ef8",
   "metadata": {},
   "outputs": [
    {
     "data": {
      "text/plain": [
       "check_convergence (generic function with 1 method)"
      ]
     },
     "metadata": {},
     "output_type": "display_data"
    }
   ],
   "source": [
    "function check_convergence(gradients; tol=1e-4)\n",
    "    max_grad = maximum(abs.(gradients))\n",
    "    return max_grad < tol, max_grad\n",
    "end"
   ]
  },
  {
   "cell_type": "code",
   "execution_count": 15,
   "id": "290de254",
   "metadata": {},
   "outputs": [
    {
     "data": {
      "text/plain": [
       "(false, 4.0)"
      ]
     },
     "metadata": {},
     "output_type": "display_data"
    }
   ],
   "source": [
    "# example usage:\n",
    "check_convergence(grads; tol=1e-4)"
   ]
  },
  {
   "cell_type": "code",
   "execution_count": 16,
   "id": "e9e39299",
   "metadata": {},
   "outputs": [
    {
     "data": {
      "text/plain": [
       "pauli_rotation_from_bits (generic function with 1 method)"
      ]
     },
     "metadata": {},
     "output_type": "display_data"
    }
   ],
   "source": [
    "function pauli_rotation_from_bits(bit_repr, nq)\n",
    "    _, paulis, sites = bit_to_paulistring(bit_repr, nq) \n",
    "    return PauliRotation(paulis, sites)\n",
    "end"
   ]
  },
  {
   "cell_type": "code",
   "execution_count": 17,
   "id": "4ebb7e1b",
   "metadata": {},
   "outputs": [
    {
     "data": {
      "text/plain": [
       "PauliRotation([:Z, :Y, :X], [1, 2, 3])"
      ]
     },
     "metadata": {},
     "output_type": "display_data"
    }
   ],
   "source": [
    "# example usage:\n",
    "pauli_rotation_from_bits(top_op,nq)"
   ]
  },
  {
   "cell_type": "code",
   "execution_count": 18,
   "id": "10de8756",
   "metadata": {},
   "outputs": [
    {
     "data": {
      "text/plain": [
       "append_from_bits! (generic function with 1 method)"
      ]
     },
     "metadata": {},
     "output_type": "display_data"
    }
   ],
   "source": [
    "function append_from_bits!(circuit, thetas, chose_op, nq; theta_init=rand())\n",
    "    gate = pauli_rotation_from_bits(chose_op, nq)\n",
    "    pushfirst!(circuit, gate)\n",
    "    pushfirst!(thetas, theta_init) # no factor of 2, we choose theta_init directly\n",
    "    return circuit, thetas    # index of the new parameter\n",
    "end"
   ]
  },
  {
   "cell_type": "code",
   "execution_count": 19,
   "id": "99e6e59c",
   "metadata": {},
   "outputs": [
    {
     "data": {
      "text/plain": [
       "(Any[PauliRotation([:Z, :Y, :X], [1, 2, 3])], [0.2])"
      ]
     },
     "metadata": {},
     "output_type": "display_data"
    }
   ],
   "source": [
    "# example usage:\n",
    "circuit = Any[]      # initialize the adaptVQE circuit\n",
    "thetas  = Float64[]  # initialize the parameter list\n",
    "circuit, thetas = append_from_bits!(circuit,thetas,top_op,nq; theta_init = 0.2)"
   ]
  },
  {
   "cell_type": "code",
   "execution_count": 20,
   "id": "0075ec98",
   "metadata": {},
   "outputs": [
    {
     "data": {
      "text/plain": [
       "fulllossfunction (generic function with 1 method)"
      ]
     },
     "metadata": {},
     "output_type": "display_data"
    }
   ],
   "source": [
    "function fulllossfunction(thetas, circuit, nq;topology = nothing, max_freq = Inf, max_weight = Inf)\n",
    "\n",
    "    if isnothing(topology)\n",
    "        topology = bricklayertopology(nq;periodic=false) #chain with obc\n",
    "    end\n",
    "\n",
    "    # differentiation libraries use custom types to trace through the computation\n",
    "    # we need to make all of our objects typed like that so that nothing breaks\n",
    "    CoeffType = eltype(thetas)\n",
    "\n",
    "    H = PauliSum(CoeffType, nq)\n",
    "\n",
    "    for pair in topology\n",
    "        add!(H, [:X,:X], collect(pair),CoeffType(1.0))\n",
    "        add!(H, [:Y,:Y], collect(pair),CoeffType(1.0))\n",
    "        add!(H, [:Z,:Z], collect(pair),CoeffType(1.0))\n",
    "    end\n",
    "\n",
    "    # wrap the coefficients into PauliFreqTracker so that we can use `max_freq` truncation.\n",
    "    # usually this happens automatically but the in-place propagate!() function does not allow that.\n",
    "    wrapped_H = wrapcoefficients(H, PauliFreqTracker)\n",
    "    \n",
    "    # we also need to run the in-place version with `!`, because by default we copy the Pauli sum\n",
    "    output_H = propagate!(circuit, wrapped_H, thetas; max_freq, max_weight);\n",
    "    return overlapwithneel(output_H,nq)\n",
    "end"
   ]
  },
  {
   "cell_type": "code",
   "execution_count": 21,
   "id": "903828c9",
   "metadata": {},
   "outputs": [
    {
     "data": {
      "text/plain": [
       "gd (generic function with 1 method)"
      ]
     },
     "metadata": {},
     "output_type": "display_data"
    }
   ],
   "source": [
    "# Gradient Descent\n",
    "function gd(thetas_init, closed_lossfunction, nq; eta=0.01, steps=200)\n",
    "    \n",
    "    #check out automatic diff example notebook for more details\n",
    "    # some inputs and work buffer to play around with\n",
    "    grad_array_compiled = similar(thetas_init);\n",
    "\n",
    "    # pre-record a GradientTape for `gradsimulation` using inputs of length m with Float64 elements\n",
    "    simulation_tape = GradientTape(closed_lossfunction, thetas_init)\n",
    "    compiled_tape = compile(simulation_tape)\n",
    "    \n",
    "    opt_energy_gd = []\n",
    "    thetas = copy(thetas_init)\n",
    "    for i in 1:steps \n",
    "        gradient!(grad_array_compiled, compiled_tape, thetas)\n",
    "        thetas .-= eta * grad_array_compiled\n",
    "        opt_energy_gd = push!(opt_energy_gd, closed_lossfunction(thetas)/nq)\n",
    "    end\n",
    "    return thetas, opt_energy_gd\n",
    "end"
   ]
  },
  {
   "cell_type": "code",
   "execution_count": 22,
   "id": "21acf970",
   "metadata": {},
   "outputs": [
    {
     "data": {
      "text/plain": [
       "adam (generic function with 1 method)"
      ]
     },
     "metadata": {},
     "output_type": "display_data"
    }
   ],
   "source": [
    "# Adam optimizer\n",
    "function adam(thetas_init, closed_lossfunction, nq; eta=0.02, steps=100)\n",
    "    nparams = length(thetas_init)\n",
    "\n",
    " \n",
    "   # ReverseDiff tape on the tied loss (same as GD system)\n",
    "    tape = GradientTape(closed_lossfunction, thetas_init)\n",
    "    compiled_tape = compile(tape)\n",
    "\n",
    "    # Buffers & Adam state\n",
    "    grad = similar(thetas_init)\n",
    "    thetas = copy(thetas_init)\n",
    "    opt_energy = Vector{Float64}(undef, 0)\n",
    "\n",
    "    m = zero(thetas); v = zero(thetas)\n",
    "    β1, β2, ϵ = 0.9, 0.999, 1e-8\n",
    "\n",
    "    for t in 1:steps\n",
    "        gradient!(grad, tape, thetas)\n",
    "\n",
    "        # Adam update\n",
    "        m .= β1 .* m .+ (1 - β1) .* grad\n",
    "        v .= β2 .* v .+ (1 - β2) .* (grad .^ 2)\n",
    "        mhat = m ./ (1 - β1^t)\n",
    "        vhat = v ./ (1 - β2^t)\n",
    "        thetas .-= eta .* mhat ./ (sqrt.(vhat) .+ ϵ)\n",
    "\n",
    "        # Log E/Q using the tied view\n",
    "        push!(opt_energy, closed_lossfunction(thetas)/nq)\n",
    "    end\n",
    "    return thetas, opt_energy\n",
    "end\n"
   ]
  },
  {
   "cell_type": "code",
   "execution_count": null,
   "id": "6cd999bd",
   "metadata": {},
   "outputs": [
    {
     "data": {
      "text/plain": [
       "lbfgs_nlopt (generic function with 1 method)"
      ]
     },
     "metadata": {},
     "output_type": "display_data"
    }
   ],
   "source": [
    "# L-BFGS optimizer using NLopt package\n",
    "# https://nlopt.readthedocs.io/en/latest/NLopt_Reference/\n",
    "function lbfgs_nlopt(thetas_init, closed_lossfunction, nq;\n",
    "                     max_iters=500, xtol_rel=1e-8, ftol_rel=1e-12, # max_iters is the max function evaluations, not iterations (we can have multiple within one iteration)\n",
    "                     max_time=Inf,\n",
    "                     lower_bounds=nothing, upper_bounds=nothing,\n",
    "                     verbose=false)\n",
    "\n",
    "    n  = length(thetas_init)\n",
    "\n",
    "    # ReverseDiff: compile once, reuse\n",
    "    tape     = GradientTape(closed_lossfunction, thetas_init) #assume thetas_init is already Float64\n",
    "    compiled_tape = compile(tape)\n",
    "    gbuf     = zeros(n) # gradient buffer (preallocated), we need this for type stability between NLopt (C library) and Julia\n",
    "    opt_energy = Float64[]\n",
    "    evals = Ref(0) # function (gradient) evaluations\n",
    "\n",
    "    # warm start nudge\n",
    "    x0 = copy(thetas_init)\n",
    "\n",
    "    gradient!(gbuf, compiled_tape, x0)\n",
    "    if all(iszero, x0) && any(!iszero, gbuf)\n",
    "        η = min(1e-1, 0.1 / (sqrt(sum(abs2, gbuf)) + 1e-12))  # scale with ‖g‖\n",
    "        x0 .-= η .* gbuf\n",
    "    end\n",
    "\n",
    "    opt = Opt(:LD_LBFGS, n) # NLopt package for L-BFGS algorithm\n",
    "    NLopt.maxeval!(opt, max_iters) # maximum number of function evaluations\n",
    "    #NLopt.xtol_rel!(opt, xtol_rel) # relative tolerance on optimization parameters (x axis)\n",
    "    #NLopt.ftol_rel!(opt, ftol_rel) # relative tolerance on function value (f(x) axis)\n",
    "    NLopt.maxtime!(opt, isfinite(max_time) ? max_time : 0.0) # maximum time in seconds (0.0 means no cap)\n",
    "\n",
    "    # Emulate dense BFGS by keeping a very large history:\n",
    "    # choose >= expected #iterations/evals. Using max_iters is a simple upper bound.\n",
    "    NLopt.vector_storage!(opt, max_iters)\n",
    "\n",
    "\n",
    "    # give the line search a sensible first step size\n",
    "    NLopt.initial_step!(opt, fill(1e-1, n)) \n",
    "\n",
    "\n",
    "    # using these causes an error! (we're bounding the thetas during the adaptVQE anyways, so this is not necessarily needed - and this can hinder optimization)\n",
    "    if lower_bounds !== nothing\n",
    "        NLopt.lower_bounds!(opt, Float64.(lower_bounds))\n",
    "    end\n",
    "    if upper_bounds !== nothing\n",
    "        NLopt.upper_bounds!(opt, Float64.(upper_bounds))\n",
    "    end\n",
    "\n",
    "    NLopt.min_objective!(opt, (x, grad) -> begin # grad is write only that belongs to NLopt, sometimes NLopt wont ask for it, then it passes an empty array\n",
    "        fx = closed_lossfunction(x) :: Float64\n",
    "        if !isempty(grad)\n",
    "            gradient!(gbuf, compiled_tape, x) # ReverseDiff writes gradient into gbuf, then we copy into grad\n",
    "            @inbounds @simd for i in 1:n\n",
    "                grad[i] = gbuf[i]\n",
    "            end\n",
    "        end\n",
    "        evals[] += 1\n",
    "        push!(opt_energy, fx)\n",
    "        return fx\n",
    "    end)\n",
    "\n",
    "    minf, thetas, ret = NLopt.optimize(opt, x0) # minf is best function / objective value found, thetas is the best params (that give minf), ret is termination code.\n",
    "    if verbose\n",
    "        @info \"NLopt LBFGS terminated\" status=ret evals=evals[] fmin=minf\n",
    "    end\n",
    "\n",
    "    return thetas, opt_energy/nq # LLBFGS can do multiple function evaluations per iteration, so length(opt_energy) tracks evaluations (≤ max_iters), not iterations.\n",
    "end\n"
   ]
  },
  {
   "cell_type": "code",
   "execution_count": 47,
   "id": "de080f7e",
   "metadata": {},
   "outputs": [
    {
     "data": {
      "text/plain": [
       "lbfgs_optim (generic function with 1 method)"
      ]
     },
     "metadata": {},
     "output_type": "display_data"
    }
   ],
   "source": [
    "\n",
    "function lbfgs_optim(\n",
    "    thetas_init, closed_lossfunction, nq;\n",
    "    max_iters::Int=500,\n",
    "    g_tol::Float64=1e-8,\n",
    "    x_abstol::Union{Nothing,Float64}=1e-8,\n",
    "    x_reltol::Union{Nothing,Float64}=nothing,\n",
    "    f_abstol::Union{Nothing,Float64}=nothing,\n",
    "    f_reltol::Union{Nothing,Float64}=1e-12,\n",
    "    max_time::Real=Inf,\n",
    "    lower_bounds=nothing, upper_bounds=nothing,\n",
    "    verbose::Bool=false\n",
    ")\n",
    "    x0 = Float64.(thetas_init)\n",
    "\n",
    "    # ReverseDiff tape\n",
    "    tape  = ReverseDiff.GradientTape(closed_lossfunction, x0)\n",
    "    ctape = ReverseDiff.compile(tape)\n",
    "\n",
    "    f(x) = closed_lossfunction(x)::Float64\n",
    "    g!(G, x) = (ReverseDiff.gradient!(G, ctape, x); nothing)\n",
    "\n",
    "    energy_hist = Float64[]\n",
    "    cb = state -> (push!(energy_hist, Optim.value(state)); false)\n",
    "\n",
    "    # Build Optim.Options without deprecated fields\n",
    "    kw = Dict{Symbol,Any}(\n",
    "        :g_tol => g_tol,\n",
    "        :iterations => max_iters,\n",
    "        :show_trace => verbose,\n",
    "        :show_every => 1,\n",
    "    )\n",
    "    if x_abstol !== nothing; kw[:x_abstol] = x_abstol; end\n",
    "    if x_reltol !== nothing; kw[:x_reltol] = x_reltol; end\n",
    "    if f_abstol !== nothing; kw[:f_abstol] = f_abstol; end\n",
    "    if f_reltol !== nothing; kw[:f_reltol] = f_reltol; end\n",
    "    if isfinite(max_time);  kw[:time_limit] = max_time;  end\n",
    "    opts = Optim.Options(; kw...)\n",
    "\n",
    "    algo = Optim.LBFGS()\n",
    "\n",
    "    res = if lower_bounds === nothing || upper_bounds === nothing\n",
    "        Optim.optimize(f, g!, x0, algo; callback=cb, options=opts)\n",
    "    else\n",
    "        lower = Float64.(lower_bounds); upper = Float64.(upper_bounds)\n",
    "        Optim.optimize(f, g!, lower, upper, x0, Optim.Fminbox(algo); callback=cb, options=opts)\n",
    "    end\n",
    "\n",
    "    thetas = Optim.minimizer(res)\n",
    "    return thetas, energy_hist ./ nq\n",
    "end\n"
   ]
  },
  {
   "cell_type": "code",
   "execution_count": 48,
   "id": "db04bb27",
   "metadata": {},
   "outputs": [
    {
     "data": {
      "text/plain": [
       "target_optimization (generic function with 1 method)"
      ]
     },
     "metadata": {},
     "output_type": "display_data"
    }
   ],
   "source": [
    "function target_optimization(nq, circuit, thetas; max_freq=Inf, max_weight=Inf, verbose = false)\n",
    "    # again, automatic diff example notebook for more details\n",
    "    closed_lossfunction = let const_nq=nq, const_max_freq=max_freq, const_max_weight=max_weight\n",
    "        # these are now all captured variables with known types and we return a function that only takes thetas s.t. ReverseDiff works\n",
    "        # See also \"closures\"\n",
    "        theta -> fulllossfunction(theta, circuit, const_nq; max_freq=const_max_freq, max_weight=const_max_weight)\n",
    "    end\n",
    "\n",
    "    opt_thetas, opt_energy_opt = lbfgs_optim(thetas,closed_lossfunction,nq; verbose=verbose)\n",
    "    #opt_thetas, opt_energy_opt = lbfgs_nlopt(thetas,closed_lossfunction,nq; verbose=verbose)\n",
    "    #opt_thetas, opt_energy_opt = adam(thetas,closed_lossfunction,nq; eta=0.02, steps=200)\n",
    "    #opt_thetas, opt_energy_opt = gd(thetas,closed_lossfunction,nq; eta=0.01, steps=200)\n",
    "    \n",
    "    if verbose\n",
    "        println(\"Optimized thetas: \", opt_thetas)\n",
    "        println(\"Optimized energy per qubit: \", opt_energy_opt[end])\n",
    "        plot(opt_energy_opt)\n",
    "        display(plot!(title = \"Energy optimisation\", xlabel = \"runs\", ylabel = \"E/Q\"))\n",
    "    end\n",
    "\n",
    "    return opt_thetas, opt_energy_opt\n",
    "end"
   ]
  },
  {
   "cell_type": "markdown",
   "id": "acfdd82e",
   "metadata": {},
   "source": [
    "### 3) AdaptVQE Loop"
   ]
  },
  {
   "cell_type": "code",
   "execution_count": 49,
   "id": "cce2535d",
   "metadata": {},
   "outputs": [
    {
     "data": {
      "text/plain": [
       "adaptVQE_loop (generic function with 1 method)"
      ]
     },
     "metadata": {},
     "output_type": "display_data"
    }
   ],
   "source": [
    "function adaptVQE_loop(nq, hamiltonian, bit_pool; max_iters=10, conv_tol=1e-4, verbose=true)\n",
    "    circuit = Any[]      # initialize the adaptVQE circuit\n",
    "    thetas  = Float64[]; # initialize the parameter list\n",
    "    energy_per_loop = Float64[];\n",
    "    max_grads = Float64[] # collect for analysis\n",
    "    chosen_ops = UInt[]\n",
    "\n",
    "    for iter in 1:max_iters\n",
    "        println(\"=== ADAPT-VQE iteration $iter ===\")\n",
    "        # 1) Calculate gradients\n",
    "        grads = calc_gradients(bit_pool, hamiltonian, nq; circuit=circuit, params=thetas, tol=1e-12, verbose=false, up_on_odd=true)\n",
    "\n",
    "        # 2) Check convergence\n",
    "        converged, max_grad = check_convergence(grads; tol=conv_tol)\n",
    "        push!(max_grads, max_grad)\n",
    "        \n",
    "        if converged\n",
    "            println(\"Convergence achieved with max gradient < $conv_tol\")\n",
    "            break\n",
    "        end\n",
    "\n",
    "        # 3) Pick top operator\n",
    "        chose_op, grad_op, grads_sorted, _ = pick_top_operator(grads, bit_pool)\n",
    "\n",
    "        push!(chosen_ops, chose_op)\n",
    "\n",
    "        # 4) Append operator to circuit\n",
    "        theta_init = 0#rand(Uniform(-0.1,0.1)) # rand(Uniform(-π, π)) in PauliRotation gate (e^-i\\theta/2 P, so [-pi,pi] covers the Blochsphere)\n",
    "        circuit, thetas = append_from_bits!(circuit, thetas, chose_op, nq; theta_init=theta_init) # theta_init is multiplied by 2 in append function\n",
    "        println(\"circuit: \", circuit)\n",
    "        println(\"before thetas: \", thetas)\n",
    "        # 5) Optimize parameters'\n",
    "        thetas, opt_energy_gd = target_optimization(nq, circuit, thetas; verbose=verbose)\n",
    "\n",
    "        println(\"opt thetas: \", thetas)\n",
    "        # wrap the thetas to [-π,π] since they are angles if the optimization brought us out (periodicity of Bloch Sphere)\n",
    "        thetas = rem2pi.(thetas, RoundNearest) # does not seem to help the optimization\n",
    "        println(\"constrained thetas: \", thetas)\n",
    "        push!(energy_per_loop, opt_energy_gd[end])\n",
    "    end\n",
    "\n",
    "    # 6) Plot the gradient convergence\n",
    "    if verbose\n",
    "        plot(max_grads, marker=:o)\n",
    "        display(plot!(title = \"Max Gradient Convergence\", xlabel = \"Iteration\", ylabel = \"Max Gradient\"))\n",
    "    end\n",
    "\n",
    "    return circuit, thetas, chosen_ops, energy_per_loop, max_grads\n",
    "end"
   ]
  },
  {
   "cell_type": "markdown",
   "id": "8bb95fc4",
   "metadata": {},
   "source": [
    "### Test Run"
   ]
  },
  {
   "cell_type": "code",
   "execution_count": 50,
   "id": "24a8bf51",
   "metadata": {},
   "outputs": [
    {
     "name": "stdout",
     "output_type": "stream",
     "text": [
      "=== ADAPT-VQE iteration 1 ===\n",
      "circuit: Any[PauliRotation([:Y, :X], [2, 3])]\n",
      "before thetas: [0.0]\n"
     ]
    },
    {
     "ename": "MethodError",
     "evalue": "MethodError: no method matching optimize(::var\"#f#67\"{var\"#71#72\"{Vector{Any}, Int64, Float64, Float64}}, ::var\"#g!#68\"{ReverseDiff.CompiledTape{GradientTape{var\"#71#72\"{Vector{Any}, Int64, Float64, Float64}, ReverseDiff.TrackedArray{Float64, Float64, 1, Vector{Float64}, Vector{Float64}}, ReverseDiff.TrackedReal{Float64, Float64, Nothing}}}}, ::Vector{Float64}, ::LBFGS{Nothing, LineSearches.InitialStatic{Float64}, LineSearches.HagerZhang{Float64, Base.RefValue{Bool}}, Returns{Nothing}}, ::Optim.Options{Float64, Nothing}; callback::var\"#66#69\"{Vector{Float64}}, options::Optim.Options{Float64, Nothing})\nThis error has been manually thrown, explicitly, so the method may exist but be intentionally marked as unimplemented.\n\nClosest candidates are:\n  optimize(::Any, ::Any, ::AbstractArray, ::Optim.AbstractOptimizer, ::Optim.Options; inplace, autodiff) got unsupported keyword arguments \"callback\", \"options\"\n   @ Optim ~/.julia/packages/Optim/7krni/src/multivariate/optimize/interface.jl:289\n  optimize(::Any, !Matched::NLSolversBase.AbstractConstraints, ::AbstractArray, ::Optim.AbstractOptimizer, ::Optim.Options; inplace, autodiff) got unsupported keyword arguments \"callback\", \"options\"\n   @ Optim ~/.julia/packages/Optim/7krni/src/multivariate/optimize/interface.jl:276\n  optimize(::Any, ::Any, ::AbstractArray, ::Optim.AbstractOptimizer; ...)\n   @ Optim ~/.julia/packages/Optim/7krni/src/multivariate/optimize/interface.jl:289\n  ...\n",
     "output_type": "error",
     "traceback": [
      "MethodError: no method matching optimize(::var\"#f#67\"{var\"#71#72\"{Vector{Any}, Int64, Float64, Float64}}, ::var\"#g!#68\"{ReverseDiff.CompiledTape{GradientTape{var\"#71#72\"{Vector{Any}, Int64, Float64, Float64}, ReverseDiff.TrackedArray{Float64, Float64, 1, Vector{Float64}, Vector{Float64}}, ReverseDiff.TrackedReal{Float64, Float64, Nothing}}}}, ::Vector{Float64}, ::LBFGS{Nothing, LineSearches.InitialStatic{Float64}, LineSearches.HagerZhang{Float64, Base.RefValue{Bool}}, Returns{Nothing}}, ::Optim.Options{Float64, Nothing}; callback::var\"#66#69\"{Vector{Float64}}, options::Optim.Options{Float64, Nothing})\n",
      "This error has been manually thrown, explicitly, so the method may exist but be intentionally marked as unimplemented.\n",
      "\n",
      "Closest candidates are:\n",
      "  optimize(::Any, ::Any, ::AbstractArray, ::Optim.AbstractOptimizer, ::Optim.Options; inplace, autodiff) got unsupported keyword arguments \"callback\", \"options\"\n",
      "   @ Optim ~/.julia/packages/Optim/7krni/src/multivariate/optimize/interface.jl:289\n",
      "  optimize(::Any, !Matched::NLSolversBase.AbstractConstraints, ::AbstractArray, ::Optim.AbstractOptimizer, ::Optim.Options; inplace, autodiff) got unsupported keyword arguments \"callback\", \"options\"\n",
      "   @ Optim ~/.julia/packages/Optim/7krni/src/multivariate/optimize/interface.jl:276\n",
      "  optimize(::Any, ::Any, ::AbstractArray, ::Optim.AbstractOptimizer; ...)\n",
      "   @ Optim ~/.julia/packages/Optim/7krni/src/multivariate/optimize/interface.jl:289\n",
      "  ...\n",
      "\n",
      "\n",
      "Stacktrace:\n",
      " [1] kwerr(::@NamedTuple{callback::var\"#66#69\"{Vector{Float64}}, options::Optim.Options{Float64, Nothing}}, ::Function, ::Function, ::Function, ::Vector{Float64}, ::LBFGS{Nothing, LineSearches.InitialStatic{Float64}, LineSearches.HagerZhang{Float64, Base.RefValue{Bool}}, Returns{Nothing}}, ::Optim.Options{Float64, Nothing})\n",
      "   @ Base ./error.jl:165\n",
      " [2] lbfgs_optim(thetas_init::Vector{Float64}, closed_lossfunction::var\"#71#72\"{Vector{Any}, Int64, Float64, Float64}, nq::Int64; max_iters::Int64, g_tol::Float64, x_abstol::Float64, x_reltol::Nothing, f_abstol::Nothing, f_reltol::Float64, max_time::Float64, lower_bounds::Nothing, upper_bounds::Nothing, verbose::Bool)\n",
      "   @ Main ~/julia_scripts/PP-VarBenchmarks/jl_notebook_cell_df34fa98e69747e1a8f8a730347b8e2f_X56sdnNjb2RlLXJlbW90ZQ==.jl:43\n",
      " [3] target_optimization(nq::Int64, circuit::Vector{Any}, thetas::Vector{Float64}; max_freq::Float64, max_weight::Float64, verbose::Bool)\n",
      "   @ Main ~/julia_scripts/PP-VarBenchmarks/jl_notebook_cell_df34fa98e69747e1a8f8a730347b8e2f_X41sdnNjb2RlLXJlbW90ZQ==.jl:9\n",
      " [4] adaptVQE_loop(nq::Int64, hamiltonian::PauliSum{UInt8, Float64}, bit_pool::Vector{UInt8}; max_iters::Int64, conv_tol::Float64, verbose::Bool)\n",
      "   @ Main ~/julia_scripts/PP-VarBenchmarks/jl_notebook_cell_df34fa98e69747e1a8f8a730347b8e2f_X43sdnNjb2RlLXJlbW90ZQ==.jl:33\n",
      " [5] top-level scope\n",
      "   @ ~/julia_scripts/PP-VarBenchmarks/jl_notebook_cell_df34fa98e69747e1a8f8a730347b8e2f_X45sdnNjb2RlLXJlbW90ZQ==.jl:3"
     ]
    }
   ],
   "source": [
    "nq = 3\n",
    "hamiltonian = heisenberg_1d_obc(nq; topology=bricklayertopology(nq;periodic=false))\n",
    "full_bit_pool = generate_full_bit_pool(nq)\n",
    "circuit, thetas, chosen_ops, energy_per_loop, max_grads = adaptVQE_loop(nq, hamiltonian, full_bit_pool; max_iters=20, conv_tol=1e-4, verbose=true);"
   ]
  },
  {
   "cell_type": "code",
   "execution_count": 27,
   "id": "e50055dd",
   "metadata": {},
   "outputs": [
    {
     "name": "stdout",
     "output_type": "stream",
     "text": [
      "size of full bit pool: (63,)\n"
     ]
    }
   ],
   "source": [
    "println(\"size of full bit pool: \", size(full_bit_pool))"
   ]
  },
  {
   "cell_type": "code",
   "execution_count": 28,
   "id": "63a65d53",
   "metadata": {},
   "outputs": [
    {
     "name": "stdout",
     "output_type": "stream",
     "text": [
      "Final thetas: [0.0, 0.0, 0.0, 0.0, 0.0, 0.0, 0.0, 0.0, 0.0, 0.0, 0.0, 0.0, 0.0, 0.0, 0.0, 0.0, 0.0, 0.0, 0.0, 0.0]\n"
     ]
    }
   ],
   "source": [
    "println(\"Final thetas: \", thetas)"
   ]
  },
  {
   "cell_type": "code",
   "execution_count": 29,
   "id": "640029f3",
   "metadata": {},
   "outputs": [
    {
     "data": {
      "text/plain": [
       "20-element Vector{Float64}:\n",
       " -2.0\n",
       " -2.0\n",
       " -2.0\n",
       " -2.0\n",
       " -2.0\n",
       " -2.0\n",
       " -2.0\n",
       " -2.0\n",
       " -2.0\n",
       " -2.0\n",
       " -2.0\n",
       " -2.0\n",
       " -2.0\n",
       " -2.0\n",
       " -2.0\n",
       " -2.0\n",
       " -2.0\n",
       " -2.0\n",
       " -2.0\n",
       " -2.0"
      ]
     },
     "metadata": {},
     "output_type": "display_data"
    }
   ],
   "source": [
    "energy_per_loop*nq# -1.333 is the ED result for 3 qubits, -1.6160254 ED for 4 qubits, -1.54230900265439 for 5 qubits."
   ]
  },
  {
   "cell_type": "code",
   "execution_count": 30,
   "id": "9b5f9535",
   "metadata": {},
   "outputs": [
    {
     "data": {
      "image/png": "[encoded data removed]",
      "image/svg+xml": [
       "<?xml version=\"1.0\" encoding=\"utf-8\"?>\n",
       "<svg xmlns=\"http://www.w3.org/2000/svg\" xmlns:xlink=\"http://www.w3.org/1999/xlink\" width=\"600\" height=\"400\" viewBox=\"0 0 2400 1600\">\n",
       "<defs>\n",
       "  <clipPath id=\"clip390\">\n",
       "    <rect x=\"0\" y=\"0\" width=\"2400\" height=\"1600\"/>\n",
       "  </clipPath>\n",
       "</defs>\n",
       "<path clip-path=\"url(#clip390)\" d=\"M0 1600 L2400 1600 L2400 0 L0 0  Z\" fill=\"#ffffff\" fill-rule=\"evenodd\" fill-opacity=\"1\"/>\n",
       "<defs>\n",
       "  <clipPath id=\"clip391\">\n",
       "    <rect x=\"480\" y=\"0\" width=\"1681\" height=\"1600\"/>\n",
       "  </clipPath>\n",
       "</defs>\n",
       "<path clip-path=\"url(#clip390)\" d=\"M250.352 1423.18 L2352.76 1423.18 L2352.76 123.472 L250.352 123.472  Z\" fill=\"#ffffff\" fill-rule=\"evenodd\" fill-opacity=\"1\"/>\n",
       "<defs>\n",
       "  <clipPath id=\"clip392\">\n",
       "    <rect x=\"250\" y=\"123\" width=\"2103\" height=\"1301\"/>\n",
       "  </clipPath>\n",
       "</defs>\n",
       "<polyline clip-path=\"url(#clip392)\" style=\"stroke:#000000; stroke-linecap:round; stroke-linejoin:round; stroke-width:2; stroke-opacity:0.1; fill:none\" points=\"727.412,1423.18 727.412,123.472 \"/>\n",
       "<polyline clip-path=\"url(#clip392)\" style=\"stroke:#000000; stroke-linecap:round; stroke-linejoin:round; stroke-width:2; stroke-opacity:0.1; fill:none\" points=\"1249.36,1423.18 1249.36,123.472 \"/>\n",
       "<polyline clip-path=\"url(#clip392)\" style=\"stroke:#000000; stroke-linecap:round; stroke-linejoin:round; stroke-width:2; stroke-opacity:0.1; fill:none\" points=\"1771.31,1423.18 1771.31,123.472 \"/>\n",
       "<polyline clip-path=\"url(#clip392)\" style=\"stroke:#000000; stroke-linecap:round; stroke-linejoin:round; stroke-width:2; stroke-opacity:0.1; fill:none\" points=\"2293.25,1423.18 2293.25,123.472 \"/>\n",
       "<polyline clip-path=\"url(#clip392)\" style=\"stroke:#000000; stroke-linecap:round; stroke-linejoin:round; stroke-width:2; stroke-opacity:0.1; fill:none\" points=\"250.352,1386.4 2352.76,1386.4 \"/>\n",
       "<polyline clip-path=\"url(#clip392)\" style=\"stroke:#000000; stroke-linecap:round; stroke-linejoin:round; stroke-width:2; stroke-opacity:0.1; fill:none\" points=\"250.352,1079.86 2352.76,1079.86 \"/>\n",
       "<polyline clip-path=\"url(#clip392)\" style=\"stroke:#000000; stroke-linecap:round; stroke-linejoin:round; stroke-width:2; stroke-opacity:0.1; fill:none\" points=\"250.352,773.326 2352.76,773.326 \"/>\n",
       "<polyline clip-path=\"url(#clip392)\" style=\"stroke:#000000; stroke-linecap:round; stroke-linejoin:round; stroke-width:2; stroke-opacity:0.1; fill:none\" points=\"250.352,466.791 2352.76,466.791 \"/>\n",
       "<polyline clip-path=\"url(#clip392)\" style=\"stroke:#000000; stroke-linecap:round; stroke-linejoin:round; stroke-width:2; stroke-opacity:0.1; fill:none\" points=\"250.352,160.256 2352.76,160.256 \"/>\n",
       "<polyline clip-path=\"url(#clip390)\" style=\"stroke:#000000; stroke-linecap:round; stroke-linejoin:round; stroke-width:4; stroke-opacity:1; fill:none\" points=\"250.352,1423.18 2352.76,1423.18 \"/>\n",
       "<polyline clip-path=\"url(#clip390)\" style=\"stroke:#000000; stroke-linecap:round; stroke-linejoin:round; stroke-width:4; stroke-opacity:1; fill:none\" points=\"727.412,1423.18 727.412,1404.28 \"/>\n",
       "<polyline clip-path=\"url(#clip390)\" style=\"stroke:#000000; stroke-linecap:round; stroke-linejoin:round; stroke-width:4; stroke-opacity:1; fill:none\" points=\"1249.36,1423.18 1249.36,1404.28 \"/>\n",
       "<polyline clip-path=\"url(#clip390)\" style=\"stroke:#000000; stroke-linecap:round; stroke-linejoin:round; stroke-width:4; stroke-opacity:1; fill:none\" points=\"1771.31,1423.18 1771.31,1404.28 \"/>\n",
       "<polyline clip-path=\"url(#clip390)\" style=\"stroke:#000000; stroke-linecap:round; stroke-linejoin:round; stroke-width:4; stroke-opacity:1; fill:none\" points=\"2293.25,1423.18 2293.25,1404.28 \"/>\n",
       "<path clip-path=\"url(#clip390)\" d=\"M717.69 1451.02 L736.046 1451.02 L736.046 1454.96 L721.972 1454.96 L721.972 1463.43 Q722.991 1463.08 724.009 1462.92 Q725.028 1462.73 726.046 1462.73 Q731.833 1462.73 735.213 1465.9 Q738.593 1469.08 738.593 1474.49 Q738.593 1480.07 735.12 1483.17 Q731.648 1486.25 725.329 1486.25 Q723.153 1486.25 720.884 1485.88 Q718.639 1485.51 716.232 1484.77 L716.232 1480.07 Q718.315 1481.2 720.537 1481.76 Q722.759 1482.32 725.236 1482.32 Q729.241 1482.32 731.579 1480.21 Q733.917 1478.1 733.917 1474.49 Q733.917 1470.88 731.579 1468.77 Q729.241 1466.67 725.236 1466.67 Q723.361 1466.67 721.486 1467.08 Q719.634 1467.5 717.69 1468.38 L717.69 1451.02 Z\" fill=\"#000000\" fill-rule=\"nonzero\" fill-opacity=\"1\" /><path clip-path=\"url(#clip390)\" d=\"M1224.05 1481.64 L1231.69 1481.64 L1231.69 1455.28 L1223.38 1456.95 L1223.38 1452.69 L1231.64 1451.02 L1236.32 1451.02 L1236.32 1481.64 L1243.95 1481.64 L1243.95 1485.58 L1224.05 1485.58 L1224.05 1481.64 Z\" fill=\"#000000\" fill-rule=\"nonzero\" fill-opacity=\"1\" /><path clip-path=\"url(#clip390)\" d=\"M1263.4 1454.1 Q1259.79 1454.1 1257.96 1457.66 Q1256.15 1461.2 1256.15 1468.33 Q1256.15 1475.44 1257.96 1479.01 Q1259.79 1482.55 1263.4 1482.55 Q1267.03 1482.55 1268.84 1479.01 Q1270.67 1475.44 1270.67 1468.33 Q1270.67 1461.2 1268.84 1457.66 Q1267.03 1454.1 1263.4 1454.1 M1263.4 1450.39 Q1269.21 1450.39 1272.26 1455 Q1275.34 1459.58 1275.34 1468.33 Q1275.34 1477.06 1272.26 1481.67 Q1269.21 1486.25 1263.4 1486.25 Q1257.59 1486.25 1254.51 1481.67 Q1251.45 1477.06 1251.45 1468.33 Q1251.45 1459.58 1254.51 1455 Q1257.59 1450.39 1263.4 1450.39 Z\" fill=\"#000000\" fill-rule=\"nonzero\" fill-opacity=\"1\" /><path clip-path=\"url(#clip390)\" d=\"M1746.49 1481.64 L1754.13 1481.64 L1754.13 1455.28 L1745.82 1456.95 L1745.82 1452.69 L1754.08 1451.02 L1758.76 1451.02 L1758.76 1481.64 L1766.4 1481.64 L1766.4 1485.58 L1746.49 1485.58 L1746.49 1481.64 Z\" fill=\"#000000\" fill-rule=\"nonzero\" fill-opacity=\"1\" /><path clip-path=\"url(#clip390)\" d=\"M1775.89 1451.02 L1794.25 1451.02 L1794.25 1454.96 L1780.17 1454.96 L1780.17 1463.43 Q1781.19 1463.08 1782.21 1462.92 Q1783.23 1462.73 1784.25 1462.73 Q1790.03 1462.73 1793.41 1465.9 Q1796.79 1469.08 1796.79 1474.49 Q1796.79 1480.07 1793.32 1483.17 Q1789.85 1486.25 1783.53 1486.25 Q1781.35 1486.25 1779.08 1485.88 Q1776.84 1485.51 1774.43 1484.77 L1774.43 1480.07 Q1776.51 1481.2 1778.74 1481.76 Q1780.96 1482.32 1783.44 1482.32 Q1787.44 1482.32 1789.78 1480.21 Q1792.12 1478.1 1792.12 1474.49 Q1792.12 1470.88 1789.78 1468.77 Q1787.44 1466.67 1783.44 1466.67 Q1781.56 1466.67 1779.69 1467.08 Q1777.83 1467.5 1775.89 1468.38 L1775.89 1451.02 Z\" fill=\"#000000\" fill-rule=\"nonzero\" fill-opacity=\"1\" /><path clip-path=\"url(#clip390)\" d=\"M2272.03 1481.64 L2288.35 1481.64 L2288.35 1485.58 L2266.4 1485.58 L2266.4 1481.64 Q2269.06 1478.89 2273.65 1474.26 Q2278.25 1469.61 2279.43 1468.27 Q2281.68 1465.74 2282.56 1464.01 Q2283.46 1462.25 2283.46 1460.56 Q2283.46 1457.8 2281.52 1456.07 Q2279.6 1454.33 2276.49 1454.33 Q2274.3 1454.33 2271.84 1455.09 Q2269.41 1455.86 2266.63 1457.41 L2266.63 1452.69 Q2269.46 1451.55 2271.91 1450.97 Q2274.37 1450.39 2276.4 1450.39 Q2281.77 1450.39 2284.97 1453.08 Q2288.16 1455.77 2288.16 1460.26 Q2288.16 1462.39 2287.35 1464.31 Q2286.56 1466.2 2284.46 1468.8 Q2283.88 1469.47 2280.78 1472.69 Q2277.68 1475.88 2272.03 1481.64 Z\" fill=\"#000000\" fill-rule=\"nonzero\" fill-opacity=\"1\" /><path clip-path=\"url(#clip390)\" d=\"M2308.16 1454.1 Q2304.55 1454.1 2302.72 1457.66 Q2300.92 1461.2 2300.92 1468.33 Q2300.92 1475.44 2302.72 1479.01 Q2304.55 1482.55 2308.16 1482.55 Q2311.8 1482.55 2313.6 1479.01 Q2315.43 1475.44 2315.43 1468.33 Q2315.43 1461.2 2313.6 1457.66 Q2311.8 1454.1 2308.16 1454.1 M2308.16 1450.39 Q2313.97 1450.39 2317.03 1455 Q2320.11 1459.58 2320.11 1468.33 Q2320.11 1477.06 2317.03 1481.67 Q2313.97 1486.25 2308.16 1486.25 Q2302.35 1486.25 2299.27 1481.67 Q2296.22 1477.06 2296.22 1468.33 Q2296.22 1459.58 2299.27 1455 Q2302.35 1450.39 2308.16 1450.39 Z\" fill=\"#000000\" fill-rule=\"nonzero\" fill-opacity=\"1\" /><path clip-path=\"url(#clip390)\" d=\"M1169.27 1520.52 L1175.7 1520.52 L1175.7 1568.04 L1169.27 1568.04 L1169.27 1520.52 Z\" fill=\"#000000\" fill-rule=\"nonzero\" fill-opacity=\"1\" /><path clip-path=\"url(#clip390)\" d=\"M1194.04 1522.27 L1194.04 1532.4 L1206.1 1532.4 L1206.1 1536.95 L1194.04 1536.95 L1194.04 1556.3 Q1194.04 1560.66 1195.21 1561.9 Q1196.42 1563.14 1200.08 1563.14 L1206.1 1563.14 L1206.1 1568.04 L1200.08 1568.04 Q1193.31 1568.04 1190.73 1565.53 Q1188.15 1562.98 1188.15 1556.3 L1188.15 1536.95 L1183.85 1536.95 L1183.85 1532.4 L1188.15 1532.4 L1188.15 1522.27 L1194.04 1522.27 Z\" fill=\"#000000\" fill-rule=\"nonzero\" fill-opacity=\"1\" /><path clip-path=\"url(#clip390)\" d=\"M1244.29 1548.76 L1244.29 1551.62 L1217.37 1551.62 Q1217.75 1557.67 1221 1560.85 Q1224.27 1564 1230.1 1564 Q1233.47 1564 1236.62 1563.17 Q1239.81 1562.35 1242.93 1560.69 L1242.93 1566.23 Q1239.77 1567.57 1236.46 1568.27 Q1233.15 1568.97 1229.75 1568.97 Q1221.22 1568.97 1216.22 1564 Q1211.26 1559.04 1211.26 1550.57 Q1211.26 1541.82 1215.97 1536.69 Q1220.71 1531.54 1228.73 1531.54 Q1235.92 1531.54 1240.09 1536.18 Q1244.29 1540.8 1244.29 1548.76 M1238.44 1547.04 Q1238.37 1542.23 1235.73 1539.37 Q1233.12 1536.5 1228.79 1536.5 Q1223.89 1536.5 1220.93 1539.27 Q1218 1542.04 1217.56 1547.07 L1238.44 1547.04 Z\" fill=\"#000000\" fill-rule=\"nonzero\" fill-opacity=\"1\" /><path clip-path=\"url(#clip390)\" d=\"M1274.56 1537.87 Q1273.58 1537.3 1272.4 1537.04 Q1271.25 1536.76 1269.85 1536.76 Q1264.89 1536.76 1262.21 1540 Q1259.57 1543.22 1259.57 1549.27 L1259.57 1568.04 L1253.68 1568.04 L1253.68 1532.4 L1259.57 1532.4 L1259.57 1537.93 Q1261.42 1534.69 1264.38 1533.13 Q1267.34 1531.54 1271.57 1531.54 Q1272.18 1531.54 1272.91 1531.63 Q1273.64 1531.7 1274.53 1531.85 L1274.56 1537.87 Z\" fill=\"#000000\" fill-rule=\"nonzero\" fill-opacity=\"1\" /><path clip-path=\"url(#clip390)\" d=\"M1296.91 1550.12 Q1289.81 1550.12 1287.07 1551.75 Q1284.33 1553.37 1284.33 1557.29 Q1284.33 1560.4 1286.37 1562.25 Q1288.44 1564.07 1291.97 1564.07 Q1296.84 1564.07 1299.77 1560.63 Q1302.73 1557.16 1302.73 1551.43 L1302.73 1550.12 L1296.91 1550.12 M1308.59 1547.71 L1308.59 1568.04 L1302.73 1568.04 L1302.73 1562.63 Q1300.73 1565.88 1297.73 1567.44 Q1294.74 1568.97 1290.41 1568.97 Q1284.94 1568.97 1281.69 1565.91 Q1278.48 1562.82 1278.48 1557.67 Q1278.48 1551.65 1282.49 1548.6 Q1286.53 1545.54 1294.52 1545.54 L1302.73 1545.54 L1302.73 1544.97 Q1302.73 1540.93 1300.06 1538.73 Q1297.42 1536.5 1292.61 1536.5 Q1289.55 1536.5 1286.66 1537.23 Q1283.76 1537.97 1281.09 1539.43 L1281.09 1534.02 Q1284.3 1532.78 1287.33 1532.17 Q1290.35 1531.54 1293.21 1531.54 Q1300.95 1531.54 1304.77 1535.55 Q1308.59 1539.56 1308.59 1547.71 Z\" fill=\"#000000\" fill-rule=\"nonzero\" fill-opacity=\"1\" /><path clip-path=\"url(#clip390)\" d=\"M1326.44 1522.27 L1326.44 1532.4 L1338.51 1532.4 L1338.51 1536.95 L1326.44 1536.95 L1326.44 1556.3 Q1326.44 1560.66 1327.62 1561.9 Q1328.83 1563.14 1332.49 1563.14 L1338.51 1563.14 L1338.51 1568.04 L1332.49 1568.04 Q1325.71 1568.04 1323.13 1565.53 Q1320.56 1562.98 1320.56 1556.3 L1320.56 1536.95 L1316.26 1536.95 L1316.26 1532.4 L1320.56 1532.4 L1320.56 1522.27 L1326.44 1522.27 Z\" fill=\"#000000\" fill-rule=\"nonzero\" fill-opacity=\"1\" /><path clip-path=\"url(#clip390)\" d=\"M1346.21 1532.4 L1352.07 1532.4 L1352.07 1568.04 L1346.21 1568.04 L1346.21 1532.4 M1346.21 1518.52 L1352.07 1518.52 L1352.07 1525.93 L1346.21 1525.93 L1346.21 1518.52 Z\" fill=\"#000000\" fill-rule=\"nonzero\" fill-opacity=\"1\" /><path clip-path=\"url(#clip390)\" d=\"M1378.13 1536.5 Q1373.42 1536.5 1370.69 1540.19 Q1367.95 1543.85 1367.95 1550.25 Q1367.95 1556.65 1370.65 1560.34 Q1373.39 1564 1378.13 1564 Q1382.81 1564 1385.55 1560.31 Q1388.29 1556.62 1388.29 1550.25 Q1388.29 1543.92 1385.55 1540.23 Q1382.81 1536.5 1378.13 1536.5 M1378.13 1531.54 Q1385.77 1531.54 1390.13 1536.5 Q1394.49 1541.47 1394.49 1550.25 Q1394.49 1559 1390.13 1564 Q1385.77 1568.97 1378.13 1568.97 Q1370.46 1568.97 1366.1 1564 Q1361.77 1559 1361.77 1550.25 Q1361.77 1541.47 1366.1 1536.5 Q1370.46 1531.54 1378.13 1531.54 Z\" fill=\"#000000\" fill-rule=\"nonzero\" fill-opacity=\"1\" /><path clip-path=\"url(#clip390)\" d=\"M1433.83 1546.53 L1433.83 1568.04 L1427.98 1568.04 L1427.98 1546.72 Q1427.98 1541.66 1426 1539.14 Q1424.03 1536.63 1420.08 1536.63 Q1415.34 1536.63 1412.6 1539.65 Q1409.87 1542.68 1409.87 1547.9 L1409.87 1568.04 L1403.98 1568.04 L1403.98 1532.4 L1409.87 1532.4 L1409.87 1537.93 Q1411.97 1534.72 1414.8 1533.13 Q1417.66 1531.54 1421.39 1531.54 Q1427.53 1531.54 1430.68 1535.36 Q1433.83 1539.14 1433.83 1546.53 Z\" fill=\"#000000\" fill-rule=\"nonzero\" fill-opacity=\"1\" /><polyline clip-path=\"url(#clip390)\" style=\"stroke:#000000; stroke-linecap:round; stroke-linejoin:round; stroke-width:4; stroke-opacity:1; fill:none\" points=\"250.352,1423.18 250.352,123.472 \"/>\n",
       "<polyline clip-path=\"url(#clip390)\" style=\"stroke:#000000; stroke-linecap:round; stroke-linejoin:round; stroke-width:4; stroke-opacity:1; fill:none\" points=\"250.352,1386.4 269.25,1386.4 \"/>\n",
       "<polyline clip-path=\"url(#clip390)\" style=\"stroke:#000000; stroke-linecap:round; stroke-linejoin:round; stroke-width:4; stroke-opacity:1; fill:none\" points=\"250.352,1079.86 269.25,1079.86 \"/>\n",
       "<polyline clip-path=\"url(#clip390)\" style=\"stroke:#000000; stroke-linecap:round; stroke-linejoin:round; stroke-width:4; stroke-opacity:1; fill:none\" points=\"250.352,773.326 269.25,773.326 \"/>\n",
       "<polyline clip-path=\"url(#clip390)\" style=\"stroke:#000000; stroke-linecap:round; stroke-linejoin:round; stroke-width:4; stroke-opacity:1; fill:none\" points=\"250.352,466.791 269.25,466.791 \"/>\n",
       "<polyline clip-path=\"url(#clip390)\" style=\"stroke:#000000; stroke-linecap:round; stroke-linejoin:round; stroke-width:4; stroke-opacity:1; fill:none\" points=\"250.352,160.256 269.25,160.256 \"/>\n",
       "<path clip-path=\"url(#clip390)\" d=\"M129.862 1373.19 L118.056 1391.64 L129.862 1391.64 L129.862 1373.19 M128.635 1369.12 L134.515 1369.12 L134.515 1391.64 L139.445 1391.64 L139.445 1395.53 L134.515 1395.53 L134.515 1403.68 L129.862 1403.68 L129.862 1395.53 L114.26 1395.53 L114.26 1391.01 L128.635 1369.12 Z\" fill=\"#000000\" fill-rule=\"nonzero\" fill-opacity=\"1\" /><path clip-path=\"url(#clip390)\" d=\"M147.177 1397.8 L152.061 1397.8 L152.061 1403.68 L147.177 1403.68 L147.177 1397.8 Z\" fill=\"#000000\" fill-rule=\"nonzero\" fill-opacity=\"1\" /><path clip-path=\"url(#clip390)\" d=\"M172.246 1372.19 Q168.635 1372.19 166.806 1375.76 Q165.001 1379.3 165.001 1386.43 Q165.001 1393.54 166.806 1397.1 Q168.635 1400.64 172.246 1400.64 Q175.88 1400.64 177.686 1397.1 Q179.514 1393.54 179.514 1386.43 Q179.514 1379.3 177.686 1375.76 Q175.88 1372.19 172.246 1372.19 M172.246 1368.49 Q178.056 1368.49 181.112 1373.1 Q184.19 1377.68 184.19 1386.43 Q184.19 1395.16 181.112 1399.76 Q178.056 1404.35 172.246 1404.35 Q166.436 1404.35 163.357 1399.76 Q160.302 1395.16 160.302 1386.43 Q160.302 1377.68 163.357 1373.1 Q166.436 1368.49 172.246 1368.49 Z\" fill=\"#000000\" fill-rule=\"nonzero\" fill-opacity=\"1\" /><path clip-path=\"url(#clip390)\" d=\"M202.408 1372.19 Q198.797 1372.19 196.968 1375.76 Q195.163 1379.3 195.163 1386.43 Q195.163 1393.54 196.968 1397.1 Q198.797 1400.64 202.408 1400.64 Q206.042 1400.64 207.848 1397.1 Q209.676 1393.54 209.676 1386.43 Q209.676 1379.3 207.848 1375.76 Q206.042 1372.19 202.408 1372.19 M202.408 1368.49 Q208.218 1368.49 211.274 1373.1 Q214.352 1377.68 214.352 1386.43 Q214.352 1395.16 211.274 1399.76 Q208.218 1404.35 202.408 1404.35 Q196.598 1404.35 193.519 1399.76 Q190.463 1395.16 190.463 1386.43 Q190.463 1377.68 193.519 1373.1 Q196.598 1368.49 202.408 1368.49 Z\" fill=\"#000000\" fill-rule=\"nonzero\" fill-opacity=\"1\" /><path clip-path=\"url(#clip390)\" d=\"M130.857 1066.65 L119.052 1085.1 L130.857 1085.1 L130.857 1066.65 M129.63 1062.58 L135.51 1062.58 L135.51 1085.1 L140.441 1085.1 L140.441 1088.99 L135.51 1088.99 L135.51 1097.14 L130.857 1097.14 L130.857 1088.99 L115.256 1088.99 L115.256 1084.48 L129.63 1062.58 Z\" fill=\"#000000\" fill-rule=\"nonzero\" fill-opacity=\"1\" /><path clip-path=\"url(#clip390)\" d=\"M148.172 1091.26 L153.056 1091.26 L153.056 1097.14 L148.172 1097.14 L148.172 1091.26 Z\" fill=\"#000000\" fill-rule=\"nonzero\" fill-opacity=\"1\" /><path clip-path=\"url(#clip390)\" d=\"M167.269 1093.21 L183.588 1093.21 L183.588 1097.14 L161.644 1097.14 L161.644 1093.21 Q164.306 1090.45 168.889 1085.82 Q173.496 1081.17 174.677 1079.83 Q176.922 1077.3 177.801 1075.57 Q178.704 1073.81 178.704 1072.12 Q178.704 1069.36 176.76 1067.63 Q174.839 1065.89 171.737 1065.89 Q169.538 1065.89 167.084 1066.65 Q164.653 1067.42 161.876 1068.97 L161.876 1064.25 Q164.7 1063.11 167.153 1062.53 Q169.607 1061.96 171.644 1061.96 Q177.014 1061.96 180.209 1064.64 Q183.403 1067.33 183.403 1071.82 Q183.403 1073.95 182.593 1075.87 Q181.806 1077.77 179.7 1080.36 Q179.121 1081.03 176.019 1084.25 Q172.917 1087.44 167.269 1093.21 Z\" fill=\"#000000\" fill-rule=\"nonzero\" fill-opacity=\"1\" /><path clip-path=\"url(#clip390)\" d=\"M193.45 1062.58 L211.806 1062.58 L211.806 1066.52 L197.732 1066.52 L197.732 1074.99 Q198.75 1074.64 199.769 1074.48 Q200.787 1074.29 201.806 1074.29 Q207.593 1074.29 210.973 1077.47 Q214.352 1080.64 214.352 1086.05 Q214.352 1091.63 210.88 1094.73 Q207.408 1097.81 201.088 1097.81 Q198.912 1097.81 196.644 1097.44 Q194.399 1097.07 191.991 1096.33 L191.991 1091.63 Q194.075 1092.77 196.297 1093.32 Q198.519 1093.88 200.996 1093.88 Q205 1093.88 207.338 1091.77 Q209.676 1089.66 209.676 1086.05 Q209.676 1082.44 207.338 1080.34 Q205 1078.23 200.996 1078.23 Q199.121 1078.23 197.246 1078.65 Q195.394 1079.06 193.45 1079.94 L193.45 1062.58 Z\" fill=\"#000000\" fill-rule=\"nonzero\" fill-opacity=\"1\" /><path clip-path=\"url(#clip390)\" d=\"M129.862 760.12 L118.056 778.569 L129.862 778.569 L129.862 760.12 M128.635 756.046 L134.515 756.046 L134.515 778.569 L139.445 778.569 L139.445 782.458 L134.515 782.458 L134.515 790.606 L129.862 790.606 L129.862 782.458 L114.26 782.458 L114.26 777.944 L128.635 756.046 Z\" fill=\"#000000\" fill-rule=\"nonzero\" fill-opacity=\"1\" /><path clip-path=\"url(#clip390)\" d=\"M147.177 784.726 L152.061 784.726 L152.061 790.606 L147.177 790.606 L147.177 784.726 Z\" fill=\"#000000\" fill-rule=\"nonzero\" fill-opacity=\"1\" /><path clip-path=\"url(#clip390)\" d=\"M162.292 756.046 L180.649 756.046 L180.649 759.981 L166.575 759.981 L166.575 768.453 Q167.593 768.106 168.612 767.944 Q169.63 767.759 170.649 767.759 Q176.436 767.759 179.815 770.93 Q183.195 774.101 183.195 779.518 Q183.195 785.097 179.723 788.199 Q176.251 791.277 169.931 791.277 Q167.755 791.277 165.487 790.907 Q163.241 790.537 160.834 789.796 L160.834 785.097 Q162.917 786.231 165.14 786.787 Q167.362 787.342 169.839 787.342 Q173.843 787.342 176.181 785.236 Q178.519 783.129 178.519 779.518 Q178.519 775.907 176.181 773.801 Q173.843 771.694 169.839 771.694 Q167.964 771.694 166.089 772.111 Q164.237 772.527 162.292 773.407 L162.292 756.046 Z\" fill=\"#000000\" fill-rule=\"nonzero\" fill-opacity=\"1\" /><path clip-path=\"url(#clip390)\" d=\"M202.408 759.125 Q198.797 759.125 196.968 762.689 Q195.163 766.231 195.163 773.361 Q195.163 780.467 196.968 784.032 Q198.797 787.574 202.408 787.574 Q206.042 787.574 207.848 784.032 Q209.676 780.467 209.676 773.361 Q209.676 766.231 207.848 762.689 Q206.042 759.125 202.408 759.125 M202.408 755.421 Q208.218 755.421 211.274 760.027 Q214.352 764.611 214.352 773.361 Q214.352 782.088 211.274 786.694 Q208.218 791.277 202.408 791.277 Q196.598 791.277 193.519 786.694 Q190.463 782.088 190.463 773.361 Q190.463 764.611 193.519 760.027 Q196.598 755.421 202.408 755.421 Z\" fill=\"#000000\" fill-rule=\"nonzero\" fill-opacity=\"1\" /><path clip-path=\"url(#clip390)\" d=\"M130.857 453.585 L119.052 472.034 L130.857 472.034 L130.857 453.585 M129.63 449.511 L135.51 449.511 L135.51 472.034 L140.441 472.034 L140.441 475.923 L135.51 475.923 L135.51 484.071 L130.857 484.071 L130.857 475.923 L115.256 475.923 L115.256 471.409 L129.63 449.511 Z\" fill=\"#000000\" fill-rule=\"nonzero\" fill-opacity=\"1\" /><path clip-path=\"url(#clip390)\" d=\"M148.172 478.192 L153.056 478.192 L153.056 484.071 L148.172 484.071 L148.172 478.192 Z\" fill=\"#000000\" fill-rule=\"nonzero\" fill-opacity=\"1\" /><path clip-path=\"url(#clip390)\" d=\"M162.061 449.511 L184.283 449.511 L184.283 451.502 L171.737 484.071 L166.852 484.071 L178.658 453.446 L162.061 453.446 L162.061 449.511 Z\" fill=\"#000000\" fill-rule=\"nonzero\" fill-opacity=\"1\" /><path clip-path=\"url(#clip390)\" d=\"M193.45 449.511 L211.806 449.511 L211.806 453.446 L197.732 453.446 L197.732 461.918 Q198.75 461.571 199.769 461.409 Q200.787 461.224 201.806 461.224 Q207.593 461.224 210.973 464.395 Q214.352 467.567 214.352 472.983 Q214.352 478.562 210.88 481.664 Q207.408 484.742 201.088 484.742 Q198.912 484.742 196.644 484.372 Q194.399 484.002 191.991 483.261 L191.991 478.562 Q194.075 479.696 196.297 480.252 Q198.519 480.807 200.996 480.807 Q205 480.807 207.338 478.701 Q209.676 476.594 209.676 472.983 Q209.676 469.372 207.338 467.266 Q205 465.159 200.996 465.159 Q199.121 465.159 197.246 465.576 Q195.394 465.993 193.45 466.872 L193.45 449.511 Z\" fill=\"#000000\" fill-rule=\"nonzero\" fill-opacity=\"1\" /><path clip-path=\"url(#clip390)\" d=\"M117.061 142.976 L135.417 142.976 L135.417 146.911 L121.343 146.911 L121.343 155.384 Q122.362 155.036 123.38 154.874 Q124.399 154.689 125.418 154.689 Q131.205 154.689 134.584 157.86 Q137.964 161.032 137.964 166.448 Q137.964 172.027 134.492 175.129 Q131.019 178.208 124.7 178.208 Q122.524 178.208 120.255 177.837 Q118.01 177.467 115.603 176.726 L115.603 172.027 Q117.686 173.161 119.908 173.717 Q122.13 174.272 124.607 174.272 Q128.612 174.272 130.95 172.166 Q133.288 170.059 133.288 166.448 Q133.288 162.837 130.95 160.731 Q128.612 158.624 124.607 158.624 Q122.732 158.624 120.857 159.041 Q119.006 159.458 117.061 160.337 L117.061 142.976 Z\" fill=\"#000000\" fill-rule=\"nonzero\" fill-opacity=\"1\" /><path clip-path=\"url(#clip390)\" d=\"M147.177 171.657 L152.061 171.657 L152.061 177.536 L147.177 177.536 L147.177 171.657 Z\" fill=\"#000000\" fill-rule=\"nonzero\" fill-opacity=\"1\" /><path clip-path=\"url(#clip390)\" d=\"M172.246 146.055 Q168.635 146.055 166.806 149.62 Q165.001 153.161 165.001 160.291 Q165.001 167.397 166.806 170.962 Q168.635 174.504 172.246 174.504 Q175.88 174.504 177.686 170.962 Q179.514 167.397 179.514 160.291 Q179.514 153.161 177.686 149.62 Q175.88 146.055 172.246 146.055 M172.246 142.351 Q178.056 142.351 181.112 146.958 Q184.19 151.541 184.19 160.291 Q184.19 169.018 181.112 173.624 Q178.056 178.208 172.246 178.208 Q166.436 178.208 163.357 173.624 Q160.302 169.018 160.302 160.291 Q160.302 151.541 163.357 146.958 Q166.436 142.351 172.246 142.351 Z\" fill=\"#000000\" fill-rule=\"nonzero\" fill-opacity=\"1\" /><path clip-path=\"url(#clip390)\" d=\"M202.408 146.055 Q198.797 146.055 196.968 149.62 Q195.163 153.161 195.163 160.291 Q195.163 167.397 196.968 170.962 Q198.797 174.504 202.408 174.504 Q206.042 174.504 207.848 170.962 Q209.676 167.397 209.676 160.291 Q209.676 153.161 207.848 149.62 Q206.042 146.055 202.408 146.055 M202.408 142.351 Q208.218 142.351 211.274 146.958 Q214.352 151.541 214.352 160.291 Q214.352 169.018 211.274 173.624 Q208.218 178.208 202.408 178.208 Q196.598 178.208 193.519 173.624 Q190.463 169.018 190.463 160.291 Q190.463 151.541 193.519 146.958 Q196.598 142.351 202.408 142.351 Z\" fill=\"#000000\" fill-rule=\"nonzero\" fill-opacity=\"1\" /><path clip-path=\"url(#clip390)\" d=\"M16.4842 988.948 L16.4842 979.368 L48.8219 967.241 L16.4842 955.051 L16.4842 945.471 L64.0042 945.471 L64.0042 951.741 L22.277 951.741 L54.8694 963.995 L54.8694 970.456 L22.277 982.71 L64.0042 982.71 L64.0042 988.948 L16.4842 988.948 Z\" fill=\"#000000\" fill-rule=\"nonzero\" fill-opacity=\"1\" /><path clip-path=\"url(#clip390)\" d=\"M46.0847 916.761 Q46.0847 923.859 47.7079 926.596 Q49.3312 929.334 53.2461 929.334 Q56.3653 929.334 58.2114 927.297 Q60.0256 925.228 60.0256 921.695 Q60.0256 916.825 56.5881 913.897 Q53.1188 910.937 47.3897 910.937 L46.0847 910.937 L46.0847 916.761 M43.6657 905.08 L64.0042 905.08 L64.0042 910.937 L58.5933 910.937 Q61.8398 912.942 63.3994 915.934 Q64.9272 918.926 64.9272 923.254 Q64.9272 928.729 61.8716 931.975 Q58.7843 935.19 53.6281 935.19 Q47.6125 935.19 44.5569 931.18 Q41.5014 927.137 41.5014 919.148 L41.5014 910.937 L40.9285 910.937 Q36.8862 910.937 34.6901 913.61 Q32.4621 916.252 32.4621 921.058 Q32.4621 924.114 33.1941 927.01 Q33.9262 929.906 35.3903 932.58 L29.9795 932.58 Q28.7381 929.365 28.1334 926.342 Q27.4968 923.318 27.4968 920.453 Q27.4968 912.719 31.5072 908.9 Q35.5176 905.08 43.6657 905.08 Z\" fill=\"#000000\" fill-rule=\"nonzero\" fill-opacity=\"1\" /><path clip-path=\"url(#clip390)\" d=\"M28.3562 863.385 L45.7028 876.275 L64.0042 862.716 L64.0042 869.623 L49.9996 879.999 L64.0042 890.375 L64.0042 897.282 L45.3526 883.437 L28.3562 896.105 L28.3562 889.198 L41.0558 879.745 L28.3562 870.292 L28.3562 863.385 Z\" fill=\"#000000\" fill-rule=\"nonzero\" fill-opacity=\"1\" /><path clip-path=\"url(#clip390)\" d=\"M57.2247 801.065 L44.4614 801.065 L44.4614 811.568 L39.1779 811.568 L39.1779 794.699 L59.58 794.699 Q62.2218 798.423 63.5904 802.911 Q64.9272 807.398 64.9272 812.491 Q64.9272 823.631 58.4342 829.933 Q51.9093 836.203 40.2919 836.203 Q28.6427 836.203 22.1496 829.933 Q15.6248 823.631 15.6248 812.491 Q15.6248 807.844 16.7706 803.674 Q17.9164 799.473 20.1444 795.94 L26.9876 795.94 Q23.9639 799.505 22.4361 803.515 Q20.9083 807.526 20.9083 811.95 Q20.9083 820.671 25.7781 825.063 Q30.6479 829.424 40.2919 829.424 Q49.9041 829.424 54.7739 825.063 Q59.6436 820.671 59.6436 811.95 Q59.6436 808.544 59.0707 805.871 Q58.466 803.197 57.2247 801.065 Z\" fill=\"#000000\" fill-rule=\"nonzero\" fill-opacity=\"1\" /><path clip-path=\"url(#clip390)\" d=\"M33.8307 762.552 Q33.2578 763.539 33.0032 764.716 Q32.7167 765.862 32.7167 767.263 Q32.7167 772.228 35.9632 774.901 Q39.1779 777.543 45.2253 777.543 L64.0042 777.543 L64.0042 783.432 L28.3562 783.432 L28.3562 777.543 L33.8944 777.543 Q30.6479 775.697 29.0883 772.737 Q27.4968 769.777 27.4968 765.544 Q27.4968 764.939 27.5923 764.207 Q27.656 763.475 27.8151 762.584 L33.8307 762.552 Z\" fill=\"#000000\" fill-rule=\"nonzero\" fill-opacity=\"1\" /><path clip-path=\"url(#clip390)\" d=\"M46.0847 740.208 Q46.0847 747.306 47.7079 750.043 Q49.3312 752.781 53.2461 752.781 Q56.3653 752.781 58.2114 750.744 Q60.0256 748.675 60.0256 745.142 Q60.0256 740.272 56.5881 737.344 Q53.1188 734.384 47.3897 734.384 L46.0847 734.384 L46.0847 740.208 M43.6657 728.527 L64.0042 728.527 L64.0042 734.384 L58.5933 734.384 Q61.8398 736.389 63.3994 739.381 Q64.9272 742.373 64.9272 746.701 Q64.9272 752.176 61.8716 755.422 Q58.7843 758.637 53.6281 758.637 Q47.6125 758.637 44.5569 754.627 Q41.5014 750.584 41.5014 742.596 L41.5014 734.384 L40.9285 734.384 Q36.8862 734.384 34.6901 737.057 Q32.4621 739.699 32.4621 744.505 Q32.4621 747.561 33.1941 750.457 Q33.9262 753.354 35.3903 756.027 L29.9795 756.027 Q28.7381 752.812 28.1334 749.789 Q27.4968 746.765 27.4968 743.901 Q27.4968 736.166 31.5072 732.347 Q35.5176 728.527 43.6657 728.527 Z\" fill=\"#000000\" fill-rule=\"nonzero\" fill-opacity=\"1\" /><path clip-path=\"url(#clip390)\" d=\"M33.7671 693.007 L14.479 693.007 L14.479 687.15 L64.0042 687.15 L64.0042 693.007 L58.657 693.007 Q61.8398 694.853 63.3994 697.685 Q64.9272 700.486 64.9272 704.433 Q64.9272 710.894 59.771 714.968 Q54.6147 719.011 46.212 719.011 Q37.8093 719.011 32.6531 714.968 Q27.4968 710.894 27.4968 704.433 Q27.4968 700.486 29.0564 697.685 Q30.5842 694.853 33.7671 693.007 M46.212 712.963 Q52.6732 712.963 56.3653 710.321 Q60.0256 707.648 60.0256 703.001 Q60.0256 698.354 56.3653 695.68 Q52.6732 693.007 46.212 693.007 Q39.7508 693.007 36.0905 695.68 Q32.3984 698.354 32.3984 703.001 Q32.3984 707.648 36.0905 710.321 Q39.7508 712.963 46.212 712.963 Z\" fill=\"#000000\" fill-rule=\"nonzero\" fill-opacity=\"1\" /><path clip-path=\"url(#clip390)\" d=\"M28.3562 675.087 L28.3562 669.231 L64.0042 669.231 L64.0042 675.087 L28.3562 675.087 M14.479 675.087 L14.479 669.231 L21.895 669.231 L21.895 675.087 L14.479 675.087 Z\" fill=\"#000000\" fill-rule=\"nonzero\" fill-opacity=\"1\" /><path clip-path=\"url(#clip390)\" d=\"M44.7161 626.485 L47.5806 626.485 L47.5806 653.412 Q53.6281 653.03 56.8109 649.784 Q59.9619 646.505 59.9619 640.681 Q59.9619 637.307 59.1344 634.156 Q58.3069 630.973 56.6518 627.854 L62.1899 627.854 Q63.5267 631.005 64.227 634.315 Q64.9272 637.625 64.9272 641.031 Q64.9272 649.561 59.9619 654.558 Q54.9967 659.523 46.5303 659.523 Q37.7774 659.523 32.6531 654.812 Q27.4968 650.07 27.4968 642.049 Q27.4968 634.856 32.1438 630.686 Q36.7589 626.485 44.7161 626.485 M42.9973 632.341 Q38.1912 632.405 35.3266 635.047 Q32.4621 637.657 32.4621 641.986 Q32.4621 646.887 35.2312 649.847 Q38.0002 652.775 43.0292 653.221 L42.9973 632.341 Z\" fill=\"#000000\" fill-rule=\"nonzero\" fill-opacity=\"1\" /><path clip-path=\"url(#clip390)\" d=\"M42.4881 587.24 L64.0042 587.24 L64.0042 593.097 L42.679 593.097 Q37.6183 593.097 35.1038 595.07 Q32.5894 597.044 32.5894 600.99 Q32.5894 605.733 35.6131 608.47 Q38.6368 611.207 43.8567 611.207 L64.0042 611.207 L64.0042 617.096 L28.3562 617.096 L28.3562 611.207 L33.8944 611.207 Q30.6797 609.107 29.0883 606.274 Q27.4968 603.409 27.4968 599.685 Q27.4968 593.543 31.3163 590.391 Q35.1038 587.24 42.4881 587.24 Z\" fill=\"#000000\" fill-rule=\"nonzero\" fill-opacity=\"1\" /><path clip-path=\"url(#clip390)\" d=\"M18.2347 569.767 L28.3562 569.767 L28.3562 557.704 L32.9077 557.704 L32.9077 569.767 L52.2594 569.767 Q56.6199 569.767 57.8613 568.589 Q59.1026 567.379 59.1026 563.719 L59.1026 557.704 L64.0042 557.704 L64.0042 563.719 Q64.0042 570.499 61.4897 573.077 Q58.9434 575.655 52.2594 575.655 L32.9077 575.655 L32.9077 579.952 L28.3562 579.952 L28.3562 575.655 L18.2347 575.655 L18.2347 569.767 Z\" fill=\"#000000\" fill-rule=\"nonzero\" fill-opacity=\"1\" /><path clip-path=\"url(#clip390)\" d=\"M741.658 12.096 L753.852 12.096 L769.285 53.2532 L784.8 12.096 L796.994 12.096 L796.994 72.576 L789.013 72.576 L789.013 19.4686 L773.417 60.9499 L765.194 60.9499 L749.598 19.4686 L749.598 72.576 L741.658 72.576 L741.658 12.096 Z\" fill=\"#000000\" fill-rule=\"nonzero\" fill-opacity=\"1\" /><path clip-path=\"url(#clip390)\" d=\"M833.533 49.7694 Q824.499 49.7694 821.016 51.8354 Q817.532 53.9013 817.532 58.8839 Q817.532 62.8538 820.124 65.2034 Q822.757 67.5124 827.254 67.5124 Q833.452 67.5124 837.179 63.1374 Q840.946 58.7219 840.946 51.4303 L840.946 49.7694 L833.533 49.7694 M848.4 46.6907 L848.4 72.576 L840.946 72.576 L840.946 65.6895 Q838.394 69.8214 834.586 71.8063 Q830.778 73.7508 825.269 73.7508 Q818.301 73.7508 814.17 69.8619 Q810.078 65.9325 810.078 59.3701 Q810.078 51.7138 815.182 47.825 Q820.327 43.9361 830.495 43.9361 L840.946 43.9361 L840.946 43.2069 Q840.946 38.0623 837.543 35.2672 Q834.181 32.4315 828.064 32.4315 Q824.175 32.4315 820.489 33.3632 Q816.803 34.295 813.4 36.1584 L813.4 29.2718 Q817.491 27.692 821.34 26.9223 Q825.188 26.1121 828.834 26.1121 Q838.677 26.1121 843.539 31.2163 Q848.4 36.3204 848.4 46.6907 Z\" fill=\"#000000\" fill-rule=\"nonzero\" fill-opacity=\"1\" /><path clip-path=\"url(#clip390)\" d=\"M901.467 27.2059 L885.06 49.2833 L902.317 72.576 L893.527 72.576 L880.321 54.752 L867.115 72.576 L858.324 72.576 L875.946 48.8377 L859.823 27.2059 L868.614 27.2059 L880.645 43.369 L892.676 27.2059 L901.467 27.2059 Z\" fill=\"#000000\" fill-rule=\"nonzero\" fill-opacity=\"1\" /><path clip-path=\"url(#clip390)\" d=\"M980.783 63.9476 L980.783 47.7034 L967.415 47.7034 L967.415 40.9789 L988.885 40.9789 L988.885 66.9452 Q984.145 70.3075 978.434 72.0494 Q972.722 73.7508 966.24 73.7508 Q952.062 73.7508 944.042 65.4869 Q936.061 57.1826 936.061 42.3968 Q936.061 27.5705 944.042 19.3066 Q952.062 11.0023 966.24 11.0023 Q972.155 11.0023 977.461 12.4606 Q982.809 13.9189 987.305 16.7545 L987.305 25.464 Q982.768 21.6156 977.664 19.6712 Q972.56 17.7268 966.929 17.7268 Q955.83 17.7268 950.239 23.9246 Q944.69 30.1225 944.69 42.3968 Q944.69 54.6305 950.239 60.8284 Q955.83 67.0263 966.929 67.0263 Q971.264 67.0263 974.666 66.2971 Q978.069 65.5274 980.783 63.9476 Z\" fill=\"#000000\" fill-rule=\"nonzero\" fill-opacity=\"1\" /><path clip-path=\"url(#clip390)\" d=\"M1029.8 34.1734 Q1028.54 33.4443 1027.04 33.1202 Q1025.59 32.7556 1023.8 32.7556 Q1017.48 32.7556 1014.08 36.8875 Q1010.72 40.9789 1010.72 48.6757 L1010.72 72.576 L1003.23 72.576 L1003.23 27.2059 L1010.72 27.2059 L1010.72 34.2544 Q1013.07 30.1225 1016.84 28.1376 Q1020.6 26.1121 1025.99 26.1121 Q1026.76 26.1121 1027.69 26.2337 Q1028.62 26.3147 1029.76 26.5172 L1029.8 34.1734 Z\" fill=\"#000000\" fill-rule=\"nonzero\" fill-opacity=\"1\" /><path clip-path=\"url(#clip390)\" d=\"M1058.24 49.7694 Q1049.2 49.7694 1045.72 51.8354 Q1042.24 53.9013 1042.24 58.8839 Q1042.24 62.8538 1044.83 65.2034 Q1047.46 67.5124 1051.96 67.5124 Q1058.16 67.5124 1061.88 63.1374 Q1065.65 58.7219 1065.65 51.4303 L1065.65 49.7694 L1058.24 49.7694 M1073.1 46.6907 L1073.1 72.576 L1065.65 72.576 L1065.65 65.6895 Q1063.1 69.8214 1059.29 71.8063 Q1055.48 73.7508 1049.97 73.7508 Q1043.01 73.7508 1038.87 69.8619 Q1034.78 65.9325 1034.78 59.3701 Q1034.78 51.7138 1039.89 47.825 Q1045.03 43.9361 1055.2 43.9361 L1065.65 43.9361 L1065.65 43.2069 Q1065.65 38.0623 1062.25 35.2672 Q1058.88 32.4315 1052.77 32.4315 Q1048.88 32.4315 1045.19 33.3632 Q1041.51 34.295 1038.1 36.1584 L1038.1 29.2718 Q1042.19 27.692 1046.04 26.9223 Q1049.89 26.1121 1053.54 26.1121 Q1063.38 26.1121 1068.24 31.2163 Q1073.1 36.3204 1073.1 46.6907 Z\" fill=\"#000000\" fill-rule=\"nonzero\" fill-opacity=\"1\" /><path clip-path=\"url(#clip390)\" d=\"M1118.31 34.0924 L1118.31 9.54393 L1125.77 9.54393 L1125.77 72.576 L1118.31 72.576 L1118.31 65.7705 Q1115.96 69.8214 1112.36 71.8063 Q1108.79 73.7508 1103.77 73.7508 Q1095.55 73.7508 1090.36 67.1883 Q1085.22 60.6258 1085.22 49.9314 Q1085.22 39.2371 1090.36 32.6746 Q1095.55 26.1121 1103.77 26.1121 Q1108.79 26.1121 1112.36 28.0971 Q1115.96 30.0415 1118.31 34.0924 M1092.91 49.9314 Q1092.91 58.1548 1096.27 62.8538 Q1099.68 67.5124 1105.59 67.5124 Q1111.51 67.5124 1114.91 62.8538 Q1118.31 58.1548 1118.31 49.9314 Q1118.31 41.7081 1114.91 37.0496 Q1111.51 32.3505 1105.59 32.3505 Q1099.68 32.3505 1096.27 37.0496 Q1092.91 41.7081 1092.91 49.9314 Z\" fill=\"#000000\" fill-rule=\"nonzero\" fill-opacity=\"1\" /><path clip-path=\"url(#clip390)\" d=\"M1141.12 27.2059 L1148.57 27.2059 L1148.57 72.576 L1141.12 72.576 L1141.12 27.2059 M1141.12 9.54393 L1148.57 9.54393 L1148.57 18.9825 L1141.12 18.9825 L1141.12 9.54393 Z\" fill=\"#000000\" fill-rule=\"nonzero\" fill-opacity=\"1\" /><path clip-path=\"url(#clip390)\" d=\"M1202.98 48.0275 L1202.98 51.6733 L1168.7 51.6733 Q1169.19 59.3701 1173.32 63.421 Q1177.5 67.4314 1184.91 67.4314 Q1189.2 67.4314 1193.21 66.3781 Q1197.26 65.3249 1201.23 63.2184 L1201.23 70.267 Q1197.22 71.9684 1193.01 72.8596 Q1188.8 73.7508 1184.46 73.7508 Q1173.61 73.7508 1167.25 67.4314 Q1160.93 61.1119 1160.93 50.3365 Q1160.93 39.1965 1166.92 32.6746 Q1172.96 26.1121 1183.17 26.1121 Q1192.32 26.1121 1197.63 32.0264 Q1202.98 37.9003 1202.98 48.0275 M1195.52 45.84 Q1195.44 39.7232 1192.08 36.0774 Q1188.76 32.4315 1183.25 32.4315 Q1177.01 32.4315 1173.24 35.9558 Q1169.51 39.4801 1168.95 45.8805 L1195.52 45.84 Z\" fill=\"#000000\" fill-rule=\"nonzero\" fill-opacity=\"1\" /><path clip-path=\"url(#clip390)\" d=\"M1252.92 45.1919 L1252.92 72.576 L1245.47 72.576 L1245.47 45.4349 Q1245.47 38.994 1242.96 35.7938 Q1240.45 32.5936 1235.42 32.5936 Q1229.39 32.5936 1225.9 36.4419 Q1222.42 40.2903 1222.42 46.9338 L1222.42 72.576 L1214.93 72.576 L1214.93 27.2059 L1222.42 27.2059 L1222.42 34.2544 Q1225.09 30.163 1228.7 28.1376 Q1232.34 26.1121 1237.08 26.1121 Q1244.9 26.1121 1248.91 30.9732 Q1252.92 35.7938 1252.92 45.1919 Z\" fill=\"#000000\" fill-rule=\"nonzero\" fill-opacity=\"1\" /><path clip-path=\"url(#clip390)\" d=\"M1275.16 14.324 L1275.16 27.2059 L1290.52 27.2059 L1290.52 32.9987 L1275.16 32.9987 L1275.16 57.6282 Q1275.16 63.1779 1276.66 64.7578 Q1278.2 66.3376 1282.86 66.3376 L1290.52 66.3376 L1290.52 72.576 L1282.86 72.576 Q1274.23 72.576 1270.95 69.3758 Q1267.67 66.1351 1267.67 57.6282 L1267.67 32.9987 L1262.2 32.9987 L1262.2 27.2059 L1267.67 27.2059 L1267.67 14.324 L1275.16 14.324 Z\" fill=\"#000000\" fill-rule=\"nonzero\" fill-opacity=\"1\" /><path clip-path=\"url(#clip390)\" d=\"M1372.3 16.7545 L1372.3 25.383 Q1368.17 21.5346 1363.47 19.6307 Q1358.81 17.7268 1353.55 17.7268 Q1343.18 17.7268 1337.67 24.0867 Q1332.16 30.4061 1332.16 42.3968 Q1332.16 54.3469 1337.67 60.7069 Q1343.18 67.0263 1353.55 67.0263 Q1358.81 67.0263 1363.47 65.1223 Q1368.17 63.2184 1372.3 59.3701 L1372.3 67.9175 Q1368.01 70.8341 1363.19 72.2924 Q1358.41 73.7508 1353.06 73.7508 Q1339.33 73.7508 1331.43 65.3654 Q1323.53 56.9395 1323.53 42.3968 Q1323.53 27.8135 1331.43 19.4281 Q1339.33 11.0023 1353.06 11.0023 Q1358.49 11.0023 1363.27 12.4606 Q1368.09 13.8784 1372.3 16.7545 Z\" fill=\"#000000\" fill-rule=\"nonzero\" fill-opacity=\"1\" /><path clip-path=\"url(#clip390)\" d=\"M1402.2 32.4315 Q1396.2 32.4315 1392.72 37.1306 Q1389.24 41.7891 1389.24 49.9314 Q1389.24 58.0738 1392.68 62.7728 Q1396.16 67.4314 1402.2 67.4314 Q1408.15 67.4314 1411.64 62.7323 Q1415.12 58.0333 1415.12 49.9314 Q1415.12 41.8701 1411.64 37.1711 Q1408.15 32.4315 1402.2 32.4315 M1402.2 26.1121 Q1411.92 26.1121 1417.47 32.4315 Q1423.02 38.7509 1423.02 49.9314 Q1423.02 61.0714 1417.47 67.4314 Q1411.92 73.7508 1402.2 73.7508 Q1392.44 73.7508 1386.89 67.4314 Q1381.38 61.0714 1381.38 49.9314 Q1381.38 38.7509 1386.89 32.4315 Q1392.44 26.1121 1402.2 26.1121 Z\" fill=\"#000000\" fill-rule=\"nonzero\" fill-opacity=\"1\" /><path clip-path=\"url(#clip390)\" d=\"M1473.09 45.1919 L1473.09 72.576 L1465.64 72.576 L1465.64 45.4349 Q1465.64 38.994 1463.12 35.7938 Q1460.61 32.5936 1455.59 32.5936 Q1449.55 32.5936 1446.07 36.4419 Q1442.59 40.2903 1442.59 46.9338 L1442.59 72.576 L1435.09 72.576 L1435.09 27.2059 L1442.59 27.2059 L1442.59 34.2544 Q1445.26 30.163 1448.87 28.1376 Q1452.51 26.1121 1457.25 26.1121 Q1465.07 26.1121 1469.08 30.9732 Q1473.09 35.7938 1473.09 45.1919 Z\" fill=\"#000000\" fill-rule=\"nonzero\" fill-opacity=\"1\" /><path clip-path=\"url(#clip390)\" d=\"M1482.61 27.2059 L1490.51 27.2059 L1504.69 65.2844 L1518.86 27.2059 L1526.76 27.2059 L1509.75 72.576 L1499.62 72.576 L1482.61 27.2059 Z\" fill=\"#000000\" fill-rule=\"nonzero\" fill-opacity=\"1\" /><path clip-path=\"url(#clip390)\" d=\"M1575.86 48.0275 L1575.86 51.6733 L1541.59 51.6733 Q1542.08 59.3701 1546.21 63.421 Q1550.38 67.4314 1557.79 67.4314 Q1562.09 67.4314 1566.1 66.3781 Q1570.15 65.3249 1574.12 63.2184 L1574.12 70.267 Q1570.11 71.9684 1565.9 72.8596 Q1561.68 73.7508 1557.35 73.7508 Q1546.49 73.7508 1540.13 67.4314 Q1533.81 61.1119 1533.81 50.3365 Q1533.81 39.1965 1539.81 32.6746 Q1545.84 26.1121 1556.05 26.1121 Q1565.21 26.1121 1570.51 32.0264 Q1575.86 37.9003 1575.86 48.0275 M1568.41 45.84 Q1568.33 39.7232 1564.96 36.0774 Q1561.64 32.4315 1556.13 32.4315 Q1549.89 32.4315 1546.13 35.9558 Q1542.4 39.4801 1541.83 45.8805 L1568.41 45.84 Z\" fill=\"#000000\" fill-rule=\"nonzero\" fill-opacity=\"1\" /><path clip-path=\"url(#clip390)\" d=\"M1614.39 34.1734 Q1613.13 33.4443 1611.63 33.1202 Q1610.17 32.7556 1608.39 32.7556 Q1602.07 32.7556 1598.67 36.8875 Q1595.31 40.9789 1595.31 48.6757 L1595.31 72.576 L1587.81 72.576 L1587.81 27.2059 L1595.31 27.2059 L1595.31 34.2544 Q1597.65 30.1225 1601.42 28.1376 Q1605.19 26.1121 1610.58 26.1121 Q1611.35 26.1121 1612.28 26.2337 Q1613.21 26.3147 1614.34 26.5172 L1614.39 34.1734 Z\" fill=\"#000000\" fill-rule=\"nonzero\" fill-opacity=\"1\" /><path clip-path=\"url(#clip390)\" d=\"M1650.6 49.3643 Q1650.6 41.2625 1647.24 36.8065 Q1643.92 32.3505 1637.88 32.3505 Q1631.89 32.3505 1628.52 36.8065 Q1625.2 41.2625 1625.2 49.3643 Q1625.2 57.4256 1628.52 61.8816 Q1631.89 66.3376 1637.88 66.3376 Q1643.92 66.3376 1647.24 61.8816 Q1650.6 57.4256 1650.6 49.3643 M1658.05 66.9452 Q1658.05 78.5308 1652.91 84.1616 Q1647.76 89.8329 1637.15 89.8329 Q1633.22 89.8329 1629.74 89.2252 Q1626.25 88.6581 1622.97 87.4428 L1622.97 80.1917 Q1626.25 81.9741 1629.45 82.8248 Q1632.65 83.6755 1635.98 83.6755 Q1643.31 83.6755 1646.95 79.8271 Q1650.6 76.0193 1650.6 68.282 L1650.6 64.5957 Q1648.29 68.6061 1644.69 70.5911 Q1641.08 72.576 1636.06 72.576 Q1627.71 72.576 1622.61 66.2161 Q1617.5 59.8562 1617.5 49.3643 Q1617.5 38.832 1622.61 32.472 Q1627.71 26.1121 1636.06 26.1121 Q1641.08 26.1121 1644.69 28.0971 Q1648.29 30.082 1650.6 34.0924 L1650.6 27.2059 L1658.05 27.2059 L1658.05 66.9452 Z\" fill=\"#000000\" fill-rule=\"nonzero\" fill-opacity=\"1\" /><path clip-path=\"url(#clip390)\" d=\"M1712.21 48.0275 L1712.21 51.6733 L1677.94 51.6733 Q1678.43 59.3701 1682.56 63.421 Q1686.73 67.4314 1694.15 67.4314 Q1698.44 67.4314 1702.45 66.3781 Q1706.5 65.3249 1710.47 63.2184 L1710.47 70.267 Q1706.46 71.9684 1702.25 72.8596 Q1698.04 73.7508 1693.7 73.7508 Q1682.85 73.7508 1676.49 67.4314 Q1670.17 61.1119 1670.17 50.3365 Q1670.17 39.1965 1676.16 32.6746 Q1682.2 26.1121 1692.41 26.1121 Q1701.56 26.1121 1706.87 32.0264 Q1712.21 37.9003 1712.21 48.0275 M1704.76 45.84 Q1704.68 39.7232 1701.32 36.0774 Q1698 32.4315 1692.49 32.4315 Q1686.25 32.4315 1682.48 35.9558 Q1678.75 39.4801 1678.19 45.8805 L1704.76 45.84 Z\" fill=\"#000000\" fill-rule=\"nonzero\" fill-opacity=\"1\" /><path clip-path=\"url(#clip390)\" d=\"M1762.16 45.1919 L1762.16 72.576 L1754.71 72.576 L1754.71 45.4349 Q1754.71 38.994 1752.2 35.7938 Q1749.69 32.5936 1744.66 32.5936 Q1738.63 32.5936 1735.14 36.4419 Q1731.66 40.2903 1731.66 46.9338 L1731.66 72.576 L1724.16 72.576 L1724.16 27.2059 L1731.66 27.2059 L1731.66 34.2544 Q1734.33 30.163 1737.94 28.1376 Q1741.58 26.1121 1746.32 26.1121 Q1754.14 26.1121 1758.15 30.9732 Q1762.16 35.7938 1762.16 45.1919 Z\" fill=\"#000000\" fill-rule=\"nonzero\" fill-opacity=\"1\" /><path clip-path=\"url(#clip390)\" d=\"M1809.68 28.9478 L1809.68 35.9153 Q1806.52 34.1734 1803.32 33.3227 Q1800.16 32.4315 1796.92 32.4315 Q1789.67 32.4315 1785.66 37.0496 Q1781.65 41.6271 1781.65 49.9314 Q1781.65 58.2358 1785.66 62.8538 Q1789.67 67.4314 1796.92 67.4314 Q1800.16 67.4314 1803.32 66.5807 Q1806.52 65.6895 1809.68 63.9476 L1809.68 70.8341 Q1806.56 72.2924 1803.2 73.0216 Q1799.88 73.7508 1796.11 73.7508 Q1785.86 73.7508 1779.82 67.3098 Q1773.79 60.8689 1773.79 49.9314 Q1773.79 38.832 1779.86 32.472 Q1785.98 26.1121 1796.59 26.1121 Q1800.04 26.1121 1803.32 26.8413 Q1806.6 27.5299 1809.68 28.9478 Z\" fill=\"#000000\" fill-rule=\"nonzero\" fill-opacity=\"1\" /><path clip-path=\"url(#clip390)\" d=\"M1861.45 48.0275 L1861.45 51.6733 L1827.18 51.6733 Q1827.67 59.3701 1831.8 63.421 Q1835.97 67.4314 1843.38 67.4314 Q1847.68 67.4314 1851.69 66.3781 Q1855.74 65.3249 1859.71 63.2184 L1859.71 70.267 Q1855.7 71.9684 1851.48 72.8596 Q1847.27 73.7508 1842.94 73.7508 Q1832.08 73.7508 1825.72 67.4314 Q1819.4 61.1119 1819.4 50.3365 Q1819.4 39.1965 1825.4 32.6746 Q1831.43 26.1121 1841.64 26.1121 Q1850.8 26.1121 1856.1 32.0264 Q1861.45 37.9003 1861.45 48.0275 M1854 45.84 Q1853.92 39.7232 1850.55 36.0774 Q1847.23 32.4315 1841.72 32.4315 Q1835.48 32.4315 1831.72 35.9558 Q1827.99 39.4801 1827.42 45.8805 L1854 45.84 Z\" fill=\"#000000\" fill-rule=\"nonzero\" fill-opacity=\"1\" /><polyline clip-path=\"url(#clip392)\" style=\"stroke:#009af9; stroke-linecap:round; stroke-linejoin:round; stroke-width:4; stroke-opacity:1; fill:none\" points=\"309.854,1386.4 414.244,1386.4 518.633,1386.4 623.023,1386.4 727.412,1386.4 831.801,1386.4 936.191,1386.4 1040.58,1386.4 1144.97,1386.4 1249.36,1386.4 1353.75,1386.4 1458.14,1386.4 1562.53,1386.4 1666.92,1386.4 1771.31,1386.4 1875.7,1386.4 1980.09,1386.4 2084.47,1386.4 2188.86,1386.4 2293.25,1386.4 \"/>\n",
       "<path clip-path=\"url(#clip392)\" d=\"M309.854 1402.4 L298.542 1397.71 L293.854 1386.4 L298.542 1375.08 L309.854 1370.4 L321.166 1375.08 L325.854 1386.4 L321.166 1397.71 Z\" fill=\"#009af9\" fill-rule=\"evenodd\" fill-opacity=\"1\" stroke=\"#000000\" stroke-opacity=\"1\" stroke-width=\"3.2\"/>\n",
       "<path clip-path=\"url(#clip392)\" d=\"M414.244 1402.4 L402.932 1397.71 L398.244 1386.4 L402.932 1375.08 L414.244 1370.4 L425.556 1375.08 L430.244 1386.4 L425.556 1397.71 Z\" fill=\"#009af9\" fill-rule=\"evenodd\" fill-opacity=\"1\" stroke=\"#000000\" stroke-opacity=\"1\" stroke-width=\"3.2\"/>\n",
       "<path clip-path=\"url(#clip392)\" d=\"M518.633 1402.4 L507.321 1397.71 L502.633 1386.4 L507.321 1375.08 L518.633 1370.4 L529.945 1375.08 L534.633 1386.4 L529.945 1397.71 Z\" fill=\"#009af9\" fill-rule=\"evenodd\" fill-opacity=\"1\" stroke=\"#000000\" stroke-opacity=\"1\" stroke-width=\"3.2\"/>\n",
       "<path clip-path=\"url(#clip392)\" d=\"M623.023 1402.4 L611.711 1397.71 L607.023 1386.4 L611.711 1375.08 L623.023 1370.4 L634.335 1375.08 L639.023 1386.4 L634.335 1397.71 Z\" fill=\"#009af9\" fill-rule=\"evenodd\" fill-opacity=\"1\" stroke=\"#000000\" stroke-opacity=\"1\" stroke-width=\"3.2\"/>\n",
       "<path clip-path=\"url(#clip392)\" d=\"M727.412 1402.4 L716.1 1397.71 L711.412 1386.4 L716.1 1375.08 L727.412 1370.4 L738.724 1375.08 L743.412 1386.4 L738.724 1397.71 Z\" fill=\"#009af9\" fill-rule=\"evenodd\" fill-opacity=\"1\" stroke=\"#000000\" stroke-opacity=\"1\" stroke-width=\"3.2\"/>\n",
       "<path clip-path=\"url(#clip392)\" d=\"M831.801 1402.4 L820.489 1397.71 L815.801 1386.4 L820.489 1375.08 L831.801 1370.4 L843.113 1375.08 L847.801 1386.4 L843.113 1397.71 Z\" fill=\"#009af9\" fill-rule=\"evenodd\" fill-opacity=\"1\" stroke=\"#000000\" stroke-opacity=\"1\" stroke-width=\"3.2\"/>\n",
       "<path clip-path=\"url(#clip392)\" d=\"M936.191 1402.4 L924.879 1397.71 L920.191 1386.4 L924.879 1375.08 L936.191 1370.4 L947.503 1375.08 L952.191 1386.4 L947.503 1397.71 Z\" fill=\"#009af9\" fill-rule=\"evenodd\" fill-opacity=\"1\" stroke=\"#000000\" stroke-opacity=\"1\" stroke-width=\"3.2\"/>\n",
       "<path clip-path=\"url(#clip392)\" d=\"M1040.58 1402.4 L1029.27 1397.71 L1024.58 1386.4 L1029.27 1375.08 L1040.58 1370.4 L1051.89 1375.08 L1056.58 1386.4 L1051.89 1397.71 Z\" fill=\"#009af9\" fill-rule=\"evenodd\" fill-opacity=\"1\" stroke=\"#000000\" stroke-opacity=\"1\" stroke-width=\"3.2\"/>\n",
       "<path clip-path=\"url(#clip392)\" d=\"M1144.97 1402.4 L1133.66 1397.71 L1128.97 1386.4 L1133.66 1375.08 L1144.97 1370.4 L1156.28 1375.08 L1160.97 1386.4 L1156.28 1397.71 Z\" fill=\"#009af9\" fill-rule=\"evenodd\" fill-opacity=\"1\" stroke=\"#000000\" stroke-opacity=\"1\" stroke-width=\"3.2\"/>\n",
       "<path clip-path=\"url(#clip392)\" d=\"M1249.36 1402.4 L1238.05 1397.71 L1233.36 1386.4 L1238.05 1375.08 L1249.36 1370.4 L1260.67 1375.08 L1265.36 1386.4 L1260.67 1397.71 Z\" fill=\"#009af9\" fill-rule=\"evenodd\" fill-opacity=\"1\" stroke=\"#000000\" stroke-opacity=\"1\" stroke-width=\"3.2\"/>\n",
       "<path clip-path=\"url(#clip392)\" d=\"M1353.75 1402.4 L1342.44 1397.71 L1337.75 1386.4 L1342.44 1375.08 L1353.75 1370.4 L1365.06 1375.08 L1369.75 1386.4 L1365.06 1397.71 Z\" fill=\"#009af9\" fill-rule=\"evenodd\" fill-opacity=\"1\" stroke=\"#000000\" stroke-opacity=\"1\" stroke-width=\"3.2\"/>\n",
       "<path clip-path=\"url(#clip392)\" d=\"M1458.14 1402.4 L1446.83 1397.71 L1442.14 1386.4 L1446.83 1375.08 L1458.14 1370.4 L1469.45 1375.08 L1474.14 1386.4 L1469.45 1397.71 Z\" fill=\"#009af9\" fill-rule=\"evenodd\" fill-opacity=\"1\" stroke=\"#000000\" stroke-opacity=\"1\" stroke-width=\"3.2\"/>\n",
       "<path clip-path=\"url(#clip392)\" d=\"M1562.53 1402.4 L1551.22 1397.71 L1546.53 1386.4 L1551.22 1375.08 L1562.53 1370.4 L1573.84 1375.08 L1578.53 1386.4 L1573.84 1397.71 Z\" fill=\"#009af9\" fill-rule=\"evenodd\" fill-opacity=\"1\" stroke=\"#000000\" stroke-opacity=\"1\" stroke-width=\"3.2\"/>\n",
       "<path clip-path=\"url(#clip392)\" d=\"M1666.92 1402.4 L1655.61 1397.71 L1650.92 1386.4 L1655.61 1375.08 L1666.92 1370.4 L1678.23 1375.08 L1682.92 1386.4 L1678.23 1397.71 Z\" fill=\"#009af9\" fill-rule=\"evenodd\" fill-opacity=\"1\" stroke=\"#000000\" stroke-opacity=\"1\" stroke-width=\"3.2\"/>\n",
       "<path clip-path=\"url(#clip392)\" d=\"M1771.31 1402.4 L1759.99 1397.71 L1755.31 1386.4 L1759.99 1375.08 L1771.31 1370.4 L1782.62 1375.08 L1787.31 1386.4 L1782.62 1397.71 Z\" fill=\"#009af9\" fill-rule=\"evenodd\" fill-opacity=\"1\" stroke=\"#000000\" stroke-opacity=\"1\" stroke-width=\"3.2\"/>\n",
       "<path clip-path=\"url(#clip392)\" d=\"M1875.7 1402.4 L1864.38 1397.71 L1859.7 1386.4 L1864.38 1375.08 L1875.7 1370.4 L1887.01 1375.08 L1891.7 1386.4 L1887.01 1397.71 Z\" fill=\"#009af9\" fill-rule=\"evenodd\" fill-opacity=\"1\" stroke=\"#000000\" stroke-opacity=\"1\" stroke-width=\"3.2\"/>\n",
       "<path clip-path=\"url(#clip392)\" d=\"M1980.09 1402.4 L1968.77 1397.71 L1964.09 1386.4 L1968.77 1375.08 L1980.09 1370.4 L1991.4 1375.08 L1996.09 1386.4 L1991.4 1397.71 Z\" fill=\"#009af9\" fill-rule=\"evenodd\" fill-opacity=\"1\" stroke=\"#000000\" stroke-opacity=\"1\" stroke-width=\"3.2\"/>\n",
       "<path clip-path=\"url(#clip392)\" d=\"M2084.47 1402.4 L2073.16 1397.71 L2068.47 1386.4 L2073.16 1375.08 L2084.47 1370.4 L2095.79 1375.08 L2100.47 1386.4 L2095.79 1397.71 Z\" fill=\"#009af9\" fill-rule=\"evenodd\" fill-opacity=\"1\" stroke=\"#000000\" stroke-opacity=\"1\" stroke-width=\"3.2\"/>\n",
       "<path clip-path=\"url(#clip392)\" d=\"M2188.86 1402.4 L2177.55 1397.71 L2172.86 1386.4 L2177.55 1375.08 L2188.86 1370.4 L2200.18 1375.08 L2204.86 1386.4 L2200.18 1397.71 Z\" fill=\"#009af9\" fill-rule=\"evenodd\" fill-opacity=\"1\" stroke=\"#000000\" stroke-opacity=\"1\" stroke-width=\"3.2\"/>\n",
       "<path clip-path=\"url(#clip392)\" d=\"M2293.25 1402.4 L2281.94 1397.71 L2277.25 1386.4 L2281.94 1375.08 L2293.25 1370.4 L2304.57 1375.08 L2309.25 1386.4 L2304.57 1397.71 Z\" fill=\"#009af9\" fill-rule=\"evenodd\" fill-opacity=\"1\" stroke=\"#000000\" stroke-opacity=\"1\" stroke-width=\"3.2\"/>\n",
       "<path clip-path=\"url(#clip390)\" d=\"M2020.01 270.476 L2282.68 270.476 L2282.68 166.796 L2020.01 166.796  Z\" fill=\"#ffffff\" fill-rule=\"evenodd\" fill-opacity=\"1\"/>\n",
       "<polyline clip-path=\"url(#clip390)\" style=\"stroke:#000000; stroke-linecap:round; stroke-linejoin:round; stroke-width:4; stroke-opacity:1; fill:none\" points=\"2020.01,270.476 2282.68,270.476 2282.68,166.796 2020.01,166.796 2020.01,270.476 \"/>\n",
       "<polyline clip-path=\"url(#clip390)\" style=\"stroke:#009af9; stroke-linecap:round; stroke-linejoin:round; stroke-width:4; stroke-opacity:1; fill:none\" points=\"2043.37,218.636 2183.53,218.636 \"/>\n",
       "<path clip-path=\"url(#clip390)\" d=\"M2113.45 240.265 L2098.15 233.928 L2091.82 218.636 L2098.15 203.344 L2113.45 197.006 L2128.74 203.344 L2135.07 218.636 L2128.74 233.928 Z\" fill=\"#009af9\" fill-rule=\"evenodd\" fill-opacity=\"1\" stroke=\"#000000\" stroke-opacity=\"1\" stroke-width=\"4.55111\"/>\n",
       "<path clip-path=\"url(#clip390)\" d=\"M2220.73 238.323 Q2218.92 242.953 2217.21 244.365 Q2215.5 245.777 2212.63 245.777 L2209.22 245.777 L2209.22 242.212 L2211.72 242.212 Q2213.48 242.212 2214.45 241.379 Q2215.43 240.545 2216.61 237.443 L2217.37 235.499 L2206.89 209.99 L2211.4 209.99 L2219.5 230.268 L2227.6 209.99 L2232.12 209.99 L2220.73 238.323 Z\" fill=\"#000000\" fill-rule=\"nonzero\" fill-opacity=\"1\" /><path clip-path=\"url(#clip390)\" d=\"M2239.41 231.981 L2247.05 231.981 L2247.05 205.615 L2238.74 207.282 L2238.74 203.022 L2247 201.356 L2251.68 201.356 L2251.68 231.981 L2259.32 231.981 L2259.32 235.916 L2239.41 235.916 L2239.41 231.981 Z\" fill=\"#000000\" fill-rule=\"nonzero\" fill-opacity=\"1\" /></svg>\n"
      ],
      "text/html": [
       "<img src=\"data:image/png;base64,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\" />"
      ]
     },
     "metadata": {},
     "output_type": "display_data"
    }
   ],
   "source": [
    "plot(max_grads, marker=:o)\n",
    "plot!(title = \"Max Gradient Convergence\", xlabel = \"Iteration\", ylabel = \"Max Gradient\")"
   ]
  },
  {
   "cell_type": "code",
   "execution_count": 31,
   "id": "15a4b917",
   "metadata": {},
   "outputs": [
    {
     "data": {
      "image/png": "[encoded data removed]",
      "image/svg+xml": [
       "<?xml version=\"1.0\" encoding=\"utf-8\"?>\n",
       "<svg xmlns=\"http://www.w3.org/2000/svg\" xmlns:xlink=\"http://www.w3.org/1999/xlink\" width=\"600\" height=\"400\" viewBox=\"0 0 2400 1600\">\n",
       "<defs>\n",
       "  <clipPath id=\"clip450\">\n",
       "    <rect x=\"0\" y=\"0\" width=\"2400\" height=\"1600\"/>\n",
       "  </clipPath>\n",
       "</defs>\n",
       "<path clip-path=\"url(#clip450)\" d=\"M0 1600 L2400 1600 L2400 0 L0 0  Z\" fill=\"#ffffff\" fill-rule=\"evenodd\" fill-opacity=\"1\"/>\n",
       "<defs>\n",
       "  <clipPath id=\"clip451\">\n",
       "    <rect x=\"480\" y=\"0\" width=\"1681\" height=\"1600\"/>\n",
       "  </clipPath>\n",
       "</defs>\n",
       "<path clip-path=\"url(#clip450)\" d=\"M287.366 1423.18 L2352.76 1423.18 L2352.76 123.472 L287.366 123.472  Z\" fill=\"#ffffff\" fill-rule=\"evenodd\" fill-opacity=\"1\"/>\n",
       "<defs>\n",
       "  <clipPath id=\"clip452\">\n",
       "    <rect x=\"287\" y=\"123\" width=\"2066\" height=\"1301\"/>\n",
       "  </clipPath>\n",
       "</defs>\n",
       "<polyline clip-path=\"url(#clip452)\" style=\"stroke:#000000; stroke-linecap:round; stroke-linejoin:round; stroke-width:2; stroke-opacity:0.1; fill:none\" points=\"756.027,1423.18 756.027,123.472 \"/>\n",
       "<polyline clip-path=\"url(#clip452)\" style=\"stroke:#000000; stroke-linecap:round; stroke-linejoin:round; stroke-width:2; stroke-opacity:0.1; fill:none\" points=\"1268.79,1423.18 1268.79,123.472 \"/>\n",
       "<polyline clip-path=\"url(#clip452)\" style=\"stroke:#000000; stroke-linecap:round; stroke-linejoin:round; stroke-width:2; stroke-opacity:0.1; fill:none\" points=\"1781.54,1423.18 1781.54,123.472 \"/>\n",
       "<polyline clip-path=\"url(#clip452)\" style=\"stroke:#000000; stroke-linecap:round; stroke-linejoin:round; stroke-width:2; stroke-opacity:0.1; fill:none\" points=\"2294.3,1423.18 2294.3,123.472 \"/>\n",
       "<polyline clip-path=\"url(#clip452)\" style=\"stroke:#000000; stroke-linecap:round; stroke-linejoin:round; stroke-width:2; stroke-opacity:0.1; fill:none\" points=\"287.366,1386.4 2352.76,1386.4 \"/>\n",
       "<polyline clip-path=\"url(#clip452)\" style=\"stroke:#000000; stroke-linecap:round; stroke-linejoin:round; stroke-width:2; stroke-opacity:0.1; fill:none\" points=\"287.366,1079.86 2352.76,1079.86 \"/>\n",
       "<polyline clip-path=\"url(#clip452)\" style=\"stroke:#000000; stroke-linecap:round; stroke-linejoin:round; stroke-width:2; stroke-opacity:0.1; fill:none\" points=\"287.366,773.326 2352.76,773.326 \"/>\n",
       "<polyline clip-path=\"url(#clip452)\" style=\"stroke:#000000; stroke-linecap:round; stroke-linejoin:round; stroke-width:2; stroke-opacity:0.1; fill:none\" points=\"287.366,466.791 2352.76,466.791 \"/>\n",
       "<polyline clip-path=\"url(#clip452)\" style=\"stroke:#000000; stroke-linecap:round; stroke-linejoin:round; stroke-width:2; stroke-opacity:0.1; fill:none\" points=\"287.366,160.256 2352.76,160.256 \"/>\n",
       "<polyline clip-path=\"url(#clip450)\" style=\"stroke:#000000; stroke-linecap:round; stroke-linejoin:round; stroke-width:4; stroke-opacity:1; fill:none\" points=\"287.366,1423.18 2352.76,1423.18 \"/>\n",
       "<polyline clip-path=\"url(#clip450)\" style=\"stroke:#000000; stroke-linecap:round; stroke-linejoin:round; stroke-width:4; stroke-opacity:1; fill:none\" points=\"756.027,1423.18 756.027,1404.28 \"/>\n",
       "<polyline clip-path=\"url(#clip450)\" style=\"stroke:#000000; stroke-linecap:round; stroke-linejoin:round; stroke-width:4; stroke-opacity:1; fill:none\" points=\"1268.79,1423.18 1268.79,1404.28 \"/>\n",
       "<polyline clip-path=\"url(#clip450)\" style=\"stroke:#000000; stroke-linecap:round; stroke-linejoin:round; stroke-width:4; stroke-opacity:1; fill:none\" points=\"1781.54,1423.18 1781.54,1404.28 \"/>\n",
       "<polyline clip-path=\"url(#clip450)\" style=\"stroke:#000000; stroke-linecap:round; stroke-linejoin:round; stroke-width:4; stroke-opacity:1; fill:none\" points=\"2294.3,1423.18 2294.3,1404.28 \"/>\n",
       "<path clip-path=\"url(#clip450)\" d=\"M746.305 1451.02 L764.661 1451.02 L764.661 1454.96 L750.587 1454.96 L750.587 1463.43 Q751.606 1463.08 752.624 1462.92 Q753.643 1462.73 754.661 1462.73 Q760.448 1462.73 763.828 1465.9 Q767.207 1469.08 767.207 1474.49 Q767.207 1480.07 763.735 1483.17 Q760.263 1486.25 753.944 1486.25 Q751.768 1486.25 749.499 1485.88 Q747.254 1485.51 744.846 1484.77 L744.846 1480.07 Q746.93 1481.2 749.152 1481.76 Q751.374 1482.32 753.851 1482.32 Q757.856 1482.32 760.194 1480.21 Q762.531 1478.1 762.531 1474.49 Q762.531 1470.88 760.194 1468.77 Q757.856 1466.67 753.851 1466.67 Q751.976 1466.67 750.101 1467.08 Q748.249 1467.5 746.305 1468.38 L746.305 1451.02 Z\" fill=\"#000000\" fill-rule=\"nonzero\" fill-opacity=\"1\" /><path clip-path=\"url(#clip450)\" d=\"M1243.47 1481.64 L1251.11 1481.64 L1251.11 1455.28 L1242.8 1456.95 L1242.8 1452.69 L1251.07 1451.02 L1255.74 1451.02 L1255.74 1481.64 L1263.38 1481.64 L1263.38 1485.58 L1243.47 1485.58 L1243.47 1481.64 Z\" fill=\"#000000\" fill-rule=\"nonzero\" fill-opacity=\"1\" /><path clip-path=\"url(#clip450)\" d=\"M1282.82 1454.1 Q1279.21 1454.1 1277.38 1457.66 Q1275.58 1461.2 1275.58 1468.33 Q1275.58 1475.44 1277.38 1479.01 Q1279.21 1482.55 1282.82 1482.55 Q1286.46 1482.55 1288.26 1479.01 Q1290.09 1475.44 1290.09 1468.33 Q1290.09 1461.2 1288.26 1457.66 Q1286.46 1454.1 1282.82 1454.1 M1282.82 1450.39 Q1288.63 1450.39 1291.69 1455 Q1294.77 1459.58 1294.77 1468.33 Q1294.77 1477.06 1291.69 1481.67 Q1288.63 1486.25 1282.82 1486.25 Q1277.01 1486.25 1273.94 1481.67 Q1270.88 1477.06 1270.88 1468.33 Q1270.88 1459.58 1273.94 1455 Q1277.01 1450.39 1282.82 1450.39 Z\" fill=\"#000000\" fill-rule=\"nonzero\" fill-opacity=\"1\" /><path clip-path=\"url(#clip450)\" d=\"M1756.73 1481.64 L1764.37 1481.64 L1764.37 1455.28 L1756.06 1456.95 L1756.06 1452.69 L1764.32 1451.02 L1769 1451.02 L1769 1481.64 L1776.64 1481.64 L1776.64 1485.58 L1756.73 1485.58 L1756.73 1481.64 Z\" fill=\"#000000\" fill-rule=\"nonzero\" fill-opacity=\"1\" /><path clip-path=\"url(#clip450)\" d=\"M1786.13 1451.02 L1804.48 1451.02 L1804.48 1454.96 L1790.41 1454.96 L1790.41 1463.43 Q1791.43 1463.08 1792.45 1462.92 Q1793.46 1462.73 1794.48 1462.73 Q1800.27 1462.73 1803.65 1465.9 Q1807.03 1469.08 1807.03 1474.49 Q1807.03 1480.07 1803.56 1483.17 Q1800.08 1486.25 1793.77 1486.25 Q1791.59 1486.25 1789.32 1485.88 Q1787.08 1485.51 1784.67 1484.77 L1784.67 1480.07 Q1786.75 1481.2 1788.97 1481.76 Q1791.2 1482.32 1793.67 1482.32 Q1797.68 1482.32 1800.02 1480.21 Q1802.35 1478.1 1802.35 1474.49 Q1802.35 1470.88 1800.02 1468.77 Q1797.68 1466.67 1793.67 1466.67 Q1791.8 1466.67 1789.92 1467.08 Q1788.07 1467.5 1786.13 1468.38 L1786.13 1451.02 Z\" fill=\"#000000\" fill-rule=\"nonzero\" fill-opacity=\"1\" /><path clip-path=\"url(#clip450)\" d=\"M2273.07 1481.64 L2289.39 1481.64 L2289.39 1485.58 L2267.45 1485.58 L2267.45 1481.64 Q2270.11 1478.89 2274.7 1474.26 Q2279.3 1469.61 2280.48 1468.27 Q2282.73 1465.74 2283.61 1464.01 Q2284.51 1462.25 2284.51 1460.56 Q2284.51 1457.8 2282.57 1456.07 Q2280.64 1454.33 2277.54 1454.33 Q2275.34 1454.33 2272.89 1455.09 Q2270.46 1455.86 2267.68 1457.41 L2267.68 1452.69 Q2270.51 1451.55 2272.96 1450.97 Q2275.41 1450.39 2277.45 1450.39 Q2282.82 1450.39 2286.01 1453.08 Q2289.21 1455.77 2289.21 1460.26 Q2289.21 1462.39 2288.4 1464.31 Q2287.61 1466.2 2285.51 1468.8 Q2284.93 1469.47 2281.82 1472.69 Q2278.72 1475.88 2273.07 1481.64 Z\" fill=\"#000000\" fill-rule=\"nonzero\" fill-opacity=\"1\" /><path clip-path=\"url(#clip450)\" d=\"M2309.21 1454.1 Q2305.6 1454.1 2303.77 1457.66 Q2301.96 1461.2 2301.96 1468.33 Q2301.96 1475.44 2303.77 1479.01 Q2305.6 1482.55 2309.21 1482.55 Q2312.84 1482.55 2314.65 1479.01 Q2316.48 1475.44 2316.48 1468.33 Q2316.48 1461.2 2314.65 1457.66 Q2312.84 1454.1 2309.21 1454.1 M2309.21 1450.39 Q2315.02 1450.39 2318.07 1455 Q2321.15 1459.58 2321.15 1468.33 Q2321.15 1477.06 2318.07 1481.67 Q2315.02 1486.25 2309.21 1486.25 Q2303.4 1486.25 2300.32 1481.67 Q2297.26 1477.06 2297.26 1468.33 Q2297.26 1459.58 2300.32 1455 Q2303.4 1450.39 2309.21 1450.39 Z\" fill=\"#000000\" fill-rule=\"nonzero\" fill-opacity=\"1\" /><path clip-path=\"url(#clip450)\" d=\"M1012.17 1526.86 L1003.45 1550.51 L1020.92 1550.51 L1012.17 1526.86 M1008.54 1520.52 L1015.83 1520.52 L1033.94 1568.04 L1027.25 1568.04 L1022.93 1555.85 L1001.51 1555.85 L997.176 1568.04 L990.397 1568.04 L1008.54 1520.52 Z\" fill=\"#000000\" fill-rule=\"nonzero\" fill-opacity=\"1\" /><path clip-path=\"url(#clip450)\" d=\"M1047.31 1525.81 L1047.31 1562.76 L1055.07 1562.76 Q1064.91 1562.76 1069.46 1558.3 Q1074.04 1553.85 1074.04 1544.24 Q1074.04 1534.69 1069.46 1530.26 Q1064.91 1525.81 1055.07 1525.81 L1047.31 1525.81 M1040.88 1520.52 L1054.09 1520.52 Q1067.9 1520.52 1074.36 1526.28 Q1080.82 1532.01 1080.82 1544.24 Q1080.82 1556.52 1074.33 1562.28 Q1067.84 1568.04 1054.09 1568.04 L1040.88 1568.04 L1040.88 1520.52 Z\" fill=\"#000000\" fill-rule=\"nonzero\" fill-opacity=\"1\" /><path clip-path=\"url(#clip450)\" d=\"M1105.81 1526.86 L1097.09 1550.51 L1114.56 1550.51 L1105.81 1526.86 M1102.18 1520.52 L1109.47 1520.52 L1127.58 1568.04 L1120.89 1568.04 L1116.57 1555.85 L1095.14 1555.85 L1090.82 1568.04 L1084.04 1568.04 L1102.18 1520.52 Z\" fill=\"#000000\" fill-rule=\"nonzero\" fill-opacity=\"1\" /><path clip-path=\"url(#clip450)\" d=\"M1140.95 1525.81 L1140.95 1543.66 L1149.03 1543.66 Q1153.52 1543.66 1155.97 1541.34 Q1158.42 1539.02 1158.42 1534.72 Q1158.42 1530.45 1155.97 1528.13 Q1153.52 1525.81 1149.03 1525.81 L1140.95 1525.81 M1134.52 1520.52 L1149.03 1520.52 Q1157.02 1520.52 1161.09 1524.15 Q1165.2 1527.75 1165.2 1534.72 Q1165.2 1541.75 1161.09 1545.35 Q1157.02 1548.95 1149.03 1548.95 L1140.95 1548.95 L1140.95 1568.04 L1134.52 1568.04 L1134.52 1520.52 Z\" fill=\"#000000\" fill-rule=\"nonzero\" fill-opacity=\"1\" /><path clip-path=\"url(#clip450)\" d=\"M1167.24 1520.52 L1207.44 1520.52 L1207.44 1525.93 L1190.57 1525.93 L1190.57 1568.04 L1184.11 1568.04 L1184.11 1525.93 L1167.24 1525.93 L1167.24 1520.52 Z\" fill=\"#000000\" fill-rule=\"nonzero\" fill-opacity=\"1\" /><path clip-path=\"url(#clip450)\" d=\"M1204.44 1547.58 L1221.6 1547.58 L1221.6 1552.8 L1204.44 1552.8 L1204.44 1547.58 Z\" fill=\"#000000\" fill-rule=\"nonzero\" fill-opacity=\"1\" /><path clip-path=\"url(#clip450)\" d=\"M1239.61 1568.04 L1221.47 1520.52 L1228.19 1520.52 L1243.24 1560.53 L1258.33 1520.52 L1265.01 1520.52 L1246.9 1568.04 L1239.61 1568.04 Z\" fill=\"#000000\" fill-rule=\"nonzero\" fill-opacity=\"1\" /><path clip-path=\"url(#clip450)\" d=\"M1291.24 1524.88 Q1284.24 1524.88 1280.1 1530.1 Q1275.99 1535.32 1275.99 1544.33 Q1275.99 1553.31 1280.1 1558.53 Q1284.24 1563.75 1291.24 1563.75 Q1298.24 1563.75 1302.32 1558.53 Q1306.42 1553.31 1306.42 1544.33 Q1306.42 1535.32 1302.32 1530.1 Q1298.24 1524.88 1291.24 1524.88 M1300.25 1567.18 L1308.71 1576.45 L1300.95 1576.45 L1293.91 1568.84 Q1292.86 1568.9 1292.29 1568.94 Q1291.75 1568.97 1291.24 1568.97 Q1281.21 1568.97 1275.2 1562.28 Q1269.21 1555.57 1269.21 1544.33 Q1269.21 1533.06 1275.2 1526.38 Q1281.21 1519.66 1291.24 1519.66 Q1301.23 1519.66 1307.22 1526.38 Q1313.2 1533.06 1313.2 1544.33 Q1313.2 1552.61 1309.86 1558.5 Q1306.55 1564.38 1300.25 1567.18 Z\" fill=\"#000000\" fill-rule=\"nonzero\" fill-opacity=\"1\" /><path clip-path=\"url(#clip450)\" d=\"M1323.26 1520.52 L1353.31 1520.52 L1353.31 1525.93 L1329.69 1525.93 L1329.69 1540 L1352.32 1540 L1352.32 1545.41 L1329.69 1545.41 L1329.69 1562.63 L1353.88 1562.63 L1353.88 1568.04 L1323.26 1568.04 L1323.26 1520.52 Z\" fill=\"#000000\" fill-rule=\"nonzero\" fill-opacity=\"1\" /><path clip-path=\"url(#clip450)\" d=\"M1385.17 1520.52 L1391.6 1520.52 L1391.6 1568.04 L1385.17 1568.04 L1385.17 1520.52 Z\" fill=\"#000000\" fill-rule=\"nonzero\" fill-opacity=\"1\" /><path clip-path=\"url(#clip450)\" d=\"M1409.93 1522.27 L1409.93 1532.4 L1421.99 1532.4 L1421.99 1536.95 L1409.93 1536.95 L1409.93 1556.3 Q1409.93 1560.66 1411.11 1561.9 Q1412.32 1563.14 1415.98 1563.14 L1421.99 1563.14 L1421.99 1568.04 L1415.98 1568.04 Q1409.2 1568.04 1406.62 1565.53 Q1404.04 1562.98 1404.04 1556.3 L1404.04 1536.95 L1399.74 1536.95 L1399.74 1532.4 L1404.04 1532.4 L1404.04 1522.27 L1409.93 1522.27 Z\" fill=\"#000000\" fill-rule=\"nonzero\" fill-opacity=\"1\" /><path clip-path=\"url(#clip450)\" d=\"M1460.19 1548.76 L1460.19 1551.62 L1433.26 1551.62 Q1433.64 1557.67 1436.89 1560.85 Q1440.17 1564 1445.99 1564 Q1449.36 1564 1452.52 1563.17 Q1455.7 1562.35 1458.82 1560.69 L1458.82 1566.23 Q1455.67 1567.57 1452.36 1568.27 Q1449.05 1568.97 1445.64 1568.97 Q1437.11 1568.97 1432.11 1564 Q1427.15 1559.04 1427.15 1550.57 Q1427.15 1541.82 1431.86 1536.69 Q1436.6 1531.54 1444.62 1531.54 Q1451.82 1531.54 1455.98 1536.18 Q1460.19 1540.8 1460.19 1548.76 M1454.33 1547.04 Q1454.27 1542.23 1451.62 1539.37 Q1449.01 1536.5 1444.69 1536.5 Q1439.78 1536.5 1436.82 1539.27 Q1433.9 1542.04 1433.45 1547.07 L1454.33 1547.04 Z\" fill=\"#000000\" fill-rule=\"nonzero\" fill-opacity=\"1\" /><path clip-path=\"url(#clip450)\" d=\"M1490.45 1537.87 Q1489.47 1537.3 1488.29 1537.04 Q1487.14 1536.76 1485.74 1536.76 Q1480.78 1536.76 1478.11 1540 Q1475.46 1543.22 1475.46 1549.27 L1475.46 1568.04 L1469.58 1568.04 L1469.58 1532.4 L1475.46 1532.4 L1475.46 1537.93 Q1477.31 1534.69 1480.27 1533.13 Q1483.23 1531.54 1487.46 1531.54 Q1488.07 1531.54 1488.8 1531.63 Q1489.53 1531.7 1490.42 1531.85 L1490.45 1537.87 Z\" fill=\"#000000\" fill-rule=\"nonzero\" fill-opacity=\"1\" /><path clip-path=\"url(#clip450)\" d=\"M1512.8 1550.12 Q1505.7 1550.12 1502.96 1551.75 Q1500.23 1553.37 1500.23 1557.29 Q1500.23 1560.4 1502.26 1562.25 Q1504.33 1564.07 1507.87 1564.07 Q1512.73 1564.07 1515.66 1560.63 Q1518.62 1557.16 1518.62 1551.43 L1518.62 1550.12 L1512.8 1550.12 M1524.48 1547.71 L1524.48 1568.04 L1518.62 1568.04 L1518.62 1562.63 Q1516.62 1565.88 1513.63 1567.44 Q1510.63 1568.97 1506.31 1568.97 Q1500.83 1568.97 1497.58 1565.91 Q1494.37 1562.82 1494.37 1557.67 Q1494.37 1551.65 1498.38 1548.6 Q1502.42 1545.54 1510.41 1545.54 L1518.62 1545.54 L1518.62 1544.97 Q1518.62 1540.93 1515.95 1538.73 Q1513.31 1536.5 1508.5 1536.5 Q1505.45 1536.5 1502.55 1537.23 Q1499.65 1537.97 1496.98 1539.43 L1496.98 1534.02 Q1500.19 1532.78 1503.22 1532.17 Q1506.24 1531.54 1509.11 1531.54 Q1516.84 1531.54 1520.66 1535.55 Q1524.48 1539.56 1524.48 1547.71 Z\" fill=\"#000000\" fill-rule=\"nonzero\" fill-opacity=\"1\" /><path clip-path=\"url(#clip450)\" d=\"M1542.34 1522.27 L1542.34 1532.4 L1554.4 1532.4 L1554.4 1536.95 L1542.34 1536.95 L1542.34 1556.3 Q1542.34 1560.66 1543.51 1561.9 Q1544.72 1563.14 1548.38 1563.14 L1554.4 1563.14 L1554.4 1568.04 L1548.38 1568.04 Q1541.6 1568.04 1539.03 1565.53 Q1536.45 1562.98 1536.45 1556.3 L1536.45 1536.95 L1532.15 1536.95 L1532.15 1532.4 L1536.45 1532.4 L1536.45 1522.27 L1542.34 1522.27 Z\" fill=\"#000000\" fill-rule=\"nonzero\" fill-opacity=\"1\" /><path clip-path=\"url(#clip450)\" d=\"M1562.1 1532.4 L1567.96 1532.4 L1567.96 1568.04 L1562.1 1568.04 L1562.1 1532.4 M1562.1 1518.52 L1567.96 1518.52 L1567.96 1525.93 L1562.1 1525.93 L1562.1 1518.52 Z\" fill=\"#000000\" fill-rule=\"nonzero\" fill-opacity=\"1\" /><path clip-path=\"url(#clip450)\" d=\"M1594.03 1536.5 Q1589.31 1536.5 1586.58 1540.19 Q1583.84 1543.85 1583.84 1550.25 Q1583.84 1556.65 1586.55 1560.34 Q1589.28 1564 1594.03 1564 Q1598.7 1564 1601.44 1560.31 Q1604.18 1556.62 1604.18 1550.25 Q1604.18 1543.92 1601.44 1540.23 Q1598.7 1536.5 1594.03 1536.5 M1594.03 1531.54 Q1601.66 1531.54 1606.02 1536.5 Q1610.38 1541.47 1610.38 1550.25 Q1610.38 1559 1606.02 1564 Q1601.66 1568.97 1594.03 1568.97 Q1586.35 1568.97 1581.99 1564 Q1577.67 1559 1577.67 1550.25 Q1577.67 1541.47 1581.99 1536.5 Q1586.35 1531.54 1594.03 1531.54 Z\" fill=\"#000000\" fill-rule=\"nonzero\" fill-opacity=\"1\" /><path clip-path=\"url(#clip450)\" d=\"M1649.72 1546.53 L1649.72 1568.04 L1643.87 1568.04 L1643.87 1546.72 Q1643.87 1541.66 1641.9 1539.14 Q1639.92 1536.63 1635.98 1536.63 Q1631.23 1536.63 1628.5 1539.65 Q1625.76 1542.68 1625.76 1547.9 L1625.76 1568.04 L1619.87 1568.04 L1619.87 1532.4 L1625.76 1532.4 L1625.76 1537.93 Q1627.86 1534.72 1630.69 1533.13 Q1633.56 1531.54 1637.28 1531.54 Q1643.42 1531.54 1646.57 1535.36 Q1649.72 1539.14 1649.72 1546.53 Z\" fill=\"#000000\" fill-rule=\"nonzero\" fill-opacity=\"1\" /><polyline clip-path=\"url(#clip450)\" style=\"stroke:#000000; stroke-linecap:round; stroke-linejoin:round; stroke-width:4; stroke-opacity:1; fill:none\" points=\"287.366,1423.18 287.366,123.472 \"/>\n",
       "<polyline clip-path=\"url(#clip450)\" style=\"stroke:#000000; stroke-linecap:round; stroke-linejoin:round; stroke-width:4; stroke-opacity:1; fill:none\" points=\"287.366,1386.4 306.264,1386.4 \"/>\n",
       "<polyline clip-path=\"url(#clip450)\" style=\"stroke:#000000; stroke-linecap:round; stroke-linejoin:round; stroke-width:4; stroke-opacity:1; fill:none\" points=\"287.366,1079.86 306.264,1079.86 \"/>\n",
       "<polyline clip-path=\"url(#clip450)\" style=\"stroke:#000000; stroke-linecap:round; stroke-linejoin:round; stroke-width:4; stroke-opacity:1; fill:none\" points=\"287.366,773.326 306.264,773.326 \"/>\n",
       "<polyline clip-path=\"url(#clip450)\" style=\"stroke:#000000; stroke-linecap:round; stroke-linejoin:round; stroke-width:4; stroke-opacity:1; fill:none\" points=\"287.366,466.791 306.264,466.791 \"/>\n",
       "<polyline clip-path=\"url(#clip450)\" style=\"stroke:#000000; stroke-linecap:round; stroke-linejoin:round; stroke-width:4; stroke-opacity:1; fill:none\" points=\"287.366,160.256 306.264,160.256 \"/>\n",
       "<path clip-path=\"url(#clip450)\" d=\"M114.26 1386.85 L143.936 1386.85 L143.936 1390.78 L114.26 1390.78 L114.26 1386.85 Z\" fill=\"#000000\" fill-rule=\"nonzero\" fill-opacity=\"1\" /><path clip-path=\"url(#clip450)\" d=\"M158.056 1399.74 L174.376 1399.74 L174.376 1403.68 L152.431 1403.68 L152.431 1399.74 Q155.093 1396.99 159.677 1392.36 Q164.283 1387.7 165.464 1386.36 Q167.709 1383.84 168.589 1382.1 Q169.491 1380.34 169.491 1378.65 Q169.491 1375.9 167.547 1374.16 Q165.626 1372.43 162.524 1372.43 Q160.325 1372.43 157.871 1373.19 Q155.44 1373.95 152.663 1375.5 L152.663 1370.78 Q155.487 1369.65 157.94 1369.07 Q160.394 1368.49 162.431 1368.49 Q167.802 1368.49 170.996 1371.18 Q174.19 1373.86 174.19 1378.35 Q174.19 1380.48 173.38 1382.4 Q172.593 1384.3 170.487 1386.89 Q169.908 1387.56 166.806 1390.78 Q163.704 1393.98 158.056 1399.74 Z\" fill=\"#000000\" fill-rule=\"nonzero\" fill-opacity=\"1\" /><path clip-path=\"url(#clip450)\" d=\"M184.19 1397.8 L189.075 1397.8 L189.075 1403.68 L184.19 1403.68 L184.19 1397.8 Z\" fill=\"#000000\" fill-rule=\"nonzero\" fill-opacity=\"1\" /><path clip-path=\"url(#clip450)\" d=\"M209.26 1372.19 Q205.649 1372.19 203.82 1375.76 Q202.014 1379.3 202.014 1386.43 Q202.014 1393.54 203.82 1397.1 Q205.649 1400.64 209.26 1400.64 Q212.894 1400.64 214.699 1397.1 Q216.528 1393.54 216.528 1386.43 Q216.528 1379.3 214.699 1375.76 Q212.894 1372.19 209.26 1372.19 M209.26 1368.49 Q215.07 1368.49 218.125 1373.1 Q221.204 1377.68 221.204 1386.43 Q221.204 1395.16 218.125 1399.76 Q215.07 1404.35 209.26 1404.35 Q203.449 1404.35 200.371 1399.76 Q197.315 1395.16 197.315 1386.43 Q197.315 1377.68 200.371 1373.1 Q203.449 1368.49 209.26 1368.49 Z\" fill=\"#000000\" fill-rule=\"nonzero\" fill-opacity=\"1\" /><path clip-path=\"url(#clip450)\" d=\"M239.422 1372.19 Q235.81 1372.19 233.982 1375.76 Q232.176 1379.3 232.176 1386.43 Q232.176 1393.54 233.982 1397.1 Q235.81 1400.64 239.422 1400.64 Q243.056 1400.64 244.861 1397.1 Q246.69 1393.54 246.69 1386.43 Q246.69 1379.3 244.861 1375.76 Q243.056 1372.19 239.422 1372.19 M239.422 1368.49 Q245.232 1368.49 248.287 1373.1 Q251.366 1377.68 251.366 1386.43 Q251.366 1395.16 248.287 1399.76 Q245.232 1404.35 239.422 1404.35 Q233.611 1404.35 230.533 1399.76 Q227.477 1395.16 227.477 1386.43 Q227.477 1377.68 230.533 1373.1 Q233.611 1368.49 239.422 1368.49 Z\" fill=\"#000000\" fill-rule=\"nonzero\" fill-opacity=\"1\" /><path clip-path=\"url(#clip450)\" d=\"M115.256 1080.31 L144.931 1080.31 L144.931 1084.25 L115.256 1084.25 L115.256 1080.31 Z\" fill=\"#000000\" fill-rule=\"nonzero\" fill-opacity=\"1\" /><path clip-path=\"url(#clip450)\" d=\"M155.834 1093.21 L163.473 1093.21 L163.473 1066.84 L155.163 1068.51 L155.163 1064.25 L163.427 1062.58 L168.102 1062.58 L168.102 1093.21 L175.741 1093.21 L175.741 1097.14 L155.834 1097.14 L155.834 1093.21 Z\" fill=\"#000000\" fill-rule=\"nonzero\" fill-opacity=\"1\" /><path clip-path=\"url(#clip450)\" d=\"M185.186 1091.26 L190.07 1091.26 L190.07 1097.14 L185.186 1097.14 L185.186 1091.26 Z\" fill=\"#000000\" fill-rule=\"nonzero\" fill-opacity=\"1\" /><path clip-path=\"url(#clip450)\" d=\"M199.075 1062.58 L221.297 1062.58 L221.297 1064.57 L208.75 1097.14 L203.866 1097.14 L215.672 1066.52 L199.075 1066.52 L199.075 1062.58 Z\" fill=\"#000000\" fill-rule=\"nonzero\" fill-opacity=\"1\" /><path clip-path=\"url(#clip450)\" d=\"M230.463 1062.58 L248.82 1062.58 L248.82 1066.52 L234.746 1066.52 L234.746 1074.99 Q235.764 1074.64 236.783 1074.48 Q237.801 1074.29 238.82 1074.29 Q244.607 1074.29 247.986 1077.47 Q251.366 1080.64 251.366 1086.05 Q251.366 1091.63 247.894 1094.73 Q244.421 1097.81 238.102 1097.81 Q235.926 1097.81 233.658 1097.44 Q231.412 1097.07 229.005 1096.33 L229.005 1091.63 Q231.088 1092.77 233.31 1093.32 Q235.533 1093.88 238.009 1093.88 Q242.014 1093.88 244.352 1091.77 Q246.69 1089.66 246.69 1086.05 Q246.69 1082.44 244.352 1080.34 Q242.014 1078.23 238.009 1078.23 Q236.135 1078.23 234.26 1078.65 Q232.408 1079.06 230.463 1079.94 L230.463 1062.58 Z\" fill=\"#000000\" fill-rule=\"nonzero\" fill-opacity=\"1\" /><path clip-path=\"url(#clip450)\" d=\"M114.26 773.777 L143.936 773.777 L143.936 777.713 L114.26 777.713 L114.26 773.777 Z\" fill=\"#000000\" fill-rule=\"nonzero\" fill-opacity=\"1\" /><path clip-path=\"url(#clip450)\" d=\"M154.839 786.671 L162.477 786.671 L162.477 760.305 L154.167 761.972 L154.167 757.713 L162.431 756.046 L167.107 756.046 L167.107 786.671 L174.746 786.671 L174.746 790.606 L154.839 790.606 L154.839 786.671 Z\" fill=\"#000000\" fill-rule=\"nonzero\" fill-opacity=\"1\" /><path clip-path=\"url(#clip450)\" d=\"M184.19 784.726 L189.075 784.726 L189.075 790.606 L184.19 790.606 L184.19 784.726 Z\" fill=\"#000000\" fill-rule=\"nonzero\" fill-opacity=\"1\" /><path clip-path=\"url(#clip450)\" d=\"M199.306 756.046 L217.662 756.046 L217.662 759.981 L203.588 759.981 L203.588 768.453 Q204.607 768.106 205.625 767.944 Q206.644 767.759 207.662 767.759 Q213.449 767.759 216.829 770.93 Q220.209 774.101 220.209 779.518 Q220.209 785.097 216.736 788.199 Q213.264 791.277 206.945 791.277 Q204.769 791.277 202.5 790.907 Q200.255 790.537 197.848 789.796 L197.848 785.097 Q199.931 786.231 202.153 786.787 Q204.375 787.342 206.852 787.342 Q210.857 787.342 213.195 785.236 Q215.533 783.129 215.533 779.518 Q215.533 775.907 213.195 773.801 Q210.857 771.694 206.852 771.694 Q204.977 771.694 203.102 772.111 Q201.25 772.527 199.306 773.407 L199.306 756.046 Z\" fill=\"#000000\" fill-rule=\"nonzero\" fill-opacity=\"1\" /><path clip-path=\"url(#clip450)\" d=\"M239.422 759.125 Q235.81 759.125 233.982 762.689 Q232.176 766.231 232.176 773.361 Q232.176 780.467 233.982 784.032 Q235.81 787.574 239.422 787.574 Q243.056 787.574 244.861 784.032 Q246.69 780.467 246.69 773.361 Q246.69 766.231 244.861 762.689 Q243.056 759.125 239.422 759.125 M239.422 755.421 Q245.232 755.421 248.287 760.027 Q251.366 764.611 251.366 773.361 Q251.366 782.088 248.287 786.694 Q245.232 791.277 239.422 791.277 Q233.611 791.277 230.533 786.694 Q227.477 782.088 227.477 773.361 Q227.477 764.611 230.533 760.027 Q233.611 755.421 239.422 755.421 Z\" fill=\"#000000\" fill-rule=\"nonzero\" fill-opacity=\"1\" /><path clip-path=\"url(#clip450)\" d=\"M115.256 467.243 L144.931 467.243 L144.931 471.178 L115.256 471.178 L115.256 467.243 Z\" fill=\"#000000\" fill-rule=\"nonzero\" fill-opacity=\"1\" /><path clip-path=\"url(#clip450)\" d=\"M155.834 480.136 L163.473 480.136 L163.473 453.77 L155.163 455.437 L155.163 451.178 L163.427 449.511 L168.102 449.511 L168.102 480.136 L175.741 480.136 L175.741 484.071 L155.834 484.071 L155.834 480.136 Z\" fill=\"#000000\" fill-rule=\"nonzero\" fill-opacity=\"1\" /><path clip-path=\"url(#clip450)\" d=\"M185.186 478.192 L190.07 478.192 L190.07 484.071 L185.186 484.071 L185.186 478.192 Z\" fill=\"#000000\" fill-rule=\"nonzero\" fill-opacity=\"1\" /><path clip-path=\"url(#clip450)\" d=\"M204.283 480.136 L220.602 480.136 L220.602 484.071 L198.658 484.071 L198.658 480.136 Q201.32 477.381 205.903 472.752 Q210.51 468.099 211.69 466.756 Q213.936 464.233 214.815 462.497 Q215.718 460.738 215.718 459.048 Q215.718 456.294 213.774 454.557 Q211.852 452.821 208.75 452.821 Q206.551 452.821 204.098 453.585 Q201.667 454.349 198.889 455.9 L198.889 451.178 Q201.713 450.044 204.167 449.465 Q206.621 448.886 208.658 448.886 Q214.028 448.886 217.223 451.571 Q220.417 454.256 220.417 458.747 Q220.417 460.877 219.607 462.798 Q218.82 464.696 216.713 467.289 Q216.135 467.96 213.033 471.178 Q209.931 474.372 204.283 480.136 Z\" fill=\"#000000\" fill-rule=\"nonzero\" fill-opacity=\"1\" /><path clip-path=\"url(#clip450)\" d=\"M230.463 449.511 L248.82 449.511 L248.82 453.446 L234.746 453.446 L234.746 461.918 Q235.764 461.571 236.783 461.409 Q237.801 461.224 238.82 461.224 Q244.607 461.224 247.986 464.395 Q251.366 467.567 251.366 472.983 Q251.366 478.562 247.894 481.664 Q244.421 484.742 238.102 484.742 Q235.926 484.742 233.658 484.372 Q231.412 484.002 229.005 483.261 L229.005 478.562 Q231.088 479.696 233.31 480.252 Q235.533 480.807 238.009 480.807 Q242.014 480.807 244.352 478.701 Q246.69 476.594 246.69 472.983 Q246.69 469.372 244.352 467.266 Q242.014 465.159 238.009 465.159 Q236.135 465.159 234.26 465.576 Q232.408 465.993 230.463 466.872 L230.463 449.511 Z\" fill=\"#000000\" fill-rule=\"nonzero\" fill-opacity=\"1\" /><path clip-path=\"url(#clip450)\" d=\"M114.26 160.708 L143.936 160.708 L143.936 164.643 L114.26 164.643 L114.26 160.708 Z\" fill=\"#000000\" fill-rule=\"nonzero\" fill-opacity=\"1\" /><path clip-path=\"url(#clip450)\" d=\"M154.839 173.601 L162.477 173.601 L162.477 147.236 L154.167 148.902 L154.167 144.643 L162.431 142.976 L167.107 142.976 L167.107 173.601 L174.746 173.601 L174.746 177.536 L154.839 177.536 L154.839 173.601 Z\" fill=\"#000000\" fill-rule=\"nonzero\" fill-opacity=\"1\" /><path clip-path=\"url(#clip450)\" d=\"M184.19 171.657 L189.075 171.657 L189.075 177.536 L184.19 177.536 L184.19 171.657 Z\" fill=\"#000000\" fill-rule=\"nonzero\" fill-opacity=\"1\" /><path clip-path=\"url(#clip450)\" d=\"M209.26 146.055 Q205.649 146.055 203.82 149.62 Q202.014 153.161 202.014 160.291 Q202.014 167.397 203.82 170.962 Q205.649 174.504 209.26 174.504 Q212.894 174.504 214.699 170.962 Q216.528 167.397 216.528 160.291 Q216.528 153.161 214.699 149.62 Q212.894 146.055 209.26 146.055 M209.26 142.351 Q215.07 142.351 218.125 146.958 Q221.204 151.541 221.204 160.291 Q221.204 169.018 218.125 173.624 Q215.07 178.208 209.26 178.208 Q203.449 178.208 200.371 173.624 Q197.315 169.018 197.315 160.291 Q197.315 151.541 200.371 146.958 Q203.449 142.351 209.26 142.351 Z\" fill=\"#000000\" fill-rule=\"nonzero\" fill-opacity=\"1\" /><path clip-path=\"url(#clip450)\" d=\"M239.422 146.055 Q235.81 146.055 233.982 149.62 Q232.176 153.161 232.176 160.291 Q232.176 167.397 233.982 170.962 Q235.81 174.504 239.422 174.504 Q243.056 174.504 244.861 170.962 Q246.69 167.397 246.69 160.291 Q246.69 153.161 244.861 149.62 Q243.056 146.055 239.422 146.055 M239.422 142.351 Q245.232 142.351 248.287 146.958 Q251.366 151.541 251.366 160.291 Q251.366 169.018 248.287 173.624 Q245.232 178.208 239.422 178.208 Q233.611 178.208 230.533 173.624 Q227.477 169.018 227.477 160.291 Q227.477 151.541 230.533 146.958 Q233.611 142.351 239.422 142.351 Z\" fill=\"#000000\" fill-rule=\"nonzero\" fill-opacity=\"1\" /><path clip-path=\"url(#clip450)\" d=\"M16.4842 788.636 L16.4842 758.589 L21.895 758.589 L21.895 782.206 L35.9632 782.206 L35.9632 759.576 L41.3741 759.576 L41.3741 782.206 L58.5933 782.206 L58.5933 758.016 L64.0042 758.016 L64.0042 788.636 L16.4842 788.636 Z\" fill=\"#000000\" fill-rule=\"nonzero\" fill-opacity=\"1\" /><path clip-path=\"url(#clip450)\" d=\"M900.59 12.096 L938.83 12.096 L938.83 18.9825 L908.773 18.9825 L908.773 36.8875 L937.575 36.8875 L937.575 43.7741 L908.773 43.7741 L908.773 65.6895 L939.559 65.6895 L939.559 72.576 L900.59 72.576 L900.59 12.096 Z\" fill=\"#000000\" fill-rule=\"nonzero\" fill-opacity=\"1\" /><path clip-path=\"url(#clip450)\" d=\"M990.398 45.1919 L990.398 72.576 L982.945 72.576 L982.945 45.4349 Q982.945 38.994 980.433 35.7938 Q977.922 32.5936 972.898 32.5936 Q966.863 32.5936 963.379 36.4419 Q959.895 40.2903 959.895 46.9338 L959.895 72.576 L952.401 72.576 L952.401 27.2059 L959.895 27.2059 L959.895 34.2544 Q962.569 30.163 966.174 28.1376 Q969.82 26.1121 974.559 26.1121 Q982.378 26.1121 986.388 30.9732 Q990.398 35.7938 990.398 45.1919 Z\" fill=\"#000000\" fill-rule=\"nonzero\" fill-opacity=\"1\" /><path clip-path=\"url(#clip450)\" d=\"M1044.07 48.0275 L1044.07 51.6733 L1009.8 51.6733 Q1010.29 59.3701 1014.42 63.421 Q1018.59 67.4314 1026.01 67.4314 Q1030.3 67.4314 1034.31 66.3781 Q1038.36 65.3249 1042.33 63.2184 L1042.33 70.267 Q1038.32 71.9684 1034.11 72.8596 Q1029.89 73.7508 1025.56 73.7508 Q1014.7 73.7508 1008.34 67.4314 Q1002.02 61.1119 1002.02 50.3365 Q1002.02 39.1965 1008.02 32.6746 Q1014.06 26.1121 1024.26 26.1121 Q1033.42 26.1121 1038.73 32.0264 Q1044.07 37.9003 1044.07 48.0275 M1036.62 45.84 Q1036.54 39.7232 1033.18 36.0774 Q1029.85 32.4315 1024.34 32.4315 Q1018.11 32.4315 1014.34 35.9558 Q1010.61 39.4801 1010.05 45.8805 L1036.62 45.84 Z\" fill=\"#000000\" fill-rule=\"nonzero\" fill-opacity=\"1\" /><path clip-path=\"url(#clip450)\" d=\"M1082.6 34.1734 Q1081.34 33.4443 1079.84 33.1202 Q1078.38 32.7556 1076.6 32.7556 Q1070.28 32.7556 1066.88 36.8875 Q1063.52 40.9789 1063.52 48.6757 L1063.52 72.576 L1056.02 72.576 L1056.02 27.2059 L1063.52 27.2059 L1063.52 34.2544 Q1065.87 30.1225 1069.63 28.1376 Q1073.4 26.1121 1078.79 26.1121 Q1079.56 26.1121 1080.49 26.2337 Q1081.42 26.3147 1082.56 26.5172 L1082.6 34.1734 Z\" fill=\"#000000\" fill-rule=\"nonzero\" fill-opacity=\"1\" /><path clip-path=\"url(#clip450)\" d=\"M1118.81 49.3643 Q1118.81 41.2625 1115.45 36.8065 Q1112.13 32.3505 1106.09 32.3505 Q1100.1 32.3505 1096.73 36.8065 Q1093.41 41.2625 1093.41 49.3643 Q1093.41 57.4256 1096.73 61.8816 Q1100.1 66.3376 1106.09 66.3376 Q1112.13 66.3376 1115.45 61.8816 Q1118.81 57.4256 1118.81 49.3643 M1126.27 66.9452 Q1126.27 78.5308 1121.12 84.1616 Q1115.98 89.8329 1105.36 89.8329 Q1101.43 89.8329 1097.95 89.2252 Q1094.47 88.6581 1091.18 87.4428 L1091.18 80.1917 Q1094.47 81.9741 1097.67 82.8248 Q1100.87 83.6755 1104.19 83.6755 Q1111.52 83.6755 1115.17 79.8271 Q1118.81 76.0193 1118.81 68.282 L1118.81 64.5957 Q1116.5 68.6061 1112.9 70.5911 Q1109.29 72.576 1104.27 72.576 Q1095.92 72.576 1090.82 66.2161 Q1085.72 59.8562 1085.72 49.3643 Q1085.72 38.832 1090.82 32.472 Q1095.92 26.1121 1104.27 26.1121 Q1109.29 26.1121 1112.9 28.0971 Q1116.5 30.082 1118.81 34.0924 L1118.81 27.2059 L1126.27 27.2059 L1126.27 66.9452 Z\" fill=\"#000000\" fill-rule=\"nonzero\" fill-opacity=\"1\" /><path clip-path=\"url(#clip450)\" d=\"M1160.5 76.7889 Q1157.34 84.8907 1154.34 87.3618 Q1151.34 89.8329 1146.32 89.8329 L1140.36 89.8329 L1140.36 83.5945 L1144.74 83.5945 Q1147.82 83.5945 1149.52 82.1361 Q1151.22 80.6778 1153.29 75.2496 L1154.62 71.8468 L1136.27 27.2059 L1144.17 27.2059 L1158.35 62.6918 L1172.53 27.2059 L1180.43 27.2059 L1160.5 76.7889 Z\" fill=\"#000000\" fill-rule=\"nonzero\" fill-opacity=\"1\" /><path clip-path=\"url(#clip450)\" d=\"M1249.74 28.9478 L1249.74 35.9153 Q1246.58 34.1734 1243.38 33.3227 Q1240.22 32.4315 1236.98 32.4315 Q1229.73 32.4315 1225.72 37.0496 Q1221.7 41.6271 1221.7 49.9314 Q1221.7 58.2358 1225.72 62.8538 Q1229.73 67.4314 1236.98 67.4314 Q1240.22 67.4314 1243.38 66.5807 Q1246.58 65.6895 1249.74 63.9476 L1249.74 70.8341 Q1246.62 72.2924 1243.26 73.0216 Q1239.93 73.7508 1236.17 73.7508 Q1225.92 73.7508 1219.88 67.3098 Q1213.85 60.8689 1213.85 49.9314 Q1213.85 38.832 1219.92 32.472 Q1226.04 26.1121 1236.65 26.1121 Q1240.1 26.1121 1243.38 26.8413 Q1246.66 27.5299 1249.74 28.9478 Z\" fill=\"#000000\" fill-rule=\"nonzero\" fill-opacity=\"1\" /><path clip-path=\"url(#clip450)\" d=\"M1280.28 32.4315 Q1274.29 32.4315 1270.8 37.1306 Q1267.32 41.7891 1267.32 49.9314 Q1267.32 58.0738 1270.76 62.7728 Q1274.25 67.4314 1280.28 67.4314 Q1286.24 67.4314 1289.72 62.7323 Q1293.2 58.0333 1293.2 49.9314 Q1293.2 41.8701 1289.72 37.1711 Q1286.24 32.4315 1280.28 32.4315 M1280.28 26.1121 Q1290 26.1121 1295.55 32.4315 Q1301.1 38.7509 1301.1 49.9314 Q1301.1 61.0714 1295.55 67.4314 Q1290 73.7508 1280.28 73.7508 Q1270.52 73.7508 1264.97 67.4314 Q1259.46 61.0714 1259.46 49.9314 Q1259.46 38.7509 1264.97 32.4315 Q1270.52 26.1121 1280.28 26.1121 Z\" fill=\"#000000\" fill-rule=\"nonzero\" fill-opacity=\"1\" /><path clip-path=\"url(#clip450)\" d=\"M1351.17 45.1919 L1351.17 72.576 L1343.72 72.576 L1343.72 45.4349 Q1343.72 38.994 1341.21 35.7938 Q1338.7 32.5936 1333.67 32.5936 Q1327.64 32.5936 1324.15 36.4419 Q1320.67 40.2903 1320.67 46.9338 L1320.67 72.576 L1313.17 72.576 L1313.17 27.2059 L1320.67 27.2059 L1320.67 34.2544 Q1323.34 30.163 1326.95 28.1376 Q1330.59 26.1121 1335.33 26.1121 Q1343.15 26.1121 1347.16 30.9732 Q1351.17 35.7938 1351.17 45.1919 Z\" fill=\"#000000\" fill-rule=\"nonzero\" fill-opacity=\"1\" /><path clip-path=\"url(#clip450)\" d=\"M1360.69 27.2059 L1368.59 27.2059 L1382.77 65.2844 L1396.95 27.2059 L1404.85 27.2059 L1387.83 72.576 L1377.71 72.576 L1360.69 27.2059 Z\" fill=\"#000000\" fill-rule=\"nonzero\" fill-opacity=\"1\" /><path clip-path=\"url(#clip450)\" d=\"M1453.94 48.0275 L1453.94 51.6733 L1419.67 51.6733 Q1420.16 59.3701 1424.29 63.421 Q1428.46 67.4314 1435.88 67.4314 Q1440.17 67.4314 1444.18 66.3781 Q1448.23 65.3249 1452.2 63.2184 L1452.2 70.267 Q1448.19 71.9684 1443.98 72.8596 Q1439.77 73.7508 1435.43 73.7508 Q1424.57 73.7508 1418.21 67.4314 Q1411.89 61.1119 1411.89 50.3365 Q1411.89 39.1965 1417.89 32.6746 Q1423.93 26.1121 1434.13 26.1121 Q1443.29 26.1121 1448.6 32.0264 Q1453.94 37.9003 1453.94 48.0275 M1446.49 45.84 Q1446.41 39.7232 1443.05 36.0774 Q1439.72 32.4315 1434.22 32.4315 Q1427.98 32.4315 1424.21 35.9558 Q1420.48 39.4801 1419.92 45.8805 L1446.49 45.84 Z\" fill=\"#000000\" fill-rule=\"nonzero\" fill-opacity=\"1\" /><path clip-path=\"url(#clip450)\" d=\"M1492.47 34.1734 Q1491.21 33.4443 1489.71 33.1202 Q1488.25 32.7556 1486.47 32.7556 Q1480.15 32.7556 1476.75 36.8875 Q1473.39 40.9789 1473.39 48.6757 L1473.39 72.576 L1465.89 72.576 L1465.89 27.2059 L1473.39 27.2059 L1473.39 34.2544 Q1475.74 30.1225 1479.5 28.1376 Q1483.27 26.1121 1488.66 26.1121 Q1489.43 26.1121 1490.36 26.2337 Q1491.29 26.3147 1492.43 26.5172 L1492.47 34.1734 Z\" fill=\"#000000\" fill-rule=\"nonzero\" fill-opacity=\"1\" /><path clip-path=\"url(#clip450)\" d=\"M1528.68 49.3643 Q1528.68 41.2625 1525.32 36.8065 Q1522 32.3505 1515.96 32.3505 Q1509.97 32.3505 1506.61 36.8065 Q1503.28 41.2625 1503.28 49.3643 Q1503.28 57.4256 1506.61 61.8816 Q1509.97 66.3376 1515.96 66.3376 Q1522 66.3376 1525.32 61.8816 Q1528.68 57.4256 1528.68 49.3643 M1536.14 66.9452 Q1536.14 78.5308 1530.99 84.1616 Q1525.85 89.8329 1515.23 89.8329 Q1511.3 89.8329 1507.82 89.2252 Q1504.34 88.6581 1501.06 87.4428 L1501.06 80.1917 Q1504.34 81.9741 1507.54 82.8248 Q1510.74 83.6755 1514.06 83.6755 Q1521.39 83.6755 1525.04 79.8271 Q1528.68 76.0193 1528.68 68.282 L1528.68 64.5957 Q1526.37 68.6061 1522.77 70.5911 Q1519.16 72.576 1514.14 72.576 Q1505.79 72.576 1500.69 66.2161 Q1495.59 59.8562 1495.59 49.3643 Q1495.59 38.832 1500.69 32.472 Q1505.79 26.1121 1514.14 26.1121 Q1519.16 26.1121 1522.77 28.0971 Q1526.37 30.082 1528.68 34.0924 L1528.68 27.2059 L1536.14 27.2059 L1536.14 66.9452 Z\" fill=\"#000000\" fill-rule=\"nonzero\" fill-opacity=\"1\" /><path clip-path=\"url(#clip450)\" d=\"M1590.3 48.0275 L1590.3 51.6733 L1556.03 51.6733 Q1556.51 59.3701 1560.64 63.421 Q1564.82 67.4314 1572.23 67.4314 Q1576.52 67.4314 1580.53 66.3781 Q1584.58 65.3249 1588.55 63.2184 L1588.55 70.267 Q1584.54 71.9684 1580.33 72.8596 Q1576.12 73.7508 1571.78 73.7508 Q1560.93 73.7508 1554.57 67.4314 Q1548.25 61.1119 1548.25 50.3365 Q1548.25 39.1965 1554.24 32.6746 Q1560.28 26.1121 1570.49 26.1121 Q1579.64 26.1121 1584.95 32.0264 Q1590.3 37.9003 1590.3 48.0275 M1582.84 45.84 Q1582.76 39.7232 1579.4 36.0774 Q1576.08 32.4315 1570.57 32.4315 Q1564.33 32.4315 1560.56 35.9558 Q1556.84 39.4801 1556.27 45.8805 L1582.84 45.84 Z\" fill=\"#000000\" fill-rule=\"nonzero\" fill-opacity=\"1\" /><path clip-path=\"url(#clip450)\" d=\"M1640.24 45.1919 L1640.24 72.576 L1632.79 72.576 L1632.79 45.4349 Q1632.79 38.994 1630.28 35.7938 Q1627.77 32.5936 1622.74 32.5936 Q1616.71 32.5936 1613.22 36.4419 Q1609.74 40.2903 1609.74 46.9338 L1609.74 72.576 L1602.25 72.576 L1602.25 27.2059 L1609.74 27.2059 L1609.74 34.2544 Q1612.41 30.163 1616.02 28.1376 Q1619.67 26.1121 1624.41 26.1121 Q1632.22 26.1121 1636.23 30.9732 Q1640.24 35.7938 1640.24 45.1919 Z\" fill=\"#000000\" fill-rule=\"nonzero\" fill-opacity=\"1\" /><path clip-path=\"url(#clip450)\" d=\"M1687.76 28.9478 L1687.76 35.9153 Q1684.6 34.1734 1681.4 33.3227 Q1678.24 32.4315 1675 32.4315 Q1667.75 32.4315 1663.74 37.0496 Q1659.73 41.6271 1659.73 49.9314 Q1659.73 58.2358 1663.74 62.8538 Q1667.75 67.4314 1675 67.4314 Q1678.24 67.4314 1681.4 66.5807 Q1684.6 65.6895 1687.76 63.9476 L1687.76 70.8341 Q1684.64 72.2924 1681.28 73.0216 Q1677.96 73.7508 1674.19 73.7508 Q1663.94 73.7508 1657.91 67.3098 Q1651.87 60.8689 1651.87 49.9314 Q1651.87 38.832 1657.95 32.472 Q1664.06 26.1121 1674.68 26.1121 Q1678.12 26.1121 1681.4 26.8413 Q1684.68 27.5299 1687.76 28.9478 Z\" fill=\"#000000\" fill-rule=\"nonzero\" fill-opacity=\"1\" /><path clip-path=\"url(#clip450)\" d=\"M1739.53 48.0275 L1739.53 51.6733 L1705.26 51.6733 Q1705.75 59.3701 1709.88 63.421 Q1714.05 67.4314 1721.47 67.4314 Q1725.76 67.4314 1729.77 66.3781 Q1733.82 65.3249 1737.79 63.2184 L1737.79 70.267 Q1733.78 71.9684 1729.57 72.8596 Q1725.35 73.7508 1721.02 73.7508 Q1710.16 73.7508 1703.8 67.4314 Q1697.48 61.1119 1697.48 50.3365 Q1697.48 39.1965 1703.48 32.6746 Q1709.51 26.1121 1719.72 26.1121 Q1728.88 26.1121 1734.18 32.0264 Q1739.53 37.9003 1739.53 48.0275 M1732.08 45.84 Q1732 39.7232 1728.64 36.0774 Q1725.31 32.4315 1719.8 32.4315 Q1713.57 32.4315 1709.8 35.9558 Q1706.07 39.4801 1705.5 45.8805 L1732.08 45.84 Z\" fill=\"#000000\" fill-rule=\"nonzero\" fill-opacity=\"1\" /><polyline clip-path=\"url(#clip452)\" style=\"stroke:#009af9; stroke-linecap:round; stroke-linejoin:round; stroke-width:4; stroke-opacity:1; fill:none\" points=\"345.82,1386.4 448.372,1386.4 550.924,1386.4 653.475,1386.4 756.027,1386.4 858.579,1386.4 961.13,1386.4 1063.68,1386.4 1166.23,1386.4 1268.79,1386.4 1371.34,1386.4 1473.89,1386.4 1576.44,1386.4 1678.99,1386.4 1781.54,1386.4 1884.09,1386.4 1986.65,1386.4 2089.2,1386.4 2191.75,1386.4 2294.3,1386.4 \"/>\n",
       "<path clip-path=\"url(#clip452)\" d=\"M345.82 1402.4 L334.508 1397.71 L329.82 1386.4 L334.508 1375.08 L345.82 1370.4 L357.132 1375.08 L361.82 1386.4 L357.132 1397.71 Z\" fill=\"#009af9\" fill-rule=\"evenodd\" fill-opacity=\"1\" stroke=\"#000000\" stroke-opacity=\"1\" stroke-width=\"3.2\"/>\n",
       "<path clip-path=\"url(#clip452)\" d=\"M448.372 1402.4 L437.06 1397.71 L432.372 1386.4 L437.06 1375.08 L448.372 1370.4 L459.684 1375.08 L464.372 1386.4 L459.684 1397.71 Z\" fill=\"#009af9\" fill-rule=\"evenodd\" fill-opacity=\"1\" stroke=\"#000000\" stroke-opacity=\"1\" stroke-width=\"3.2\"/>\n",
       "<path clip-path=\"url(#clip452)\" d=\"M550.924 1402.4 L539.612 1397.71 L534.924 1386.4 L539.612 1375.08 L550.924 1370.4 L562.236 1375.08 L566.924 1386.4 L562.236 1397.71 Z\" fill=\"#009af9\" fill-rule=\"evenodd\" fill-opacity=\"1\" stroke=\"#000000\" stroke-opacity=\"1\" stroke-width=\"3.2\"/>\n",
       "<path clip-path=\"url(#clip452)\" d=\"M653.475 1402.4 L642.163 1397.71 L637.475 1386.4 L642.163 1375.08 L653.475 1370.4 L664.787 1375.08 L669.475 1386.4 L664.787 1397.71 Z\" fill=\"#009af9\" fill-rule=\"evenodd\" fill-opacity=\"1\" stroke=\"#000000\" stroke-opacity=\"1\" stroke-width=\"3.2\"/>\n",
       "<path clip-path=\"url(#clip452)\" d=\"M756.027 1402.4 L744.715 1397.71 L740.027 1386.4 L744.715 1375.08 L756.027 1370.4 L767.339 1375.08 L772.027 1386.4 L767.339 1397.71 Z\" fill=\"#009af9\" fill-rule=\"evenodd\" fill-opacity=\"1\" stroke=\"#000000\" stroke-opacity=\"1\" stroke-width=\"3.2\"/>\n",
       "<path clip-path=\"url(#clip452)\" d=\"M858.579 1402.4 L847.267 1397.71 L842.579 1386.4 L847.267 1375.08 L858.579 1370.4 L869.891 1375.08 L874.579 1386.4 L869.891 1397.71 Z\" fill=\"#009af9\" fill-rule=\"evenodd\" fill-opacity=\"1\" stroke=\"#000000\" stroke-opacity=\"1\" stroke-width=\"3.2\"/>\n",
       "<path clip-path=\"url(#clip452)\" d=\"M961.13 1402.4 L949.818 1397.71 L945.13 1386.4 L949.818 1375.08 L961.13 1370.4 L972.442 1375.08 L977.13 1386.4 L972.442 1397.71 Z\" fill=\"#009af9\" fill-rule=\"evenodd\" fill-opacity=\"1\" stroke=\"#000000\" stroke-opacity=\"1\" stroke-width=\"3.2\"/>\n",
       "<path clip-path=\"url(#clip452)\" d=\"M1063.68 1402.4 L1052.37 1397.71 L1047.68 1386.4 L1052.37 1375.08 L1063.68 1370.4 L1074.99 1375.08 L1079.68 1386.4 L1074.99 1397.71 Z\" fill=\"#009af9\" fill-rule=\"evenodd\" fill-opacity=\"1\" stroke=\"#000000\" stroke-opacity=\"1\" stroke-width=\"3.2\"/>\n",
       "<path clip-path=\"url(#clip452)\" d=\"M1166.23 1402.4 L1154.92 1397.71 L1150.23 1386.4 L1154.92 1375.08 L1166.23 1370.4 L1177.55 1375.08 L1182.23 1386.4 L1177.55 1397.71 Z\" fill=\"#009af9\" fill-rule=\"evenodd\" fill-opacity=\"1\" stroke=\"#000000\" stroke-opacity=\"1\" stroke-width=\"3.2\"/>\n",
       "<path clip-path=\"url(#clip452)\" d=\"M1268.79 1402.4 L1257.47 1397.71 L1252.79 1386.4 L1257.47 1375.08 L1268.79 1370.4 L1280.1 1375.08 L1284.79 1386.4 L1280.1 1397.71 Z\" fill=\"#009af9\" fill-rule=\"evenodd\" fill-opacity=\"1\" stroke=\"#000000\" stroke-opacity=\"1\" stroke-width=\"3.2\"/>\n",
       "<path clip-path=\"url(#clip452)\" d=\"M1371.34 1402.4 L1360.02 1397.71 L1355.34 1386.4 L1360.02 1375.08 L1371.34 1370.4 L1382.65 1375.08 L1387.34 1386.4 L1382.65 1397.71 Z\" fill=\"#009af9\" fill-rule=\"evenodd\" fill-opacity=\"1\" stroke=\"#000000\" stroke-opacity=\"1\" stroke-width=\"3.2\"/>\n",
       "<path clip-path=\"url(#clip452)\" d=\"M1473.89 1402.4 L1462.58 1397.71 L1457.89 1386.4 L1462.58 1375.08 L1473.89 1370.4 L1485.2 1375.08 L1489.89 1386.4 L1485.2 1397.71 Z\" fill=\"#009af9\" fill-rule=\"evenodd\" fill-opacity=\"1\" stroke=\"#000000\" stroke-opacity=\"1\" stroke-width=\"3.2\"/>\n",
       "<path clip-path=\"url(#clip452)\" d=\"M1576.44 1402.4 L1565.13 1397.71 L1560.44 1386.4 L1565.13 1375.08 L1576.44 1370.4 L1587.75 1375.08 L1592.44 1386.4 L1587.75 1397.71 Z\" fill=\"#009af9\" fill-rule=\"evenodd\" fill-opacity=\"1\" stroke=\"#000000\" stroke-opacity=\"1\" stroke-width=\"3.2\"/>\n",
       "<path clip-path=\"url(#clip452)\" d=\"M1678.99 1402.4 L1667.68 1397.71 L1662.99 1386.4 L1667.68 1375.08 L1678.99 1370.4 L1690.3 1375.08 L1694.99 1386.4 L1690.3 1397.71 Z\" fill=\"#009af9\" fill-rule=\"evenodd\" fill-opacity=\"1\" stroke=\"#000000\" stroke-opacity=\"1\" stroke-width=\"3.2\"/>\n",
       "<path clip-path=\"url(#clip452)\" d=\"M1781.54 1402.4 L1770.23 1397.71 L1765.54 1386.4 L1770.23 1375.08 L1781.54 1370.4 L1792.86 1375.08 L1797.54 1386.4 L1792.86 1397.71 Z\" fill=\"#009af9\" fill-rule=\"evenodd\" fill-opacity=\"1\" stroke=\"#000000\" stroke-opacity=\"1\" stroke-width=\"3.2\"/>\n",
       "<path clip-path=\"url(#clip452)\" d=\"M1884.09 1402.4 L1872.78 1397.71 L1868.09 1386.4 L1872.78 1375.08 L1884.09 1370.4 L1895.41 1375.08 L1900.09 1386.4 L1895.41 1397.71 Z\" fill=\"#009af9\" fill-rule=\"evenodd\" fill-opacity=\"1\" stroke=\"#000000\" stroke-opacity=\"1\" stroke-width=\"3.2\"/>\n",
       "<path clip-path=\"url(#clip452)\" d=\"M1986.65 1402.4 L1975.33 1397.71 L1970.65 1386.4 L1975.33 1375.08 L1986.65 1370.4 L1997.96 1375.08 L2002.65 1386.4 L1997.96 1397.71 Z\" fill=\"#009af9\" fill-rule=\"evenodd\" fill-opacity=\"1\" stroke=\"#000000\" stroke-opacity=\"1\" stroke-width=\"3.2\"/>\n",
       "<path clip-path=\"url(#clip452)\" d=\"M2089.2 1402.4 L2077.89 1397.71 L2073.2 1386.4 L2077.89 1375.08 L2089.2 1370.4 L2100.51 1375.08 L2105.2 1386.4 L2100.51 1397.71 Z\" fill=\"#009af9\" fill-rule=\"evenodd\" fill-opacity=\"1\" stroke=\"#000000\" stroke-opacity=\"1\" stroke-width=\"3.2\"/>\n",
       "<path clip-path=\"url(#clip452)\" d=\"M2191.75 1402.4 L2180.44 1397.71 L2175.75 1386.4 L2180.44 1375.08 L2191.75 1370.4 L2203.06 1375.08 L2207.75 1386.4 L2203.06 1397.71 Z\" fill=\"#009af9\" fill-rule=\"evenodd\" fill-opacity=\"1\" stroke=\"#000000\" stroke-opacity=\"1\" stroke-width=\"3.2\"/>\n",
       "<path clip-path=\"url(#clip452)\" d=\"M2294.3 1402.4 L2282.99 1397.71 L2278.3 1386.4 L2282.99 1375.08 L2294.3 1370.4 L2305.61 1375.08 L2310.3 1386.4 L2305.61 1397.71 Z\" fill=\"#009af9\" fill-rule=\"evenodd\" fill-opacity=\"1\" stroke=\"#000000\" stroke-opacity=\"1\" stroke-width=\"3.2\"/>\n",
       "<path clip-path=\"url(#clip450)\" d=\"M2024.94 270.476 L2283.91 270.476 L2283.91 166.796 L2024.94 166.796  Z\" fill=\"#ffffff\" fill-rule=\"evenodd\" fill-opacity=\"1\"/>\n",
       "<polyline clip-path=\"url(#clip450)\" style=\"stroke:#000000; stroke-linecap:round; stroke-linejoin:round; stroke-width:4; stroke-opacity:1; fill:none\" points=\"2024.94,270.476 2283.91,270.476 2283.91,166.796 2024.94,166.796 2024.94,270.476 \"/>\n",
       "<polyline clip-path=\"url(#clip450)\" style=\"stroke:#009af9; stroke-linecap:round; stroke-linejoin:round; stroke-width:4; stroke-opacity:1; fill:none\" points=\"2047.89,218.636 2185.58,218.636 \"/>\n",
       "<path clip-path=\"url(#clip450)\" d=\"M2116.74 239.885 L2101.71 233.659 L2095.49 218.636 L2101.71 203.613 L2116.74 197.387 L2131.76 203.613 L2137.98 218.636 L2131.76 233.659 Z\" fill=\"#009af9\" fill-rule=\"evenodd\" fill-opacity=\"1\" stroke=\"#000000\" stroke-opacity=\"1\" stroke-width=\"4.55111\"/>\n",
       "<path clip-path=\"url(#clip450)\" d=\"M2222.37 238.323 Q2220.57 242.953 2218.85 244.365 Q2217.14 245.777 2214.27 245.777 L2210.87 245.777 L2210.87 242.212 L2213.37 242.212 Q2215.13 242.212 2216.1 241.379 Q2217.07 240.545 2218.25 237.443 L2219.02 235.499 L2208.53 209.99 L2213.04 209.99 L2221.15 230.268 L2229.25 209.99 L2233.76 209.99 L2222.37 238.323 Z\" fill=\"#000000\" fill-rule=\"nonzero\" fill-opacity=\"1\" /><path clip-path=\"url(#clip450)\" d=\"M2241.05 231.981 L2248.69 231.981 L2248.69 205.615 L2240.38 207.282 L2240.38 203.022 L2248.65 201.356 L2253.32 201.356 L2253.32 231.981 L2260.96 231.981 L2260.96 235.916 L2241.05 235.916 L2241.05 231.981 Z\" fill=\"#000000\" fill-rule=\"nonzero\" fill-opacity=\"1\" /></svg>\n"
      ],
      "text/html": [
       "<img src=\"data:image/png;base64,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\" />"
      ]
     },
     "metadata": {},
     "output_type": "display_data"
    }
   ],
   "source": [
    "plot(energy_per_loop*nq, marker=:o)\n",
    "plot!(title = \"Energy convergence\", xlabel = \"ADAPT-VQE Iteration\", ylabel = \"E\")"
   ]
  }
 ],
 "metadata": {
  "kernelspec": {
   "display_name": "Julia 1.11.5",
   "language": "julia",
   "name": "julia-1.11"
  },
  "language_info": {
   "file_extension": ".jl",
   "mimetype": "application/julia",
   "name": "julia",
   "version": "1.11.5"
  }
 },
 "nbformat": 4,
 "nbformat_minor": 5
}
