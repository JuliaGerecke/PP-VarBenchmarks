{
 "cells": [
  {
   "cell_type": "markdown",
   "id": "52d81cc1",
   "metadata": {},
   "source": [
    "# (Scaled) adaptVQE for the TFIM Chain (obc) Hamiltonian\n",
    "\n",
    "Check the Heisenberg script first.\n",
    "Main modifications:\n",
    "- define Hamiltonian (init and in the fulllossfunction to respect data types)\n",
    "- overlapwithplus instead of overlapwithneel\n",
    "\n",
    "The plus state has a non-zero overlap with the ground state. Since we are in the critical regime, we have 2 initialisation choises, the plus state (minimizes X term) or the Neel state (minimizes ZZ term)."
   ]
  },
  {
   "cell_type": "code",
   "execution_count": 1,
   "id": "129c69b4",
   "metadata": {},
   "outputs": [],
   "source": [
    "using PauliPropagation\n",
    "using Plots\n",
    "using ReverseDiff\n",
    "using ReverseDiff: GradientTape, gradient!, compile, gradient\n",
    "using Bits\n",
    "using Random\n",
    "using Distributions: Uniform\n",
    "using NLopt"
   ]
  },
  {
   "cell_type": "markdown",
   "id": "8b9d5d7a",
   "metadata": {
    "vscode": {
     "languageId": "julia"
    }
   },
   "source": [
    "### 0) System and Initial State Construction"
   ]
  },
  {
   "cell_type": "code",
   "execution_count": 2,
   "id": "1491fc9d",
   "metadata": {},
   "outputs": [
    {
     "data": {
      "text/plain": [
       "3"
      ]
     },
     "metadata": {},
     "output_type": "display_data"
    }
   ],
   "source": [
    "nq = 3"
   ]
  },
  {
   "cell_type": "code",
   "execution_count": 3,
   "id": "d28f7ac2",
   "metadata": {},
   "outputs": [
    {
     "data": {
      "text/plain": [
       "tfim_1d_obc (generic function with 1 method)"
      ]
     },
     "metadata": {},
     "output_type": "display_data"
    }
   ],
   "source": [
    "function tfim_1d_obc(nq::Int;topology = nothing, gamma = 1.0)\n",
    "\n",
    "    if isnothing(topology)\n",
    "        topology = bricklayertopology(nq;periodic=false) #chain with obc\n",
    "    end\n",
    "\n",
    "    H = PauliSum(nq)\n",
    "    for qind in 1:nq\n",
    "        add!(H, :X, qind, gamma)\n",
    "    end\n",
    "    for pair in topology\n",
    "        add!(H, [:Z, :Z], collect(pair), 1.0)\n",
    "    end\n",
    "    return H\n",
    "end"
   ]
  },
  {
   "cell_type": "code",
   "execution_count": 4,
   "id": "c1ebd4ec",
   "metadata": {},
   "outputs": [
    {
     "data": {
      "text/plain": [
       "PauliSum(nqubits: 3, 5 Pauli terms:\n",
       " 1.0 * IXI\n",
       " 1.0 * IIX\n",
       " 1.0 * ZZI\n",
       " 1.0 * IZZ\n",
       " 1.0 * XII\n",
       ")"
      ]
     },
     "metadata": {},
     "output_type": "display_data"
    }
   ],
   "source": [
    "tfim_1d_obc(nq) "
   ]
  },
  {
   "cell_type": "code",
   "execution_count": 5,
   "id": "1c4df511",
   "metadata": {},
   "outputs": [
    {
     "data": {
      "text/plain": [
       "neel_bits (generic function with 1 method)"
      ]
     },
     "metadata": {},
     "output_type": "display_data"
    }
   ],
   "source": [
    "function neel_bits(nq::Int; up_on_odd::Bool=true)\n",
    "    if up_on_odd\n",
    "        # |0101...> → \"1\" on even sites\n",
    "        return collect(2:2:nq)\n",
    "    else\n",
    "        # |1010...> → \"1\" on odd sites\n",
    "        return collect(1:2:nq)\n",
    "    end\n",
    "end"
   ]
  },
  {
   "cell_type": "code",
   "execution_count": 6,
   "id": "785ab1f0",
   "metadata": {},
   "outputs": [
    {
     "data": {
      "text/plain": [
       "5-element Vector{Int64}:\n",
       "  2\n",
       "  4\n",
       "  6\n",
       "  8\n",
       " 10"
      ]
     },
     "metadata": {},
     "output_type": "display_data"
    }
   ],
   "source": [
    "# example usage:\n",
    "neel_bits(10; up_on_odd=true)"
   ]
  },
  {
   "cell_type": "code",
   "execution_count": 7,
   "id": "ca5daf5d",
   "metadata": {},
   "outputs": [
    {
     "data": {
      "text/plain": [
       "overlapwithneel (generic function with 1 method)"
      ]
     },
     "metadata": {},
     "output_type": "display_data"
    }
   ],
   "source": [
    "# customized overlap function\n",
    "# since we are in the Heisenberg picture, we propagate observables and in the final step, calculate the overlap with the initial state\n",
    "function overlapwithneel(operator, nq::Int; \n",
    "                           up_on_odd::Bool=true, \n",
    "                           params=nothing)\n",
    "                           \n",
    "    # Create Néel state bit representation: indices of \"1\" bits\n",
    "    nb = neel_bits(nq; up_on_odd=up_on_odd)\n",
    "    \n",
    "    # Compute overlap with computational basis state\n",
    "    return overlapwithcomputational(operator, nb)\n",
    "end"
   ]
  },
  {
   "cell_type": "markdown",
   "id": "6ee21cde",
   "metadata": {},
   "source": [
    "### 1) Full Operator Pool (Hamiltonian-Independent)"
   ]
  },
  {
   "cell_type": "code",
   "execution_count": 8,
   "id": "c63d70b1",
   "metadata": {},
   "outputs": [
    {
     "data": {
      "text/plain": [
       "generate_full_bit_pool (generic function with 1 method)"
      ]
     },
     "metadata": {},
     "output_type": "display_data"
    }
   ],
   "source": [
    "function generate_full_bit_pool(nq::Int)\n",
    "    # Choose appropriate UInt type based on number of qubits (same as PP does)\n",
    "    # Work with bit representations directly (easier to manipulate)\n",
    "    UIntType = if nq <= 4\n",
    "        UInt8\n",
    "    elseif nq <= 8\n",
    "        UInt16\n",
    "    elseif nq <= 16\n",
    "        UInt32\n",
    "    else\n",
    "        UInt64\n",
    "    end\n",
    "    \n",
    "    # Here, we generate all non-identity bit patterns (therefore -1), which gives the full operator pool.\n",
    "    pool = UIntType[]\n",
    "    for i in 1:(4^nq - 1)\n",
    "        push!(pool, UIntType(i))\n",
    "    end\n",
    "    \n",
    "    return pool\n",
    "end"
   ]
  },
  {
   "cell_type": "code",
   "execution_count": 9,
   "id": "c6d52ce6",
   "metadata": {},
   "outputs": [
    {
     "data": {
      "text/plain": [
       "bit_to_paulistring (generic function with 1 method)"
      ]
     },
     "metadata": {},
     "output_type": "display_data"
    }
   ],
   "source": [
    "# Function to convert bit representation to PauliString when needed\n",
    "function bit_to_paulistring(bit_repr, nq)\n",
    "    paulis = Symbol[]\n",
    "    sites = Int[]\n",
    "    \n",
    "    for qubit in 1:nq #going from right to left in bitstring\n",
    "        pauli_val = getpauli(bit_repr, qubit) # get pauli of qubit as 0,1,2,3\n",
    "        #println(\"Qubit $qubit: Pauli value = $pauli_val\")\n",
    "        if pauli_val != 0  # Skip identity (0) since Paulis are initialised as identity by default\n",
    "            pauli_symbol = [:I, :X, :Y, :Z][pauli_val + 1] # julia indexing starts at 1!\n",
    "            push!(paulis, pauli_symbol)\n",
    "            push!(sites, qubit)\n",
    "        end\n",
    "    end\n",
    "    \n",
    "    return PauliString(nq, paulis, sites, 1.0), paulis, sites\n",
    "end"
   ]
  },
  {
   "cell_type": "markdown",
   "id": "6f97bc3e",
   "metadata": {},
   "source": [
    "### 2) AdaptVQE Elements and Tests"
   ]
  },
  {
   "cell_type": "code",
   "execution_count": 10,
   "id": "4262422f",
   "metadata": {},
   "outputs": [
    {
     "data": {
      "text/plain": [
       "calc_gradients"
      ]
     },
     "metadata": {},
     "output_type": "display_data"
    }
   ],
   "source": [
    "\"\"\"\n",
    "    calc_gradients(bit_pool, H, nq;\n",
    "                   circuit=nothing, params=nothing,\n",
    "                   tol=1e-12, verbose=false, up_on_odd=true)\n",
    "\n",
    "ADAPT-VQE gradients with in-place propagation:\n",
    "g_P = ⟨φ₀ | [U† H U, U† P U] i | φ₀⟩, where |φ₀⟩ is the Néel state\n",
    "selected by `up_on_odd`.\n",
    "\"\"\"\n",
    "function calc_gradients(bit_pool, H, nq;\n",
    "                        circuit::Union{Nothing,Any}=nothing,\n",
    "                        params::Union{Nothing,AbstractVector}=nothing,\n",
    "                        tol::Float64=1e-12,\n",
    "                        verbose::Bool=false,\n",
    "                        up_on_odd::Bool=true)\n",
    "\n",
    "    grads = Float64[]\n",
    "\n",
    "    # Pre-propagate H once: H_prop = U† H U (only if a circuit is provided)\n",
    "    H_prop = H\n",
    "    if circuit !== nothing\n",
    "        H_prop = deepcopy(H)                 # avoid mutating H\n",
    "        propagate!(circuit, H_prop, params)  # in-place propagation\n",
    "    end\n",
    "\n",
    "    # For each pool element, pre-propagate P (to P_prop) and form [H_prop, P_prop]\n",
    "    for (k, bit_repr) in enumerate(bit_pool)\n",
    "        P= bit_to_paulistring(bit_repr, nq)[1]\n",
    "        psum = PauliSum(nq)\n",
    "        P = add!(psum, P) # PP works with PauliSums (see datatypes example notebook)\n",
    "        #println(\"Calculating gradient for op[$k]: \", P)\n",
    "\n",
    "        P_prop = P\n",
    "        if circuit !== nothing\n",
    "            P_prop = deepcopy(P)                 # avoid mutating the pool op\n",
    "            propagate!(circuit, P_prop, params)  # in-place propagation\n",
    "        end\n",
    "        \n",
    "        C = commutator(H_prop, P_prop) \n",
    "        if !(iterate(C) !== nothing)           # if the commutator is empty \n",
    "            verbose && println(\"op[$k]: \", P, \"  commutator=0  → grad=0.0\")\n",
    "            push!(grads, 0.0)\n",
    "            continue\n",
    "        end\n",
    "        g = overlapwithneel(im * C, nq; up_on_odd=up_on_odd)\n",
    "        #g = overlapwithplus(im *C)\n",
    "        if abs(imag(g)) > tol\n",
    "            @warn \"Gradient has non-negligible imaginary part\" imag=imag(g) op=P\n",
    "        end\n",
    "\n",
    "        push!(grads, real(g))\n",
    "        verbose && println(\"op[$k]: \", P, \"  grad=\", real(g))\n",
    "    end\n",
    "\n",
    "    return grads\n",
    "end"
   ]
  },
  {
   "cell_type": "code",
   "execution_count": 11,
   "id": "ca34e576",
   "metadata": {},
   "outputs": [
    {
     "data": {
      "text/plain": [
       "63-element Vector{Float64}:\n",
       "  0.0\n",
       " -2.0\n",
       "  0.0\n",
       "  0.0\n",
       "  0.0\n",
       "  0.0\n",
       "  0.0\n",
       "  2.0\n",
       "  0.0\n",
       "  0.0\n",
       "  ⋮\n",
       "  0.0\n",
       "  2.0\n",
       "  0.0\n",
       "  0.0\n",
       "  2.0\n",
       "  0.0\n",
       "  0.0\n",
       "  2.0\n",
       "  0.0"
      ]
     },
     "metadata": {},
     "output_type": "display_data"
    }
   ],
   "source": [
    "# example usage\n",
    "grads = calc_gradients(generate_full_bit_pool(nq), tfim_1d_obc(nq), nq; verbose=false, up_on_odd=true)"
   ]
  },
  {
   "cell_type": "code",
   "execution_count": 12,
   "id": "206981cb",
   "metadata": {},
   "outputs": [
    {
     "data": {
      "text/plain": [
       "pick_top_operator (generic function with 1 method)"
      ]
     },
     "metadata": {},
     "output_type": "display_data"
    }
   ],
   "source": [
    "function pick_top_operator(gradients::AbstractVector, operators::AbstractVector; rng=Random.GLOBAL_RNG)\n",
    "    length(gradients) == length(operators) || throw(ArgumentError(\"gradients and operators must have same length\"))\n",
    "    isempty(gradients) && throw(ArgumentError(\"gradients must not be empty\"))\n",
    "    \n",
    "    mags = abs.(gradients)\n",
    "    order = sortperm(mags, rev=true)  # indices sorted by |grad| descending (following the nature paper implementation)\n",
    "    gradients_sorted = gradients[order]\n",
    "    operators_sorted = operators[order]\n",
    "\n",
    "    max_mag = mags[order[1]]\n",
    "    tied_top = filter(i -> mags[i] == max_mag, order)\n",
    "\n",
    "    chosen_idx = rand(rng, tied_top)\n",
    "\n",
    "    return operators[chosen_idx], gradients[chosen_idx], gradients_sorted, operators_sorted\n",
    "end"
   ]
  },
  {
   "cell_type": "code",
   "execution_count": 13,
   "id": "907faa35",
   "metadata": {},
   "outputs": [
    {
     "name": "stdout",
     "output_type": "stream",
     "text": [
      "Top operator: PauliString(nqubits: 3, 1.0 * IYZ) with gradient 2.0\n",
      "Top gradient: [-2.0, 2.0, 2.0, 2.0, -2.0, -2.0, 2.0, 2.0, -2.0, 2.0, 2.0, 2.0, 0.0, 0.0, 0.0, 0.0, 0.0, 0.0, 0.0, 0.0, 0.0, 0.0, 0.0, 0.0, 0.0, 0.0, 0.0, 0.0, 0.0, 0.0, 0.0, 0.0, 0.0, 0.0, 0.0, 0.0, 0.0, 0.0, 0.0, 0.0, 0.0, 0.0, 0.0, 0.0, 0.0, 0.0, 0.0, 0.0, 0.0, 0.0, 0.0, 0.0, 0.0, 0.0, 0.0, 0.0, 0.0, 0.0, 0.0, 0.0, 0.0, 0.0, 0.0]\n"
     ]
    }
   ],
   "source": [
    "# example usage:\n",
    "top_op, top_grad, grads_sorted, ops_sorted = pick_top_operator(grads, generate_full_bit_pool(nq))\n",
    "println(\"Top operator: \", bit_to_paulistring(top_op,nq)[1], \" with gradient \", top_grad)\n",
    "println(\"Top gradient: \", grads_sorted) # we ignore the signs when sorting"
   ]
  },
  {
   "cell_type": "code",
   "execution_count": 14,
   "id": "daab7ef8",
   "metadata": {},
   "outputs": [
    {
     "data": {
      "text/plain": [
       "check_convergence (generic function with 1 method)"
      ]
     },
     "metadata": {},
     "output_type": "display_data"
    }
   ],
   "source": [
    "function check_convergence(gradients; tol=1e-4)\n",
    "    max_grad = maximum(abs.(gradients))\n",
    "    return max_grad < tol, max_grad\n",
    "end"
   ]
  },
  {
   "cell_type": "code",
   "execution_count": 15,
   "id": "290de254",
   "metadata": {},
   "outputs": [
    {
     "data": {
      "text/plain": [
       "(false, 2.0)"
      ]
     },
     "metadata": {},
     "output_type": "display_data"
    }
   ],
   "source": [
    "# example usage:\n",
    "check_convergence(grads; tol=1e-4)"
   ]
  },
  {
   "cell_type": "code",
   "execution_count": 16,
   "id": "e9e39299",
   "metadata": {},
   "outputs": [
    {
     "data": {
      "text/plain": [
       "pauli_rotation_from_bits (generic function with 1 method)"
      ]
     },
     "metadata": {},
     "output_type": "display_data"
    }
   ],
   "source": [
    "function pauli_rotation_from_bits(bit_repr, nq)\n",
    "    _, paulis, sites = bit_to_paulistring(bit_repr, nq) \n",
    "    return PauliRotation(paulis, sites)\n",
    "end"
   ]
  },
  {
   "cell_type": "code",
   "execution_count": 17,
   "id": "4ebb7e1b",
   "metadata": {},
   "outputs": [
    {
     "data": {
      "text/plain": [
       "PauliRotation([:Y, :Z], [2, 3])"
      ]
     },
     "metadata": {},
     "output_type": "display_data"
    }
   ],
   "source": [
    "# example usage:\n",
    "pauli_rotation_from_bits(top_op,nq)"
   ]
  },
  {
   "cell_type": "code",
   "execution_count": 18,
   "id": "10de8756",
   "metadata": {},
   "outputs": [
    {
     "data": {
      "text/plain": [
       "append_from_bits! (generic function with 1 method)"
      ]
     },
     "metadata": {},
     "output_type": "display_data"
    }
   ],
   "source": [
    "function append_from_bits!(circuit, thetas, chose_op, nq; theta_init=rand())\n",
    "    gate = pauli_rotation_from_bits(chose_op, nq)\n",
    "    pushfirst!(circuit, gate)\n",
    "    pushfirst!(thetas, 2*theta_init) # factor of 2 to match convention of PP\n",
    "    return circuit, thetas    # index of the new parameter\n",
    "end"
   ]
  },
  {
   "cell_type": "code",
   "execution_count": 19,
   "id": "99e6e59c",
   "metadata": {},
   "outputs": [
    {
     "data": {
      "text/plain": [
       "(Any[PauliRotation([:Y, :Z], [2, 3])], [0.4])"
      ]
     },
     "metadata": {},
     "output_type": "display_data"
    }
   ],
   "source": [
    "# example usage:\n",
    "circuit = Any[]      # initialize the adaptVQE circuit\n",
    "thetas  = Float64[]  # initialize the parameter list\n",
    "circuit, thetas = append_from_bits!(circuit,thetas,top_op,nq; theta_init = 0.2)"
   ]
  },
  {
   "cell_type": "code",
   "execution_count": 20,
   "id": "0075ec98",
   "metadata": {},
   "outputs": [
    {
     "data": {
      "text/plain": [
       "fulllossfunction (generic function with 1 method)"
      ]
     },
     "metadata": {},
     "output_type": "display_data"
    }
   ],
   "source": [
    "function fulllossfunction(thetas, circuit, nq; gamma = 1.0, topology = nothing, max_freq = Inf, max_weight = Inf)\n",
    "\n",
    "    if isnothing(topology)\n",
    "        topology = bricklayertopology(nq;periodic=false) #chain with obc\n",
    "    end\n",
    "\n",
    "    # differentiation libraries use custom types to trace through the computation\n",
    "    # we need to make all of our objects typed like that so that nothing breaks\n",
    "    CoeffType = eltype(thetas)\n",
    "\n",
    "    H = PauliSum(CoeffType, nq) #define Hamiltonian again (otherwise Reverse Diff breaks)\n",
    "    \n",
    "    for qind in 1:nq\n",
    "        add!(H, :X, qind, CoeffType(gamma))\n",
    "    end\n",
    "    for pair in topology\n",
    "        add!(H, [:Z, :Z], collect(pair), CoeffType(1.0))\n",
    "    end\n",
    "\n",
    "\n",
    "    # wrap the coefficients into PauliFreqTracker so that we can use `max_freq` truncation.\n",
    "    # usually this happens automatically but the in-place propagate!() function does not allow that.\n",
    "    wrapped_H = wrapcoefficients(H, PauliFreqTracker)\n",
    "    \n",
    "    # we also need to run the in-place version with `!`, because by default we copy the Pauli sum\n",
    "    output_H = propagate!(circuit, wrapped_H, thetas; max_freq, max_weight);\n",
    "    return overlapwithneel(output_H,nq) #overlapwithplus(output_H) # overlapwithneel(output_H,nq)\n",
    "end"
   ]
  },
  {
   "cell_type": "code",
   "execution_count": 21,
   "id": "903828c9",
   "metadata": {},
   "outputs": [
    {
     "data": {
      "text/plain": [
       "gd (generic function with 1 method)"
      ]
     },
     "metadata": {},
     "output_type": "display_data"
    }
   ],
   "source": [
    "# Gradient Descent\n",
    "function gd(thetas_init, closed_lossfunction, nq; eta=0.01, steps=200)\n",
    "    \n",
    "    #check out automatic diff example notebook for more details\n",
    "    # some inputs and work buffer to play around with\n",
    "    grad_array_compiled = similar(thetas_init);\n",
    "\n",
    "    # pre-record a GradientTape for `gradsimulation` using inputs of length m with Float64 elements\n",
    "    simulation_tape = GradientTape(closed_lossfunction, thetas_init)\n",
    "    compiled_simulation_tape = compile(simulation_tape)\n",
    "    \n",
    "    opt_energy_gd = []\n",
    "    thetas = thetas_init\n",
    "    for i in 1:steps \n",
    "        gradient!(grad_array_compiled, simulation_tape, thetas)\n",
    "        thetas .-= eta * grad_array_compiled\n",
    "        opt_energy_gd = push!(opt_energy_gd, closed_lossfunction(thetas)/nq)\n",
    "    end\n",
    "    return thetas, opt_energy_gd\n",
    "end"
   ]
  },
  {
   "cell_type": "code",
   "execution_count": 22,
   "id": "21acf970",
   "metadata": {},
   "outputs": [
    {
     "data": {
      "text/plain": [
       "adam (generic function with 1 method)"
      ]
     },
     "metadata": {},
     "output_type": "display_data"
    }
   ],
   "source": [
    "# Adam optimizer\n",
    "function adam(thetas_init, closed_lossfunction, nq; eta=0.02, steps=100)\n",
    "    nparams = length(thetas_init)\n",
    "\n",
    " \n",
    "   # ReverseDiff tape on the tied loss (same as GD system)\n",
    "    tape = GradientTape(closed_lossfunction, thetas_init)\n",
    "    compiled_tape = compile(tape)\n",
    "\n",
    "    # Buffers & Adam state\n",
    "    grad = similar(thetas_init)\n",
    "    thetas = copy(thetas_init)\n",
    "    opt_energy = Vector{Float64}(undef, 0)\n",
    "\n",
    "    m = zero(thetas); v = zero(thetas)\n",
    "    β1, β2, ϵ = 0.9, 0.999, 1e-8\n",
    "\n",
    "    for t in 1:steps\n",
    "        gradient!(grad, tape, thetas)\n",
    "\n",
    "        # Adam update\n",
    "        m .= β1 .* m .+ (1 - β1) .* grad\n",
    "        v .= β2 .* v .+ (1 - β2) .* (grad .^ 2)\n",
    "        mhat = m ./ (1 - β1^t)\n",
    "        vhat = v ./ (1 - β2^t)\n",
    "        thetas .-= eta .* mhat ./ (sqrt.(vhat) .+ ϵ)\n",
    "\n",
    "        # Log E/Q using the tied view\n",
    "        push!(opt_energy, closed_lossfunction(thetas)/nq)\n",
    "    end\n",
    "    return thetas, opt_energy\n",
    "end\n"
   ]
  },
  {
   "cell_type": "code",
   "execution_count": 23,
   "id": "6cd999bd",
   "metadata": {},
   "outputs": [
    {
     "data": {
      "text/plain": [
       "lbfgs_nlopt (generic function with 1 method)"
      ]
     },
     "metadata": {},
     "output_type": "display_data"
    }
   ],
   "source": [
    "# L-BFGS optimizer using NLopt package\n",
    "# https://nlopt.readthedocs.io/en/latest/NLopt_Reference/\n",
    "function lbfgs_nlopt(thetas_init, closed_lossfunction, nq;\n",
    "                     max_iters=500, xtol_rel=1e-8, ftol_rel=1e-12,\n",
    "                     max_time=Inf,\n",
    "                     lower_bounds=nothing, upper_bounds=nothing,\n",
    "                     verbose=false)\n",
    "\n",
    "    n  = length(thetas_init)\n",
    "\n",
    "    # ReverseDiff: compile once, reuse\n",
    "    tape     = GradientTape(closed_lossfunction, thetas_init) #assume thetas_init is already Float64\n",
    "    compiled_tape = compile(tape)\n",
    "    gbuf     = zeros(n) # gradient buffer (preallocated), we need this for type stability between NLopt (C library) and Julia\n",
    "    opt_energy = Float64[]\n",
    "    evals = Ref(0)\n",
    "\n",
    "    opt = Opt(:LD_LBFGS, n) # NLopt package for L-BFGS algorithm\n",
    "    NLopt.maxeval!(opt, max_iters) # maximum number of function evaluations\n",
    "    NLopt.xtol_rel!(opt, xtol_rel) # relative tolerance on optimization parameters (x axis)\n",
    "    NLopt.ftol_rel!(opt, ftol_rel) # relative tolerance on function value (f(x) axis)\n",
    "    NLopt.maxtime!(opt, isfinite(max_time) ? max_time : 0.0) # maximum time in seconds (0.0 means no cap)\n",
    "\n",
    "    # using these causes an error! (we're bounding the thetas during the adaptVQE anyways, so this is not necessarily needed)\n",
    "    if lower_bounds !== nothing\n",
    "        NLopt.lower_bounds!(opt, Float64.(lower_bounds))\n",
    "    end\n",
    "    if upper_bounds !== nothing\n",
    "        NLopt.upper_bounds!(opt, Float64.(upper_bounds))\n",
    "    end\n",
    "\n",
    "    NLopt.min_objective!(opt, (x, grad) -> begin # grad is write only that belongs to NLopt, sometimes NLopt wont ask for it, then it passes an empty array\n",
    "        fx = closed_lossfunction(x) :: Float64\n",
    "        if !isempty(grad)\n",
    "            gradient!(gbuf, compiled_tape, x) #ReverseDiff writes gradient into gbuf, then we copy into grad\n",
    "            @inbounds @simd for i in 1:n\n",
    "                grad[i] = gbuf[i]\n",
    "            end\n",
    "        end\n",
    "        evals[] += 1\n",
    "        push!(opt_energy, fx)\n",
    "        return fx\n",
    "    end)\n",
    "\n",
    "    minf, thetas, ret = NLopt.optimize(opt, thetas_init) # minf is best function / objective value found, thetas is the best params (that give minf), ret is termination code.\n",
    "    if verbose\n",
    "        @info \"NLopt LBFGS terminated\" status=ret evals=evals[] fmin=minf\n",
    "    end\n",
    "\n",
    "    return thetas, opt_energy/nq # LBFGS can do multiple function evaluations per iteration, so len(opt_energy) may be > max_iters.\n",
    "end\n"
   ]
  },
  {
   "cell_type": "code",
   "execution_count": 38,
   "id": "ad653fd7",
   "metadata": {},
   "outputs": [
    {
     "data": {
      "text/plain": [
       "target_optimization (generic function with 1 method)"
      ]
     },
     "metadata": {},
     "output_type": "display_data"
    }
   ],
   "source": [
    "function target_optimization(nq, circuit, thetas; gamma = 1.0, max_freq=Inf, max_weight=Inf, verbose = false)\n",
    "    # again, automatic diff example notebook for more details\n",
    "    closed_lossfunction = let const_nq=nq, const_gamma = gamma, const_max_freq=max_freq, const_max_weight=max_weight\n",
    "        # these are now all captured variables with known types and we return a function that only takes thetas s.t. ReverseDiff works\n",
    "        # See also \"closures\"\n",
    "        theta -> fulllossfunction(theta, circuit, const_nq; gamma = const_gamma, max_freq=const_max_freq, max_weight=const_max_weight)\n",
    "    end\n",
    "    \n",
    "    opt_thetas, opt_energy_gd = lbfgs_nlopt(thetas,closed_lossfunction,nq)\n",
    "    if verbose\n",
    "        println(\"Optimized thetas: \", opt_thetas)\n",
    "        println(\"Optimized energy per qubit: \", opt_energy_gd[end])\n",
    "\n",
    "        plot(opt_energy_gd)\n",
    "        display(plot!(title = \"Energy optimisation\", xlabel = \"runs\", ylabel = \"E/Q\"))\n",
    "    end\n",
    "\n",
    "    return opt_thetas, opt_energy_gd\n",
    "end"
   ]
  },
  {
   "cell_type": "markdown",
   "id": "acfdd82e",
   "metadata": {},
   "source": [
    "### 3) AdaptVQE Loop"
   ]
  },
  {
   "cell_type": "code",
   "execution_count": 39,
   "id": "cce2535d",
   "metadata": {},
   "outputs": [
    {
     "data": {
      "text/plain": [
       "adaptVQE_loop (generic function with 1 method)"
      ]
     },
     "metadata": {},
     "output_type": "display_data"
    }
   ],
   "source": [
    "function adaptVQE_loop(nq, hamiltonian, bit_pool; max_iters=10, conv_tol=1e-4, verbose=true)\n",
    "    circuit = Any[]      # initialize the adaptVQE circuit\n",
    "    thetas  = Float64[]; # initialize the parameter list\n",
    "    energy_per_loop = Float64[];\n",
    "    max_grads = Float64[] # collect for analysis\n",
    "    chosen_ops = UInt[]\n",
    "\n",
    "    for iter in 1:max_iters\n",
    "\n",
    "        # 1) Calculate gradients\n",
    "        grads = calc_gradients(bit_pool, hamiltonian, nq; circuit=circuit, params=thetas, tol=1e-12, verbose=false, up_on_odd=true)\n",
    "\n",
    "        # 2) Check convergence\n",
    "        converged, max_grad = check_convergence(grads; tol=conv_tol)\n",
    "        push!(max_grads, max_grad)\n",
    "        \n",
    "        if converged\n",
    "            #println(\"Convergence achieved with max gradient < $conv_tol\")\n",
    "            break\n",
    "        end\n",
    "\n",
    "        # 3) Pick top operator\n",
    "        chose_op, grad_op, grads_sorted, _ = pick_top_operator(grads, bit_pool)\n",
    "\n",
    "        push!(chosen_ops, chose_op)\n",
    "\n",
    "        # 4) Append operator to circuit\n",
    "        theta_init = rand(Uniform(-π, π)) #rand() goes from 0 to 1\n",
    "        circuit, thetas = append_from_bits!(circuit, thetas, chose_op, nq; theta_init=theta_init) # theta_init is multiplied by 2 in append function\n",
    "\n",
    "        # 5) Optimize parameters\n",
    "        thetas, opt_energy_gd = target_optimization(nq, circuit, thetas; verbose=verbose)\n",
    "        # wrap the thetas to [-π,π] since they are angles\n",
    "        thetas = rem2pi.(thetas,RoundNearest) # does not seem to help the optimization\n",
    "        push!(energy_per_loop, opt_energy_gd[end])\n",
    "    end\n",
    "\n",
    "    # 6) Plot the gradient convergence\n",
    "    if verbose\n",
    "        plot(max_grads, marker=:o)\n",
    "        display(plot!(title = \"Max Gradient Convergence\", xlabel = \"Iteration\", ylabel = \"Max Gradient\"))\n",
    "    end\n",
    "\n",
    "    return circuit, thetas, chosen_ops, energy_per_loop, max_grads\n",
    "end"
   ]
  },
  {
   "cell_type": "code",
   "execution_count": 40,
   "id": "24a8bf51",
   "metadata": {},
   "outputs": [],
   "source": [
    "nq = 3\n",
    "hamiltonian = tfim_1d_obc(nq; topology=bricklayertopology(nq;periodic=false))\n",
    "full_bit_pool = generate_full_bit_pool(nq)\n",
    "circuit, thetas, chosen_ops, energy_per_loop, max_grads = adaptVQE_loop(nq, hamiltonian, full_bit_pool; max_iters=20, conv_tol=1e-4, verbose=false);"
   ]
  },
  {
   "cell_type": "code",
   "execution_count": 41,
   "id": "ad463326",
   "metadata": {},
   "outputs": [
    {
     "name": "stdout",
     "output_type": "stream",
     "text": [
      "max grads: [2.0, 2.0, 2.0, 1.3333333333483364, 1.346825812906356, 0.7786902535512853, 1.1680757683979919, 1.1680757749286144, 1.1680757752654132, 1.1680757964782278, 1.1680757659889283, 1.1680757591048239, 1.1680757689966423, 1.1680757756579259, 1.1680757638253843, 1.1680758282658683, 1.1680757600887164, 1.1680757681105158, 1.168075768765722, 1.1680757667269666]\n"
     ]
    }
   ],
   "source": [
    "println(\"max grads: \", max_grads)"
   ]
  },
  {
   "cell_type": "code",
   "execution_count": 42,
   "id": "e50055dd",
   "metadata": {},
   "outputs": [
    {
     "name": "stdout",
     "output_type": "stream",
     "text": [
      "size of full bit pool: (63,)\n"
     ]
    }
   ],
   "source": [
    "println(\"size of full bit pool: \", size(full_bit_pool))"
   ]
  },
  {
   "cell_type": "code",
   "execution_count": 43,
   "id": "63a65d53",
   "metadata": {},
   "outputs": [
    {
     "name": "stdout",
     "output_type": "stream",
     "text": [
      "Final thetas: [1.789169828569378, 0.2766451674384497, -1.399607044331032, 1.580321885403219, -2.2254012573829125, 2.8684347926474154, 1.4722665037783724, -0.6180940809444049, -2.2214600183007, -0.40762843108160357, -2.7793676288126306, 1.1666431550173981, 0.23099204668384724, 1.7612871059747217, -2.494955350325663, -1.0381291014846337, 1.9250632129711485, 2.766282529067109, -1.9187243870245831, 2.94791238520035]\n"
     ]
    }
   ],
   "source": [
    "println(\"Final thetas: \", thetas)"
   ]
  },
  {
   "cell_type": "code",
   "execution_count": 44,
   "id": "640029f3",
   "metadata": {},
   "outputs": [
    {
     "data": {
      "text/plain": [
       "20-element Vector{Float64}:\n",
       " -0.7453559924999299\n",
       " -0.8432740427115678\n",
       " -0.9033209959247643\n",
       " -0.959932397886635\n",
       " -1.013089501639241\n",
       " -1.1071625367194196\n",
       " -1.1071625367194196\n",
       " -1.1071625367194196\n",
       " -1.107162536719419\n",
       " -1.1071625367194196\n",
       " -1.1071625367194196\n",
       " -1.107162536719419\n",
       " -1.107162536719419\n",
       " -1.107162536719419\n",
       " -1.1071625367189692\n",
       " -1.1071625367194198\n",
       " -1.1071625367194196\n",
       " -1.1071625367194193\n",
       " -1.1071625367194193\n",
       " -1.1071625367194196"
      ]
     },
     "metadata": {},
     "output_type": "display_data"
    }
   ],
   "source": [
    "energy_per_loop # -1.1646530  is the ED result for 3 qubits, -1.18969 is ED for 4 qubits, -1.2053348 is ED for 5 qubits."
   ]
  },
  {
   "cell_type": "code",
   "execution_count": 45,
   "id": "9b5f9535",
   "metadata": {},
   "outputs": [
    {
     "data": {
      "image/png": "[encoded data removed]",
      "image/svg+xml": [
       "<?xml version=\"1.0\" encoding=\"utf-8\"?>\n",
       "<svg xmlns=\"http://www.w3.org/2000/svg\" xmlns:xlink=\"http://www.w3.org/1999/xlink\" width=\"600\" height=\"400\" viewBox=\"0 0 2400 1600\">\n",
       "<defs>\n",
       "  <clipPath id=\"clip280\">\n",
       "    <rect x=\"0\" y=\"0\" width=\"2400\" height=\"1600\"/>\n",
       "  </clipPath>\n",
       "</defs>\n",
       "<path clip-path=\"url(#clip280)\" d=\"M0 1600 L2400 1600 L2400 0 L0 0  Z\" fill=\"#ffffff\" fill-rule=\"evenodd\" fill-opacity=\"1\"/>\n",
       "<defs>\n",
       "  <clipPath id=\"clip281\">\n",
       "    <rect x=\"480\" y=\"0\" width=\"1681\" height=\"1600\"/>\n",
       "  </clipPath>\n",
       "</defs>\n",
       "<path clip-path=\"url(#clip280)\" d=\"M219.195 1423.18 L2352.76 1423.18 L2352.76 123.472 L219.195 123.472  Z\" fill=\"#ffffff\" fill-rule=\"evenodd\" fill-opacity=\"1\"/>\n",
       "<defs>\n",
       "  <clipPath id=\"clip282\">\n",
       "    <rect x=\"219\" y=\"123\" width=\"2135\" height=\"1301\"/>\n",
       "  </clipPath>\n",
       "</defs>\n",
       "<polyline clip-path=\"url(#clip282)\" style=\"stroke:#000000; stroke-linecap:round; stroke-linejoin:round; stroke-width:2; stroke-opacity:0.1; fill:none\" points=\"703.325,1423.18 703.325,123.472 \"/>\n",
       "<polyline clip-path=\"url(#clip282)\" style=\"stroke:#000000; stroke-linecap:round; stroke-linejoin:round; stroke-width:2; stroke-opacity:0.1; fill:none\" points=\"1233.01,1423.18 1233.01,123.472 \"/>\n",
       "<polyline clip-path=\"url(#clip282)\" style=\"stroke:#000000; stroke-linecap:round; stroke-linejoin:round; stroke-width:2; stroke-opacity:0.1; fill:none\" points=\"1762.69,1423.18 1762.69,123.472 \"/>\n",
       "<polyline clip-path=\"url(#clip282)\" style=\"stroke:#000000; stroke-linecap:round; stroke-linejoin:round; stroke-width:2; stroke-opacity:0.1; fill:none\" points=\"2292.37,1423.18 2292.37,123.472 \"/>\n",
       "<polyline clip-path=\"url(#clip282)\" style=\"stroke:#000000; stroke-linecap:round; stroke-linejoin:round; stroke-width:2; stroke-opacity:0.1; fill:none\" points=\"219.195,1264.61 2352.76,1264.61 \"/>\n",
       "<polyline clip-path=\"url(#clip282)\" style=\"stroke:#000000; stroke-linecap:round; stroke-linejoin:round; stroke-width:2; stroke-opacity:0.1; fill:none\" points=\"219.195,963.42 2352.76,963.42 \"/>\n",
       "<polyline clip-path=\"url(#clip282)\" style=\"stroke:#000000; stroke-linecap:round; stroke-linejoin:round; stroke-width:2; stroke-opacity:0.1; fill:none\" points=\"219.195,662.234 2352.76,662.234 \"/>\n",
       "<polyline clip-path=\"url(#clip282)\" style=\"stroke:#000000; stroke-linecap:round; stroke-linejoin:round; stroke-width:2; stroke-opacity:0.1; fill:none\" points=\"219.195,361.047 2352.76,361.047 \"/>\n",
       "<polyline clip-path=\"url(#clip280)\" style=\"stroke:#000000; stroke-linecap:round; stroke-linejoin:round; stroke-width:4; stroke-opacity:1; fill:none\" points=\"219.195,1423.18 2352.76,1423.18 \"/>\n",
       "<polyline clip-path=\"url(#clip280)\" style=\"stroke:#000000; stroke-linecap:round; stroke-linejoin:round; stroke-width:4; stroke-opacity:1; fill:none\" points=\"703.325,1423.18 703.325,1404.28 \"/>\n",
       "<polyline clip-path=\"url(#clip280)\" style=\"stroke:#000000; stroke-linecap:round; stroke-linejoin:round; stroke-width:4; stroke-opacity:1; fill:none\" points=\"1233.01,1423.18 1233.01,1404.28 \"/>\n",
       "<polyline clip-path=\"url(#clip280)\" style=\"stroke:#000000; stroke-linecap:round; stroke-linejoin:round; stroke-width:4; stroke-opacity:1; fill:none\" points=\"1762.69,1423.18 1762.69,1404.28 \"/>\n",
       "<polyline clip-path=\"url(#clip280)\" style=\"stroke:#000000; stroke-linecap:round; stroke-linejoin:round; stroke-width:4; stroke-opacity:1; fill:none\" points=\"2292.37,1423.18 2292.37,1404.28 \"/>\n",
       "<path clip-path=\"url(#clip280)\" d=\"M693.603 1451.02 L711.959 1451.02 L711.959 1454.96 L697.885 1454.96 L697.885 1463.43 Q698.903 1463.08 699.922 1462.92 Q700.94 1462.73 701.959 1462.73 Q707.746 1462.73 711.126 1465.9 Q714.505 1469.08 714.505 1474.49 Q714.505 1480.07 711.033 1483.17 Q707.561 1486.25 701.241 1486.25 Q699.066 1486.25 696.797 1485.88 Q694.552 1485.51 692.144 1484.77 L692.144 1480.07 Q694.228 1481.2 696.45 1481.76 Q698.672 1482.32 701.149 1482.32 Q705.153 1482.32 707.491 1480.21 Q709.829 1478.1 709.829 1474.49 Q709.829 1470.88 707.491 1468.77 Q705.153 1466.67 701.149 1466.67 Q699.274 1466.67 697.399 1467.08 Q695.547 1467.5 693.603 1468.38 L693.603 1451.02 Z\" fill=\"#000000\" fill-rule=\"nonzero\" fill-opacity=\"1\" /><path clip-path=\"url(#clip280)\" d=\"M1207.69 1481.64 L1215.33 1481.64 L1215.33 1455.28 L1207.02 1456.95 L1207.02 1452.69 L1215.29 1451.02 L1219.96 1451.02 L1219.96 1481.64 L1227.6 1481.64 L1227.6 1485.58 L1207.69 1485.58 L1207.69 1481.64 Z\" fill=\"#000000\" fill-rule=\"nonzero\" fill-opacity=\"1\" /><path clip-path=\"url(#clip280)\" d=\"M1247.05 1454.1 Q1243.44 1454.1 1241.61 1457.66 Q1239.8 1461.2 1239.8 1468.33 Q1239.8 1475.44 1241.61 1479.01 Q1243.44 1482.55 1247.05 1482.55 Q1250.68 1482.55 1252.49 1479.01 Q1254.31 1475.44 1254.31 1468.33 Q1254.31 1461.2 1252.49 1457.66 Q1250.68 1454.1 1247.05 1454.1 M1247.05 1450.39 Q1252.86 1450.39 1255.91 1455 Q1258.99 1459.58 1258.99 1468.33 Q1258.99 1477.06 1255.91 1481.67 Q1252.86 1486.25 1247.05 1486.25 Q1241.24 1486.25 1238.16 1481.67 Q1235.1 1477.06 1235.1 1468.33 Q1235.1 1459.58 1238.16 1455 Q1241.24 1450.39 1247.05 1450.39 Z\" fill=\"#000000\" fill-rule=\"nonzero\" fill-opacity=\"1\" /><path clip-path=\"url(#clip280)\" d=\"M1737.87 1481.64 L1745.51 1481.64 L1745.51 1455.28 L1737.2 1456.95 L1737.2 1452.69 L1745.47 1451.02 L1750.14 1451.02 L1750.14 1481.64 L1757.78 1481.64 L1757.78 1485.58 L1737.87 1485.58 L1737.87 1481.64 Z\" fill=\"#000000\" fill-rule=\"nonzero\" fill-opacity=\"1\" /><path clip-path=\"url(#clip280)\" d=\"M1767.27 1451.02 L1785.63 1451.02 L1785.63 1454.96 L1771.56 1454.96 L1771.56 1463.43 Q1772.57 1463.08 1773.59 1462.92 Q1774.61 1462.73 1775.63 1462.73 Q1781.42 1462.73 1784.8 1465.9 Q1788.18 1469.08 1788.18 1474.49 Q1788.18 1480.07 1784.7 1483.17 Q1781.23 1486.25 1774.91 1486.25 Q1772.74 1486.25 1770.47 1485.88 Q1768.22 1485.51 1765.81 1484.77 L1765.81 1480.07 Q1767.9 1481.2 1770.12 1481.76 Q1772.34 1482.32 1774.82 1482.32 Q1778.82 1482.32 1781.16 1480.21 Q1783.5 1478.1 1783.5 1474.49 Q1783.5 1470.88 1781.16 1468.77 Q1778.82 1466.67 1774.82 1466.67 Q1772.94 1466.67 1771.07 1467.08 Q1769.22 1467.5 1767.27 1468.38 L1767.27 1451.02 Z\" fill=\"#000000\" fill-rule=\"nonzero\" fill-opacity=\"1\" /><path clip-path=\"url(#clip280)\" d=\"M2271.15 1481.64 L2287.46 1481.64 L2287.46 1485.58 L2265.52 1485.58 L2265.52 1481.64 Q2268.18 1478.89 2272.77 1474.26 Q2277.37 1469.61 2278.55 1468.27 Q2280.8 1465.74 2281.68 1464.01 Q2282.58 1462.25 2282.58 1460.56 Q2282.58 1457.8 2280.64 1456.07 Q2278.71 1454.33 2275.61 1454.33 Q2273.41 1454.33 2270.96 1455.09 Q2268.53 1455.86 2265.75 1457.41 L2265.75 1452.69 Q2268.58 1451.55 2271.03 1450.97 Q2273.48 1450.39 2275.52 1450.39 Q2280.89 1450.39 2284.09 1453.08 Q2287.28 1455.77 2287.28 1460.26 Q2287.28 1462.39 2286.47 1464.31 Q2285.68 1466.2 2283.58 1468.8 Q2283 1469.47 2279.9 1472.69 Q2276.79 1475.88 2271.15 1481.64 Z\" fill=\"#000000\" fill-rule=\"nonzero\" fill-opacity=\"1\" /><path clip-path=\"url(#clip280)\" d=\"M2307.28 1454.1 Q2303.67 1454.1 2301.84 1457.66 Q2300.03 1461.2 2300.03 1468.33 Q2300.03 1475.44 2301.84 1479.01 Q2303.67 1482.55 2307.28 1482.55 Q2310.91 1482.55 2312.72 1479.01 Q2314.55 1475.44 2314.55 1468.33 Q2314.55 1461.2 2312.72 1457.66 Q2310.91 1454.1 2307.28 1454.1 M2307.28 1450.39 Q2313.09 1450.39 2316.15 1455 Q2319.22 1459.58 2319.22 1468.33 Q2319.22 1477.06 2316.15 1481.67 Q2313.09 1486.25 2307.28 1486.25 Q2301.47 1486.25 2298.39 1481.67 Q2295.34 1477.06 2295.34 1468.33 Q2295.34 1459.58 2298.39 1455 Q2301.47 1450.39 2307.28 1450.39 Z\" fill=\"#000000\" fill-rule=\"nonzero\" fill-opacity=\"1\" /><path clip-path=\"url(#clip280)\" d=\"M1153.7 1520.52 L1160.13 1520.52 L1160.13 1568.04 L1153.7 1568.04 L1153.7 1520.52 Z\" fill=\"#000000\" fill-rule=\"nonzero\" fill-opacity=\"1\" /><path clip-path=\"url(#clip280)\" d=\"M1178.46 1522.27 L1178.46 1532.4 L1190.52 1532.4 L1190.52 1536.95 L1178.46 1536.95 L1178.46 1556.3 Q1178.46 1560.66 1179.64 1561.9 Q1180.85 1563.14 1184.51 1563.14 L1190.52 1563.14 L1190.52 1568.04 L1184.51 1568.04 Q1177.73 1568.04 1175.15 1565.53 Q1172.57 1562.98 1172.57 1556.3 L1172.57 1536.95 L1168.27 1536.95 L1168.27 1532.4 L1172.57 1532.4 L1172.57 1522.27 L1178.46 1522.27 Z\" fill=\"#000000\" fill-rule=\"nonzero\" fill-opacity=\"1\" /><path clip-path=\"url(#clip280)\" d=\"M1228.72 1548.76 L1228.72 1551.62 L1201.79 1551.62 Q1202.17 1557.67 1205.42 1560.85 Q1208.7 1564 1214.52 1564 Q1217.89 1564 1221.05 1563.17 Q1224.23 1562.35 1227.35 1560.69 L1227.35 1566.23 Q1224.2 1567.57 1220.89 1568.27 Q1217.58 1568.97 1214.17 1568.97 Q1205.64 1568.97 1200.64 1564 Q1195.68 1559.04 1195.68 1550.57 Q1195.68 1541.82 1200.39 1536.69 Q1205.13 1531.54 1213.15 1531.54 Q1220.35 1531.54 1224.51 1536.18 Q1228.72 1540.8 1228.72 1548.76 M1222.86 1547.04 Q1222.8 1542.23 1220.15 1539.37 Q1217.54 1536.5 1213.22 1536.5 Q1208.31 1536.5 1205.35 1539.27 Q1202.43 1542.04 1201.98 1547.07 L1222.86 1547.04 Z\" fill=\"#000000\" fill-rule=\"nonzero\" fill-opacity=\"1\" /><path clip-path=\"url(#clip280)\" d=\"M1258.98 1537.87 Q1258 1537.3 1256.82 1537.04 Q1255.67 1536.76 1254.27 1536.76 Q1249.31 1536.76 1246.64 1540 Q1243.99 1543.22 1243.99 1549.27 L1243.99 1568.04 L1238.11 1568.04 L1238.11 1532.4 L1243.99 1532.4 L1243.99 1537.93 Q1245.84 1534.69 1248.8 1533.13 Q1251.76 1531.54 1255.99 1531.54 Q1256.6 1531.54 1257.33 1531.63 Q1258.06 1531.7 1258.95 1531.85 L1258.98 1537.87 Z\" fill=\"#000000\" fill-rule=\"nonzero\" fill-opacity=\"1\" /><path clip-path=\"url(#clip280)\" d=\"M1281.33 1550.12 Q1274.23 1550.12 1271.49 1551.75 Q1268.76 1553.37 1268.76 1557.29 Q1268.76 1560.4 1270.79 1562.25 Q1272.86 1564.07 1276.4 1564.07 Q1281.26 1564.07 1284.19 1560.63 Q1287.15 1557.16 1287.15 1551.43 L1287.15 1550.12 L1281.33 1550.12 M1293.01 1547.71 L1293.01 1568.04 L1287.15 1568.04 L1287.15 1562.63 Q1285.15 1565.88 1282.16 1567.44 Q1279.16 1568.97 1274.84 1568.97 Q1269.36 1568.97 1266.11 1565.91 Q1262.9 1562.82 1262.9 1557.67 Q1262.9 1551.65 1266.91 1548.6 Q1270.95 1545.54 1278.94 1545.54 L1287.15 1545.54 L1287.15 1544.97 Q1287.15 1540.93 1284.48 1538.73 Q1281.84 1536.5 1277.03 1536.5 Q1273.98 1536.5 1271.08 1537.23 Q1268.18 1537.97 1265.51 1539.43 L1265.51 1534.02 Q1268.72 1532.78 1271.75 1532.17 Q1274.77 1531.54 1277.64 1531.54 Q1285.37 1531.54 1289.19 1535.55 Q1293.01 1539.56 1293.01 1547.71 Z\" fill=\"#000000\" fill-rule=\"nonzero\" fill-opacity=\"1\" /><path clip-path=\"url(#clip280)\" d=\"M1310.87 1522.27 L1310.87 1532.4 L1322.93 1532.4 L1322.93 1536.95 L1310.87 1536.95 L1310.87 1556.3 Q1310.87 1560.66 1312.04 1561.9 Q1313.25 1563.14 1316.91 1563.14 L1322.93 1563.14 L1322.93 1568.04 L1316.91 1568.04 Q1310.13 1568.04 1307.56 1565.53 Q1304.98 1562.98 1304.98 1556.3 L1304.98 1536.95 L1300.68 1536.95 L1300.68 1532.4 L1304.98 1532.4 L1304.98 1522.27 L1310.87 1522.27 Z\" fill=\"#000000\" fill-rule=\"nonzero\" fill-opacity=\"1\" /><path clip-path=\"url(#clip280)\" d=\"M1330.63 1532.4 L1336.49 1532.4 L1336.49 1568.04 L1330.63 1568.04 L1330.63 1532.4 M1330.63 1518.52 L1336.49 1518.52 L1336.49 1525.93 L1330.63 1525.93 L1330.63 1518.52 Z\" fill=\"#000000\" fill-rule=\"nonzero\" fill-opacity=\"1\" /><path clip-path=\"url(#clip280)\" d=\"M1362.55 1536.5 Q1357.84 1536.5 1355.11 1540.19 Q1352.37 1543.85 1352.37 1550.25 Q1352.37 1556.65 1355.08 1560.34 Q1357.81 1564 1362.55 1564 Q1367.23 1564 1369.97 1560.31 Q1372.71 1556.62 1372.71 1550.25 Q1372.71 1543.92 1369.97 1540.23 Q1367.23 1536.5 1362.55 1536.5 M1362.55 1531.54 Q1370.19 1531.54 1374.55 1536.5 Q1378.91 1541.47 1378.91 1550.25 Q1378.91 1559 1374.55 1564 Q1370.19 1568.97 1362.55 1568.97 Q1354.88 1568.97 1350.52 1564 Q1346.2 1559 1346.2 1550.25 Q1346.2 1541.47 1350.52 1536.5 Q1354.88 1531.54 1362.55 1531.54 Z\" fill=\"#000000\" fill-rule=\"nonzero\" fill-opacity=\"1\" /><path clip-path=\"url(#clip280)\" d=\"M1418.25 1546.53 L1418.25 1568.04 L1412.4 1568.04 L1412.4 1546.72 Q1412.4 1541.66 1410.43 1539.14 Q1408.45 1536.63 1404.5 1536.63 Q1399.76 1536.63 1397.03 1539.65 Q1394.29 1542.68 1394.29 1547.9 L1394.29 1568.04 L1388.4 1568.04 L1388.4 1532.4 L1394.29 1532.4 L1394.29 1537.93 Q1396.39 1534.72 1399.22 1533.13 Q1402.09 1531.54 1405.81 1531.54 Q1411.95 1531.54 1415.1 1535.36 Q1418.25 1539.14 1418.25 1546.53 Z\" fill=\"#000000\" fill-rule=\"nonzero\" fill-opacity=\"1\" /><polyline clip-path=\"url(#clip280)\" style=\"stroke:#000000; stroke-linecap:round; stroke-linejoin:round; stroke-width:4; stroke-opacity:1; fill:none\" points=\"219.195,1423.18 219.195,123.472 \"/>\n",
       "<polyline clip-path=\"url(#clip280)\" style=\"stroke:#000000; stroke-linecap:round; stroke-linejoin:round; stroke-width:4; stroke-opacity:1; fill:none\" points=\"219.195,1264.61 238.093,1264.61 \"/>\n",
       "<polyline clip-path=\"url(#clip280)\" style=\"stroke:#000000; stroke-linecap:round; stroke-linejoin:round; stroke-width:4; stroke-opacity:1; fill:none\" points=\"219.195,963.42 238.093,963.42 \"/>\n",
       "<polyline clip-path=\"url(#clip280)\" style=\"stroke:#000000; stroke-linecap:round; stroke-linejoin:round; stroke-width:4; stroke-opacity:1; fill:none\" points=\"219.195,662.234 238.093,662.234 \"/>\n",
       "<polyline clip-path=\"url(#clip280)\" style=\"stroke:#000000; stroke-linecap:round; stroke-linejoin:round; stroke-width:4; stroke-opacity:1; fill:none\" points=\"219.195,361.047 238.093,361.047 \"/>\n",
       "<path clip-path=\"url(#clip280)\" d=\"M126.205 1250.4 Q122.593 1250.4 120.765 1253.97 Q118.959 1257.51 118.959 1264.64 Q118.959 1271.75 120.765 1275.31 Q122.593 1278.85 126.205 1278.85 Q129.839 1278.85 131.644 1275.31 Q133.473 1271.75 133.473 1264.64 Q133.473 1257.51 131.644 1253.97 Q129.839 1250.4 126.205 1250.4 M126.205 1246.7 Q132.015 1246.7 135.07 1251.31 Q138.149 1255.89 138.149 1264.64 Q138.149 1273.37 135.07 1277.97 Q132.015 1282.56 126.205 1282.56 Q120.394 1282.56 117.316 1277.97 Q114.26 1273.37 114.26 1264.64 Q114.26 1255.89 117.316 1251.31 Q120.394 1246.7 126.205 1246.7 Z\" fill=\"#000000\" fill-rule=\"nonzero\" fill-opacity=\"1\" /><path clip-path=\"url(#clip280)\" d=\"M146.366 1276.01 L151.251 1276.01 L151.251 1281.89 L146.366 1281.89 L146.366 1276.01 Z\" fill=\"#000000\" fill-rule=\"nonzero\" fill-opacity=\"1\" /><path clip-path=\"url(#clip280)\" d=\"M161.575 1281.17 L161.575 1276.91 Q163.334 1277.74 165.14 1278.18 Q166.945 1278.62 168.681 1278.62 Q173.311 1278.62 175.741 1275.52 Q178.195 1272.4 178.542 1266.05 Q177.2 1268.04 175.139 1269.11 Q173.079 1270.17 170.579 1270.17 Q165.394 1270.17 162.362 1267.05 Q159.353 1263.9 159.353 1258.46 Q159.353 1253.14 162.501 1249.92 Q165.649 1246.7 170.88 1246.7 Q176.876 1246.7 180.024 1251.31 Q183.195 1255.89 183.195 1264.64 Q183.195 1272.81 179.306 1277.7 Q175.44 1282.56 168.889 1282.56 Q167.13 1282.56 165.325 1282.21 Q163.519 1281.86 161.575 1281.17 M170.88 1266.52 Q174.028 1266.52 175.857 1264.36 Q177.709 1262.21 177.709 1258.46 Q177.709 1254.73 175.857 1252.58 Q174.028 1250.4 170.88 1250.4 Q167.732 1250.4 165.88 1252.58 Q164.052 1254.73 164.052 1258.46 Q164.052 1262.21 165.88 1264.36 Q167.732 1266.52 170.88 1266.52 Z\" fill=\"#000000\" fill-rule=\"nonzero\" fill-opacity=\"1\" /><path clip-path=\"url(#clip280)\" d=\"M118.427 976.765 L126.066 976.765 L126.066 950.399 L117.756 952.066 L117.756 947.807 L126.019 946.14 L130.695 946.14 L130.695 976.765 L138.334 976.765 L138.334 980.7 L118.427 980.7 L118.427 976.765 Z\" fill=\"#000000\" fill-rule=\"nonzero\" fill-opacity=\"1\" /><path clip-path=\"url(#clip280)\" d=\"M147.778 974.82 L152.663 974.82 L152.663 980.7 L147.778 980.7 L147.778 974.82 Z\" fill=\"#000000\" fill-rule=\"nonzero\" fill-opacity=\"1\" /><path clip-path=\"url(#clip280)\" d=\"M166.876 976.765 L183.195 976.765 L183.195 980.7 L161.251 980.7 L161.251 976.765 Q163.913 974.01 168.496 969.38 Q173.102 964.728 174.283 963.385 Q176.528 960.862 177.408 959.126 Q178.311 957.367 178.311 955.677 Q178.311 952.922 176.366 951.186 Q174.445 949.45 171.343 949.45 Q169.144 949.45 166.69 950.214 Q164.26 950.978 161.482 952.529 L161.482 947.807 Q164.306 946.672 166.76 946.094 Q169.214 945.515 171.251 945.515 Q176.621 945.515 179.815 948.2 Q183.01 950.885 183.01 955.376 Q183.01 957.506 182.2 959.427 Q181.413 961.325 179.306 963.918 Q178.727 964.589 175.626 967.806 Q172.524 971.001 166.876 976.765 Z\" fill=\"#000000\" fill-rule=\"nonzero\" fill-opacity=\"1\" /><path clip-path=\"url(#clip280)\" d=\"M117.825 675.578 L125.464 675.578 L125.464 649.213 L117.154 650.879 L117.154 646.62 L125.418 644.954 L130.093 644.954 L130.093 675.578 L137.732 675.578 L137.732 679.514 L117.825 679.514 L117.825 675.578 Z\" fill=\"#000000\" fill-rule=\"nonzero\" fill-opacity=\"1\" /><path clip-path=\"url(#clip280)\" d=\"M147.177 673.634 L152.061 673.634 L152.061 679.514 L147.177 679.514 L147.177 673.634 Z\" fill=\"#000000\" fill-rule=\"nonzero\" fill-opacity=\"1\" /><path clip-path=\"url(#clip280)\" d=\"M162.292 644.954 L180.649 644.954 L180.649 648.889 L166.575 648.889 L166.575 657.361 Q167.593 657.014 168.612 656.852 Q169.63 656.666 170.649 656.666 Q176.436 656.666 179.815 659.838 Q183.195 663.009 183.195 668.426 Q183.195 674.004 179.723 677.106 Q176.251 680.185 169.931 680.185 Q167.755 680.185 165.487 679.814 Q163.241 679.444 160.834 678.703 L160.834 674.004 Q162.917 675.139 165.14 675.694 Q167.362 676.25 169.839 676.25 Q173.843 676.25 176.181 674.143 Q178.519 672.037 178.519 668.426 Q178.519 664.815 176.181 662.708 Q173.843 660.602 169.839 660.602 Q167.964 660.602 166.089 661.018 Q164.237 661.435 162.292 662.315 L162.292 644.954 Z\" fill=\"#000000\" fill-rule=\"nonzero\" fill-opacity=\"1\" /><path clip-path=\"url(#clip280)\" d=\"M116.922 374.392 L124.561 374.392 L124.561 348.026 L116.251 349.693 L116.251 345.434 L124.515 343.767 L129.191 343.767 L129.191 374.392 L136.829 374.392 L136.829 378.327 L116.922 378.327 L116.922 374.392 Z\" fill=\"#000000\" fill-rule=\"nonzero\" fill-opacity=\"1\" /><path clip-path=\"url(#clip280)\" d=\"M146.274 372.448 L151.158 372.448 L151.158 378.327 L146.274 378.327 L146.274 372.448 Z\" fill=\"#000000\" fill-rule=\"nonzero\" fill-opacity=\"1\" /><path clip-path=\"url(#clip280)\" d=\"M171.343 361.915 Q168.01 361.915 166.089 363.698 Q164.19 365.48 164.19 368.605 Q164.19 371.73 166.089 373.512 Q168.01 375.295 171.343 375.295 Q174.677 375.295 176.598 373.512 Q178.519 371.707 178.519 368.605 Q178.519 365.48 176.598 363.698 Q174.7 361.915 171.343 361.915 M166.667 359.925 Q163.658 359.184 161.968 357.124 Q160.302 355.063 160.302 352.1 Q160.302 347.957 163.241 345.55 Q166.204 343.142 171.343 343.142 Q176.505 343.142 179.445 345.55 Q182.385 347.957 182.385 352.1 Q182.385 355.063 180.695 357.124 Q179.028 359.184 176.042 359.925 Q179.422 360.712 181.297 363.003 Q183.195 365.295 183.195 368.605 Q183.195 373.628 180.116 376.313 Q177.061 378.998 171.343 378.998 Q165.626 378.998 162.547 376.313 Q159.491 373.628 159.491 368.605 Q159.491 365.295 161.39 363.003 Q163.288 360.712 166.667 359.925 M164.954 352.54 Q164.954 355.225 166.621 356.73 Q168.311 358.235 171.343 358.235 Q174.352 358.235 176.042 356.73 Q177.755 355.225 177.755 352.54 Q177.755 349.855 176.042 348.351 Q174.352 346.846 171.343 346.846 Q168.311 346.846 166.621 348.351 Q164.954 349.855 164.954 352.54 Z\" fill=\"#000000\" fill-rule=\"nonzero\" fill-opacity=\"1\" /><path clip-path=\"url(#clip280)\" d=\"M16.4842 988.948 L16.4842 979.368 L48.8219 967.241 L16.4842 955.051 L16.4842 945.471 L64.0042 945.471 L64.0042 951.741 L22.277 951.741 L54.8694 963.995 L54.8694 970.456 L22.277 982.71 L64.0042 982.71 L64.0042 988.948 L16.4842 988.948 Z\" fill=\"#000000\" fill-rule=\"nonzero\" fill-opacity=\"1\" /><path clip-path=\"url(#clip280)\" d=\"M46.0847 916.761 Q46.0847 923.859 47.7079 926.596 Q49.3312 929.334 53.2461 929.334 Q56.3653 929.334 58.2114 927.297 Q60.0256 925.228 60.0256 921.695 Q60.0256 916.825 56.5881 913.897 Q53.1188 910.937 47.3897 910.937 L46.0847 910.937 L46.0847 916.761 M43.6657 905.08 L64.0042 905.08 L64.0042 910.937 L58.5933 910.937 Q61.8398 912.942 63.3994 915.934 Q64.9272 918.926 64.9272 923.254 Q64.9272 928.729 61.8716 931.975 Q58.7843 935.19 53.6281 935.19 Q47.6125 935.19 44.5569 931.18 Q41.5014 927.137 41.5014 919.148 L41.5014 910.937 L40.9285 910.937 Q36.8862 910.937 34.6901 913.61 Q32.4621 916.252 32.4621 921.058 Q32.4621 924.114 33.1941 927.01 Q33.9262 929.906 35.3903 932.58 L29.9795 932.58 Q28.7381 929.365 28.1334 926.342 Q27.4968 923.318 27.4968 920.453 Q27.4968 912.719 31.5072 908.9 Q35.5176 905.08 43.6657 905.08 Z\" fill=\"#000000\" fill-rule=\"nonzero\" fill-opacity=\"1\" /><path clip-path=\"url(#clip280)\" d=\"M28.3562 863.385 L45.7028 876.275 L64.0042 862.716 L64.0042 869.623 L49.9996 879.999 L64.0042 890.375 L64.0042 897.282 L45.3526 883.437 L28.3562 896.105 L28.3562 889.198 L41.0558 879.745 L28.3562 870.292 L28.3562 863.385 Z\" fill=\"#000000\" fill-rule=\"nonzero\" fill-opacity=\"1\" /><path clip-path=\"url(#clip280)\" d=\"M57.2247 801.065 L44.4614 801.065 L44.4614 811.568 L39.1779 811.568 L39.1779 794.699 L59.58 794.699 Q62.2218 798.423 63.5904 802.911 Q64.9272 807.398 64.9272 812.491 Q64.9272 823.631 58.4342 829.933 Q51.9093 836.203 40.2919 836.203 Q28.6427 836.203 22.1496 829.933 Q15.6248 823.631 15.6248 812.491 Q15.6248 807.844 16.7706 803.674 Q17.9164 799.473 20.1444 795.94 L26.9876 795.94 Q23.9639 799.505 22.4361 803.515 Q20.9083 807.526 20.9083 811.95 Q20.9083 820.671 25.7781 825.063 Q30.6479 829.424 40.2919 829.424 Q49.9041 829.424 54.7739 825.063 Q59.6436 820.671 59.6436 811.95 Q59.6436 808.544 59.0707 805.871 Q58.466 803.197 57.2247 801.065 Z\" fill=\"#000000\" fill-rule=\"nonzero\" fill-opacity=\"1\" /><path clip-path=\"url(#clip280)\" d=\"M33.8307 762.552 Q33.2578 763.539 33.0032 764.716 Q32.7167 765.862 32.7167 767.263 Q32.7167 772.228 35.9632 774.901 Q39.1779 777.543 45.2253 777.543 L64.0042 777.543 L64.0042 783.432 L28.3562 783.432 L28.3562 777.543 L33.8944 777.543 Q30.6479 775.697 29.0883 772.737 Q27.4968 769.777 27.4968 765.544 Q27.4968 764.939 27.5923 764.207 Q27.656 763.475 27.8151 762.584 L33.8307 762.552 Z\" fill=\"#000000\" fill-rule=\"nonzero\" fill-opacity=\"1\" /><path clip-path=\"url(#clip280)\" d=\"M46.0847 740.208 Q46.0847 747.306 47.7079 750.043 Q49.3312 752.781 53.2461 752.781 Q56.3653 752.781 58.2114 750.744 Q60.0256 748.675 60.0256 745.142 Q60.0256 740.272 56.5881 737.344 Q53.1188 734.384 47.3897 734.384 L46.0847 734.384 L46.0847 740.208 M43.6657 728.527 L64.0042 728.527 L64.0042 734.384 L58.5933 734.384 Q61.8398 736.389 63.3994 739.381 Q64.9272 742.373 64.9272 746.701 Q64.9272 752.176 61.8716 755.422 Q58.7843 758.637 53.6281 758.637 Q47.6125 758.637 44.5569 754.627 Q41.5014 750.584 41.5014 742.596 L41.5014 734.384 L40.9285 734.384 Q36.8862 734.384 34.6901 737.057 Q32.4621 739.699 32.4621 744.505 Q32.4621 747.561 33.1941 750.457 Q33.9262 753.354 35.3903 756.027 L29.9795 756.027 Q28.7381 752.812 28.1334 749.789 Q27.4968 746.765 27.4968 743.901 Q27.4968 736.166 31.5072 732.347 Q35.5176 728.527 43.6657 728.527 Z\" fill=\"#000000\" fill-rule=\"nonzero\" fill-opacity=\"1\" /><path clip-path=\"url(#clip280)\" d=\"M33.7671 693.007 L14.479 693.007 L14.479 687.15 L64.0042 687.15 L64.0042 693.007 L58.657 693.007 Q61.8398 694.853 63.3994 697.685 Q64.9272 700.486 64.9272 704.433 Q64.9272 710.894 59.771 714.968 Q54.6147 719.011 46.212 719.011 Q37.8093 719.011 32.6531 714.968 Q27.4968 710.894 27.4968 704.433 Q27.4968 700.486 29.0564 697.685 Q30.5842 694.853 33.7671 693.007 M46.212 712.963 Q52.6732 712.963 56.3653 710.321 Q60.0256 707.648 60.0256 703.001 Q60.0256 698.354 56.3653 695.68 Q52.6732 693.007 46.212 693.007 Q39.7508 693.007 36.0905 695.68 Q32.3984 698.354 32.3984 703.001 Q32.3984 707.648 36.0905 710.321 Q39.7508 712.963 46.212 712.963 Z\" fill=\"#000000\" fill-rule=\"nonzero\" fill-opacity=\"1\" /><path clip-path=\"url(#clip280)\" d=\"M28.3562 675.087 L28.3562 669.231 L64.0042 669.231 L64.0042 675.087 L28.3562 675.087 M14.479 675.087 L14.479 669.231 L21.895 669.231 L21.895 675.087 L14.479 675.087 Z\" fill=\"#000000\" fill-rule=\"nonzero\" fill-opacity=\"1\" /><path clip-path=\"url(#clip280)\" d=\"M44.7161 626.485 L47.5806 626.485 L47.5806 653.412 Q53.6281 653.03 56.8109 649.784 Q59.9619 646.505 59.9619 640.681 Q59.9619 637.307 59.1344 634.156 Q58.3069 630.973 56.6518 627.854 L62.1899 627.854 Q63.5267 631.005 64.227 634.315 Q64.9272 637.625 64.9272 641.031 Q64.9272 649.561 59.9619 654.558 Q54.9967 659.523 46.5303 659.523 Q37.7774 659.523 32.6531 654.812 Q27.4968 650.07 27.4968 642.049 Q27.4968 634.856 32.1438 630.686 Q36.7589 626.485 44.7161 626.485 M42.9973 632.341 Q38.1912 632.405 35.3266 635.047 Q32.4621 637.657 32.4621 641.986 Q32.4621 646.887 35.2312 649.847 Q38.0002 652.775 43.0292 653.221 L42.9973 632.341 Z\" fill=\"#000000\" fill-rule=\"nonzero\" fill-opacity=\"1\" /><path clip-path=\"url(#clip280)\" d=\"M42.4881 587.24 L64.0042 587.24 L64.0042 593.097 L42.679 593.097 Q37.6183 593.097 35.1038 595.07 Q32.5894 597.044 32.5894 600.99 Q32.5894 605.733 35.6131 608.47 Q38.6368 611.207 43.8567 611.207 L64.0042 611.207 L64.0042 617.096 L28.3562 617.096 L28.3562 611.207 L33.8944 611.207 Q30.6797 609.107 29.0883 606.274 Q27.4968 603.409 27.4968 599.685 Q27.4968 593.543 31.3163 590.391 Q35.1038 587.24 42.4881 587.24 Z\" fill=\"#000000\" fill-rule=\"nonzero\" fill-opacity=\"1\" /><path clip-path=\"url(#clip280)\" d=\"M18.2347 569.767 L28.3562 569.767 L28.3562 557.704 L32.9077 557.704 L32.9077 569.767 L52.2594 569.767 Q56.6199 569.767 57.8613 568.589 Q59.1026 567.379 59.1026 563.719 L59.1026 557.704 L64.0042 557.704 L64.0042 563.719 Q64.0042 570.499 61.4897 573.077 Q58.9434 575.655 52.2594 575.655 L32.9077 575.655 L32.9077 579.952 L28.3562 579.952 L28.3562 575.655 L18.2347 575.655 L18.2347 569.767 Z\" fill=\"#000000\" fill-rule=\"nonzero\" fill-opacity=\"1\" /><path clip-path=\"url(#clip280)\" d=\"M726.08 12.096 L738.273 12.096 L753.707 53.2532 L769.222 12.096 L781.415 12.096 L781.415 72.576 L773.435 72.576 L773.435 19.4686 L757.839 60.9499 L749.615 60.9499 L734.019 19.4686 L734.019 72.576 L726.08 72.576 L726.08 12.096 Z\" fill=\"#000000\" fill-rule=\"nonzero\" fill-opacity=\"1\" /><path clip-path=\"url(#clip280)\" d=\"M817.954 49.7694 Q808.921 49.7694 805.437 51.8354 Q801.953 53.9013 801.953 58.8839 Q801.953 62.8538 804.546 65.2034 Q807.179 67.5124 811.675 67.5124 Q817.873 67.5124 821.6 63.1374 Q825.367 58.7219 825.367 51.4303 L825.367 49.7694 L817.954 49.7694 M832.821 46.6907 L832.821 72.576 L825.367 72.576 L825.367 65.6895 Q822.815 69.8214 819.007 71.8063 Q815.2 73.7508 809.69 73.7508 Q802.723 73.7508 798.591 69.8619 Q794.499 65.9325 794.499 59.3701 Q794.499 51.7138 799.604 47.825 Q804.748 43.9361 814.916 43.9361 L825.367 43.9361 L825.367 43.2069 Q825.367 38.0623 821.965 35.2672 Q818.602 32.4315 812.485 32.4315 Q808.597 32.4315 804.91 33.3632 Q801.224 34.295 797.821 36.1584 L797.821 29.2718 Q801.913 27.692 805.761 26.9223 Q809.609 26.1121 813.255 26.1121 Q823.099 26.1121 827.96 31.2163 Q832.821 36.3204 832.821 46.6907 Z\" fill=\"#000000\" fill-rule=\"nonzero\" fill-opacity=\"1\" /><path clip-path=\"url(#clip280)\" d=\"M885.888 27.2059 L869.482 49.2833 L886.739 72.576 L877.948 72.576 L864.742 54.752 L851.536 72.576 L842.746 72.576 L860.367 48.8377 L844.245 27.2059 L853.035 27.2059 L865.066 43.369 L877.097 27.2059 L885.888 27.2059 Z\" fill=\"#000000\" fill-rule=\"nonzero\" fill-opacity=\"1\" /><path clip-path=\"url(#clip280)\" d=\"M965.205 63.9476 L965.205 47.7034 L951.837 47.7034 L951.837 40.9789 L973.306 40.9789 L973.306 66.9452 Q968.567 70.3075 962.855 72.0494 Q957.143 73.7508 950.662 73.7508 Q936.484 73.7508 928.463 65.4869 Q920.483 57.1826 920.483 42.3968 Q920.483 27.5705 928.463 19.3066 Q936.484 11.0023 950.662 11.0023 Q956.576 11.0023 961.883 12.4606 Q967.23 13.9189 971.727 16.7545 L971.727 25.464 Q967.19 21.6156 962.085 19.6712 Q956.981 17.7268 951.35 17.7268 Q940.251 17.7268 934.661 23.9246 Q929.111 30.1225 929.111 42.3968 Q929.111 54.6305 934.661 60.8284 Q940.251 67.0263 951.35 67.0263 Q955.685 67.0263 959.088 66.2971 Q962.49 65.5274 965.205 63.9476 Z\" fill=\"#000000\" fill-rule=\"nonzero\" fill-opacity=\"1\" /><path clip-path=\"url(#clip280)\" d=\"M1014.22 34.1734 Q1012.96 33.4443 1011.47 33.1202 Q1010.01 32.7556 1008.23 32.7556 Q1001.91 32.7556 998.503 36.8875 Q995.141 40.9789 995.141 48.6757 L995.141 72.576 L987.647 72.576 L987.647 27.2059 L995.141 27.2059 L995.141 34.2544 Q997.49 30.1225 1001.26 28.1376 Q1005.02 26.1121 1010.41 26.1121 Q1011.18 26.1121 1012.11 26.2337 Q1013.05 26.3147 1014.18 26.5172 L1014.22 34.1734 Z\" fill=\"#000000\" fill-rule=\"nonzero\" fill-opacity=\"1\" /><path clip-path=\"url(#clip280)\" d=\"M1042.66 49.7694 Q1033.62 49.7694 1030.14 51.8354 Q1026.66 53.9013 1026.66 58.8839 Q1026.66 62.8538 1029.25 65.2034 Q1031.88 67.5124 1036.38 67.5124 Q1042.58 67.5124 1046.3 63.1374 Q1050.07 58.7219 1050.07 51.4303 L1050.07 49.7694 L1042.66 49.7694 M1057.52 46.6907 L1057.52 72.576 L1050.07 72.576 L1050.07 65.6895 Q1047.52 69.8214 1043.71 71.8063 Q1039.9 73.7508 1034.39 73.7508 Q1027.43 73.7508 1023.29 69.8619 Q1019.2 65.9325 1019.2 59.3701 Q1019.2 51.7138 1024.31 47.825 Q1029.45 43.9361 1039.62 43.9361 L1050.07 43.9361 L1050.07 43.2069 Q1050.07 38.0623 1046.67 35.2672 Q1043.31 32.4315 1037.19 32.4315 Q1033.3 32.4315 1029.61 33.3632 Q1025.93 34.295 1022.52 36.1584 L1022.52 29.2718 Q1026.62 27.692 1030.46 26.9223 Q1034.31 26.1121 1037.96 26.1121 Q1047.8 26.1121 1052.66 31.2163 Q1057.52 36.3204 1057.52 46.6907 Z\" fill=\"#000000\" fill-rule=\"nonzero\" fill-opacity=\"1\" /><path clip-path=\"url(#clip280)\" d=\"M1102.73 34.0924 L1102.73 9.54393 L1110.19 9.54393 L1110.19 72.576 L1102.73 72.576 L1102.73 65.7705 Q1100.38 69.8214 1096.78 71.8063 Q1093.21 73.7508 1088.19 73.7508 Q1079.97 73.7508 1074.78 67.1883 Q1069.64 60.6258 1069.64 49.9314 Q1069.64 39.2371 1074.78 32.6746 Q1079.97 26.1121 1088.19 26.1121 Q1093.21 26.1121 1096.78 28.0971 Q1100.38 30.0415 1102.73 34.0924 M1077.33 49.9314 Q1077.33 58.1548 1080.7 62.8538 Q1084.1 67.5124 1090.01 67.5124 Q1095.93 67.5124 1099.33 62.8538 Q1102.73 58.1548 1102.73 49.9314 Q1102.73 41.7081 1099.33 37.0496 Q1095.93 32.3505 1090.01 32.3505 Q1084.1 32.3505 1080.7 37.0496 Q1077.33 41.7081 1077.33 49.9314 Z\" fill=\"#000000\" fill-rule=\"nonzero\" fill-opacity=\"1\" /><path clip-path=\"url(#clip280)\" d=\"M1125.54 27.2059 L1132.99 27.2059 L1132.99 72.576 L1125.54 72.576 L1125.54 27.2059 M1125.54 9.54393 L1132.99 9.54393 L1132.99 18.9825 L1125.54 18.9825 L1125.54 9.54393 Z\" fill=\"#000000\" fill-rule=\"nonzero\" fill-opacity=\"1\" /><path clip-path=\"url(#clip280)\" d=\"M1187.4 48.0275 L1187.4 51.6733 L1153.13 51.6733 Q1153.61 59.3701 1157.74 63.421 Q1161.92 67.4314 1169.33 67.4314 Q1173.62 67.4314 1177.63 66.3781 Q1181.68 65.3249 1185.65 63.2184 L1185.65 70.267 Q1181.64 71.9684 1177.43 72.8596 Q1173.22 73.7508 1168.88 73.7508 Q1158.03 73.7508 1151.67 67.4314 Q1145.35 61.1119 1145.35 50.3365 Q1145.35 39.1965 1151.34 32.6746 Q1157.38 26.1121 1167.59 26.1121 Q1176.74 26.1121 1182.05 32.0264 Q1187.4 37.9003 1187.4 48.0275 M1179.94 45.84 Q1179.86 39.7232 1176.5 36.0774 Q1173.18 32.4315 1167.67 32.4315 Q1161.43 32.4315 1157.66 35.9558 Q1153.94 39.4801 1153.37 45.8805 L1179.94 45.84 Z\" fill=\"#000000\" fill-rule=\"nonzero\" fill-opacity=\"1\" /><path clip-path=\"url(#clip280)\" d=\"M1237.34 45.1919 L1237.34 72.576 L1229.89 72.576 L1229.89 45.4349 Q1229.89 38.994 1227.38 35.7938 Q1224.87 32.5936 1219.84 32.5936 Q1213.81 32.5936 1210.32 36.4419 Q1206.84 40.2903 1206.84 46.9338 L1206.84 72.576 L1199.35 72.576 L1199.35 27.2059 L1206.84 27.2059 L1206.84 34.2544 Q1209.51 30.163 1213.12 28.1376 Q1216.77 26.1121 1221.51 26.1121 Q1229.32 26.1121 1233.33 30.9732 Q1237.34 35.7938 1237.34 45.1919 Z\" fill=\"#000000\" fill-rule=\"nonzero\" fill-opacity=\"1\" /><path clip-path=\"url(#clip280)\" d=\"M1259.58 14.324 L1259.58 27.2059 L1274.94 27.2059 L1274.94 32.9987 L1259.58 32.9987 L1259.58 57.6282 Q1259.58 63.1779 1261.08 64.7578 Q1262.62 66.3376 1267.28 66.3376 L1274.94 66.3376 L1274.94 72.576 L1267.28 72.576 Q1258.65 72.576 1255.37 69.3758 Q1252.09 66.1351 1252.09 57.6282 L1252.09 32.9987 L1246.62 32.9987 L1246.62 27.2059 L1252.09 27.2059 L1252.09 14.324 L1259.58 14.324 Z\" fill=\"#000000\" fill-rule=\"nonzero\" fill-opacity=\"1\" /><path clip-path=\"url(#clip280)\" d=\"M1356.72 16.7545 L1356.72 25.383 Q1352.59 21.5346 1347.89 19.6307 Q1343.23 17.7268 1337.97 17.7268 Q1327.6 17.7268 1322.09 24.0867 Q1316.58 30.4061 1316.58 42.3968 Q1316.58 54.3469 1322.09 60.7069 Q1327.6 67.0263 1337.97 67.0263 Q1343.23 67.0263 1347.89 65.1223 Q1352.59 63.2184 1356.72 59.3701 L1356.72 67.9175 Q1352.43 70.8341 1347.61 72.2924 Q1342.83 73.7508 1337.48 73.7508 Q1323.75 73.7508 1315.85 65.3654 Q1307.95 56.9395 1307.95 42.3968 Q1307.95 27.8135 1315.85 19.4281 Q1323.75 11.0023 1337.48 11.0023 Q1342.91 11.0023 1347.69 12.4606 Q1352.51 13.8784 1356.72 16.7545 Z\" fill=\"#000000\" fill-rule=\"nonzero\" fill-opacity=\"1\" /><path clip-path=\"url(#clip280)\" d=\"M1386.62 32.4315 Q1380.62 32.4315 1377.14 37.1306 Q1373.66 41.7891 1373.66 49.9314 Q1373.66 58.0738 1377.1 62.7728 Q1380.58 67.4314 1386.62 67.4314 Q1392.57 67.4314 1396.06 62.7323 Q1399.54 58.0333 1399.54 49.9314 Q1399.54 41.8701 1396.06 37.1711 Q1392.57 32.4315 1386.62 32.4315 M1386.62 26.1121 Q1396.34 26.1121 1401.89 32.4315 Q1407.44 38.7509 1407.44 49.9314 Q1407.44 61.0714 1401.89 67.4314 Q1396.34 73.7508 1386.62 73.7508 Q1376.86 73.7508 1371.31 67.4314 Q1365.8 61.0714 1365.8 49.9314 Q1365.8 38.7509 1371.31 32.4315 Q1376.86 26.1121 1386.62 26.1121 Z\" fill=\"#000000\" fill-rule=\"nonzero\" fill-opacity=\"1\" /><path clip-path=\"url(#clip280)\" d=\"M1457.51 45.1919 L1457.51 72.576 L1450.06 72.576 L1450.06 45.4349 Q1450.06 38.994 1447.55 35.7938 Q1445.03 32.5936 1440.01 32.5936 Q1433.98 32.5936 1430.49 36.4419 Q1427.01 40.2903 1427.01 46.9338 L1427.01 72.576 L1419.51 72.576 L1419.51 27.2059 L1427.01 27.2059 L1427.01 34.2544 Q1429.68 30.163 1433.29 28.1376 Q1436.93 26.1121 1441.67 26.1121 Q1449.49 26.1121 1453.5 30.9732 Q1457.51 35.7938 1457.51 45.1919 Z\" fill=\"#000000\" fill-rule=\"nonzero\" fill-opacity=\"1\" /><path clip-path=\"url(#clip280)\" d=\"M1467.03 27.2059 L1474.93 27.2059 L1489.11 65.2844 L1503.29 27.2059 L1511.19 27.2059 L1494.17 72.576 L1484.04 72.576 L1467.03 27.2059 Z\" fill=\"#000000\" fill-rule=\"nonzero\" fill-opacity=\"1\" /><path clip-path=\"url(#clip280)\" d=\"M1560.28 48.0275 L1560.28 51.6733 L1526.01 51.6733 Q1526.5 59.3701 1530.63 63.421 Q1534.8 67.4314 1542.22 67.4314 Q1546.51 67.4314 1550.52 66.3781 Q1554.57 65.3249 1558.54 63.2184 L1558.54 70.267 Q1554.53 71.9684 1550.32 72.8596 Q1546.1 73.7508 1541.77 73.7508 Q1530.91 73.7508 1524.55 67.4314 Q1518.23 61.1119 1518.23 50.3365 Q1518.23 39.1965 1524.23 32.6746 Q1530.27 26.1121 1540.47 26.1121 Q1549.63 26.1121 1554.94 32.0264 Q1560.28 37.9003 1560.28 48.0275 M1552.83 45.84 Q1552.75 39.7232 1549.39 36.0774 Q1546.06 32.4315 1540.55 32.4315 Q1534.32 32.4315 1530.55 35.9558 Q1526.82 39.4801 1526.25 45.8805 L1552.83 45.84 Z\" fill=\"#000000\" fill-rule=\"nonzero\" fill-opacity=\"1\" /><path clip-path=\"url(#clip280)\" d=\"M1598.81 34.1734 Q1597.55 33.4443 1596.05 33.1202 Q1594.59 32.7556 1592.81 32.7556 Q1586.49 32.7556 1583.09 36.8875 Q1579.73 40.9789 1579.73 48.6757 L1579.73 72.576 L1572.23 72.576 L1572.23 27.2059 L1579.73 27.2059 L1579.73 34.2544 Q1582.08 30.1225 1585.84 28.1376 Q1589.61 26.1121 1595 26.1121 Q1595.77 26.1121 1596.7 26.2337 Q1597.63 26.3147 1598.77 26.5172 L1598.81 34.1734 Z\" fill=\"#000000\" fill-rule=\"nonzero\" fill-opacity=\"1\" /><path clip-path=\"url(#clip280)\" d=\"M1635.02 49.3643 Q1635.02 41.2625 1631.66 36.8065 Q1628.34 32.3505 1622.3 32.3505 Q1616.31 32.3505 1612.94 36.8065 Q1609.62 41.2625 1609.62 49.3643 Q1609.62 57.4256 1612.94 61.8816 Q1616.31 66.3376 1622.3 66.3376 Q1628.34 66.3376 1631.66 61.8816 Q1635.02 57.4256 1635.02 49.3643 M1642.48 66.9452 Q1642.48 78.5308 1637.33 84.1616 Q1632.19 89.8329 1621.57 89.8329 Q1617.64 89.8329 1614.16 89.2252 Q1610.68 88.6581 1607.39 87.4428 L1607.39 80.1917 Q1610.68 81.9741 1613.88 82.8248 Q1617.08 83.6755 1620.4 83.6755 Q1627.73 83.6755 1631.38 79.8271 Q1635.02 76.0193 1635.02 68.282 L1635.02 64.5957 Q1632.71 68.6061 1629.11 70.5911 Q1625.5 72.576 1620.48 72.576 Q1612.13 72.576 1607.03 66.2161 Q1601.93 59.8562 1601.93 49.3643 Q1601.93 38.832 1607.03 32.472 Q1612.13 26.1121 1620.48 26.1121 Q1625.5 26.1121 1629.11 28.0971 Q1632.71 30.082 1635.02 34.0924 L1635.02 27.2059 L1642.48 27.2059 L1642.48 66.9452 Z\" fill=\"#000000\" fill-rule=\"nonzero\" fill-opacity=\"1\" /><path clip-path=\"url(#clip280)\" d=\"M1696.64 48.0275 L1696.64 51.6733 L1662.37 51.6733 Q1662.85 59.3701 1666.98 63.421 Q1671.16 67.4314 1678.57 67.4314 Q1682.86 67.4314 1686.87 66.3781 Q1690.92 65.3249 1694.89 63.2184 L1694.89 70.267 Q1690.88 71.9684 1686.67 72.8596 Q1682.46 73.7508 1678.12 73.7508 Q1667.27 73.7508 1660.91 67.4314 Q1654.59 61.1119 1654.59 50.3365 Q1654.59 39.1965 1660.58 32.6746 Q1666.62 26.1121 1676.83 26.1121 Q1685.98 26.1121 1691.29 32.0264 Q1696.64 37.9003 1696.64 48.0275 M1689.18 45.84 Q1689.1 39.7232 1685.74 36.0774 Q1682.42 32.4315 1676.91 32.4315 Q1670.67 32.4315 1666.9 35.9558 Q1663.18 39.4801 1662.61 45.8805 L1689.18 45.84 Z\" fill=\"#000000\" fill-rule=\"nonzero\" fill-opacity=\"1\" /><path clip-path=\"url(#clip280)\" d=\"M1746.58 45.1919 L1746.58 72.576 L1739.13 72.576 L1739.13 45.4349 Q1739.13 38.994 1736.62 35.7938 Q1734.11 32.5936 1729.08 32.5936 Q1723.05 32.5936 1719.56 36.4419 Q1716.08 40.2903 1716.08 46.9338 L1716.08 72.576 L1708.59 72.576 L1708.59 27.2059 L1716.08 27.2059 L1716.08 34.2544 Q1718.75 30.163 1722.36 28.1376 Q1726 26.1121 1730.74 26.1121 Q1738.56 26.1121 1742.57 30.9732 Q1746.58 35.7938 1746.58 45.1919 Z\" fill=\"#000000\" fill-rule=\"nonzero\" fill-opacity=\"1\" /><path clip-path=\"url(#clip280)\" d=\"M1794.1 28.9478 L1794.1 35.9153 Q1790.94 34.1734 1787.74 33.3227 Q1784.58 32.4315 1781.34 32.4315 Q1774.09 32.4315 1770.08 37.0496 Q1766.07 41.6271 1766.07 49.9314 Q1766.07 58.2358 1770.08 62.8538 Q1774.09 67.4314 1781.34 67.4314 Q1784.58 67.4314 1787.74 66.5807 Q1790.94 65.6895 1794.1 63.9476 L1794.1 70.8341 Q1790.98 72.2924 1787.62 73.0216 Q1784.3 73.7508 1780.53 73.7508 Q1770.28 73.7508 1764.25 67.3098 Q1758.21 60.8689 1758.21 49.9314 Q1758.21 38.832 1764.29 32.472 Q1770.4 26.1121 1781.02 26.1121 Q1784.46 26.1121 1787.74 26.8413 Q1791.02 27.5299 1794.1 28.9478 Z\" fill=\"#000000\" fill-rule=\"nonzero\" fill-opacity=\"1\" /><path clip-path=\"url(#clip280)\" d=\"M1845.87 48.0275 L1845.87 51.6733 L1811.6 51.6733 Q1812.09 59.3701 1816.22 63.421 Q1820.39 67.4314 1827.8 67.4314 Q1832.1 67.4314 1836.11 66.3781 Q1840.16 65.3249 1844.13 63.2184 L1844.13 70.267 Q1840.12 71.9684 1835.91 72.8596 Q1831.69 73.7508 1827.36 73.7508 Q1816.5 73.7508 1810.14 67.4314 Q1803.82 61.1119 1803.82 50.3365 Q1803.82 39.1965 1809.82 32.6746 Q1815.85 26.1121 1826.06 26.1121 Q1835.22 26.1121 1840.52 32.0264 Q1845.87 37.9003 1845.87 48.0275 M1838.42 45.84 Q1838.34 39.7232 1834.97 36.0774 Q1831.65 32.4315 1826.14 32.4315 Q1819.9 32.4315 1816.14 35.9558 Q1812.41 39.4801 1811.84 45.8805 L1838.42 45.84 Z\" fill=\"#000000\" fill-rule=\"nonzero\" fill-opacity=\"1\" /><polyline clip-path=\"url(#clip282)\" style=\"stroke:#009af9; stroke-linecap:round; stroke-linejoin:round; stroke-width:4; stroke-opacity:1; fill:none\" points=\"279.579,160.256 385.515,160.256 491.452,160.256 597.388,829.559 703.325,816.013 809.261,1386.4 915.198,995.47 1021.13,995.47 1127.07,995.47 1233.01,995.47 1338.94,995.47 1444.88,995.47 1550.82,995.47 1656.75,995.47 1762.69,995.47 1868.63,995.47 1974.56,995.47 2080.5,995.47 2186.44,995.47 2292.37,995.47 \"/>\n",
       "<path clip-path=\"url(#clip282)\" d=\"M279.579 176.256 L268.267 171.568 L263.579 160.256 L268.267 148.944 L279.579 144.256 L290.891 148.944 L295.579 160.256 L290.891 171.568 Z\" fill=\"#009af9\" fill-rule=\"evenodd\" fill-opacity=\"1\" stroke=\"#000000\" stroke-opacity=\"1\" stroke-width=\"3.2\"/>\n",
       "<path clip-path=\"url(#clip282)\" d=\"M385.515 176.256 L374.203 171.568 L369.515 160.256 L374.203 148.944 L385.515 144.256 L396.827 148.944 L401.515 160.256 L396.827 171.568 Z\" fill=\"#009af9\" fill-rule=\"evenodd\" fill-opacity=\"1\" stroke=\"#000000\" stroke-opacity=\"1\" stroke-width=\"3.2\"/>\n",
       "<path clip-path=\"url(#clip282)\" d=\"M491.452 176.256 L480.14 171.568 L475.452 160.256 L480.14 148.944 L491.452 144.256 L502.764 148.944 L507.452 160.256 L502.764 171.568 Z\" fill=\"#009af9\" fill-rule=\"evenodd\" fill-opacity=\"1\" stroke=\"#000000\" stroke-opacity=\"1\" stroke-width=\"3.2\"/>\n",
       "<path clip-path=\"url(#clip282)\" d=\"M597.388 845.559 L586.076 840.871 L581.388 829.559 L586.076 818.247 L597.388 813.559 L608.7 818.247 L613.388 829.559 L608.7 840.871 Z\" fill=\"#009af9\" fill-rule=\"evenodd\" fill-opacity=\"1\" stroke=\"#000000\" stroke-opacity=\"1\" stroke-width=\"3.2\"/>\n",
       "<path clip-path=\"url(#clip282)\" d=\"M703.325 832.013 L692.013 827.325 L687.325 816.013 L692.013 804.701 L703.325 800.013 L714.637 804.701 L719.325 816.013 L714.637 827.325 Z\" fill=\"#009af9\" fill-rule=\"evenodd\" fill-opacity=\"1\" stroke=\"#000000\" stroke-opacity=\"1\" stroke-width=\"3.2\"/>\n",
       "<path clip-path=\"url(#clip282)\" d=\"M809.261 1402.4 L797.949 1397.71 L793.261 1386.4 L797.949 1375.08 L809.261 1370.4 L820.573 1375.08 L825.261 1386.4 L820.573 1397.71 Z\" fill=\"#009af9\" fill-rule=\"evenodd\" fill-opacity=\"1\" stroke=\"#000000\" stroke-opacity=\"1\" stroke-width=\"3.2\"/>\n",
       "<path clip-path=\"url(#clip282)\" d=\"M915.198 1011.47 L903.886 1006.78 L899.198 995.47 L903.886 984.158 L915.198 979.47 L926.51 984.158 L931.198 995.47 L926.51 1006.78 Z\" fill=\"#009af9\" fill-rule=\"evenodd\" fill-opacity=\"1\" stroke=\"#000000\" stroke-opacity=\"1\" stroke-width=\"3.2\"/>\n",
       "<path clip-path=\"url(#clip282)\" d=\"M1021.13 1011.47 L1009.82 1006.78 L1005.13 995.47 L1009.82 984.158 L1021.13 979.47 L1032.45 984.158 L1037.13 995.47 L1032.45 1006.78 Z\" fill=\"#009af9\" fill-rule=\"evenodd\" fill-opacity=\"1\" stroke=\"#000000\" stroke-opacity=\"1\" stroke-width=\"3.2\"/>\n",
       "<path clip-path=\"url(#clip282)\" d=\"M1127.07 1011.47 L1115.76 1006.78 L1111.07 995.47 L1115.76 984.158 L1127.07 979.47 L1138.38 984.158 L1143.07 995.47 L1138.38 1006.78 Z\" fill=\"#009af9\" fill-rule=\"evenodd\" fill-opacity=\"1\" stroke=\"#000000\" stroke-opacity=\"1\" stroke-width=\"3.2\"/>\n",
       "<path clip-path=\"url(#clip282)\" d=\"M1233.01 1011.47 L1221.7 1006.78 L1217.01 995.47 L1221.7 984.158 L1233.01 979.47 L1244.32 984.158 L1249.01 995.47 L1244.32 1006.78 Z\" fill=\"#009af9\" fill-rule=\"evenodd\" fill-opacity=\"1\" stroke=\"#000000\" stroke-opacity=\"1\" stroke-width=\"3.2\"/>\n",
       "<path clip-path=\"url(#clip282)\" d=\"M1338.94 1011.47 L1327.63 1006.78 L1322.94 995.47 L1327.63 984.158 L1338.94 979.47 L1350.26 984.158 L1354.94 995.47 L1350.26 1006.78 Z\" fill=\"#009af9\" fill-rule=\"evenodd\" fill-opacity=\"1\" stroke=\"#000000\" stroke-opacity=\"1\" stroke-width=\"3.2\"/>\n",
       "<path clip-path=\"url(#clip282)\" d=\"M1444.88 1011.47 L1433.57 1006.78 L1428.88 995.47 L1433.57 984.158 L1444.88 979.47 L1456.19 984.158 L1460.88 995.47 L1456.19 1006.78 Z\" fill=\"#009af9\" fill-rule=\"evenodd\" fill-opacity=\"1\" stroke=\"#000000\" stroke-opacity=\"1\" stroke-width=\"3.2\"/>\n",
       "<path clip-path=\"url(#clip282)\" d=\"M1550.82 1011.47 L1539.5 1006.78 L1534.82 995.47 L1539.5 984.158 L1550.82 979.47 L1562.13 984.158 L1566.82 995.47 L1562.13 1006.78 Z\" fill=\"#009af9\" fill-rule=\"evenodd\" fill-opacity=\"1\" stroke=\"#000000\" stroke-opacity=\"1\" stroke-width=\"3.2\"/>\n",
       "<path clip-path=\"url(#clip282)\" d=\"M1656.75 1011.47 L1645.44 1006.78 L1640.75 995.47 L1645.44 984.158 L1656.75 979.47 L1668.07 984.158 L1672.75 995.47 L1668.07 1006.78 Z\" fill=\"#009af9\" fill-rule=\"evenodd\" fill-opacity=\"1\" stroke=\"#000000\" stroke-opacity=\"1\" stroke-width=\"3.2\"/>\n",
       "<path clip-path=\"url(#clip282)\" d=\"M1762.69 1011.47 L1751.38 1006.78 L1746.69 995.47 L1751.38 984.158 L1762.69 979.47 L1774 984.158 L1778.69 995.47 L1774 1006.78 Z\" fill=\"#009af9\" fill-rule=\"evenodd\" fill-opacity=\"1\" stroke=\"#000000\" stroke-opacity=\"1\" stroke-width=\"3.2\"/>\n",
       "<path clip-path=\"url(#clip282)\" d=\"M1868.63 1011.47 L1857.31 1006.78 L1852.63 995.47 L1857.31 984.158 L1868.63 979.47 L1879.94 984.158 L1884.63 995.47 L1879.94 1006.78 Z\" fill=\"#009af9\" fill-rule=\"evenodd\" fill-opacity=\"1\" stroke=\"#000000\" stroke-opacity=\"1\" stroke-width=\"3.2\"/>\n",
       "<path clip-path=\"url(#clip282)\" d=\"M1974.56 1011.47 L1963.25 1006.78 L1958.56 995.47 L1963.25 984.158 L1974.56 979.47 L1985.87 984.158 L1990.56 995.47 L1985.87 1006.78 Z\" fill=\"#009af9\" fill-rule=\"evenodd\" fill-opacity=\"1\" stroke=\"#000000\" stroke-opacity=\"1\" stroke-width=\"3.2\"/>\n",
       "<path clip-path=\"url(#clip282)\" d=\"M2080.5 1011.47 L2069.19 1006.78 L2064.5 995.47 L2069.19 984.158 L2080.5 979.47 L2091.81 984.158 L2096.5 995.47 L2091.81 1006.78 Z\" fill=\"#009af9\" fill-rule=\"evenodd\" fill-opacity=\"1\" stroke=\"#000000\" stroke-opacity=\"1\" stroke-width=\"3.2\"/>\n",
       "<path clip-path=\"url(#clip282)\" d=\"M2186.44 1011.47 L2175.12 1006.78 L2170.44 995.47 L2175.12 984.158 L2186.44 979.47 L2197.75 984.158 L2202.44 995.47 L2197.75 1006.78 Z\" fill=\"#009af9\" fill-rule=\"evenodd\" fill-opacity=\"1\" stroke=\"#000000\" stroke-opacity=\"1\" stroke-width=\"3.2\"/>\n",
       "<path clip-path=\"url(#clip282)\" d=\"M2292.37 1011.47 L2281.06 1006.78 L2276.37 995.47 L2281.06 984.158 L2292.37 979.47 L2303.68 984.158 L2308.37 995.47 L2303.68 1006.78 Z\" fill=\"#009af9\" fill-rule=\"evenodd\" fill-opacity=\"1\" stroke=\"#000000\" stroke-opacity=\"1\" stroke-width=\"3.2\"/>\n",
       "<path clip-path=\"url(#clip280)\" d=\"M2015.85 270.476 L2281.64 270.476 L2281.64 166.796 L2015.85 166.796  Z\" fill=\"#ffffff\" fill-rule=\"evenodd\" fill-opacity=\"1\"/>\n",
       "<polyline clip-path=\"url(#clip280)\" style=\"stroke:#000000; stroke-linecap:round; stroke-linejoin:round; stroke-width:4; stroke-opacity:1; fill:none\" points=\"2015.85,270.476 2281.64,270.476 2281.64,166.796 2015.85,166.796 2015.85,270.476 \"/>\n",
       "<polyline clip-path=\"url(#clip280)\" style=\"stroke:#009af9; stroke-linecap:round; stroke-linejoin:round; stroke-width:4; stroke-opacity:1; fill:none\" points=\"2039.56,218.636 2181.79,218.636 \"/>\n",
       "<path clip-path=\"url(#clip280)\" d=\"M2110.68 240.586 L2095.16 234.155 L2088.73 218.636 L2095.16 203.117 L2110.68 196.686 L2126.19 203.117 L2132.63 218.636 L2126.19 234.155 Z\" fill=\"#009af9\" fill-rule=\"evenodd\" fill-opacity=\"1\" stroke=\"#000000\" stroke-opacity=\"1\" stroke-width=\"4.55111\"/>\n",
       "<path clip-path=\"url(#clip280)\" d=\"M2219.34 238.323 Q2217.54 242.953 2215.82 244.365 Q2214.11 245.777 2211.24 245.777 L2207.84 245.777 L2207.84 242.212 L2210.34 242.212 Q2212.1 242.212 2213.07 241.379 Q2214.04 240.545 2215.22 237.443 L2215.99 235.499 L2205.5 209.99 L2210.01 209.99 L2218.12 230.268 L2226.22 209.99 L2230.73 209.99 L2219.34 238.323 Z\" fill=\"#000000\" fill-rule=\"nonzero\" fill-opacity=\"1\" /><path clip-path=\"url(#clip280)\" d=\"M2238.02 231.981 L2245.66 231.981 L2245.66 205.615 L2237.35 207.282 L2237.35 203.022 L2245.62 201.356 L2250.29 201.356 L2250.29 231.981 L2257.93 231.981 L2257.93 235.916 L2238.02 235.916 L2238.02 231.981 Z\" fill=\"#000000\" fill-rule=\"nonzero\" fill-opacity=\"1\" /></svg>\n"
      ],
      "text/html": [
       "<img src=\"data:image/png;base64,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\" />"
      ]
     },
     "metadata": {},
     "output_type": "display_data"
    }
   ],
   "source": [
    "plot(max_grads, marker=:o)\n",
    "plot!(title = \"Max Gradient Convergence\", xlabel = \"Iteration\", ylabel = \"Max Gradient\")"
   ]
  },
  {
   "cell_type": "code",
   "execution_count": 46,
   "id": "15a4b917",
   "metadata": {},
   "outputs": [
    {
     "data": {
      "image/png": "[encoded data removed]",
      "image/svg+xml": [
       "<?xml version=\"1.0\" encoding=\"utf-8\"?>\n",
       "<svg xmlns=\"http://www.w3.org/2000/svg\" xmlns:xlink=\"http://www.w3.org/1999/xlink\" width=\"600\" height=\"400\" viewBox=\"0 0 2400 1600\">\n",
       "<defs>\n",
       "  <clipPath id=\"clip340\">\n",
       "    <rect x=\"0\" y=\"0\" width=\"2400\" height=\"1600\"/>\n",
       "  </clipPath>\n",
       "</defs>\n",
       "<path clip-path=\"url(#clip340)\" d=\"M0 1600 L2400 1600 L2400 0 L0 0  Z\" fill=\"#ffffff\" fill-rule=\"evenodd\" fill-opacity=\"1\"/>\n",
       "<defs>\n",
       "  <clipPath id=\"clip341\">\n",
       "    <rect x=\"480\" y=\"0\" width=\"1681\" height=\"1600\"/>\n",
       "  </clipPath>\n",
       "</defs>\n",
       "<path clip-path=\"url(#clip340)\" d=\"M257.204 1423.18 L2352.76 1423.18 L2352.76 123.472 L257.204 123.472  Z\" fill=\"#ffffff\" fill-rule=\"evenodd\" fill-opacity=\"1\"/>\n",
       "<defs>\n",
       "  <clipPath id=\"clip342\">\n",
       "    <rect x=\"257\" y=\"123\" width=\"2097\" height=\"1301\"/>\n",
       "  </clipPath>\n",
       "</defs>\n",
       "<polyline clip-path=\"url(#clip342)\" style=\"stroke:#000000; stroke-linecap:round; stroke-linejoin:round; stroke-width:2; stroke-opacity:0.1; fill:none\" points=\"732.709,1423.18 732.709,123.472 \"/>\n",
       "<polyline clip-path=\"url(#clip342)\" style=\"stroke:#000000; stroke-linecap:round; stroke-linejoin:round; stroke-width:2; stroke-opacity:0.1; fill:none\" points=\"1252.96,1423.18 1252.96,123.472 \"/>\n",
       "<polyline clip-path=\"url(#clip342)\" style=\"stroke:#000000; stroke-linecap:round; stroke-linejoin:round; stroke-width:2; stroke-opacity:0.1; fill:none\" points=\"1773.2,1423.18 1773.2,123.472 \"/>\n",
       "<polyline clip-path=\"url(#clip342)\" style=\"stroke:#000000; stroke-linecap:round; stroke-linejoin:round; stroke-width:2; stroke-opacity:0.1; fill:none\" points=\"2293.45,1423.18 2293.45,123.472 \"/>\n",
       "<polyline clip-path=\"url(#clip342)\" style=\"stroke:#000000; stroke-linecap:round; stroke-linejoin:round; stroke-width:2; stroke-opacity:0.1; fill:none\" points=\"257.204,1362.12 2352.76,1362.12 \"/>\n",
       "<polyline clip-path=\"url(#clip342)\" style=\"stroke:#000000; stroke-linecap:round; stroke-linejoin:round; stroke-width:2; stroke-opacity:0.1; fill:none\" points=\"257.204,1023.23 2352.76,1023.23 \"/>\n",
       "<polyline clip-path=\"url(#clip342)\" style=\"stroke:#000000; stroke-linecap:round; stroke-linejoin:round; stroke-width:2; stroke-opacity:0.1; fill:none\" points=\"257.204,684.335 2352.76,684.335 \"/>\n",
       "<polyline clip-path=\"url(#clip342)\" style=\"stroke:#000000; stroke-linecap:round; stroke-linejoin:round; stroke-width:2; stroke-opacity:0.1; fill:none\" points=\"257.204,345.441 2352.76,345.441 \"/>\n",
       "<polyline clip-path=\"url(#clip340)\" style=\"stroke:#000000; stroke-linecap:round; stroke-linejoin:round; stroke-width:4; stroke-opacity:1; fill:none\" points=\"257.204,1423.18 2352.76,1423.18 \"/>\n",
       "<polyline clip-path=\"url(#clip340)\" style=\"stroke:#000000; stroke-linecap:round; stroke-linejoin:round; stroke-width:4; stroke-opacity:1; fill:none\" points=\"732.709,1423.18 732.709,1404.28 \"/>\n",
       "<polyline clip-path=\"url(#clip340)\" style=\"stroke:#000000; stroke-linecap:round; stroke-linejoin:round; stroke-width:4; stroke-opacity:1; fill:none\" points=\"1252.96,1423.18 1252.96,1404.28 \"/>\n",
       "<polyline clip-path=\"url(#clip340)\" style=\"stroke:#000000; stroke-linecap:round; stroke-linejoin:round; stroke-width:4; stroke-opacity:1; fill:none\" points=\"1773.2,1423.18 1773.2,1404.28 \"/>\n",
       "<polyline clip-path=\"url(#clip340)\" style=\"stroke:#000000; stroke-linecap:round; stroke-linejoin:round; stroke-width:4; stroke-opacity:1; fill:none\" points=\"2293.45,1423.18 2293.45,1404.28 \"/>\n",
       "<path clip-path=\"url(#clip340)\" d=\"M722.987 1451.02 L741.343 1451.02 L741.343 1454.96 L727.269 1454.96 L727.269 1463.43 Q728.288 1463.08 729.306 1462.92 Q730.325 1462.73 731.343 1462.73 Q737.13 1462.73 740.51 1465.9 Q743.89 1469.08 743.89 1474.49 Q743.89 1480.07 740.417 1483.17 Q736.945 1486.25 730.626 1486.25 Q728.45 1486.25 726.181 1485.88 Q723.936 1485.51 721.529 1484.77 L721.529 1480.07 Q723.612 1481.2 725.834 1481.76 Q728.056 1482.32 730.533 1482.32 Q734.538 1482.32 736.876 1480.21 Q739.214 1478.1 739.214 1474.49 Q739.214 1470.88 736.876 1468.77 Q734.538 1466.67 730.533 1466.67 Q728.658 1466.67 726.783 1467.08 Q724.931 1467.5 722.987 1468.38 L722.987 1451.02 Z\" fill=\"#000000\" fill-rule=\"nonzero\" fill-opacity=\"1\" /><path clip-path=\"url(#clip340)\" d=\"M1227.64 1481.64 L1235.28 1481.64 L1235.28 1455.28 L1226.97 1456.95 L1226.97 1452.69 L1235.24 1451.02 L1239.91 1451.02 L1239.91 1481.64 L1247.55 1481.64 L1247.55 1485.58 L1227.64 1485.58 L1227.64 1481.64 Z\" fill=\"#000000\" fill-rule=\"nonzero\" fill-opacity=\"1\" /><path clip-path=\"url(#clip340)\" d=\"M1266.99 1454.1 Q1263.38 1454.1 1261.55 1457.66 Q1259.75 1461.2 1259.75 1468.33 Q1259.75 1475.44 1261.55 1479.01 Q1263.38 1482.55 1266.99 1482.55 Q1270.63 1482.55 1272.43 1479.01 Q1274.26 1475.44 1274.26 1468.33 Q1274.26 1461.2 1272.43 1457.66 Q1270.63 1454.1 1266.99 1454.1 M1266.99 1450.39 Q1272.8 1450.39 1275.86 1455 Q1278.94 1459.58 1278.94 1468.33 Q1278.94 1477.06 1275.86 1481.67 Q1272.8 1486.25 1266.99 1486.25 Q1261.18 1486.25 1258.11 1481.67 Q1255.05 1477.06 1255.05 1468.33 Q1255.05 1459.58 1258.11 1455 Q1261.18 1450.39 1266.99 1450.39 Z\" fill=\"#000000\" fill-rule=\"nonzero\" fill-opacity=\"1\" /><path clip-path=\"url(#clip340)\" d=\"M1748.39 1481.64 L1756.03 1481.64 L1756.03 1455.28 L1747.72 1456.95 L1747.72 1452.69 L1755.98 1451.02 L1760.66 1451.02 L1760.66 1481.64 L1768.29 1481.64 L1768.29 1485.58 L1748.39 1485.58 L1748.39 1481.64 Z\" fill=\"#000000\" fill-rule=\"nonzero\" fill-opacity=\"1\" /><path clip-path=\"url(#clip340)\" d=\"M1777.78 1451.02 L1796.14 1451.02 L1796.14 1454.96 L1782.07 1454.96 L1782.07 1463.43 Q1783.09 1463.08 1784.1 1462.92 Q1785.12 1462.73 1786.14 1462.73 Q1791.93 1462.73 1795.31 1465.9 Q1798.69 1469.08 1798.69 1474.49 Q1798.69 1480.07 1795.22 1483.17 Q1791.74 1486.25 1785.42 1486.25 Q1783.25 1486.25 1780.98 1485.88 Q1778.73 1485.51 1776.33 1484.77 L1776.33 1480.07 Q1778.41 1481.2 1780.63 1481.76 Q1782.85 1482.32 1785.33 1482.32 Q1789.34 1482.32 1791.67 1480.21 Q1794.01 1478.1 1794.01 1474.49 Q1794.01 1470.88 1791.67 1468.77 Q1789.34 1466.67 1785.33 1466.67 Q1783.46 1466.67 1781.58 1467.08 Q1779.73 1467.5 1777.78 1468.38 L1777.78 1451.02 Z\" fill=\"#000000\" fill-rule=\"nonzero\" fill-opacity=\"1\" /><path clip-path=\"url(#clip340)\" d=\"M2272.22 1481.64 L2288.54 1481.64 L2288.54 1485.58 L2266.6 1485.58 L2266.6 1481.64 Q2269.26 1478.89 2273.84 1474.26 Q2278.45 1469.61 2279.63 1468.27 Q2281.87 1465.74 2282.75 1464.01 Q2283.66 1462.25 2283.66 1460.56 Q2283.66 1457.8 2281.71 1456.07 Q2279.79 1454.33 2276.69 1454.33 Q2274.49 1454.33 2272.04 1455.09 Q2269.61 1455.86 2266.83 1457.41 L2266.83 1452.69 Q2269.65 1451.55 2272.11 1450.97 Q2274.56 1450.39 2276.6 1450.39 Q2281.97 1450.39 2285.16 1453.08 Q2288.36 1455.77 2288.36 1460.26 Q2288.36 1462.39 2287.55 1464.31 Q2286.76 1466.2 2284.65 1468.8 Q2284.07 1469.47 2280.97 1472.69 Q2277.87 1475.88 2272.22 1481.64 Z\" fill=\"#000000\" fill-rule=\"nonzero\" fill-opacity=\"1\" /><path clip-path=\"url(#clip340)\" d=\"M2308.36 1454.1 Q2304.74 1454.1 2302.92 1457.66 Q2301.11 1461.2 2301.11 1468.33 Q2301.11 1475.44 2302.92 1479.01 Q2304.74 1482.55 2308.36 1482.55 Q2311.99 1482.55 2313.79 1479.01 Q2315.62 1475.44 2315.62 1468.33 Q2315.62 1461.2 2313.79 1457.66 Q2311.99 1454.1 2308.36 1454.1 M2308.36 1450.39 Q2314.17 1450.39 2317.22 1455 Q2320.3 1459.58 2320.3 1468.33 Q2320.3 1477.06 2317.22 1481.67 Q2314.17 1486.25 2308.36 1486.25 Q2302.55 1486.25 2299.47 1481.67 Q2296.41 1477.06 2296.41 1468.33 Q2296.41 1459.58 2299.47 1455 Q2302.55 1450.39 2308.36 1450.39 Z\" fill=\"#000000\" fill-rule=\"nonzero\" fill-opacity=\"1\" /><path clip-path=\"url(#clip340)\" d=\"M997.087 1526.86 L988.366 1550.51 L1005.84 1550.51 L997.087 1526.86 M993.458 1520.52 L1000.75 1520.52 L1018.86 1568.04 L1012.17 1568.04 L1007.84 1555.85 L986.424 1555.85 L982.095 1568.04 L975.316 1568.04 L993.458 1520.52 Z\" fill=\"#000000\" fill-rule=\"nonzero\" fill-opacity=\"1\" /><path clip-path=\"url(#clip340)\" d=\"M1032.23 1525.81 L1032.23 1562.76 L1039.99 1562.76 Q1049.83 1562.76 1054.38 1558.3 Q1058.96 1553.85 1058.96 1544.24 Q1058.96 1534.69 1054.38 1530.26 Q1049.83 1525.81 1039.99 1525.81 L1032.23 1525.81 M1025.8 1520.52 L1039 1520.52 Q1052.82 1520.52 1059.28 1526.28 Q1065.74 1532.01 1065.74 1544.24 Q1065.74 1556.52 1059.25 1562.28 Q1052.75 1568.04 1039 1568.04 L1025.8 1568.04 L1025.8 1520.52 Z\" fill=\"#000000\" fill-rule=\"nonzero\" fill-opacity=\"1\" /><path clip-path=\"url(#clip340)\" d=\"M1090.73 1526.86 L1082.01 1550.51 L1099.48 1550.51 L1090.73 1526.86 M1087.1 1520.52 L1094.39 1520.52 L1112.5 1568.04 L1105.81 1568.04 L1101.48 1555.85 L1080.06 1555.85 L1075.73 1568.04 L1068.96 1568.04 L1087.1 1520.52 Z\" fill=\"#000000\" fill-rule=\"nonzero\" fill-opacity=\"1\" /><path clip-path=\"url(#clip340)\" d=\"M1125.86 1525.81 L1125.86 1543.66 L1133.95 1543.66 Q1138.44 1543.66 1140.89 1541.34 Q1143.34 1539.02 1143.34 1534.72 Q1143.34 1530.45 1140.89 1528.13 Q1138.44 1525.81 1133.95 1525.81 L1125.86 1525.81 M1119.44 1520.52 L1133.95 1520.52 Q1141.94 1520.52 1146.01 1524.15 Q1150.12 1527.75 1150.12 1534.72 Q1150.12 1541.75 1146.01 1545.35 Q1141.94 1548.95 1133.95 1548.95 L1125.86 1548.95 L1125.86 1568.04 L1119.44 1568.04 L1119.44 1520.52 Z\" fill=\"#000000\" fill-rule=\"nonzero\" fill-opacity=\"1\" /><path clip-path=\"url(#clip340)\" d=\"M1152.16 1520.52 L1192.35 1520.52 L1192.35 1525.93 L1175.49 1525.93 L1175.49 1568.04 L1169.02 1568.04 L1169.02 1525.93 L1152.16 1525.93 L1152.16 1520.52 Z\" fill=\"#000000\" fill-rule=\"nonzero\" fill-opacity=\"1\" /><path clip-path=\"url(#clip340)\" d=\"M1189.36 1547.58 L1206.52 1547.58 L1206.52 1552.8 L1189.36 1552.8 L1189.36 1547.58 Z\" fill=\"#000000\" fill-rule=\"nonzero\" fill-opacity=\"1\" /><path clip-path=\"url(#clip340)\" d=\"M1224.53 1568.04 L1206.39 1520.52 L1213.11 1520.52 L1228.16 1560.53 L1243.25 1520.52 L1249.93 1520.52 L1231.82 1568.04 L1224.53 1568.04 Z\" fill=\"#000000\" fill-rule=\"nonzero\" fill-opacity=\"1\" /><path clip-path=\"url(#clip340)\" d=\"M1276.16 1524.88 Q1269.16 1524.88 1265.02 1530.1 Q1260.91 1535.32 1260.91 1544.33 Q1260.91 1553.31 1265.02 1558.53 Q1269.16 1563.75 1276.16 1563.75 Q1283.16 1563.75 1287.24 1558.53 Q1291.34 1553.31 1291.34 1544.33 Q1291.34 1535.32 1287.24 1530.1 Q1283.16 1524.88 1276.16 1524.88 M1285.17 1567.18 L1293.63 1576.45 L1285.87 1576.45 L1278.83 1568.84 Q1277.78 1568.9 1277.21 1568.94 Q1276.67 1568.97 1276.16 1568.97 Q1266.13 1568.97 1260.12 1562.28 Q1254.13 1555.57 1254.13 1544.33 Q1254.13 1533.06 1260.12 1526.38 Q1266.13 1519.66 1276.16 1519.66 Q1286.15 1519.66 1292.14 1526.38 Q1298.12 1533.06 1298.12 1544.33 Q1298.12 1552.61 1294.78 1558.5 Q1291.47 1564.38 1285.17 1567.18 Z\" fill=\"#000000\" fill-rule=\"nonzero\" fill-opacity=\"1\" /><path clip-path=\"url(#clip340)\" d=\"M1308.18 1520.52 L1338.22 1520.52 L1338.22 1525.93 L1314.61 1525.93 L1314.61 1540 L1337.24 1540 L1337.24 1545.41 L1314.61 1545.41 L1314.61 1562.63 L1338.8 1562.63 L1338.8 1568.04 L1308.18 1568.04 L1308.18 1520.52 Z\" fill=\"#000000\" fill-rule=\"nonzero\" fill-opacity=\"1\" /><path clip-path=\"url(#clip340)\" d=\"M1370.09 1520.52 L1376.51 1520.52 L1376.51 1568.04 L1370.09 1568.04 L1370.09 1520.52 Z\" fill=\"#000000\" fill-rule=\"nonzero\" fill-opacity=\"1\" /><path clip-path=\"url(#clip340)\" d=\"M1394.85 1522.27 L1394.85 1532.4 L1406.91 1532.4 L1406.91 1536.95 L1394.85 1536.95 L1394.85 1556.3 Q1394.85 1560.66 1396.03 1561.9 Q1397.23 1563.14 1400.9 1563.14 L1406.91 1563.14 L1406.91 1568.04 L1400.9 1568.04 Q1394.12 1568.04 1391.54 1565.53 Q1388.96 1562.98 1388.96 1556.3 L1388.96 1536.95 L1384.66 1536.95 L1384.66 1532.4 L1388.96 1532.4 L1388.96 1522.27 L1394.85 1522.27 Z\" fill=\"#000000\" fill-rule=\"nonzero\" fill-opacity=\"1\" /><path clip-path=\"url(#clip340)\" d=\"M1445.11 1548.76 L1445.11 1551.62 L1418.18 1551.62 Q1418.56 1557.67 1421.81 1560.85 Q1425.08 1564 1430.91 1564 Q1434.28 1564 1437.43 1563.17 Q1440.62 1562.35 1443.74 1560.69 L1443.74 1566.23 Q1440.59 1567.57 1437.28 1568.27 Q1433.97 1568.97 1430.56 1568.97 Q1422.03 1568.97 1417.03 1564 Q1412.07 1559.04 1412.07 1550.57 Q1412.07 1541.82 1416.78 1536.69 Q1421.52 1531.54 1429.54 1531.54 Q1436.73 1531.54 1440.9 1536.18 Q1445.11 1540.8 1445.11 1548.76 M1439.25 1547.04 Q1439.18 1542.23 1436.54 1539.37 Q1433.93 1536.5 1429.6 1536.5 Q1424.7 1536.5 1421.74 1539.27 Q1418.81 1542.04 1418.37 1547.07 L1439.25 1547.04 Z\" fill=\"#000000\" fill-rule=\"nonzero\" fill-opacity=\"1\" /><path clip-path=\"url(#clip340)\" d=\"M1475.37 1537.87 Q1474.39 1537.3 1473.21 1537.04 Q1472.06 1536.76 1470.66 1536.76 Q1465.7 1536.76 1463.02 1540 Q1460.38 1543.22 1460.38 1549.27 L1460.38 1568.04 L1454.49 1568.04 L1454.49 1532.4 L1460.38 1532.4 L1460.38 1537.93 Q1462.23 1534.69 1465.19 1533.13 Q1468.15 1531.54 1472.38 1531.54 Q1472.99 1531.54 1473.72 1531.63 Q1474.45 1531.7 1475.34 1531.85 L1475.37 1537.87 Z\" fill=\"#000000\" fill-rule=\"nonzero\" fill-opacity=\"1\" /><path clip-path=\"url(#clip340)\" d=\"M1497.72 1550.12 Q1490.62 1550.12 1487.88 1551.75 Q1485.15 1553.37 1485.15 1557.29 Q1485.15 1560.4 1487.18 1562.25 Q1489.25 1564.07 1492.78 1564.07 Q1497.65 1564.07 1500.58 1560.63 Q1503.54 1557.16 1503.54 1551.43 L1503.54 1550.12 L1497.72 1550.12 M1509.4 1547.71 L1509.4 1568.04 L1503.54 1568.04 L1503.54 1562.63 Q1501.54 1565.88 1498.55 1567.44 Q1495.55 1568.97 1491.22 1568.97 Q1485.75 1568.97 1482.5 1565.91 Q1479.29 1562.82 1479.29 1557.67 Q1479.29 1551.65 1483.3 1548.6 Q1487.34 1545.54 1495.33 1545.54 L1503.54 1545.54 L1503.54 1544.97 Q1503.54 1540.93 1500.87 1538.73 Q1498.23 1536.5 1493.42 1536.5 Q1490.37 1536.5 1487.47 1537.23 Q1484.57 1537.97 1481.9 1539.43 L1481.9 1534.02 Q1485.11 1532.78 1488.14 1532.17 Q1491.16 1531.54 1494.03 1531.54 Q1501.76 1531.54 1505.58 1535.55 Q1509.4 1539.56 1509.4 1547.71 Z\" fill=\"#000000\" fill-rule=\"nonzero\" fill-opacity=\"1\" /><path clip-path=\"url(#clip340)\" d=\"M1527.25 1522.27 L1527.25 1532.4 L1539.32 1532.4 L1539.32 1536.95 L1527.25 1536.95 L1527.25 1556.3 Q1527.25 1560.66 1528.43 1561.9 Q1529.64 1563.14 1533.3 1563.14 L1539.32 1563.14 L1539.32 1568.04 L1533.3 1568.04 Q1526.52 1568.04 1523.94 1565.53 Q1521.37 1562.98 1521.37 1556.3 L1521.37 1536.95 L1517.07 1536.95 L1517.07 1532.4 L1521.37 1532.4 L1521.37 1522.27 L1527.25 1522.27 Z\" fill=\"#000000\" fill-rule=\"nonzero\" fill-opacity=\"1\" /><path clip-path=\"url(#clip340)\" d=\"M1547.02 1532.4 L1552.88 1532.4 L1552.88 1568.04 L1547.02 1568.04 L1547.02 1532.4 M1547.02 1518.52 L1552.88 1518.52 L1552.88 1525.93 L1547.02 1525.93 L1547.02 1518.52 Z\" fill=\"#000000\" fill-rule=\"nonzero\" fill-opacity=\"1\" /><path clip-path=\"url(#clip340)\" d=\"M1578.94 1536.5 Q1574.23 1536.5 1571.5 1540.19 Q1568.76 1543.85 1568.76 1550.25 Q1568.76 1556.65 1571.46 1560.34 Q1574.2 1564 1578.94 1564 Q1583.62 1564 1586.36 1560.31 Q1589.1 1556.62 1589.1 1550.25 Q1589.1 1543.92 1586.36 1540.23 Q1583.62 1536.5 1578.94 1536.5 M1578.94 1531.54 Q1586.58 1531.54 1590.94 1536.5 Q1595.3 1541.47 1595.3 1550.25 Q1595.3 1559 1590.94 1564 Q1586.58 1568.97 1578.94 1568.97 Q1571.27 1568.97 1566.91 1564 Q1562.58 1559 1562.58 1550.25 Q1562.58 1541.47 1566.91 1536.5 Q1571.27 1531.54 1578.94 1531.54 Z\" fill=\"#000000\" fill-rule=\"nonzero\" fill-opacity=\"1\" /><path clip-path=\"url(#clip340)\" d=\"M1634.64 1546.53 L1634.64 1568.04 L1628.79 1568.04 L1628.79 1546.72 Q1628.79 1541.66 1626.81 1539.14 Q1624.84 1536.63 1620.89 1536.63 Q1616.15 1536.63 1613.41 1539.65 Q1610.68 1542.68 1610.68 1547.9 L1610.68 1568.04 L1604.79 1568.04 L1604.79 1532.4 L1610.68 1532.4 L1610.68 1537.93 Q1612.78 1534.72 1615.61 1533.13 Q1618.48 1531.54 1622.2 1531.54 Q1628.34 1531.54 1631.49 1535.36 Q1634.64 1539.14 1634.64 1546.53 Z\" fill=\"#000000\" fill-rule=\"nonzero\" fill-opacity=\"1\" /><polyline clip-path=\"url(#clip340)\" style=\"stroke:#000000; stroke-linecap:round; stroke-linejoin:round; stroke-width:4; stroke-opacity:1; fill:none\" points=\"257.204,1423.18 257.204,123.472 \"/>\n",
       "<polyline clip-path=\"url(#clip340)\" style=\"stroke:#000000; stroke-linecap:round; stroke-linejoin:round; stroke-width:4; stroke-opacity:1; fill:none\" points=\"257.204,1362.12 276.102,1362.12 \"/>\n",
       "<polyline clip-path=\"url(#clip340)\" style=\"stroke:#000000; stroke-linecap:round; stroke-linejoin:round; stroke-width:4; stroke-opacity:1; fill:none\" points=\"257.204,1023.23 276.102,1023.23 \"/>\n",
       "<polyline clip-path=\"url(#clip340)\" style=\"stroke:#000000; stroke-linecap:round; stroke-linejoin:round; stroke-width:4; stroke-opacity:1; fill:none\" points=\"257.204,684.335 276.102,684.335 \"/>\n",
       "<polyline clip-path=\"url(#clip340)\" style=\"stroke:#000000; stroke-linecap:round; stroke-linejoin:round; stroke-width:4; stroke-opacity:1; fill:none\" points=\"257.204,345.441 276.102,345.441 \"/>\n",
       "<path clip-path=\"url(#clip340)\" d=\"M115.487 1362.57 L145.163 1362.57 L145.163 1366.51 L115.487 1366.51 L115.487 1362.57 Z\" fill=\"#000000\" fill-rule=\"nonzero\" fill-opacity=\"1\" /><path clip-path=\"url(#clip340)\" d=\"M156.065 1375.47 L163.704 1375.47 L163.704 1349.1 L155.394 1350.77 L155.394 1346.51 L163.658 1344.84 L168.334 1344.84 L168.334 1375.47 L175.973 1375.47 L175.973 1379.4 L156.065 1379.4 L156.065 1375.47 Z\" fill=\"#000000\" fill-rule=\"nonzero\" fill-opacity=\"1\" /><path clip-path=\"url(#clip340)\" d=\"M185.417 1373.52 L190.301 1373.52 L190.301 1379.4 L185.417 1379.4 L185.417 1373.52 Z\" fill=\"#000000\" fill-rule=\"nonzero\" fill-opacity=\"1\" /><path clip-path=\"url(#clip340)\" d=\"M201.297 1375.47 L208.936 1375.47 L208.936 1349.1 L200.625 1350.77 L200.625 1346.51 L208.889 1344.84 L213.565 1344.84 L213.565 1375.47 L221.204 1375.47 L221.204 1379.4 L201.297 1379.4 L201.297 1375.47 Z\" fill=\"#000000\" fill-rule=\"nonzero\" fill-opacity=\"1\" /><path clip-path=\"url(#clip340)\" d=\"M114.26 1023.68 L143.936 1023.68 L143.936 1027.62 L114.26 1027.62 L114.26 1023.68 Z\" fill=\"#000000\" fill-rule=\"nonzero\" fill-opacity=\"1\" /><path clip-path=\"url(#clip340)\" d=\"M154.839 1036.57 L162.477 1036.57 L162.477 1010.21 L154.167 1011.87 L154.167 1007.62 L162.431 1005.95 L167.107 1005.95 L167.107 1036.57 L174.746 1036.57 L174.746 1040.51 L154.839 1040.51 L154.839 1036.57 Z\" fill=\"#000000\" fill-rule=\"nonzero\" fill-opacity=\"1\" /><path clip-path=\"url(#clip340)\" d=\"M184.19 1034.63 L189.075 1034.63 L189.075 1040.51 L184.19 1040.51 L184.19 1034.63 Z\" fill=\"#000000\" fill-rule=\"nonzero\" fill-opacity=\"1\" /><path clip-path=\"url(#clip340)\" d=\"M209.26 1009.03 Q205.649 1009.03 203.82 1012.59 Q202.014 1016.13 202.014 1023.26 Q202.014 1030.37 203.82 1033.93 Q205.649 1037.48 209.26 1037.48 Q212.894 1037.48 214.699 1033.93 Q216.528 1030.37 216.528 1023.26 Q216.528 1016.13 214.699 1012.59 Q212.894 1009.03 209.26 1009.03 M209.26 1005.32 Q215.07 1005.32 218.125 1009.93 Q221.204 1014.51 221.204 1023.26 Q221.204 1031.99 218.125 1036.6 Q215.07 1041.18 209.26 1041.18 Q203.449 1041.18 200.371 1036.6 Q197.315 1031.99 197.315 1023.26 Q197.315 1014.51 200.371 1009.93 Q203.449 1005.32 209.26 1005.32 Z\" fill=\"#000000\" fill-rule=\"nonzero\" fill-opacity=\"1\" /><path clip-path=\"url(#clip340)\" d=\"M114.445 684.786 L144.121 684.786 L144.121 688.722 L114.445 688.722 L114.445 684.786 Z\" fill=\"#000000\" fill-rule=\"nonzero\" fill-opacity=\"1\" /><path clip-path=\"url(#clip340)\" d=\"M164.214 670.134 Q160.603 670.134 158.774 673.698 Q156.968 677.24 156.968 684.37 Q156.968 691.476 158.774 695.041 Q160.603 698.583 164.214 698.583 Q167.848 698.583 169.653 695.041 Q171.482 691.476 171.482 684.37 Q171.482 677.24 169.653 673.698 Q167.848 670.134 164.214 670.134 M164.214 666.43 Q170.024 666.43 173.079 671.036 Q176.158 675.62 176.158 684.37 Q176.158 693.097 173.079 697.703 Q170.024 702.286 164.214 702.286 Q158.403 702.286 155.325 697.703 Q152.269 693.097 152.269 684.37 Q152.269 675.62 155.325 671.036 Q158.403 666.43 164.214 666.43 Z\" fill=\"#000000\" fill-rule=\"nonzero\" fill-opacity=\"1\" /><path clip-path=\"url(#clip340)\" d=\"M184.376 695.735 L189.26 695.735 L189.26 701.615 L184.376 701.615 L184.376 695.735 Z\" fill=\"#000000\" fill-rule=\"nonzero\" fill-opacity=\"1\" /><path clip-path=\"url(#clip340)\" d=\"M199.584 700.897 L199.584 696.638 Q201.343 697.472 203.149 697.911 Q204.954 698.351 206.69 698.351 Q211.32 698.351 213.75 695.249 Q216.204 692.124 216.551 685.782 Q215.209 687.772 213.149 688.837 Q211.088 689.902 208.588 689.902 Q203.403 689.902 200.371 686.777 Q197.362 683.629 197.362 678.189 Q197.362 672.865 200.51 669.648 Q203.658 666.43 208.889 666.43 Q214.885 666.43 218.033 671.036 Q221.204 675.62 221.204 684.37 Q221.204 692.541 217.315 697.425 Q213.449 702.286 206.899 702.286 Q205.139 702.286 203.334 701.939 Q201.528 701.592 199.584 700.897 M208.889 686.245 Q212.037 686.245 213.866 684.092 Q215.718 681.939 215.718 678.189 Q215.718 674.462 213.866 672.31 Q212.037 670.134 208.889 670.134 Q205.741 670.134 203.889 672.31 Q202.061 674.462 202.061 678.189 Q202.061 681.939 203.889 684.092 Q205.741 686.245 208.889 686.245 Z\" fill=\"#000000\" fill-rule=\"nonzero\" fill-opacity=\"1\" /><path clip-path=\"url(#clip340)\" d=\"M114.353 345.893 L144.029 345.893 L144.029 349.828 L114.353 349.828 L114.353 345.893 Z\" fill=\"#000000\" fill-rule=\"nonzero\" fill-opacity=\"1\" /><path clip-path=\"url(#clip340)\" d=\"M164.121 331.24 Q160.51 331.24 158.681 334.805 Q156.876 338.347 156.876 345.476 Q156.876 352.583 158.681 356.147 Q160.51 359.689 164.121 359.689 Q167.755 359.689 169.561 356.147 Q171.389 352.583 171.389 345.476 Q171.389 338.347 169.561 334.805 Q167.755 331.24 164.121 331.24 M164.121 327.536 Q169.931 327.536 172.987 332.143 Q176.065 336.726 176.065 345.476 Q176.065 354.203 172.987 358.809 Q169.931 363.393 164.121 363.393 Q158.311 363.393 155.232 358.809 Q152.177 354.203 152.177 345.476 Q152.177 336.726 155.232 332.143 Q158.311 327.536 164.121 327.536 Z\" fill=\"#000000\" fill-rule=\"nonzero\" fill-opacity=\"1\" /><path clip-path=\"url(#clip340)\" d=\"M184.283 356.842 L189.167 356.842 L189.167 362.721 L184.283 362.721 L184.283 356.842 Z\" fill=\"#000000\" fill-rule=\"nonzero\" fill-opacity=\"1\" /><path clip-path=\"url(#clip340)\" d=\"M209.352 346.309 Q206.019 346.309 204.098 348.092 Q202.2 349.874 202.2 352.999 Q202.2 356.124 204.098 357.907 Q206.019 359.689 209.352 359.689 Q212.686 359.689 214.607 357.907 Q216.528 356.101 216.528 352.999 Q216.528 349.874 214.607 348.092 Q212.709 346.309 209.352 346.309 M204.676 344.319 Q201.667 343.578 199.977 341.518 Q198.311 339.458 198.311 336.495 Q198.311 332.351 201.25 329.944 Q204.213 327.536 209.352 327.536 Q214.514 327.536 217.454 329.944 Q220.394 332.351 220.394 336.495 Q220.394 339.458 218.704 341.518 Q217.037 343.578 214.051 344.319 Q217.431 345.106 219.306 347.397 Q221.204 349.689 221.204 352.999 Q221.204 358.022 218.125 360.707 Q215.07 363.393 209.352 363.393 Q203.635 363.393 200.556 360.707 Q197.5 358.022 197.5 352.999 Q197.5 349.689 199.399 347.397 Q201.297 345.106 204.676 344.319 M202.963 336.934 Q202.963 339.62 204.63 341.124 Q206.32 342.629 209.352 342.629 Q212.361 342.629 214.051 341.124 Q215.764 339.62 215.764 336.934 Q215.764 334.249 214.051 332.745 Q212.361 331.24 209.352 331.24 Q206.32 331.24 204.63 332.745 Q202.963 334.249 202.963 336.934 Z\" fill=\"#000000\" fill-rule=\"nonzero\" fill-opacity=\"1\" /><path clip-path=\"url(#clip340)\" d=\"M16.4842 825.525 L16.4842 795.479 L21.895 795.479 L21.895 819.095 L35.9632 819.095 L35.9632 796.465 L41.3741 796.465 L41.3741 819.095 L58.5933 819.095 L58.5933 794.906 L64.0042 794.906 L64.0042 825.525 L16.4842 825.525 Z\" fill=\"#000000\" fill-rule=\"nonzero\" fill-opacity=\"1\" /><path clip-path=\"url(#clip340)\" d=\"M16.4842 774.185 L16.4842 768.775 L70.0516 785.325 L70.0516 790.736 L16.4842 774.185 Z\" fill=\"#000000\" fill-rule=\"nonzero\" fill-opacity=\"1\" /><path clip-path=\"url(#clip340)\" d=\"M20.8447 743.089 Q20.8447 750.091 26.0645 754.229 Q31.2844 758.335 40.2919 758.335 Q49.2675 758.335 54.4874 754.229 Q59.7073 750.091 59.7073 743.089 Q59.7073 736.087 54.4874 732.013 Q49.2675 727.907 40.2919 727.907 Q31.2844 727.907 26.0645 732.013 Q20.8447 736.087 20.8447 743.089 M63.1448 734.081 L72.4069 725.615 L72.4069 733.381 L64.7999 740.415 Q64.8635 741.466 64.8954 742.039 Q64.9272 742.58 64.9272 743.089 Q64.9272 753.115 58.2432 759.13 Q51.5274 765.114 40.2919 765.114 Q29.0246 765.114 22.3406 759.13 Q15.6248 753.115 15.6248 743.089 Q15.6248 733.095 22.3406 727.111 Q29.0246 721.127 40.2919 721.127 Q48.5673 721.127 54.4556 724.469 Q60.3439 727.779 63.1448 734.081 Z\" fill=\"#000000\" fill-rule=\"nonzero\" fill-opacity=\"1\" /><path clip-path=\"url(#clip340)\" d=\"M683.49 12.096 L721.731 12.096 L721.731 18.9825 L691.673 18.9825 L691.673 36.8875 L720.475 36.8875 L720.475 43.7741 L691.673 43.7741 L691.673 65.6895 L722.46 65.6895 L722.46 72.576 L683.49 72.576 L683.49 12.096 Z\" fill=\"#000000\" fill-rule=\"nonzero\" fill-opacity=\"1\" /><path clip-path=\"url(#clip340)\" d=\"M773.299 45.1919 L773.299 72.576 L765.845 72.576 L765.845 45.4349 Q765.845 38.994 763.334 35.7938 Q760.822 32.5936 755.799 32.5936 Q749.763 32.5936 746.279 36.4419 Q742.795 40.2903 742.795 46.9338 L742.795 72.576 L735.301 72.576 L735.301 27.2059 L742.795 27.2059 L742.795 34.2544 Q745.469 30.163 749.074 28.1376 Q752.72 26.1121 757.46 26.1121 Q765.278 26.1121 769.288 30.9732 Q773.299 35.7938 773.299 45.1919 Z\" fill=\"#000000\" fill-rule=\"nonzero\" fill-opacity=\"1\" /><path clip-path=\"url(#clip340)\" d=\"M826.973 48.0275 L826.973 51.6733 L792.703 51.6733 Q793.189 59.3701 797.321 63.421 Q801.493 67.4314 808.906 67.4314 Q813.2 67.4314 817.211 66.3781 Q821.261 65.3249 825.231 63.2184 L825.231 70.267 Q821.221 71.9684 817.008 72.8596 Q812.795 73.7508 808.461 73.7508 Q797.604 73.7508 791.244 67.4314 Q784.925 61.1119 784.925 50.3365 Q784.925 39.1965 790.92 32.6746 Q796.956 26.1121 807.164 26.1121 Q816.319 26.1121 821.626 32.0264 Q826.973 37.9003 826.973 48.0275 M819.52 45.84 Q819.439 39.7232 816.076 36.0774 Q812.755 32.4315 807.245 32.4315 Q801.007 32.4315 797.24 35.9558 Q793.513 39.4801 792.946 45.8805 L819.52 45.84 Z\" fill=\"#000000\" fill-rule=\"nonzero\" fill-opacity=\"1\" /><path clip-path=\"url(#clip340)\" d=\"M865.497 34.1734 Q864.242 33.4443 862.743 33.1202 Q861.284 32.7556 859.502 32.7556 Q853.183 32.7556 849.78 36.8875 Q846.418 40.9789 846.418 48.6757 L846.418 72.576 L838.923 72.576 L838.923 27.2059 L846.418 27.2059 L846.418 34.2544 Q848.767 30.1225 852.534 28.1376 Q856.302 26.1121 861.69 26.1121 Q862.459 26.1121 863.391 26.2337 Q864.323 26.3147 865.457 26.5172 L865.497 34.1734 Z\" fill=\"#000000\" fill-rule=\"nonzero\" fill-opacity=\"1\" /><path clip-path=\"url(#clip340)\" d=\"M901.712 49.3643 Q901.712 41.2625 898.35 36.8065 Q895.028 32.3505 888.993 32.3505 Q882.997 32.3505 879.635 36.8065 Q876.313 41.2625 876.313 49.3643 Q876.313 57.4256 879.635 61.8816 Q882.997 66.3376 888.993 66.3376 Q895.028 66.3376 898.35 61.8816 Q901.712 57.4256 901.712 49.3643 M909.166 66.9452 Q909.166 78.5308 904.021 84.1616 Q898.877 89.8329 888.263 89.8329 Q884.334 89.8329 880.85 89.2252 Q877.367 88.6581 874.085 87.4428 L874.085 80.1917 Q877.367 81.9741 880.567 82.8248 Q883.767 83.6755 887.089 83.6755 Q894.421 83.6755 898.067 79.8271 Q901.712 76.0193 901.712 68.282 L901.712 64.5957 Q899.403 68.6061 895.798 70.5911 Q892.193 72.576 887.17 72.576 Q878.825 72.576 873.721 66.2161 Q868.617 59.8562 868.617 49.3643 Q868.617 38.832 873.721 32.472 Q878.825 26.1121 887.17 26.1121 Q892.193 26.1121 895.798 28.0971 Q899.403 30.082 901.712 34.0924 L901.712 27.2059 L909.166 27.2059 L909.166 66.9452 Z\" fill=\"#000000\" fill-rule=\"nonzero\" fill-opacity=\"1\" /><path clip-path=\"url(#clip340)\" d=\"M943.396 76.7889 Q940.237 84.8907 937.239 87.3618 Q934.241 89.8329 929.218 89.8329 L923.263 89.8329 L923.263 83.5945 L927.638 83.5945 Q930.717 83.5945 932.418 82.1361 Q934.12 80.6778 936.186 75.2496 L937.522 71.8468 L919.172 27.2059 L927.071 27.2059 L941.249 62.6918 L955.427 27.2059 L963.327 27.2059 L943.396 76.7889 Z\" fill=\"#000000\" fill-rule=\"nonzero\" fill-opacity=\"1\" /><path clip-path=\"url(#clip340)\" d=\"M1007.2 65.7705 L1007.2 89.8329 L999.704 89.8329 L999.704 27.2059 L1007.2 27.2059 L1007.2 34.0924 Q1009.55 30.0415 1013.11 28.0971 Q1016.72 26.1121 1021.7 26.1121 Q1029.96 26.1121 1035.11 32.6746 Q1040.29 39.2371 1040.29 49.9314 Q1040.29 60.6258 1035.11 67.1883 Q1029.96 73.7508 1021.7 73.7508 Q1016.72 73.7508 1013.11 71.8063 Q1009.55 69.8214 1007.2 65.7705 M1032.56 49.9314 Q1032.56 41.7081 1029.15 37.0496 Q1025.79 32.3505 1019.88 32.3505 Q1013.96 32.3505 1010.56 37.0496 Q1007.2 41.7081 1007.2 49.9314 Q1007.2 58.1548 1010.56 62.8538 Q1013.96 67.5124 1019.88 67.5124 Q1025.79 67.5124 1029.15 62.8538 Q1032.56 58.1548 1032.56 49.9314 Z\" fill=\"#000000\" fill-rule=\"nonzero\" fill-opacity=\"1\" /><path clip-path=\"url(#clip340)\" d=\"M1091.46 48.0275 L1091.46 51.6733 L1057.19 51.6733 Q1057.67 59.3701 1061.8 63.421 Q1065.98 67.4314 1073.39 67.4314 Q1077.68 67.4314 1081.69 66.3781 Q1085.75 65.3249 1089.71 63.2184 L1089.71 70.267 Q1085.7 71.9684 1081.49 72.8596 Q1077.28 73.7508 1072.94 73.7508 Q1062.09 73.7508 1055.73 67.4314 Q1049.41 61.1119 1049.41 50.3365 Q1049.41 39.1965 1055.4 32.6746 Q1061.44 26.1121 1071.65 26.1121 Q1080.8 26.1121 1086.11 32.0264 Q1091.46 37.9003 1091.46 48.0275 M1084 45.84 Q1083.92 39.7232 1080.56 36.0774 Q1077.24 32.4315 1071.73 32.4315 Q1065.49 32.4315 1061.72 35.9558 Q1058 39.4801 1057.43 45.8805 L1084 45.84 Z\" fill=\"#000000\" fill-rule=\"nonzero\" fill-opacity=\"1\" /><path clip-path=\"url(#clip340)\" d=\"M1129.98 34.1734 Q1128.73 33.4443 1127.23 33.1202 Q1125.77 32.7556 1123.99 32.7556 Q1117.67 32.7556 1114.26 36.8875 Q1110.9 40.9789 1110.9 48.6757 L1110.9 72.576 L1103.41 72.576 L1103.41 27.2059 L1110.9 27.2059 L1110.9 34.2544 Q1113.25 30.1225 1117.02 28.1376 Q1120.79 26.1121 1126.17 26.1121 Q1126.94 26.1121 1127.87 26.2337 Q1128.81 26.3147 1129.94 26.5172 L1129.98 34.1734 Z\" fill=\"#000000\" fill-rule=\"nonzero\" fill-opacity=\"1\" /><path clip-path=\"url(#clip340)\" d=\"M1168.63 49.9314 Q1168.63 58.1548 1171.99 62.8538 Q1175.39 67.5124 1181.31 67.5124 Q1187.22 67.5124 1190.62 62.8538 Q1194.03 58.1548 1194.03 49.9314 Q1194.03 41.7081 1190.62 37.0496 Q1187.22 32.3505 1181.31 32.3505 Q1175.39 32.3505 1171.99 37.0496 Q1168.63 41.7081 1168.63 49.9314 M1194.03 65.7705 Q1191.68 69.8214 1188.07 71.8063 Q1184.51 73.7508 1179.48 73.7508 Q1171.26 73.7508 1166.07 67.1883 Q1160.93 60.6258 1160.93 49.9314 Q1160.93 39.2371 1166.07 32.6746 Q1171.26 26.1121 1179.48 26.1121 Q1184.51 26.1121 1188.07 28.0971 Q1191.68 30.0415 1194.03 34.0924 L1194.03 27.2059 L1201.48 27.2059 L1201.48 89.8329 L1194.03 89.8329 L1194.03 65.7705 Z\" fill=\"#000000\" fill-rule=\"nonzero\" fill-opacity=\"1\" /><path clip-path=\"url(#clip340)\" d=\"M1216.06 54.671 L1216.06 27.2059 L1223.52 27.2059 L1223.52 54.3874 Q1223.52 60.8284 1226.03 64.0691 Q1228.54 67.2693 1233.56 67.2693 Q1239.6 67.2693 1243.08 63.421 Q1246.61 59.5726 1246.61 52.9291 L1246.61 27.2059 L1254.06 27.2059 L1254.06 72.576 L1246.61 72.576 L1246.61 65.6084 Q1243.89 69.7404 1240.29 71.7658 Q1236.72 73.7508 1231.98 73.7508 Q1224.16 73.7508 1220.11 68.8897 Q1216.06 64.0286 1216.06 54.671 M1234.82 26.1121 L1234.82 26.1121 Z\" fill=\"#000000\" fill-rule=\"nonzero\" fill-opacity=\"1\" /><path clip-path=\"url(#clip340)\" d=\"M1301.98 49.9314 Q1301.98 41.7081 1298.58 37.0496 Q1295.22 32.3505 1289.3 32.3505 Q1283.39 32.3505 1279.99 37.0496 Q1276.62 41.7081 1276.62 49.9314 Q1276.62 58.1548 1279.99 62.8538 Q1283.39 67.5124 1289.3 67.5124 Q1295.22 67.5124 1298.58 62.8538 Q1301.98 58.1548 1301.98 49.9314 M1276.62 34.0924 Q1278.97 30.0415 1282.54 28.0971 Q1286.14 26.1121 1291.13 26.1121 Q1299.39 26.1121 1304.53 32.6746 Q1309.72 39.2371 1309.72 49.9314 Q1309.72 60.6258 1304.53 67.1883 Q1299.39 73.7508 1291.13 73.7508 Q1286.14 73.7508 1282.54 71.8063 Q1278.97 69.8214 1276.62 65.7705 L1276.62 72.576 L1269.13 72.576 L1269.13 9.54393 L1276.62 9.54393 L1276.62 34.0924 Z\" fill=\"#000000\" fill-rule=\"nonzero\" fill-opacity=\"1\" /><path clip-path=\"url(#clip340)\" d=\"M1322.07 27.2059 L1329.53 27.2059 L1329.53 72.576 L1322.07 72.576 L1322.07 27.2059 M1322.07 9.54393 L1329.53 9.54393 L1329.53 18.9825 L1322.07 18.9825 L1322.07 9.54393 Z\" fill=\"#000000\" fill-rule=\"nonzero\" fill-opacity=\"1\" /><path clip-path=\"url(#clip340)\" d=\"M1352.5 14.324 L1352.5 27.2059 L1367.85 27.2059 L1367.85 32.9987 L1352.5 32.9987 L1352.5 57.6282 Q1352.5 63.1779 1354 64.7578 Q1355.54 66.3376 1360.19 66.3376 L1367.85 66.3376 L1367.85 72.576 L1360.19 72.576 Q1351.57 72.576 1348.28 69.3758 Q1345 66.1351 1345 57.6282 L1345 32.9987 L1339.53 32.9987 L1339.53 27.2059 L1345 27.2059 L1345 14.324 L1352.5 14.324 Z\" fill=\"#000000\" fill-rule=\"nonzero\" fill-opacity=\"1\" /><path clip-path=\"url(#clip340)\" d=\"M1436.67 28.9478 L1436.67 35.9153 Q1433.52 34.1734 1430.31 33.3227 Q1427.16 32.4315 1423.91 32.4315 Q1416.66 32.4315 1412.65 37.0496 Q1408.64 41.6271 1408.64 49.9314 Q1408.64 58.2358 1412.65 62.8538 Q1416.66 67.4314 1423.91 67.4314 Q1427.16 67.4314 1430.31 66.5807 Q1433.52 65.6895 1436.67 63.9476 L1436.67 70.8341 Q1433.56 72.2924 1430.19 73.0216 Q1426.87 73.7508 1423.1 73.7508 Q1412.86 73.7508 1406.82 67.3098 Q1400.78 60.8689 1400.78 49.9314 Q1400.78 38.832 1406.86 32.472 Q1412.98 26.1121 1423.59 26.1121 Q1427.03 26.1121 1430.31 26.8413 Q1433.6 27.5299 1436.67 28.9478 Z\" fill=\"#000000\" fill-rule=\"nonzero\" fill-opacity=\"1\" /><path clip-path=\"url(#clip340)\" d=\"M1467.22 32.4315 Q1461.22 32.4315 1457.74 37.1306 Q1454.26 41.7891 1454.26 49.9314 Q1454.26 58.0738 1457.7 62.7728 Q1461.18 67.4314 1467.22 67.4314 Q1473.17 67.4314 1476.66 62.7323 Q1480.14 58.0333 1480.14 49.9314 Q1480.14 41.8701 1476.66 37.1711 Q1473.17 32.4315 1467.22 32.4315 M1467.22 26.1121 Q1476.94 26.1121 1482.49 32.4315 Q1488.04 38.7509 1488.04 49.9314 Q1488.04 61.0714 1482.49 67.4314 Q1476.94 73.7508 1467.22 73.7508 Q1457.46 73.7508 1451.91 67.4314 Q1446.4 61.0714 1446.4 49.9314 Q1446.4 38.7509 1451.91 32.4315 Q1457.46 26.1121 1467.22 26.1121 Z\" fill=\"#000000\" fill-rule=\"nonzero\" fill-opacity=\"1\" /><path clip-path=\"url(#clip340)\" d=\"M1538.11 45.1919 L1538.11 72.576 L1530.66 72.576 L1530.66 45.4349 Q1530.66 38.994 1528.14 35.7938 Q1525.63 32.5936 1520.61 32.5936 Q1514.57 32.5936 1511.09 36.4419 Q1507.61 40.2903 1507.61 46.9338 L1507.61 72.576 L1500.11 72.576 L1500.11 27.2059 L1507.61 27.2059 L1507.61 34.2544 Q1510.28 30.163 1513.89 28.1376 Q1517.53 26.1121 1522.27 26.1121 Q1530.09 26.1121 1534.1 30.9732 Q1538.11 35.7938 1538.11 45.1919 Z\" fill=\"#000000\" fill-rule=\"nonzero\" fill-opacity=\"1\" /><path clip-path=\"url(#clip340)\" d=\"M1547.63 27.2059 L1555.53 27.2059 L1569.71 65.2844 L1583.88 27.2059 L1591.78 27.2059 L1574.77 72.576 L1564.64 72.576 L1547.63 27.2059 Z\" fill=\"#000000\" fill-rule=\"nonzero\" fill-opacity=\"1\" /><path clip-path=\"url(#clip340)\" d=\"M1640.88 48.0275 L1640.88 51.6733 L1606.61 51.6733 Q1607.1 59.3701 1611.23 63.421 Q1615.4 67.4314 1622.81 67.4314 Q1627.11 67.4314 1631.12 66.3781 Q1635.17 65.3249 1639.14 63.2184 L1639.14 70.267 Q1635.13 71.9684 1630.92 72.8596 Q1626.7 73.7508 1622.37 73.7508 Q1611.51 73.7508 1605.15 67.4314 Q1598.83 61.1119 1598.83 50.3365 Q1598.83 39.1965 1604.83 32.6746 Q1610.86 26.1121 1621.07 26.1121 Q1630.23 26.1121 1635.53 32.0264 Q1640.88 37.9003 1640.88 48.0275 M1633.43 45.84 Q1633.35 39.7232 1629.98 36.0774 Q1626.66 32.4315 1621.15 32.4315 Q1614.91 32.4315 1611.15 35.9558 Q1607.42 39.4801 1606.85 45.8805 L1633.43 45.84 Z\" fill=\"#000000\" fill-rule=\"nonzero\" fill-opacity=\"1\" /><path clip-path=\"url(#clip340)\" d=\"M1679.41 34.1734 Q1678.15 33.4443 1676.65 33.1202 Q1675.19 32.7556 1673.41 32.7556 Q1667.09 32.7556 1663.69 36.8875 Q1660.33 40.9789 1660.33 48.6757 L1660.33 72.576 L1652.83 72.576 L1652.83 27.2059 L1660.33 27.2059 L1660.33 34.2544 Q1662.67 30.1225 1666.44 28.1376 Q1670.21 26.1121 1675.6 26.1121 Q1676.37 26.1121 1677.3 26.2337 Q1678.23 26.3147 1679.36 26.5172 L1679.41 34.1734 Z\" fill=\"#000000\" fill-rule=\"nonzero\" fill-opacity=\"1\" /><path clip-path=\"url(#clip340)\" d=\"M1715.62 49.3643 Q1715.62 41.2625 1712.26 36.8065 Q1708.94 32.3505 1702.9 32.3505 Q1696.9 32.3505 1693.54 36.8065 Q1690.22 41.2625 1690.22 49.3643 Q1690.22 57.4256 1693.54 61.8816 Q1696.9 66.3376 1702.9 66.3376 Q1708.94 66.3376 1712.26 61.8816 Q1715.62 57.4256 1715.62 49.3643 M1723.07 66.9452 Q1723.07 78.5308 1717.93 84.1616 Q1712.78 89.8329 1702.17 89.8329 Q1698.24 89.8329 1694.76 89.2252 Q1691.27 88.6581 1687.99 87.4428 L1687.99 80.1917 Q1691.27 81.9741 1694.47 82.8248 Q1697.67 83.6755 1701 83.6755 Q1708.33 83.6755 1711.97 79.8271 Q1715.62 76.0193 1715.62 68.282 L1715.62 64.5957 Q1713.31 68.6061 1709.71 70.5911 Q1706.1 72.576 1701.08 72.576 Q1692.73 72.576 1687.63 66.2161 Q1682.52 59.8562 1682.52 49.3643 Q1682.52 38.832 1687.63 32.472 Q1692.73 26.1121 1701.08 26.1121 Q1706.1 26.1121 1709.71 28.0971 Q1713.31 30.082 1715.62 34.0924 L1715.62 27.2059 L1723.07 27.2059 L1723.07 66.9452 Z\" fill=\"#000000\" fill-rule=\"nonzero\" fill-opacity=\"1\" /><path clip-path=\"url(#clip340)\" d=\"M1777.23 48.0275 L1777.23 51.6733 L1742.96 51.6733 Q1743.45 59.3701 1747.58 63.421 Q1751.75 67.4314 1759.17 67.4314 Q1763.46 67.4314 1767.47 66.3781 Q1771.52 65.3249 1775.49 63.2184 L1775.49 70.267 Q1771.48 71.9684 1767.27 72.8596 Q1763.06 73.7508 1758.72 73.7508 Q1747.87 73.7508 1741.51 67.4314 Q1735.19 61.1119 1735.19 50.3365 Q1735.19 39.1965 1741.18 32.6746 Q1747.22 26.1121 1757.43 26.1121 Q1766.58 26.1121 1771.89 32.0264 Q1777.23 37.9003 1777.23 48.0275 M1769.78 45.84 Q1769.7 39.7232 1766.34 36.0774 Q1763.02 32.4315 1757.51 32.4315 Q1751.27 32.4315 1747.5 35.9558 Q1743.77 39.4801 1743.21 45.8805 L1769.78 45.84 Z\" fill=\"#000000\" fill-rule=\"nonzero\" fill-opacity=\"1\" /><path clip-path=\"url(#clip340)\" d=\"M1827.18 45.1919 L1827.18 72.576 L1819.73 72.576 L1819.73 45.4349 Q1819.73 38.994 1817.22 35.7938 Q1814.71 32.5936 1809.68 32.5936 Q1803.65 32.5936 1800.16 36.4419 Q1796.68 40.2903 1796.68 46.9338 L1796.68 72.576 L1789.18 72.576 L1789.18 27.2059 L1796.68 27.2059 L1796.68 34.2544 Q1799.35 30.163 1802.96 28.1376 Q1806.6 26.1121 1811.34 26.1121 Q1819.16 26.1121 1823.17 30.9732 Q1827.18 35.7938 1827.18 45.1919 Z\" fill=\"#000000\" fill-rule=\"nonzero\" fill-opacity=\"1\" /><path clip-path=\"url(#clip340)\" d=\"M1874.7 28.9478 L1874.7 35.9153 Q1871.54 34.1734 1868.34 33.3227 Q1865.18 32.4315 1861.94 32.4315 Q1854.69 32.4315 1850.68 37.0496 Q1846.67 41.6271 1846.67 49.9314 Q1846.67 58.2358 1850.68 62.8538 Q1854.69 67.4314 1861.94 67.4314 Q1865.18 67.4314 1868.34 66.5807 Q1871.54 65.6895 1874.7 63.9476 L1874.7 70.8341 Q1871.58 72.2924 1868.22 73.0216 Q1864.9 73.7508 1861.13 73.7508 Q1850.88 73.7508 1844.84 67.3098 Q1838.81 60.8689 1838.81 49.9314 Q1838.81 38.832 1844.88 32.472 Q1851 26.1121 1861.61 26.1121 Q1865.06 26.1121 1868.34 26.8413 Q1871.62 27.5299 1874.7 28.9478 Z\" fill=\"#000000\" fill-rule=\"nonzero\" fill-opacity=\"1\" /><path clip-path=\"url(#clip340)\" d=\"M1926.47 48.0275 L1926.47 51.6733 L1892.2 51.6733 Q1892.69 59.3701 1896.82 63.421 Q1900.99 67.4314 1908.4 67.4314 Q1912.7 67.4314 1916.71 66.3781 Q1920.76 65.3249 1924.73 63.2184 L1924.73 70.267 Q1920.72 71.9684 1916.5 72.8596 Q1912.29 73.7508 1907.96 73.7508 Q1897.1 73.7508 1890.74 67.4314 Q1884.42 61.1119 1884.42 50.3365 Q1884.42 39.1965 1890.42 32.6746 Q1896.45 26.1121 1906.66 26.1121 Q1915.82 26.1121 1921.12 32.0264 Q1926.47 37.9003 1926.47 48.0275 M1919.02 45.84 Q1918.94 39.7232 1915.57 36.0774 Q1912.25 32.4315 1906.74 32.4315 Q1900.5 32.4315 1896.74 35.9558 Q1893.01 39.4801 1892.44 45.8805 L1919.02 45.84 Z\" fill=\"#000000\" fill-rule=\"nonzero\" fill-opacity=\"1\" /><polyline clip-path=\"url(#clip342)\" style=\"stroke:#009af9; stroke-linecap:round; stroke-linejoin:round; stroke-width:4; stroke-opacity:1; fill:none\" points=\"316.512,160.256 420.561,492.094 524.611,695.59 628.66,887.442 732.709,1067.59 836.758,1386.4 940.808,1386.4 1044.86,1386.4 1148.91,1386.4 1252.96,1386.4 1357,1386.4 1461.05,1386.4 1565.1,1386.4 1669.15,1386.4 1773.2,1386.4 1877.25,1386.4 1981.3,1386.4 2085.35,1386.4 2189.4,1386.4 2293.45,1386.4 \"/>\n",
       "<path clip-path=\"url(#clip342)\" d=\"M316.512 176.256 L305.2 171.568 L300.512 160.256 L305.2 148.944 L316.512 144.256 L327.824 148.944 L332.512 160.256 L327.824 171.568 Z\" fill=\"#009af9\" fill-rule=\"evenodd\" fill-opacity=\"1\" stroke=\"#000000\" stroke-opacity=\"1\" stroke-width=\"3.2\"/>\n",
       "<path clip-path=\"url(#clip342)\" d=\"M420.561 508.094 L409.249 503.406 L404.561 492.094 L409.249 480.782 L420.561 476.094 L431.873 480.782 L436.561 492.094 L431.873 503.406 Z\" fill=\"#009af9\" fill-rule=\"evenodd\" fill-opacity=\"1\" stroke=\"#000000\" stroke-opacity=\"1\" stroke-width=\"3.2\"/>\n",
       "<path clip-path=\"url(#clip342)\" d=\"M524.611 711.59 L513.299 706.902 L508.611 695.59 L513.299 684.278 L524.611 679.59 L535.923 684.278 L540.611 695.59 L535.923 706.902 Z\" fill=\"#009af9\" fill-rule=\"evenodd\" fill-opacity=\"1\" stroke=\"#000000\" stroke-opacity=\"1\" stroke-width=\"3.2\"/>\n",
       "<path clip-path=\"url(#clip342)\" d=\"M628.66 903.442 L617.348 898.754 L612.66 887.442 L617.348 876.13 L628.66 871.442 L639.972 876.13 L644.66 887.442 L639.972 898.754 Z\" fill=\"#009af9\" fill-rule=\"evenodd\" fill-opacity=\"1\" stroke=\"#000000\" stroke-opacity=\"1\" stroke-width=\"3.2\"/>\n",
       "<path clip-path=\"url(#clip342)\" d=\"M732.709 1083.59 L721.397 1078.9 L716.709 1067.59 L721.397 1056.28 L732.709 1051.59 L744.021 1056.28 L748.709 1067.59 L744.021 1078.9 Z\" fill=\"#009af9\" fill-rule=\"evenodd\" fill-opacity=\"1\" stroke=\"#000000\" stroke-opacity=\"1\" stroke-width=\"3.2\"/>\n",
       "<path clip-path=\"url(#clip342)\" d=\"M836.758 1402.4 L825.446 1397.71 L820.758 1386.4 L825.446 1375.08 L836.758 1370.4 L848.07 1375.08 L852.758 1386.4 L848.07 1397.71 Z\" fill=\"#009af9\" fill-rule=\"evenodd\" fill-opacity=\"1\" stroke=\"#000000\" stroke-opacity=\"1\" stroke-width=\"3.2\"/>\n",
       "<path clip-path=\"url(#clip342)\" d=\"M940.808 1402.4 L929.496 1397.71 L924.808 1386.4 L929.496 1375.08 L940.808 1370.4 L952.12 1375.08 L956.808 1386.4 L952.12 1397.71 Z\" fill=\"#009af9\" fill-rule=\"evenodd\" fill-opacity=\"1\" stroke=\"#000000\" stroke-opacity=\"1\" stroke-width=\"3.2\"/>\n",
       "<path clip-path=\"url(#clip342)\" d=\"M1044.86 1402.4 L1033.54 1397.71 L1028.86 1386.4 L1033.54 1375.08 L1044.86 1370.4 L1056.17 1375.08 L1060.86 1386.4 L1056.17 1397.71 Z\" fill=\"#009af9\" fill-rule=\"evenodd\" fill-opacity=\"1\" stroke=\"#000000\" stroke-opacity=\"1\" stroke-width=\"3.2\"/>\n",
       "<path clip-path=\"url(#clip342)\" d=\"M1148.91 1402.4 L1137.59 1397.71 L1132.91 1386.4 L1137.59 1375.08 L1148.91 1370.4 L1160.22 1375.08 L1164.91 1386.4 L1160.22 1397.71 Z\" fill=\"#009af9\" fill-rule=\"evenodd\" fill-opacity=\"1\" stroke=\"#000000\" stroke-opacity=\"1\" stroke-width=\"3.2\"/>\n",
       "<path clip-path=\"url(#clip342)\" d=\"M1252.96 1402.4 L1241.64 1397.71 L1236.96 1386.4 L1241.64 1375.08 L1252.96 1370.4 L1264.27 1375.08 L1268.96 1386.4 L1264.27 1397.71 Z\" fill=\"#009af9\" fill-rule=\"evenodd\" fill-opacity=\"1\" stroke=\"#000000\" stroke-opacity=\"1\" stroke-width=\"3.2\"/>\n",
       "<path clip-path=\"url(#clip342)\" d=\"M1357 1402.4 L1345.69 1397.71 L1341 1386.4 L1345.69 1375.08 L1357 1370.4 L1368.32 1375.08 L1373 1386.4 L1368.32 1397.71 Z\" fill=\"#009af9\" fill-rule=\"evenodd\" fill-opacity=\"1\" stroke=\"#000000\" stroke-opacity=\"1\" stroke-width=\"3.2\"/>\n",
       "<path clip-path=\"url(#clip342)\" d=\"M1461.05 1402.4 L1449.74 1397.71 L1445.05 1386.4 L1449.74 1375.08 L1461.05 1370.4 L1472.37 1375.08 L1477.05 1386.4 L1472.37 1397.71 Z\" fill=\"#009af9\" fill-rule=\"evenodd\" fill-opacity=\"1\" stroke=\"#000000\" stroke-opacity=\"1\" stroke-width=\"3.2\"/>\n",
       "<path clip-path=\"url(#clip342)\" d=\"M1565.1 1402.4 L1553.79 1397.71 L1549.1 1386.4 L1553.79 1375.08 L1565.1 1370.4 L1576.42 1375.08 L1581.1 1386.4 L1576.42 1397.71 Z\" fill=\"#009af9\" fill-rule=\"evenodd\" fill-opacity=\"1\" stroke=\"#000000\" stroke-opacity=\"1\" stroke-width=\"3.2\"/>\n",
       "<path clip-path=\"url(#clip342)\" d=\"M1669.15 1402.4 L1657.84 1397.71 L1653.15 1386.4 L1657.84 1375.08 L1669.15 1370.4 L1680.46 1375.08 L1685.15 1386.4 L1680.46 1397.71 Z\" fill=\"#009af9\" fill-rule=\"evenodd\" fill-opacity=\"1\" stroke=\"#000000\" stroke-opacity=\"1\" stroke-width=\"3.2\"/>\n",
       "<path clip-path=\"url(#clip342)\" d=\"M1773.2 1402.4 L1761.89 1397.71 L1757.2 1386.4 L1761.89 1375.08 L1773.2 1370.4 L1784.51 1375.08 L1789.2 1386.4 L1784.51 1397.71 Z\" fill=\"#009af9\" fill-rule=\"evenodd\" fill-opacity=\"1\" stroke=\"#000000\" stroke-opacity=\"1\" stroke-width=\"3.2\"/>\n",
       "<path clip-path=\"url(#clip342)\" d=\"M1877.25 1402.4 L1865.94 1397.71 L1861.25 1386.4 L1865.94 1375.08 L1877.25 1370.4 L1888.56 1375.08 L1893.25 1386.4 L1888.56 1397.71 Z\" fill=\"#009af9\" fill-rule=\"evenodd\" fill-opacity=\"1\" stroke=\"#000000\" stroke-opacity=\"1\" stroke-width=\"3.2\"/>\n",
       "<path clip-path=\"url(#clip342)\" d=\"M1981.3 1402.4 L1969.99 1397.71 L1965.3 1386.4 L1969.99 1375.08 L1981.3 1370.4 L1992.61 1375.08 L1997.3 1386.4 L1992.61 1397.71 Z\" fill=\"#009af9\" fill-rule=\"evenodd\" fill-opacity=\"1\" stroke=\"#000000\" stroke-opacity=\"1\" stroke-width=\"3.2\"/>\n",
       "<path clip-path=\"url(#clip342)\" d=\"M2085.35 1402.4 L2074.04 1397.71 L2069.35 1386.4 L2074.04 1375.08 L2085.35 1370.4 L2096.66 1375.08 L2101.35 1386.4 L2096.66 1397.71 Z\" fill=\"#009af9\" fill-rule=\"evenodd\" fill-opacity=\"1\" stroke=\"#000000\" stroke-opacity=\"1\" stroke-width=\"3.2\"/>\n",
       "<path clip-path=\"url(#clip342)\" d=\"M2189.4 1402.4 L2178.09 1397.71 L2173.4 1386.4 L2178.09 1375.08 L2189.4 1370.4 L2200.71 1375.08 L2205.4 1386.4 L2200.71 1397.71 Z\" fill=\"#009af9\" fill-rule=\"evenodd\" fill-opacity=\"1\" stroke=\"#000000\" stroke-opacity=\"1\" stroke-width=\"3.2\"/>\n",
       "<path clip-path=\"url(#clip342)\" d=\"M2293.45 1402.4 L2282.14 1397.71 L2277.45 1386.4 L2282.14 1375.08 L2293.45 1370.4 L2304.76 1375.08 L2309.45 1386.4 L2304.76 1397.71 Z\" fill=\"#009af9\" fill-rule=\"evenodd\" fill-opacity=\"1\" stroke=\"#000000\" stroke-opacity=\"1\" stroke-width=\"3.2\"/>\n",
       "<path clip-path=\"url(#clip340)\" d=\"M2020.92 270.476 L2282.9 270.476 L2282.9 166.796 L2020.92 166.796  Z\" fill=\"#ffffff\" fill-rule=\"evenodd\" fill-opacity=\"1\"/>\n",
       "<polyline clip-path=\"url(#clip340)\" style=\"stroke:#000000; stroke-linecap:round; stroke-linejoin:round; stroke-width:4; stroke-opacity:1; fill:none\" points=\"2020.92,270.476 2282.9,270.476 2282.9,166.796 2020.92,166.796 2020.92,270.476 \"/>\n",
       "<polyline clip-path=\"url(#clip340)\" style=\"stroke:#009af9; stroke-linecap:round; stroke-linejoin:round; stroke-width:4; stroke-opacity:1; fill:none\" points=\"2044.2,218.636 2183.91,218.636 \"/>\n",
       "<path clip-path=\"url(#clip340)\" d=\"M2114.05 240.195 L2098.81 233.878 L2092.5 218.636 L2098.81 203.393 L2114.05 197.077 L2129.3 203.393 L2135.61 218.636 L2129.3 233.878 Z\" fill=\"#009af9\" fill-rule=\"evenodd\" fill-opacity=\"1\" stroke=\"#000000\" stroke-opacity=\"1\" stroke-width=\"4.55111\"/>\n",
       "<path clip-path=\"url(#clip340)\" d=\"M2221.03 238.323 Q2219.23 242.953 2217.51 244.365 Q2215.8 245.777 2212.93 245.777 L2209.53 245.777 L2209.53 242.212 L2212.03 242.212 Q2213.79 242.212 2214.76 241.379 Q2215.73 240.545 2216.91 237.443 L2217.68 235.499 L2207.19 209.99 L2211.7 209.99 L2219.81 230.268 L2227.91 209.99 L2232.42 209.99 L2221.03 238.323 Z\" fill=\"#000000\" fill-rule=\"nonzero\" fill-opacity=\"1\" /><path clip-path=\"url(#clip340)\" d=\"M2239.71 231.981 L2247.35 231.981 L2247.35 205.615 L2239.04 207.282 L2239.04 203.022 L2247.31 201.356 L2251.98 201.356 L2251.98 231.981 L2259.62 231.981 L2259.62 235.916 L2239.71 235.916 L2239.71 231.981 Z\" fill=\"#000000\" fill-rule=\"nonzero\" fill-opacity=\"1\" /></svg>\n"
      ],
      "text/html": [
       "<img src=\"data:image/png;base64,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\" />"
      ]
     },
     "metadata": {},
     "output_type": "display_data"
    }
   ],
   "source": [
    "plot(energy_per_loop, marker=:o)\n",
    "plot!(title = \"Energy per qubit convergence\", xlabel = \"ADAPT-VQE Iteration\", ylabel = \"E/Q\")"
   ]
  },
  {
   "cell_type": "markdown",
   "id": "025865c3",
   "metadata": {},
   "source": [
    "### 4) Multiple Small ADAPT runs for Pool Generation"
   ]
  },
  {
   "cell_type": "code",
   "execution_count": 33,
   "id": "a6451729",
   "metadata": {},
   "outputs": [
    {
     "data": {
      "text/plain": [
       "scaled_pool_generation (generic function with 1 method)"
      ]
     },
     "metadata": {},
     "output_type": "display_data"
    }
   ],
   "source": [
    "function scaled_pool_selection(nq, hamiltonian, full_bit_pool; num_runs=5, run_iters=5, conv_tol=1e-4, verbose=false)\n",
    "    all_chosen_ops = UInt[]\n",
    "    for run in 1:num_runs\n",
    "        #println(\"=== ADAPT-VQE Run $run ===\")\n",
    "        circuit, thetas, chosen_ops = adaptVQE_loop(nq, hamiltonian, full_bit_pool; max_iters=run_iters, conv_tol=conv_tol, verbose=verbose)\n",
    "        append!(all_chosen_ops, chosen_ops)\n",
    "    end\n",
    "    return unique(all_chosen_ops)  # Return unique operators from all runs\n",
    "end\n",
    "\n",
    "\n",
    "function scaled_pool_generation(tile_nq, scaled_nq,hamiltonian, full_bit_pool; num_runs=5, run_iters=5, conv_tol=1e-4, verbose=false)\n",
    "    #Choose appropriate UInt type based on number of qubits (same as PP does)\n",
    "        UIntType = if scaled_nq <= 4\n",
    "            UInt8\n",
    "        elseif scaled_nq <= 8\n",
    "            UInt16\n",
    "        elseif scaled_nq <= 16\n",
    "            UInt32\n",
    "        else\n",
    "            UInt64\n",
    "        end\n",
    "        \n",
    "        chosen_ops = scaled_pool_selection(tile_nq, hamiltonian, full_bit_pool; num_runs=num_runs, run_iters=run_iters, conv_tol=conv_tol, verbose=verbose)\n",
    "        println(\"Chosen operators from tile ADAPT-VQE: \", length(chosen_ops))\n",
    "        scaled_pool = UIntType[]\n",
    "        for op in chosen_ops\n",
    "            ps, paulis, sites = bit_to_paulistring(op, tile_nq) \n",
    "            #println(\"Scaling operator: \", ps)\n",
    "            #println(\"Paulis: \", paulis, \" Sites: \", sites)\n",
    "            weight = length(paulis)\n",
    "            #println(\"Weight: \", weight)\n",
    "            # Preserve the operator's internal geometry: compute zero-based relative offsets\n",
    "            min_site = minimum(sites)\n",
    "            #println(\"Min site: \", min_site)\n",
    "            rel_sites = sites .- min_site\n",
    "            #println(\"Relative sites: \", rel_sites)\n",
    "            block_span = maximum(rel_sites) + 1 # equivalent to block_span = maximum(sites) - minimum(sites) + 1\n",
    "            #println(\"Block span: \", block_span)\n",
    "        # Slide the block from left to right without wrapping (open boundaries)\n",
    "        for start in 1:(scaled_nq - block_span + 1)\n",
    "            #println(\"Start position: \", start)\n",
    "            new_sites = start .+ rel_sites  # keep internal offsets\n",
    "            #println(\"New sites: \", new_sites)\n",
    "            new_op = PauliString(scaled_nq, paulis, collect(new_sites), 1.0)\n",
    "            push!(scaled_pool, (new_op.term))\n",
    "        end\n",
    "    end\n",
    "    return unique(scaled_pool)\n",
    "end"
   ]
  },
  {
   "cell_type": "markdown",
   "id": "0b368b9e",
   "metadata": {},
   "source": [
    "### Run AdaptVQE with new Pool"
   ]
  },
  {
   "cell_type": "code",
   "execution_count": 34,
   "id": "960b4ed2",
   "metadata": {},
   "outputs": [
    {
     "ename": "UndefVarError",
     "evalue": "UndefVarError: `gamma` not defined in `Main`\nSuggestion: check for spelling errors or missing imports.\nHint: a global variable of this name may be made accessible by importing SpecialFunctions in the current active module Main",
     "output_type": "error",
     "traceback": [
      "UndefVarError: `gamma` not defined in `Main`\n",
      "Suggestion: check for spelling errors or missing imports.\n",
      "Hint: a global variable of this name may be made accessible by importing SpecialFunctions in the current active module Main\n",
      "\n",
      "Stacktrace:\n",
      " [1] target_optimization(nq::Int64, circuit::Vector{Any}, thetas::Vector{Float64}; max_freq::Float64, max_weight::Float64, verbose::Bool)\n",
      "   @ Main ~/julia_scripts/PP-VarBenchmarks/jl_notebook_cell_df34fa98e69747e1a8f8a730347b8e2f_X36sdnNjb2RlLXJlbW90ZQ==.jl:3\n",
      " [2] target_optimization\n",
      "   @ ~/julia_scripts/PP-VarBenchmarks/jl_notebook_cell_df34fa98e69747e1a8f8a730347b8e2f_X36sdnNjb2RlLXJlbW90ZQ==.jl:1 [inlined]\n",
      " [3] adaptVQE_loop(nq::Int64, hamiltonian::PauliSum{UInt8, Float64}, bit_pool::Vector{UInt8}; max_iters::Int64, conv_tol::Float64, verbose::Bool)\n",
      "   @ Main ~/julia_scripts/PP-VarBenchmarks/jl_notebook_cell_df34fa98e69747e1a8f8a730347b8e2f_X42sdnNjb2RlLXJlbW90ZQ==.jl:32\n",
      " [4] adaptVQE_loop\n",
      "   @ ~/julia_scripts/PP-VarBenchmarks/jl_notebook_cell_df34fa98e69747e1a8f8a730347b8e2f_X42sdnNjb2RlLXJlbW90ZQ==.jl:1 [inlined]\n",
      " [5] scaled_pool_selection(nq::Int64, hamiltonian::PauliSum{UInt8, Float64}, full_bit_pool::Vector{UInt8}; num_runs::Int64, run_iters::Int64, conv_tol::Float64, verbose::Bool)\n",
      "   @ Main ~/julia_scripts/PP-VarBenchmarks/jl_notebook_cell_df34fa98e69747e1a8f8a730347b8e2f_X54sdnNjb2RlLXJlbW90ZQ==.jl:5\n",
      " [6] scaled_pool_selection\n",
      "   @ ~/julia_scripts/PP-VarBenchmarks/jl_notebook_cell_df34fa98e69747e1a8f8a730347b8e2f_X54sdnNjb2RlLXJlbW90ZQ==.jl:1 [inlined]\n",
      " [7] scaled_pool_generation(tile_nq::Int64, scaled_nq::Int64, hamiltonian::PauliSum{UInt8, Float64}, full_bit_pool::Vector{UInt8}; num_runs::Int64, run_iters::Int64, conv_tol::Float64, verbose::Bool)\n",
      "   @ Main ~/julia_scripts/PP-VarBenchmarks/jl_notebook_cell_df34fa98e69747e1a8f8a730347b8e2f_X54sdnNjb2RlLXJlbW90ZQ==.jl:24\n",
      " [8] top-level scope\n",
      "   @ ~/julia_scripts/PP-VarBenchmarks/jl_notebook_cell_df34fa98e69747e1a8f8a730347b8e2f_X56sdnNjb2RlLXJlbW90ZQ==.jl:8"
     ]
    }
   ],
   "source": [
    "# check the scaled pool generation\n",
    "tile_nq = 3\n",
    "scaled_nq = 4 # ED -1.18969262 for 4 qubits\n",
    "\n",
    "tile_full_bit_pool = generate_full_bit_pool(tile_nq)\n",
    "tile_hamiltonian = tfim_1d_obc(tile_nq; topology=bricklayertopology(tile_nq;periodic=false))\n",
    "\n",
    "scaled_pool = scaled_pool_generation(tile_nq, scaled_nq, tile_hamiltonian, tile_full_bit_pool; num_runs=10, run_iters=10, conv_tol=1e-2, verbose=false) \n",
    "# need approx. 10 runs to hit the 12 different operators \n",
    "# convert scaled pool to PauliStrings for printing\n",
    "for op in scaled_pool\n",
    "    println(bit_to_paulistring(op, scaled_nq)[1])\n",
    "\n",
    "end\n",
    "scaled_hamiltonian = tfim_1d_obc(scaled_nq; topology=bricklayertopology(scaled_nq;periodic=false))\n",
    "println(\"Scaled adaptVQE loop:\")\n",
    "circuit, thetas, chosen_ops, opt_energy_gd, max_grads = adaptVQE_loop(scaled_nq, scaled_hamiltonian, scaled_pool; max_iters=50, conv_tol=1e-4, verbose=false);\n",
    "println(\"opt_energy_gd: \", opt_energy_gd)\n",
    "println(\"max grads: \" , max_grads)\n",
    "\n",
    "println(\"GS energy per qubit: \", opt_energy_gd[end], \" with adaptVQE gradient \", max_grads[end])"
   ]
  },
  {
   "cell_type": "code",
   "execution_count": 35,
   "id": "5ba6bc6e",
   "metadata": {},
   "outputs": [
    {
     "ename": "UndefVarError",
     "evalue": "UndefVarError: `max_grads` not defined in `Main`\nSuggestion: check for spelling errors or missing imports.",
     "output_type": "error",
     "traceback": [
      "UndefVarError: `max_grads` not defined in `Main`\n",
      "Suggestion: check for spelling errors or missing imports.\n",
      "\n",
      "Stacktrace:\n",
      " [1] top-level scope\n",
      "   @ ~/julia_scripts/PP-VarBenchmarks/jl_notebook_cell_df34fa98e69747e1a8f8a730347b8e2f_X60sdnNjb2RlLXJlbW90ZQ==.jl:1"
     ]
    }
   ],
   "source": [
    "plot(max_grads, marker=:o)\n",
    "plot!(title = \"Max Gradient Convergence\", xlabel = \"ADAPT-VQE Iteration\", ylabel = \"Max Gradient\")"
   ]
  },
  {
   "cell_type": "code",
   "execution_count": 36,
   "id": "6103f5b9",
   "metadata": {},
   "outputs": [
    {
     "ename": "UndefVarError",
     "evalue": "UndefVarError: `opt_energy_gd` not defined in `Main`\nSuggestion: check for spelling errors or missing imports.",
     "output_type": "error",
     "traceback": [
      "UndefVarError: `opt_energy_gd` not defined in `Main`\n",
      "Suggestion: check for spelling errors or missing imports.\n",
      "\n",
      "Stacktrace:\n",
      " [1] top-level scope\n",
      "   @ ~/julia_scripts/PP-VarBenchmarks/jl_notebook_cell_df34fa98e69747e1a8f8a730347b8e2f_X61sdnNjb2RlLXJlbW90ZQ==.jl:1"
     ]
    }
   ],
   "source": [
    "plot(opt_energy_gd, marker=:o)\n",
    "display(plot!(title = \"Energy per qubit convergence\", xlabel = \"Iteration\", ylabel = \"E/Q\"))"
   ]
  }
 ],
 "metadata": {
  "kernelspec": {
   "display_name": "Julia 1.11.5",
   "language": "julia",
   "name": "julia-1.11"
  },
  "language_info": {
   "file_extension": ".jl",
   "mimetype": "application/julia",
   "name": "julia",
   "version": "1.11.5"
  }
 },
 "nbformat": 4,
 "nbformat_minor": 5
}
