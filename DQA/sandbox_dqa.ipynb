{
 "cells": [
  {
   "cell_type": "code",
   "execution_count": 1,
   "id": "061d8828",
   "metadata": {},
   "outputs": [],
   "source": [
    "using PauliPropagation"
   ]
  },
  {
   "cell_type": "markdown",
   "id": "b410fd9c",
   "metadata": {},
   "source": [
    "### X drive to ZZ target"
   ]
  },
  {
   "cell_type": "code",
   "execution_count": 20,
   "id": "31060540",
   "metadata": {},
   "outputs": [
    {
     "name": "stdout",
     "output_type": "stream",
     "text": [
      "-6.999972160415625\n"
     ]
    }
   ],
   "source": [
    "#define hyperparams\n",
    "nq = 8\n",
    "del_t = 1.0\n",
    "P= 200\n",
    "tau = del_t * P # tau is total annealing time, divided into P steps/layers of circuit\n",
    "topology = bricklayertopology(nq; periodic=false)\n",
    "circuit = tfitrottercircuit(nq, P; topology=topology, start_with_ZZ=false) # 1st order trotter\n",
    "#println(circuit)\n",
    "nbonds = nq - 1 # if periodic nq bonds, else nq-1 (1d chain)\n",
    "total = P * (nq + nbonds)\n",
    "params  = Vector{Float64}(undef, total)\n",
    "\n",
    "hbar = 1.0\n",
    "G = -1.0\n",
    "J = 1.0\n",
    "\n",
    "idx = 1\n",
    "for m in 1:P # layers of trotterized circuit\n",
    "    #s_m = m / P\n",
    "    s_m = (m - 0.5) / P #evaluate at middle of trotter slice\n",
    "\n",
    "    gamma_m = s_m * del_t /hbar\n",
    "    #println(gamma_m)   # paper Eq. (12)\n",
    "    beta_m = (1-s_m) * del_t / hbar # paper Eq. (13a) - 1st order trotter\n",
    "    #println(beta_m)\n",
    "    theta_X = 2*beta_m * G \n",
    "    ##println(theta_X)              # angle for e^{-i theta_X X_j/2} - PauliRotation implementation in PP\n",
    "    theta_ZZ = 2*gamma_m * J              # angle for e^{-i theta_ZZ Z_j Z_{j+1}/2}\n",
    "    ##println(theta_ZZ)\n",
    "    @inbounds fill!(view(params, idx:idx+nq-1), theta_X);             idx += nq # set X angles,then shift the index\n",
    "    #println(params)\n",
    "    @inbounds fill!(view(params, idx:idx+nbonds-1), theta_ZZ);       idx += nbonds\n",
    "    #println(params)\n",
    "end\n",
    "H_ZZ = PauliSum(nq)\n",
    "for pair in topology\n",
    "    add!(H_ZZ, [:Z, :Z], collect(pair), J)\n",
    "end\n",
    "\n",
    "max_weight = 10\n",
    "min_abs_coeff = 1e-7\n",
    "propagated = propagate(circuit, H_ZZ, params)#; max_weight, min_abs_coeff)\n",
    "println(overlapwithplus(propagated))\n"
   ]
  },
  {
   "cell_type": "markdown",
   "id": "88660f08",
   "metadata": {},
   "source": [
    "This works well, also when scaling up. Now, we want to do DQA for more complex Hamiltonians."
   ]
  },
  {
   "cell_type": "markdown",
   "id": "30dc1744",
   "metadata": {},
   "source": [
    "### X drive to TFIM target"
   ]
  },
  {
   "cell_type": "code",
   "execution_count": 27,
   "id": "475bdd9c",
   "metadata": {},
   "outputs": [
    {
     "name": "stdout",
     "output_type": "stream",
     "text": [
      "-4.7321215571987\n"
     ]
    }
   ],
   "source": [
    "#define hyperparams\n",
    "using PauliPropagation  \n",
    "nq = 4\n",
    "del_t = 0.1\n",
    "P= 1000\n",
    "tau = del_t * P # tau is total annealing time, divided into P steps/layers of circuit\n",
    "topology = bricklayertopology(nq; periodic=false)\n",
    "circuit = tfitrottercircuit(nq, P; topology=topology, start_with_ZZ=false) # 1st order trotter\n",
    "#println(circuit)\n",
    "nbonds = nq - 1 # if periodic nq bonds, else nq-1 (1d chain)\n",
    "total = P * (nq + nbonds)\n",
    "params  = Vector{Float64}(undef, total)\n",
    "\n",
    "hbar = 1.0\n",
    "G = 1.0\n",
    "J = 1.0\n",
    "\n",
    "idx = 1\n",
    "for m in 1:P # layers of trotterized circuit\n",
    "    # s_m = m / P\n",
    "    s_m = (m - 0.5) / P\n",
    "\n",
    "    gamma_m = J* s_m * del_t /hbar\n",
    "    #println(gamma_m)   # paper Eq. (12)\n",
    "    beta_m = G*del_t*(2*s_m-1)/ hbar #(1-s_m) * del_t / hbar # paper Eq. (13a) - 1st order trotter\n",
    "    #println(beta_m)\n",
    "    theta_X = 2*beta_m\n",
    "    ##println(theta_X)              # angle for e^{-i theta_X X_j/2} - PauliRotation implementation in PP\n",
    "    theta_ZZ = 2*gamma_m              # angle for e^{-i theta_ZZ Z_j Z_{j+1}/2}, J=1\n",
    "    ##println(theta_ZZ)\n",
    "    @inbounds fill!(view(params, idx:idx+nq-1), theta_X);             idx += nq # set X angles,then shift the index\n",
    "    #println(params)\n",
    "    @inbounds fill!(view(params, idx:idx+nbonds-1), theta_ZZ);       idx += nbonds\n",
    "    #println(params)\n",
    "end\n",
    "H_tfim = PauliSum(nq)\n",
    "\n",
    "for qind in 1:nq\n",
    "    add!(H_tfim, :X, qind, G)\n",
    "end\n",
    "\n",
    "for pair in topology\n",
    "    add!(H_tfim, [:Z, :Z], collect(pair), J)\n",
    "end\n",
    "\n",
    "\n",
    "max_weight = 10\n",
    "min_abs_coeff = 1e-7\n",
    "propagated = propagate(circuit, H_tfim, params)#; max_weight, min_abs_coeff)\n",
    "println(overlapwithplus(propagated))"
   ]
  },
  {
   "cell_type": "code",
   "execution_count": 28,
   "id": "0979b82a",
   "metadata": {},
   "outputs": [
    {
     "data": {
      "text/plain": [
       "tfim_interpolation_circuit (generic function with 1 method)"
      ]
     },
     "metadata": {},
     "output_type": "display_data"
    }
   ],
   "source": [
    "function tfim_interpolation_circuit(nq, P; del_t= 0.1, topology=nothing, periodic = false)\n",
    "    \n",
    "    tau = del_t * P # tau is total annealing time, divided into P steps/layers of circuit\n",
    "    if topology === nothing\n",
    "        topology = bricklayertopology(nq; periodic=periodic)\n",
    "    end\n",
    "\n",
    "    circuit = tfitrottercircuit(nq, P; topology=topology, start_with_ZZ=false) # 1st order trotter\n",
    "    periodic ? nbonds = nq : nbonds = nq - 1 # if periodic nq bonds, else nq-1 (1d chain)\n",
    "    total = P * (nq + nbonds)\n",
    "    params  = Vector{Float64}(undef, total)\n",
    "    idx = 1\n",
    "    \n",
    "    for m in 1:P # layers of trotterized circuit\n",
    "        s_m = (m - 0.5) / P\n",
    "\n",
    "        gamma_m = J* s_m * del_t /hbar\n",
    "        #println(gamma_m)   # paper Eq. (12)\n",
    "        beta_m = G*del_t*(2*s_m-1)/ hbar #(1-s_m) * del_t / hbar # paper Eq. (13a) - 1st order trotter\n",
    "        #println(beta_m)\n",
    "        theta_X = 2*beta_m\n",
    "        ##println(theta_X)              # angle for e^{-i theta_X X_j/2} - PauliRotation implementation in PP\n",
    "        theta_ZZ = 2*gamma_m              # angle for e^{-i theta_ZZ Z_j Z_{j+1}/2}, J=1\n",
    "        ##println(theta_ZZ)\n",
    "        @inbounds fill!(view(params, idx:idx+nq-1), theta_X);             idx += nq # set X angles,then shift the index\n",
    "        #println(params)\n",
    "        @inbounds fill!(view(params, idx:idx+nbonds-1), theta_ZZ);       idx += nbonds\n",
    "        #println(params)\n",
    "    end\n",
    "\n",
    "    return circuit, params\n",
    "end\n"
   ]
  },
  {
   "cell_type": "code",
   "execution_count": 51,
   "id": "e62a6989",
   "metadata": {},
   "outputs": [
    {
     "name": "stdout",
     "output_type": "stream",
     "text": [
      "-1.086200350521824\n"
     ]
    }
   ],
   "source": [
    "# test the function \n",
    "nq = 5\n",
    "P= 10000\n",
    "circuit, params = tfim_interpolation_circuit(nq, P; del_t=0.1)\n",
    "\n",
    "\n",
    "H_tfim = PauliSum(nq)\n",
    "topology = bricklayertopology(nq; periodic=false)\n",
    "for qind in 1:nq\n",
    "    add!(H_tfim, :X, qind, G)\n",
    "end\n",
    "\n",
    "for pair in topology\n",
    "    add!(H_tfim, [:Z, :Z], collect(pair), J)\n",
    "end\n",
    "\n",
    "\n",
    "max_weight = 10\n",
    "min_abs_coeff = 1e-7\n",
    "propagated = propagate(circuit, H_tfim, params)#; max_weight, min_abs_coeff)\n",
    "println(overlapwithplus(propagated)/nq)"
   ]
  },
  {
   "cell_type": "code",
   "execution_count": 57,
   "id": "862e5686",
   "metadata": {},
   "outputs": [
    {
     "name": "stdout",
     "output_type": "stream",
     "text": [
      "-1.279072407705798\n"
     ]
    }
   ],
   "source": [
    "# test the function for periodic boundary conditions\n",
    "nq = 6\n",
    "P= 10000\n",
    "circuit, params = tfim_interpolation_circuit(nq, P; del_t=0.1, periodic=true)\n",
    "\n",
    "\n",
    "H_tfim = PauliSum(nq)\n",
    "topology = bricklayertopology(nq; periodic=true)\n",
    "for qind in 1:nq\n",
    "    add!(H_tfim, :X, qind, G)\n",
    "end\n",
    "\n",
    "for pair in topology\n",
    "    add!(H_tfim, [:Z, :Z], collect(pair), J)\n",
    "end\n",
    "\n",
    "\n",
    "max_weight = 10\n",
    "min_abs_coeff = 1e-7\n",
    "propagated = propagate(circuit, H_tfim, params)#; max_weight, min_abs_coeff)\n",
    "println(overlapwithplus(propagated)/nq)"
   ]
  },
  {
   "cell_type": "markdown",
   "id": "3f4aa9c6",
   "metadata": {},
   "source": [
    "Observation: for even number of spins, by increasing P (and smaller dt), we reach the ground state up to 10 qubits. \n",
    "But for odd number of spins, we always converge to the first excited state instead. This is because the TFIM preserves Z2 symmetry, and through the adiabatic evolution we are stuck in the same symmetry sector."
   ]
  },
  {
   "cell_type": "markdown",
   "id": "80598446",
   "metadata": {},
   "source": [
    "### X drive to Heisenberg Hamiltonian\n",
    "- Watch out: Heisenberg Hamiltonian commutes with the driver (X) that we used above --> i.e the Hamiltonian is conserved by the interpolating unitary\n",
    "- If we want to keep the plus state as the departure state for the interpolating Hamiltonian, we need to break the SU(2) symmetry of the Heisenberg Hamiltonian\n",
    "- One way to do this is to adjust the coeffs of the driver to all be positive but slightly different\n",
    "- Another approach is taking the overlap with the Neelstate. This should lead to similar results as the TFIM. Since the ZZ driver and Hamiltonian partially commute, we should stay in the symmetry sector of the Néel state."
   ]
  },
  {
   "cell_type": "markdown",
   "id": "55bbdc29",
   "metadata": {},
   "source": [
    "### Breaking the SU(2) symmetry (works but bad?)"
   ]
  },
  {
   "cell_type": "code",
   "execution_count": 11,
   "id": "36b2a29c",
   "metadata": {},
   "outputs": [
    {
     "name": "stdout",
     "output_type": "stream",
     "text": [
      "Total params = 900000\n",
      "E_final = -3.8264365959710824\n"
     ]
    }
   ],
   "source": [
    "using PauliPropagation\n",
    "\n",
    "# --- hyperparams ---\n",
    "nq  = 3\n",
    "topology = bricklayertopology(nq; periodic=false)\n",
    "nbonds = nq - 1\n",
    "\n",
    "del_t = 0.1\n",
    "P= 100000\n",
    "tau = del_t * P\n",
    "\n",
    "hbar = 1.0\n",
    "G = 1.0\n",
    "J = 1.0\n",
    "g = [1,1.6,0.4] # break SU(2) symmetry of Heisenberg model\n",
    "# --- circuit: [X]*nq → [XX]*nbonds → [YY]*nbonds → [ZZ]*nbonds per layer ---\n",
    "function dqa_heisenbergtrottercircuit(nqubits::Int, nlayers::Int; topology)\n",
    "    circuit = Gate[]\n",
    "    for _ in 1:nlayers\n",
    "        for q in 1:nqubits\n",
    "            push!(circuit, PauliRotation(:X, q))\n",
    "        end\n",
    "        rxxlayer!(circuit, topology)\n",
    "        ryylayer!(circuit, topology)\n",
    "        rzzlayer!(circuit, topology)\n",
    "    end\n",
    "    return circuit\n",
    "end\n",
    "\n",
    "circuit = dqa_heisenbergtrottercircuit(nq, P; topology)\n",
    "\n",
    "# --- params packed as [X | XX | YY | ZZ] for each layer ---\n",
    "total  = P*(nq + 3*nbonds)\n",
    "params = Vector{Float64}(undef, total)\n",
    "println(\"Total params = \", total)\n",
    "idx = 1\n",
    "for m in 1:P\n",
    "    s_m = (m - 0.5) / P\n",
    "    beta   = -g .*[(1- s_m) * del_t / hbar]     # X coefficient\n",
    "    gamma  =  J * s_m       * del_t / hbar     # XX/YY/ZZ coefficient\n",
    "\n",
    "    θX  = 2 .*beta\n",
    "    θXX = 2*gamma\n",
    "    θYY = 2*gamma\n",
    "    θZZ = 2*gamma\n",
    "    #println(\"done\")\n",
    "    #@inbounds fill!(view(params, idx:idx+nq-1), θX);                  idx += nq\n",
    "    for i in 1:nq\n",
    "        @inbounds fill!(view(params, idx-1+i), θX[i]) # to avoid broadcasting\n",
    "    end\n",
    "    #println(params)\n",
    "    idx += nq\n",
    "    @inbounds fill!(view(params, idx:idx+nbonds-1), θXX);             idx += nbonds\n",
    "    #println(params)\n",
    "    @inbounds fill!(view(params, idx:idx+nbonds-1), θYY);             idx += nbonds\n",
    "    #println(params)\n",
    "    @inbounds fill!(view(params, idx:idx+nbonds-1), θZZ);             idx += nbonds\n",
    "    #println(params)\n",
    "end\n",
    "\n",
    "# --- final observable: Heisenberg only (no X term) ---\n",
    "H_heis = PauliSum(nq)\n",
    "for (i,j) in topology\n",
    "    add!(H_heis, [:X,:X], [i,j], J)\n",
    "    add!(H_heis, [:Y,:Y], [i,j], J)\n",
    "    add!(H_heis, [:Z,:Z], [i,j], J)\n",
    "end\n",
    "max_weight = 5\n",
    "min_abs_coeff = 1e-7\n",
    "propH = propagate(circuit, H_heis, params; max_weight, min_abs_coeff)\n",
    "\n",
    "# Heisenberg-picture readout: ⟨+| U† H_heis U |+⟩\n",
    "println(\"E_final = \", overlapwithplus(propH))\n"
   ]
  },
  {
   "cell_type": "markdown",
   "id": "6b9552b9",
   "metadata": {},
   "source": [
    "This seems to work, but is far to comp expensive. We need a different approach to DQA for the Heisenberg Hamiltonian / a different way to pre-propagate the state."
   ]
  },
  {
   "cell_type": "markdown",
   "id": "aad174fc",
   "metadata": {},
   "source": [
    "### Néel overlap (this is decent)"
   ]
  },
  {
   "cell_type": "code",
   "execution_count": 4,
   "id": "3d8009d6",
   "metadata": {},
   "outputs": [
    {
     "data": {
      "text/plain": [
       "overlapwithneel (generic function with 1 method)"
      ]
     },
     "metadata": {},
     "output_type": "display_data"
    }
   ],
   "source": [
    "function overlapwithneel(operator, nq::Int; \n",
    "                           up_on_odd::Bool=true, \n",
    "                           params=nothing)\n",
    "                           \n",
    "    # Create Néel state bit representation: indices of \"1\" bits\n",
    "    nb = neel_bits(nq; up_on_odd=up_on_odd)\n",
    "    \n",
    "    # Compute overlap with computational basis state\n",
    "    return overlapwithcomputational(operator, nb)\n",
    "end"
   ]
  },
  {
   "cell_type": "code",
   "execution_count": 6,
   "id": "8f55e329",
   "metadata": {},
   "outputs": [
    {
     "data": {
      "text/plain": [
       "neel_bits (generic function with 1 method)"
      ]
     },
     "metadata": {},
     "output_type": "display_data"
    }
   ],
   "source": [
    "function neel_bits(nq::Int; up_on_odd::Bool=true)\n",
    "    if up_on_odd\n",
    "        # |0101...> → \"1\" on even sites\n",
    "        return collect(2:2:nq)\n",
    "    else\n",
    "        # |1010...> → \"1\" on odd sites\n",
    "        return collect(1:2:nq)\n",
    "    end\n",
    "end"
   ]
  },
  {
   "cell_type": "code",
   "execution_count": 16,
   "id": "9c1506f3",
   "metadata": {},
   "outputs": [
    {
     "name": "stdout",
     "output_type": "stream",
     "text": [
      "Total params = 120000\n",
      "E_final = -1.5307141637686306\n"
     ]
    }
   ],
   "source": [
    "using PauliPropagation\n",
    "\n",
    "# --- hyperparams ---\n",
    "nq  = 5\n",
    "topology = bricklayertopology(nq; periodic=false)\n",
    "nbonds = nq - 1\n",
    "\n",
    "del_t = 0.1\n",
    "P= 10000\n",
    "tau = del_t * P\n",
    "\n",
    "hbar = 1.0\n",
    "G = 1.0\n",
    "J = 1.0\n",
    "\n",
    "# --- circuit: [X]*nq → [XX]*nbonds → [YY]*nbonds → [ZZ]*nbonds per layer ---\n",
    "function dqa_heisenbergtrottercircuit(nqubits::Int, nlayers::Int; topology)\n",
    "    circuit = Gate[]\n",
    "    for _ in 1:nlayers\n",
    "        rxxlayer!(circuit, topology)\n",
    "        ryylayer!(circuit, topology)\n",
    "        rzzlayer!(circuit, topology) # driver and target (commute --> fixed symmetry sector)\n",
    "    end\n",
    "    return circuit\n",
    "end\n",
    "\n",
    "circuit = dqa_heisenbergtrottercircuit(nq, P; topology)\n",
    "\n",
    "# --- params packed as [X | XX | YY | ZZ] for each layer ---\n",
    "total  = P*(3*nbonds)\n",
    "params = Vector{Float64}(undef, total)\n",
    "println(\"Total params = \", total)\n",
    "idx = 1\n",
    "for m in 1:P\n",
    "    s_m = (m - 0.5) / P\n",
    "\n",
    "    beta   = J * del_t / hbar    # ZZ coefficient\n",
    "    gamma  =  J * s_m       * del_t / hbar     # XX/YY coefficient\n",
    "    θZZ = 2*beta\n",
    "    θXX = 2*gamma\n",
    "    θYY = 2*gamma\n",
    "\n",
    "    \n",
    "    @inbounds fill!(view(params, idx:idx+nbonds-1), θXX);             idx += nbonds\n",
    "    #println(params)\n",
    "    @inbounds fill!(view(params, idx:idx+nbonds-1), θYY);             idx += nbonds\n",
    "    #println(params)\n",
    "    @inbounds fill!(view(params, idx:idx+nbonds-1), θZZ);             idx += nbonds\n",
    "    #println(params)\n",
    "end\n",
    "\n",
    "# --- final observable: Heisenberg only (no X term) ---\n",
    "H_heis = PauliSum(nq)\n",
    "for (i,j) in topology\n",
    "    add!(H_heis, [:X,:X], [i,j], J)\n",
    "    add!(H_heis, [:Y,:Y], [i,j], J)\n",
    "    add!(H_heis, [:Z,:Z], [i,j], J)\n",
    "end\n",
    "max_weight = 10\n",
    "min_abs_coeff = 1e-7\n",
    "propH = propagate(circuit, H_heis, params; max_weight, min_abs_coeff)\n",
    "\n",
    "# Heisenberg-picture readout: ⟨+| U† H_heis U |+⟩\n",
    "println(\"E_final = \", overlapwithneel(propH, nq)/nq)\n"
   ]
  },
  {
   "cell_type": "markdown",
   "id": "4b179bf0",
   "metadata": {},
   "source": [
    "This works for odd number of spins (but takes ages). For even nq we are stuck somewhere in between gs and 1st excited state."
   ]
  },
  {
   "cell_type": "code",
   "execution_count": null,
   "id": "658988a6",
   "metadata": {},
   "outputs": [],
   "source": []
  }
 ],
 "metadata": {
  "kernelspec": {
   "display_name": "Julia 1.11.5",
   "language": "julia",
   "name": "julia-1.11"
  },
  "language_info": {
   "file_extension": ".jl",
   "mimetype": "application/julia",
   "name": "julia",
   "version": "1.11.5"
  }
 },
 "nbformat": 4,
 "nbformat_minor": 5
}
