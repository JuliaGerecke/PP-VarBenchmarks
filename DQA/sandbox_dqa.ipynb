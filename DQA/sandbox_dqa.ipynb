{
 "cells": [
  {
   "cell_type": "code",
   "execution_count": 1,
   "id": "061d8828",
   "metadata": {},
   "outputs": [],
   "source": [
    "using PauliPropagation\n",
    "using Plots"
   ]
  },
  {
   "cell_type": "markdown",
   "id": "b410fd9c",
   "metadata": {},
   "source": [
    "### X drive to ZZ target (Test of the DQA)"
   ]
  },
  {
   "cell_type": "code",
   "execution_count": 67,
   "id": "31060540",
   "metadata": {},
   "outputs": [
    {
     "name": "stdout",
     "output_type": "stream",
     "text": [
      "-3.9560409190658277\n"
     ]
    }
   ],
   "source": [
    "#define hyperparams\n",
    "nq = 5\n",
    "del_t = 1.0\n",
    "P= 20\n",
    "tau = del_t * P # tau is total annealing time, divided into P steps/layers of circuit\n",
    "topology = bricklayertopology(nq; periodic=false)\n",
    "circuit = tfitrottercircuit(nq, P; topology=topology, start_with_ZZ=false) # 1st order trotter\n",
    "#println(circuit)\n",
    "nbonds = nq - 1 # if periodic nq bonds, else nq-1 (1d chain)\n",
    "total = P * (nq + nbonds)\n",
    "params  = Vector{Float64}(undef, total)\n",
    "\n",
    "hbar = 1.0\n",
    "G = -1.0\n",
    "J = 1.0\n",
    "\n",
    "idx = 1\n",
    "for m in 1:P # layers of trotterized circuit\n",
    "    #s_m = m / P\n",
    "    s_m = (m - 0.5) / P #evaluate at middle of trotter slice\n",
    "\n",
    "    gamma_m = s_m * del_t /hbar\n",
    "    #println(gamma_m)   # paper Eq. (12)\n",
    "    beta_m = (1-s_m) * del_t / hbar # paper Eq. (13a) - 1st order trotter\n",
    "    #println(beta_m)\n",
    "    theta_X = 2*beta_m * G \n",
    "    ##println(theta_X)              # angle for e^{-i theta_X X_j/2} - PauliRotation implementation in PP\n",
    "    theta_ZZ = 2*gamma_m * J              # angle for e^{-i theta_ZZ Z_j Z_{j+1}/2}\n",
    "    ##println(theta_ZZ)\n",
    "    @inbounds fill!(view(params, idx:idx+nq-1), theta_X);             idx += nq # set X angles,then shift the index\n",
    "    #println(params)\n",
    "    @inbounds fill!(view(params, idx:idx+nbonds-1), theta_ZZ);       idx += nbonds\n",
    "    #println(params)\n",
    "end\n",
    "H_ZZ = PauliSum(nq)\n",
    "for pair in topology\n",
    "    add!(H_ZZ, [:Z, :Z], collect(pair), J)\n",
    "end\n",
    "\n",
    "max_weight = 10\n",
    "min_abs_coeff = 1e-7\n",
    "propagated = propagate(circuit, H_ZZ, params)#; max_weight, min_abs_coeff)\n",
    "println(overlapwithplus(propagated))\n"
   ]
  },
  {
   "cell_type": "code",
   "execution_count": 60,
   "id": "3eaf5251",
   "metadata": {},
   "outputs": [
    {
     "name": "stdout",
     "output_type": "stream",
     "text": [
      "[-1.95, -1.95, -1.95, -1.95, -1.95, 0.05, 0.05, 0.05, 0.05, -1.85, -1.85, -1.85, -1.85, -1.85, 0.15, 0.15, 0.15, 0.15, -1.75, -1.75, -1.75, -1.75, -1.75, 0.25, 0.25, 0.25, 0.25, -1.65, -1.65, -1.65, -1.65, -1.65, 0.35, 0.35, 0.35, 0.35, -1.55, -1.55, -1.55, -1.55, -1.55, 0.45, 0.45, 0.45, 0.45, -1.45, -1.45, -1.45, -1.45, -1.45, 0.55, 0.55, 0.55, 0.55, -1.35, -1.35, -1.35, -1.35, -1.35, 0.65, 0.65, 0.65, 0.65, -1.25, -1.25, -1.25, -1.25, -1.25, 0.75, 0.75, 0.75, 0.75, -1.15, -1.15, -1.15, -1.15, -1.15, 0.85, 0.85, 0.85, 0.85, -1.05, -1.05, -1.05, -1.05, -1.05, 0.95, 0.95, 0.95, 0.95, -0.95, -0.95, -0.95, -0.95, -0.95, 1.05, 1.05, 1.05, 1.05, -0.8500000000000001, -0.8500000000000001, -0.8500000000000001, -0.8500000000000001, -0.8500000000000001, 1.15, 1.15, 1.15, 1.15, -0.75, -0.75, -0.75, -0.75, -0.75, 1.25, 1.25, 1.25, 1.25, -0.6499999999999999, -0.6499999999999999, -0.6499999999999999, -0.6499999999999999, -0.6499999999999999, 1.35, 1.35, 1.35, 1.35, -0.55, -0.55, -0.55, -0.55, -0.55, 1.45, 1.45, 1.45, 1.45, -0.44999999999999996, -0.44999999999999996, -0.44999999999999996, -0.44999999999999996, -0.44999999999999996, 1.55, 1.55, 1.55, 1.55, -0.3500000000000001, -0.3500000000000001, -0.3500000000000001, -0.3500000000000001, -0.3500000000000001, 1.65, 1.65, 1.65, 1.65, -0.25, -0.25, -0.25, -0.25, -0.25, 1.75, 1.75, 1.75, 1.75, -0.1499999999999999, -0.1499999999999999, -0.1499999999999999, -0.1499999999999999, -0.1499999999999999, 1.85, 1.85, 1.85, 1.85, -0.050000000000000044, -0.050000000000000044, -0.050000000000000044, -0.050000000000000044, -0.050000000000000044, 1.95, 1.95, 1.95, 1.95]\n"
     ]
    }
   ],
   "source": [
    "println(params)"
   ]
  },
  {
   "cell_type": "markdown",
   "id": "88660f08",
   "metadata": {},
   "source": [
    "This works well, also when scaling up. The groundstate is - (# of bonds). "
   ]
  },
  {
   "cell_type": "markdown",
   "id": "93d77a9a",
   "metadata": {},
   "source": [
    "### Test stepwise here:"
   ]
  },
  {
   "cell_type": "code",
   "execution_count": 66,
   "id": "da8e1cbe",
   "metadata": {},
   "outputs": [
    {
     "name": "stdout",
     "output_type": "stream",
     "text": [
      "Gate[PauliRotation([:X], [1]), PauliRotation([:X], [2]), PauliRotation([:X], [3]), PauliRotation([:X], [4]), PauliRotation([:X], [5]), PauliRotation([:Z, :Z], [1, 2]), PauliRotation([:Z, :Z], [3, 4]), PauliRotation([:Z, :Z], [2, 3]), PauliRotation([:Z, :Z], [4, 5])]\n",
      "[-1.95, -1.95, -1.95, -1.95, -1.95, 0.05, 0.05, 0.05, 0.05]\n",
      "[-1.85, -1.85, -1.85, -1.85, -1.85, 0.15, 0.15, 0.15, 0.15]\n",
      "[-1.75, -1.75, -1.75, -1.75, -1.75, 0.25, 0.25, 0.25, 0.25]\n",
      "[-1.65, -1.65, -1.65, -1.65, -1.65, 0.35, 0.35, 0.35, 0.35]\n",
      "[-1.55, -1.55, -1.55, -1.55, -1.55, 0.45, 0.45, 0.45, 0.45]\n",
      "[-1.45, -1.45, -1.45, -1.45, -1.45, 0.55, 0.55, 0.55, 0.55]\n",
      "[-1.35, -1.35, -1.35, -1.35, -1.35, 0.65, 0.65, 0.65, 0.65]\n",
      "[-1.25, -1.25, -1.25, -1.25, -1.25, 0.75, 0.75, 0.75, 0.75]\n",
      "[-1.15, -1.15, -1.15, -1.15, -1.15, 0.85, 0.85, 0.85, 0.85]\n",
      "[-1.05, -1.05, -1.05, -1.05, -1.05, 0.95, 0.95, 0.95, 0.95]\n",
      "[-0.95, -0.95, -0.95, -0.95, -0.95, 1.05, 1.05, 1.05, 1.05]\n",
      "[-0.8500000000000001, -0.8500000000000001, -0.8500000000000001, -0.8500000000000001, -0.8500000000000001, 1.15, 1.15, 1.15, 1.15]\n",
      "[-0.75, -0.75, -0.75, -0.75, -0.75, 1.25, 1.25, 1.25, 1.25]\n",
      "[-0.6499999999999999, -0.6499999999999999, -0.6499999999999999, -0.6499999999999999, -0.6499999999999999, 1.35, 1.35, 1.35, 1.35]\n",
      "[-0.55, -0.55, -0.55, -0.55, -0.55, 1.45, 1.45, 1.45, 1.45]\n",
      "[-0.44999999999999996, -0.44999999999999996, -0.44999999999999996, -0.44999999999999996, -0.44999999999999996, 1.55, 1.55, 1.55, 1.55]\n",
      "[-0.3500000000000001, -0.3500000000000001, -0.3500000000000001, -0.3500000000000001, -0.3500000000000001, 1.65, 1.65, 1.65, 1.65]\n",
      "[-0.25, -0.25, -0.25, -0.25, -0.25, 1.75, 1.75, 1.75, 1.75]\n",
      "[-0.1499999999999999, -0.1499999999999999, -0.1499999999999999, -0.1499999999999999, -0.1499999999999999, 1.85, 1.85, 1.85, 1.85]\n",
      "[-0.050000000000000044, -0.050000000000000044, -0.050000000000000044, -0.050000000000000044, -0.050000000000000044, 1.95, 1.95, 1.95, 1.95]\n",
      "-1.9960773083099221\n"
     ]
    }
   ],
   "source": [
    "#define hyperparams\n",
    "nq = 5\n",
    "del_t = 1.0\n",
    "P= 20\n",
    "tau = del_t * P # tau is total annealing time, divided into P steps/layers of circuit\n",
    "topology = bricklayertopology(nq; periodic=false)\n",
    "circuit = tfitrottercircuit(nq, P; topology=topology, start_with_ZZ=false) # 1st order trotter\n",
    "#println(circuit)\n",
    "nbonds = nq - 1 # if periodic nq bonds, else nq-1 (1d chain)\n",
    "total = P * (nq + nbonds)\n",
    "params  = Vector{Float64}(undef, total)\n",
    "\n",
    "hbar = 1.0\n",
    "G = -1.0\n",
    "J = 1.0\n",
    "\n",
    "idx = 1\n",
    "for m in 1:P # layers of trotterized circuit\n",
    "    #s_m = m / P\n",
    "    s_m = (m - 0.5) / P #evaluate at middle of trotter slice\n",
    "\n",
    "    gamma_m = s_m * del_t /hbar\n",
    "    #println(gamma_m)   # paper Eq. (12)\n",
    "    beta_m = (1-s_m) * del_t / hbar # paper Eq. (13a) - 1st order trotter\n",
    "    #println(beta_m)\n",
    "    theta_X = 2*beta_m * G \n",
    "    ##println(theta_X)              # angle for e^{-i theta_X X_j/2} - PauliRotation implementation in PP\n",
    "    theta_ZZ = 2*gamma_m * J              # angle for e^{-i theta_ZZ Z_j Z_{j+1}/2}\n",
    "    ##println(theta_ZZ)\n",
    "    @inbounds fill!(view(params, idx:idx+nq-1), theta_X);             idx += nq # set X angles,then shift the index\n",
    "    #println(params)\n",
    "    @inbounds fill!(view(params, idx:idx+nbonds-1), theta_ZZ);       idx += nbonds\n",
    "    #println(params)\n",
    "end\n",
    "H_ZZ = PauliSum(nq)\n",
    "for pair in topology\n",
    "    add!(H_ZZ, [:Z, :Z], collect(pair), J)\n",
    "end\n",
    "\n",
    "max_weight = 10\n",
    "min_abs_coeff = 1e-7\n",
    "obs = deepcopy(H_ZZ)\n",
    "circuit_layer = tfitrottercircuit(nq, 1; topology=topology, start_with_ZZ=false) # single layer\n",
    "println(circuit_layer)\n",
    "idx = 1\n",
    "for i in 1:P\n",
    "    params_layer = view(params, idx:idx+nq+nbonds-1)\n",
    "    println(params_layer)\n",
    "    idx += nq + nbonds\n",
    "    obs = propagate!(circuit_layer, obs, params_layer)\n",
    "    push!(energy, overlapwithplus(obs))\n",
    "end\n",
    "println(energy[end])\n"
   ]
  },
  {
   "cell_type": "markdown",
   "id": "30dc1744",
   "metadata": {},
   "source": [
    "### X drive to TFIM target"
   ]
  },
  {
   "cell_type": "code",
   "execution_count": 3,
   "id": "0979b82a",
   "metadata": {},
   "outputs": [
    {
     "data": {
      "text/plain": [
       "tfim_interpolation_circuit (generic function with 1 method)"
      ]
     },
     "metadata": {},
     "output_type": "display_data"
    }
   ],
   "source": [
    "function tfim_interpolation_circuit(nq, P; del_t= 0.1, topology=nothing, periodic = false)\n",
    "    \n",
    "    tau = del_t * P # tau is total annealing time, divided into P steps/layers of circuit\n",
    "    if topology === nothing\n",
    "        topology = bricklayertopology(nq; periodic=periodic)\n",
    "    end\n",
    "\n",
    "    circuit = tfitrottercircuit(nq, P; topology=topology, start_with_ZZ=false) # 1st order trotter\n",
    "    periodic ? nbonds = nq : nbonds = nq - 1 # if periodic nq bonds, else nq-1 (1d chain)\n",
    "    total = P * (nq + nbonds)\n",
    "    params  = Vector{Float64}(undef, total)\n",
    "    idx = 1\n",
    "    \n",
    "    for m in 1:P # layers of trotterized circuit\n",
    "        #s_m = (m - 0.5) / P\n",
    "        s_m = m/P\n",
    "        gamma_m = J* s_m * del_t /hbar\n",
    "        #println(gamma_m)   # paper Eq. (12)\n",
    "        beta_m = G*del_t*(2*s_m-1)/ hbar #(1-s_m) * del_t / hbar # paper Eq. (13a) - 1st order trotter\n",
    "        #println(beta_m)\n",
    "        theta_X = 2*beta_m\n",
    "        ##println(theta_X)              # angle for e^{-i theta_X X_j/2} - PauliRotation implementation in PP\n",
    "        theta_ZZ = 2*gamma_m              # angle for e^{-i theta_ZZ Z_j Z_{j+1}/2}, J=1\n",
    "        ##println(theta_ZZ)\n",
    "        @inbounds fill!(view(params, idx:idx+nq-1), theta_X);             idx += nq # set X angles,then shift the index\n",
    "        #println(params)\n",
    "        @inbounds fill!(view(params, idx:idx+nbonds-1), theta_ZZ);       idx += nbonds\n",
    "        #println(params)\n",
    "    end\n",
    "\n",
    "    return circuit, params\n",
    "end\n"
   ]
  },
  {
   "cell_type": "code",
   "execution_count": 4,
   "id": "e62a6989",
   "metadata": {},
   "outputs": [
    {
     "name": "stdout",
     "output_type": "stream",
     "text": [
      "-1.1830971900414429\n"
     ]
    }
   ],
   "source": [
    "nq = 4\n",
    "P= 1000 # number of steps (P =1000)\n",
    "G=1.0 # target Hamiltonian is at the phase transition, G=J\n",
    "J=1.0 \n",
    "circuit, params_full = tfim_interpolation_circuit(nq, P; del_t=0.1)\n",
    "\n",
    "H_tfim = PauliSum(nq)\n",
    "topology = bricklayertopology(nq; periodic=false)\n",
    "for qind in 1:nq\n",
    "    add!(H_tfim, :X, qind, G)\n",
    "end\n",
    "\n",
    "for pair in topology\n",
    "    add!(H_tfim, [:Z, :Z], collect(pair), J)\n",
    "end\n",
    "\n",
    "\n",
    "max_weight = 10\n",
    "min_abs_coeff = 1e-7\n",
    "propagated = propagate(circuit, H_tfim, params_full)#; max_weight, min_abs_coeff)\n",
    "println(overlapwithplus(propagated)/nq)"
   ]
  },
  {
   "cell_type": "markdown",
   "id": "0060f3ac",
   "metadata": {},
   "source": [
    "Our results:\n",
    "- nq = 3: -0.865348\n",
    "- nq = 4: -1.183190763\n",
    "- nq = 5: -1.0862003\n",
    "- nq = 6: -1.215968 (for del_t = 0.01, P=100000, no truncations)\n",
    "- nq = 7: -1.16403170 (same as above)\n",
    "- nq = 8: -1.2296721397"
   ]
  },
  {
   "cell_type": "markdown",
   "id": "724ed266",
   "metadata": {},
   "source": [
    "ED results (energy per qubit): (obc)\n",
    "- nq = 3: -1.1646530691449783 (first excited state: -0.86795849)\n",
    "- nq = 4: -1.1896926207859086 (first excited: -1.01604444)\n",
    "- nq = 5: -1.2053348366664525 (first excited: -1.09148297)\n",
    "- nq = 6: -1.21603830175979 (first exc: -1.13568051)\n",
    "- nq = 7: -1.2238246  (first excited: -1.16409405)\n",
    "- nq = 8: -1.22974393 (first excited: -1.18360975)"
   ]
  },
  {
   "cell_type": "markdown",
   "id": "95d5341c",
   "metadata": {},
   "source": [
    "### attempt 1 (of stepwise function)\n"
   ]
  },
  {
   "cell_type": "code",
   "execution_count": 12,
   "id": "9b486fc0",
   "metadata": {},
   "outputs": [
    {
     "name": "stdout",
     "output_type": "stream",
     "text": [
      "-0.7681461817696961\n"
     ]
    }
   ],
   "source": [
    "nq = 4\n",
    "nbonds = 3 # if periodic nq bonds, else nq-1 (1d chain)\n",
    "P= 1000 # number of steps\n",
    "G=1.0 # target Hamiltonian is at the phase transition, G=J\n",
    "J=1.0 \n",
    "circuit, params = tfim_interpolation_circuit(nq, P; del_t=0.1)\n",
    "H_tfim = PauliSum(nq)\n",
    "topology = bricklayertopology(nq; periodic=false)\n",
    "for qind in 1:nq\n",
    "    add!(H_tfim, :X, qind, G)\n",
    "end\n",
    "\n",
    "for pair in topology\n",
    "    add!(H_tfim, [:Z, :Z], collect(pair), J)\n",
    "end\n",
    "obs = deepcopy(H_tfim)\n",
    "idx = 1\n",
    "circuit_layer = tfitrottercircuit(nq, 1; topology=topology, start_with_ZZ=false) # single layer\n",
    "#println(circuit_layer)\n",
    "energy = []\n",
    "for _ in 1:P\n",
    "    layer_param = params[idx:idx+nbonds+nq-1]\n",
    "    #println(layer_param)\n",
    "    idx += nbonds + nq\n",
    "    psum = propagate!(circuit_layer, obs, layer_param)\n",
    "    push!(energy, overlapwithplus(psum)/nq)\n",
    "end\n",
    "println(energy[end])\n"
   ]
  },
  {
   "cell_type": "markdown",
   "id": "ed96739a",
   "metadata": {},
   "source": [
    "### attempt 2 of stepwise function"
   ]
  },
  {
   "cell_type": "code",
   "execution_count": 7,
   "id": "3ab5dcc9",
   "metadata": {},
   "outputs": [
    {
     "name": "stdout",
     "output_type": "stream",
     "text": [
      "-0.7681461817696961\n"
     ]
    }
   ],
   "source": [
    "nq = 4 # if periodic nq bonds, else nq-1 (1d chain)\n",
    "P= 1000 # number of steps\n",
    "G=1.0 # target Hamiltonian is at the phase transition, G=J\n",
    "J=1.0 \n",
    "# build the big circuit + params as you already do\n",
    "circuit, params = tfim_interpolation_circuit(nq, P; del_t=0.1)\n",
    "\n",
    "topology = bricklayertopology(nq; periodic=false)\n",
    "nbonds   = length(topology)        # <- don't hardcode 3\n",
    "layer_n  = nq + nbonds\n",
    "\n",
    "# make the observable we'll evolve\n",
    "obs = deepcopy(H_tfim)\n",
    "\n",
    "energy = Vector{Float64}(undef, P)\n",
    "i = 1\n",
    "circuit_layer = tfitrottercircuit(nq, 1; topology=topology, start_with_ZZ=false)\n",
    "\n",
    "for m in 1:P\n",
    "    layer_params = view(params, i:i+layer_n-1)\n",
    "    i += layer_n\n",
    "\n",
    "    # mutate obs in-place; ignore return value\n",
    "    propagate!(circuit_layer, obs, layer_params)\n",
    "\n",
    "    # always measure the mutated 'obs'\n",
    "    energy[m] = overlapwithplus(obs) / nq\n",
    "end\n",
    "\n",
    "println(energy[end])\n"
   ]
  },
  {
   "cell_type": "markdown",
   "id": "0e622d84",
   "metadata": {},
   "source": [
    "###  (attempt 3)"
   ]
  },
  {
   "cell_type": "code",
   "execution_count": 8,
   "id": "8750776d",
   "metadata": {},
   "outputs": [
    {
     "data": {
      "text/plain": [
       "tfim_stepwise_interpolation (generic function with 1 method)"
      ]
     },
     "metadata": {},
     "output_type": "display_data"
    }
   ],
   "source": [
    "function tfim_stepwise_interpolation(nq, P; del_t= 0.1, G=1.0, J=1.0, hbar = 1.0, topology=nothing, periodic = false)\n",
    "    \n",
    "    if topology === nothing\n",
    "        topology = bricklayertopology(nq; periodic=periodic)\n",
    "    end\n",
    "    P_layer = 1\n",
    "    circuit_layer = tfitrottercircuit(nq, P_layer; topology=topology, start_with_ZZ=false) # 1st order trotter\n",
    "    periodic ? nbonds = nq : nbonds = nq - 1 # if periodic nq bonds, else nq-1 (1d chain)\n",
    "    total = P_layer * (nq + nbonds)\n",
    "    params  = Vector{Float64}(undef, total)\n",
    "    \n",
    "    H_tfim = PauliSum(nq)\n",
    "    for qind in 1:nq\n",
    "        add!(H_tfim, :X, qind, G)\n",
    "    end\n",
    "\n",
    "    for pair in topology\n",
    "        add!(H_tfim, [:Z, :Z], collect(pair), J)\n",
    "    end\n",
    "    \n",
    "    max_weight = 10\n",
    "    min_abs_coeff = 1e-7\n",
    "    energy = []\n",
    "    prop = H_tfim\n",
    "    for m in 1:P # layers of trotterized circuit\n",
    "        idx = 1 # reset to 1 so we count only in first layer\n",
    "        #s_m = (m - 0.5) / P\n",
    "        s_m = m/P\n",
    "        gamma_m = J* s_m * del_t /hbar\n",
    "        #println(gamma_m)   # paper Eq. (12)\n",
    "        beta_m = G*del_t*(2*s_m-1)/ hbar #(1-s_m) * del_t / hbar # paper Eq. (13a) - 1st order trotter\n",
    "        #println(beta_m)\n",
    "        theta_X = 2*beta_m\n",
    "        ##println(theta_X)              # angle for e^{-i theta_X X_j/2} - PauliRotation implementation in PP\n",
    "        theta_ZZ = 2*gamma_m              # angle for e^{-i theta_ZZ Z_j Z_{j+1}/2}, J=1\n",
    "        ##println(theta_ZZ)\n",
    "        @inbounds fill!(view(params, idx:idx+nq-1), theta_X);             idx += nq # set X angles,then shift the index\n",
    "        #println(params)\n",
    "        @inbounds fill!(view(params, idx:idx+nbonds-1), theta_ZZ);       idx += nbonds\n",
    "        #println(params) \n",
    "        prop = propagate!(circuit_layer, prop, params)#; max_weight, min_abs_coeff)\n",
    "        expect = overlapwithplus(prop)/nq\n",
    "        push!(energy,expect)\n",
    "    end\n",
    "\n",
    "    return energy\n",
    "end"
   ]
  },
  {
   "cell_type": "code",
   "execution_count": 9,
   "id": "be4ea968",
   "metadata": {},
   "outputs": [
    {
     "name": "stdout",
     "output_type": "stream",
     "text": [
      "-0.7681461817696961\n"
     ]
    }
   ],
   "source": [
    "energy = tfim_stepwise_interpolation(4,1000);\n",
    "println(energy[end])"
   ]
  },
  {
   "cell_type": "code",
   "execution_count": 54,
   "id": "fdbbc081",
   "metadata": {},
   "outputs": [
    {
     "data": {
      "image/png": "[encoded data removed]",
      "image/svg+xml": [
       "<?xml version=\"1.0\" encoding=\"utf-8\"?>\n",
       "<svg xmlns=\"http://www.w3.org/2000/svg\" xmlns:xlink=\"http://www.w3.org/1999/xlink\" width=\"600\" height=\"400\" viewBox=\"0 0 2400 1600\">\n",
       "<defs>\n",
       "  <clipPath id=\"clip820\">\n",
       "    <rect x=\"0\" y=\"0\" width=\"2400\" height=\"1600\"/>\n",
       "  </clipPath>\n",
       "</defs>\n",
       "<path clip-path=\"url(#clip820)\" d=\"M0 1600 L2400 1600 L2400 0 L0 0  Z\" fill=\"#ffffff\" fill-rule=\"evenodd\" fill-opacity=\"1\"/>\n",
       "<defs>\n",
       "  <clipPath id=\"clip821\">\n",
       "    <rect x=\"480\" y=\"0\" width=\"1681\" height=\"1600\"/>\n",
       "  </clipPath>\n",
       "</defs>\n",
       "<path clip-path=\"url(#clip820)\" d=\"M193.936 1486.45 L2352.76 1486.45 L2352.76 47.2441 L193.936 47.2441  Z\" fill=\"#ffffff\" fill-rule=\"evenodd\" fill-opacity=\"1\"/>\n",
       "<defs>\n",
       "  <clipPath id=\"clip822\">\n",
       "    <rect x=\"193\" y=\"47\" width=\"2160\" height=\"1440\"/>\n",
       "  </clipPath>\n",
       "</defs>\n",
       "<polyline clip-path=\"url(#clip822)\" style=\"stroke:#000000; stroke-linecap:round; stroke-linejoin:round; stroke-width:2; stroke-opacity:0.1; fill:none\" points=\"252.996,1486.45 252.996,47.2441 \"/>\n",
       "<polyline clip-path=\"url(#clip822)\" style=\"stroke:#000000; stroke-linecap:round; stroke-linejoin:round; stroke-width:2; stroke-opacity:0.1; fill:none\" points=\"762.661,1486.45 762.661,47.2441 \"/>\n",
       "<polyline clip-path=\"url(#clip822)\" style=\"stroke:#000000; stroke-linecap:round; stroke-linejoin:round; stroke-width:2; stroke-opacity:0.1; fill:none\" points=\"1272.33,1486.45 1272.33,47.2441 \"/>\n",
       "<polyline clip-path=\"url(#clip822)\" style=\"stroke:#000000; stroke-linecap:round; stroke-linejoin:round; stroke-width:2; stroke-opacity:0.1; fill:none\" points=\"1781.99,1486.45 1781.99,47.2441 \"/>\n",
       "<polyline clip-path=\"url(#clip822)\" style=\"stroke:#000000; stroke-linecap:round; stroke-linejoin:round; stroke-width:2; stroke-opacity:0.1; fill:none\" points=\"2291.66,1486.45 2291.66,47.2441 \"/>\n",
       "<polyline clip-path=\"url(#clip822)\" style=\"stroke:#000000; stroke-linecap:round; stroke-linejoin:round; stroke-width:2; stroke-opacity:0.1; fill:none\" points=\"193.936,1413.57 2352.76,1413.57 \"/>\n",
       "<polyline clip-path=\"url(#clip822)\" style=\"stroke:#000000; stroke-linecap:round; stroke-linejoin:round; stroke-width:2; stroke-opacity:0.1; fill:none\" points=\"193.936,1099.05 2352.76,1099.05 \"/>\n",
       "<polyline clip-path=\"url(#clip822)\" style=\"stroke:#000000; stroke-linecap:round; stroke-linejoin:round; stroke-width:2; stroke-opacity:0.1; fill:none\" points=\"193.936,784.538 2352.76,784.538 \"/>\n",
       "<polyline clip-path=\"url(#clip822)\" style=\"stroke:#000000; stroke-linecap:round; stroke-linejoin:round; stroke-width:2; stroke-opacity:0.1; fill:none\" points=\"193.936,470.023 2352.76,470.023 \"/>\n",
       "<polyline clip-path=\"url(#clip822)\" style=\"stroke:#000000; stroke-linecap:round; stroke-linejoin:round; stroke-width:2; stroke-opacity:0.1; fill:none\" points=\"193.936,155.508 2352.76,155.508 \"/>\n",
       "<polyline clip-path=\"url(#clip820)\" style=\"stroke:#000000; stroke-linecap:round; stroke-linejoin:round; stroke-width:4; stroke-opacity:1; fill:none\" points=\"193.936,1486.45 2352.76,1486.45 \"/>\n",
       "<polyline clip-path=\"url(#clip820)\" style=\"stroke:#000000; stroke-linecap:round; stroke-linejoin:round; stroke-width:4; stroke-opacity:1; fill:none\" points=\"252.996,1486.45 252.996,1467.55 \"/>\n",
       "<polyline clip-path=\"url(#clip820)\" style=\"stroke:#000000; stroke-linecap:round; stroke-linejoin:round; stroke-width:4; stroke-opacity:1; fill:none\" points=\"762.661,1486.45 762.661,1467.55 \"/>\n",
       "<polyline clip-path=\"url(#clip820)\" style=\"stroke:#000000; stroke-linecap:round; stroke-linejoin:round; stroke-width:4; stroke-opacity:1; fill:none\" points=\"1272.33,1486.45 1272.33,1467.55 \"/>\n",
       "<polyline clip-path=\"url(#clip820)\" style=\"stroke:#000000; stroke-linecap:round; stroke-linejoin:round; stroke-width:4; stroke-opacity:1; fill:none\" points=\"1781.99,1486.45 1781.99,1467.55 \"/>\n",
       "<polyline clip-path=\"url(#clip820)\" style=\"stroke:#000000; stroke-linecap:round; stroke-linejoin:round; stroke-width:4; stroke-opacity:1; fill:none\" points=\"2291.66,1486.45 2291.66,1467.55 \"/>\n",
       "<path clip-path=\"url(#clip820)\" d=\"M252.996 1517.37 Q249.385 1517.37 247.556 1520.93 Q245.751 1524.47 245.751 1531.6 Q245.751 1538.71 247.556 1542.27 Q249.385 1545.82 252.996 1545.82 Q256.63 1545.82 258.436 1542.27 Q260.264 1538.71 260.264 1531.6 Q260.264 1524.47 258.436 1520.93 Q256.63 1517.37 252.996 1517.37 M252.996 1513.66 Q258.806 1513.66 261.862 1518.27 Q264.94 1522.85 264.94 1531.6 Q264.94 1540.33 261.862 1544.94 Q258.806 1549.52 252.996 1549.52 Q247.186 1549.52 244.107 1544.94 Q241.052 1540.33 241.052 1531.6 Q241.052 1522.85 244.107 1518.27 Q247.186 1513.66 252.996 1513.66 Z\" fill=\"#000000\" fill-rule=\"nonzero\" fill-opacity=\"1\" /><path clip-path=\"url(#clip820)\" d=\"M726.354 1544.91 L742.673 1544.91 L742.673 1548.85 L720.729 1548.85 L720.729 1544.91 Q723.391 1542.16 727.974 1537.53 Q732.58 1532.88 733.761 1531.53 Q736.006 1529.01 736.886 1527.27 Q737.789 1525.51 737.789 1523.82 Q737.789 1521.07 735.844 1519.33 Q733.923 1517.6 730.821 1517.6 Q728.622 1517.6 726.168 1518.36 Q723.738 1519.13 720.96 1520.68 L720.96 1515.95 Q723.784 1514.82 726.238 1514.24 Q728.692 1513.66 730.729 1513.66 Q736.099 1513.66 739.293 1516.35 Q742.488 1519.03 742.488 1523.52 Q742.488 1525.65 741.678 1527.57 Q740.891 1529.47 738.784 1532.07 Q738.205 1532.74 735.104 1535.95 Q732.002 1539.15 726.354 1544.91 Z\" fill=\"#000000\" fill-rule=\"nonzero\" fill-opacity=\"1\" /><path clip-path=\"url(#clip820)\" d=\"M752.534 1514.29 L770.89 1514.29 L770.89 1518.22 L756.816 1518.22 L756.816 1526.7 Q757.835 1526.35 758.853 1526.19 Q759.872 1526 760.89 1526 Q766.677 1526 770.057 1529.17 Q773.437 1532.34 773.437 1537.76 Q773.437 1543.34 769.965 1546.44 Q766.492 1549.52 760.173 1549.52 Q757.997 1549.52 755.728 1549.15 Q753.483 1548.78 751.076 1548.04 L751.076 1543.34 Q753.159 1544.47 755.381 1545.03 Q757.603 1545.58 760.08 1545.58 Q764.085 1545.58 766.423 1543.48 Q768.761 1541.37 768.761 1537.76 Q768.761 1534.15 766.423 1532.04 Q764.085 1529.94 760.08 1529.94 Q758.205 1529.94 756.33 1530.35 Q754.478 1530.77 752.534 1531.65 L752.534 1514.29 Z\" fill=\"#000000\" fill-rule=\"nonzero\" fill-opacity=\"1\" /><path clip-path=\"url(#clip820)\" d=\"M792.65 1517.37 Q789.038 1517.37 787.21 1520.93 Q785.404 1524.47 785.404 1531.6 Q785.404 1538.71 787.21 1542.27 Q789.038 1545.82 792.65 1545.82 Q796.284 1545.82 798.089 1542.27 Q799.918 1538.71 799.918 1531.6 Q799.918 1524.47 798.089 1520.93 Q796.284 1517.37 792.65 1517.37 M792.65 1513.66 Q798.46 1513.66 801.515 1518.27 Q804.594 1522.85 804.594 1531.6 Q804.594 1540.33 801.515 1544.94 Q798.46 1549.52 792.65 1549.52 Q786.839 1549.52 783.761 1544.94 Q780.705 1540.33 780.705 1531.6 Q780.705 1522.85 783.761 1518.27 Q786.839 1513.66 792.65 1513.66 Z\" fill=\"#000000\" fill-rule=\"nonzero\" fill-opacity=\"1\" /><path clip-path=\"url(#clip820)\" d=\"M1231.94 1514.29 L1250.3 1514.29 L1250.3 1518.22 L1236.23 1518.22 L1236.23 1526.7 Q1237.25 1526.35 1238.26 1526.19 Q1239.28 1526 1240.3 1526 Q1246.09 1526 1249.47 1529.17 Q1252.85 1532.34 1252.85 1537.76 Q1252.85 1543.34 1249.38 1546.44 Q1245.9 1549.52 1239.58 1549.52 Q1237.41 1549.52 1235.14 1549.15 Q1232.89 1548.78 1230.49 1548.04 L1230.49 1543.34 Q1232.57 1544.47 1234.79 1545.03 Q1237.01 1545.58 1239.49 1545.58 Q1243.5 1545.58 1245.83 1543.48 Q1248.17 1541.37 1248.17 1537.76 Q1248.17 1534.15 1245.83 1532.04 Q1243.5 1529.94 1239.49 1529.94 Q1237.62 1529.94 1235.74 1530.35 Q1233.89 1530.77 1231.94 1531.65 L1231.94 1514.29 Z\" fill=\"#000000\" fill-rule=\"nonzero\" fill-opacity=\"1\" /><path clip-path=\"url(#clip820)\" d=\"M1272.06 1517.37 Q1268.45 1517.37 1266.62 1520.93 Q1264.82 1524.47 1264.82 1531.6 Q1264.82 1538.71 1266.62 1542.27 Q1268.45 1545.82 1272.06 1545.82 Q1275.69 1545.82 1277.5 1542.27 Q1279.33 1538.71 1279.33 1531.6 Q1279.33 1524.47 1277.5 1520.93 Q1275.69 1517.37 1272.06 1517.37 M1272.06 1513.66 Q1277.87 1513.66 1280.93 1518.27 Q1284 1522.85 1284 1531.6 Q1284 1540.33 1280.93 1544.94 Q1277.87 1549.52 1272.06 1549.52 Q1266.25 1549.52 1263.17 1544.94 Q1260.12 1540.33 1260.12 1531.6 Q1260.12 1522.85 1263.17 1518.27 Q1266.25 1513.66 1272.06 1513.66 Z\" fill=\"#000000\" fill-rule=\"nonzero\" fill-opacity=\"1\" /><path clip-path=\"url(#clip820)\" d=\"M1302.22 1517.37 Q1298.61 1517.37 1296.78 1520.93 Q1294.98 1524.47 1294.98 1531.6 Q1294.98 1538.71 1296.78 1542.27 Q1298.61 1545.82 1302.22 1545.82 Q1305.86 1545.82 1307.66 1542.27 Q1309.49 1538.71 1309.49 1531.6 Q1309.49 1524.47 1307.66 1520.93 Q1305.86 1517.37 1302.22 1517.37 M1302.22 1513.66 Q1308.03 1513.66 1311.09 1518.27 Q1314.17 1522.85 1314.17 1531.6 Q1314.17 1540.33 1311.09 1544.94 Q1308.03 1549.52 1302.22 1549.52 Q1296.41 1549.52 1293.33 1544.94 Q1290.28 1540.33 1290.28 1531.6 Q1290.28 1522.85 1293.33 1518.27 Q1296.41 1513.66 1302.22 1513.66 Z\" fill=\"#000000\" fill-rule=\"nonzero\" fill-opacity=\"1\" /><path clip-path=\"url(#clip820)\" d=\"M1740.27 1514.29 L1762.49 1514.29 L1762.49 1516.28 L1749.94 1548.85 L1745.06 1548.85 L1756.86 1518.22 L1740.27 1518.22 L1740.27 1514.29 Z\" fill=\"#000000\" fill-rule=\"nonzero\" fill-opacity=\"1\" /><path clip-path=\"url(#clip820)\" d=\"M1771.66 1514.29 L1790.01 1514.29 L1790.01 1518.22 L1775.94 1518.22 L1775.94 1526.7 Q1776.96 1526.35 1777.98 1526.19 Q1778.99 1526 1780.01 1526 Q1785.8 1526 1789.18 1529.17 Q1792.56 1532.34 1792.56 1537.76 Q1792.56 1543.34 1789.09 1546.44 Q1785.61 1549.52 1779.3 1549.52 Q1777.12 1549.52 1774.85 1549.15 Q1772.61 1548.78 1770.2 1548.04 L1770.2 1543.34 Q1772.28 1544.47 1774.5 1545.03 Q1776.73 1545.58 1779.2 1545.58 Q1783.21 1545.58 1785.55 1543.48 Q1787.88 1541.37 1787.88 1537.76 Q1787.88 1534.15 1785.55 1532.04 Q1783.21 1529.94 1779.2 1529.94 Q1777.33 1529.94 1775.45 1530.35 Q1773.6 1530.77 1771.66 1531.65 L1771.66 1514.29 Z\" fill=\"#000000\" fill-rule=\"nonzero\" fill-opacity=\"1\" /><path clip-path=\"url(#clip820)\" d=\"M1811.77 1517.37 Q1808.16 1517.37 1806.33 1520.93 Q1804.53 1524.47 1804.53 1531.6 Q1804.53 1538.71 1806.33 1542.27 Q1808.16 1545.82 1811.77 1545.82 Q1815.41 1545.82 1817.21 1542.27 Q1819.04 1538.71 1819.04 1531.6 Q1819.04 1524.47 1817.21 1520.93 Q1815.41 1517.37 1811.77 1517.37 M1811.77 1513.66 Q1817.58 1513.66 1820.64 1518.27 Q1823.72 1522.85 1823.72 1531.6 Q1823.72 1540.33 1820.64 1544.94 Q1817.58 1549.52 1811.77 1549.52 Q1805.96 1549.52 1802.88 1544.94 Q1799.83 1540.33 1799.83 1531.6 Q1799.83 1522.85 1802.88 1518.27 Q1805.96 1513.66 1811.77 1513.66 Z\" fill=\"#000000\" fill-rule=\"nonzero\" fill-opacity=\"1\" /><path clip-path=\"url(#clip820)\" d=\"M2236.18 1544.91 L2243.82 1544.91 L2243.82 1518.55 L2235.51 1520.21 L2235.51 1515.95 L2243.78 1514.29 L2248.45 1514.29 L2248.45 1544.91 L2256.09 1544.91 L2256.09 1548.85 L2236.18 1548.85 L2236.18 1544.91 Z\" fill=\"#000000\" fill-rule=\"nonzero\" fill-opacity=\"1\" /><path clip-path=\"url(#clip820)\" d=\"M2275.53 1517.37 Q2271.92 1517.37 2270.09 1520.93 Q2268.29 1524.47 2268.29 1531.6 Q2268.29 1538.71 2270.09 1542.27 Q2271.92 1545.82 2275.53 1545.82 Q2279.17 1545.82 2280.97 1542.27 Q2282.8 1538.71 2282.8 1531.6 Q2282.8 1524.47 2280.97 1520.93 Q2279.17 1517.37 2275.53 1517.37 M2275.53 1513.66 Q2281.34 1513.66 2284.4 1518.27 Q2287.48 1522.85 2287.48 1531.6 Q2287.48 1540.33 2284.4 1544.94 Q2281.34 1549.52 2275.53 1549.52 Q2269.72 1549.52 2266.65 1544.94 Q2263.59 1540.33 2263.59 1531.6 Q2263.59 1522.85 2266.65 1518.27 Q2269.72 1513.66 2275.53 1513.66 Z\" fill=\"#000000\" fill-rule=\"nonzero\" fill-opacity=\"1\" /><path clip-path=\"url(#clip820)\" d=\"M2305.7 1517.37 Q2302.09 1517.37 2300.26 1520.93 Q2298.45 1524.47 2298.45 1531.6 Q2298.45 1538.71 2300.26 1542.27 Q2302.09 1545.82 2305.7 1545.82 Q2309.33 1545.82 2311.14 1542.27 Q2312.96 1538.71 2312.96 1531.6 Q2312.96 1524.47 2311.14 1520.93 Q2309.33 1517.37 2305.7 1517.37 M2305.7 1513.66 Q2311.51 1513.66 2314.56 1518.27 Q2317.64 1522.85 2317.64 1531.6 Q2317.64 1540.33 2314.56 1544.94 Q2311.51 1549.52 2305.7 1549.52 Q2299.89 1549.52 2296.81 1544.94 Q2293.75 1540.33 2293.75 1531.6 Q2293.75 1522.85 2296.81 1518.27 Q2299.89 1513.66 2305.7 1513.66 Z\" fill=\"#000000\" fill-rule=\"nonzero\" fill-opacity=\"1\" /><path clip-path=\"url(#clip820)\" d=\"M2335.86 1517.37 Q2332.25 1517.37 2330.42 1520.93 Q2328.61 1524.47 2328.61 1531.6 Q2328.61 1538.71 2330.42 1542.27 Q2332.25 1545.82 2335.86 1545.82 Q2339.49 1545.82 2341.3 1542.27 Q2343.13 1538.71 2343.13 1531.6 Q2343.13 1524.47 2341.3 1520.93 Q2339.49 1517.37 2335.86 1517.37 M2335.86 1513.66 Q2341.67 1513.66 2344.72 1518.27 Q2347.8 1522.85 2347.8 1531.6 Q2347.8 1540.33 2344.72 1544.94 Q2341.67 1549.52 2335.86 1549.52 Q2330.05 1549.52 2326.97 1544.94 Q2323.91 1540.33 2323.91 1531.6 Q2323.91 1522.85 2326.97 1518.27 Q2330.05 1513.66 2335.86 1513.66 Z\" fill=\"#000000\" fill-rule=\"nonzero\" fill-opacity=\"1\" /><polyline clip-path=\"url(#clip820)\" style=\"stroke:#000000; stroke-linecap:round; stroke-linejoin:round; stroke-width:4; stroke-opacity:1; fill:none\" points=\"193.936,1486.45 193.936,47.2441 \"/>\n",
       "<polyline clip-path=\"url(#clip820)\" style=\"stroke:#000000; stroke-linecap:round; stroke-linejoin:round; stroke-width:4; stroke-opacity:1; fill:none\" points=\"193.936,1413.57 212.834,1413.57 \"/>\n",
       "<polyline clip-path=\"url(#clip820)\" style=\"stroke:#000000; stroke-linecap:round; stroke-linejoin:round; stroke-width:4; stroke-opacity:1; fill:none\" points=\"193.936,1099.05 212.834,1099.05 \"/>\n",
       "<polyline clip-path=\"url(#clip820)\" style=\"stroke:#000000; stroke-linecap:round; stroke-linejoin:round; stroke-width:4; stroke-opacity:1; fill:none\" points=\"193.936,784.538 212.834,784.538 \"/>\n",
       "<polyline clip-path=\"url(#clip820)\" style=\"stroke:#000000; stroke-linecap:round; stroke-linejoin:round; stroke-width:4; stroke-opacity:1; fill:none\" points=\"193.936,470.023 212.834,470.023 \"/>\n",
       "<polyline clip-path=\"url(#clip820)\" style=\"stroke:#000000; stroke-linecap:round; stroke-linejoin:round; stroke-width:4; stroke-opacity:1; fill:none\" points=\"193.936,155.508 212.834,155.508 \"/>\n",
       "<path clip-path=\"url(#clip820)\" d=\"M50.9921 1414.02 L80.6679 1414.02 L80.6679 1417.96 L50.9921 1417.96 L50.9921 1414.02 Z\" fill=\"#000000\" fill-rule=\"nonzero\" fill-opacity=\"1\" /><path clip-path=\"url(#clip820)\" d=\"M91.5706 1426.91 L99.2095 1426.91 L99.2095 1400.55 L90.8993 1402.22 L90.8993 1397.96 L99.1632 1396.29 L103.839 1396.29 L103.839 1426.91 L111.478 1426.91 L111.478 1430.85 L91.5706 1430.85 L91.5706 1426.91 Z\" fill=\"#000000\" fill-rule=\"nonzero\" fill-opacity=\"1\" /><path clip-path=\"url(#clip820)\" d=\"M120.922 1424.97 L125.807 1424.97 L125.807 1430.85 L120.922 1430.85 L120.922 1424.97 Z\" fill=\"#000000\" fill-rule=\"nonzero\" fill-opacity=\"1\" /><path clip-path=\"url(#clip820)\" d=\"M145.992 1399.37 Q142.381 1399.37 140.552 1402.93 Q138.746 1406.47 138.746 1413.6 Q138.746 1420.71 140.552 1424.28 Q142.381 1427.82 145.992 1427.82 Q149.626 1427.82 151.431 1424.28 Q153.26 1420.71 153.26 1413.6 Q153.26 1406.47 151.431 1402.93 Q149.626 1399.37 145.992 1399.37 M145.992 1395.66 Q151.802 1395.66 154.857 1400.27 Q157.936 1404.85 157.936 1413.6 Q157.936 1422.33 154.857 1426.94 Q151.802 1431.52 145.992 1431.52 Q140.181 1431.52 137.103 1426.94 Q134.047 1422.33 134.047 1413.6 Q134.047 1404.85 137.103 1400.27 Q140.181 1395.66 145.992 1395.66 Z\" fill=\"#000000\" fill-rule=\"nonzero\" fill-opacity=\"1\" /><path clip-path=\"url(#clip820)\" d=\"M51.9875 1099.51 L81.6633 1099.51 L81.6633 1103.44 L51.9875 1103.44 L51.9875 1099.51 Z\" fill=\"#000000\" fill-rule=\"nonzero\" fill-opacity=\"1\" /><path clip-path=\"url(#clip820)\" d=\"M101.756 1084.85 Q98.1447 1084.85 96.316 1088.42 Q94.5104 1091.96 94.5104 1099.09 Q94.5104 1106.19 96.316 1109.76 Q98.1447 1113.3 101.756 1113.3 Q105.39 1113.3 107.196 1109.76 Q109.024 1106.19 109.024 1099.09 Q109.024 1091.96 107.196 1088.42 Q105.39 1084.85 101.756 1084.85 M101.756 1081.15 Q107.566 1081.15 110.621 1085.76 Q113.7 1090.34 113.7 1099.09 Q113.7 1107.82 110.621 1112.42 Q107.566 1117.01 101.756 1117.01 Q95.9456 1117.01 92.8669 1112.42 Q89.8114 1107.82 89.8114 1099.09 Q89.8114 1090.34 92.8669 1085.76 Q95.9456 1081.15 101.756 1081.15 Z\" fill=\"#000000\" fill-rule=\"nonzero\" fill-opacity=\"1\" /><path clip-path=\"url(#clip820)\" d=\"M121.918 1110.45 L126.802 1110.45 L126.802 1116.33 L121.918 1116.33 L121.918 1110.45 Z\" fill=\"#000000\" fill-rule=\"nonzero\" fill-opacity=\"1\" /><path clip-path=\"url(#clip820)\" d=\"M137.033 1081.77 L155.39 1081.77 L155.39 1085.71 L141.316 1085.71 L141.316 1094.18 Q142.334 1093.83 143.353 1093.67 Q144.371 1093.49 145.39 1093.49 Q151.177 1093.49 154.556 1096.66 Q157.936 1099.83 157.936 1105.25 Q157.936 1110.82 154.464 1113.93 Q150.992 1117.01 144.672 1117.01 Q142.496 1117.01 140.228 1116.63 Q137.982 1116.26 135.575 1115.52 L135.575 1110.82 Q137.658 1111.96 139.881 1112.51 Q142.103 1113.07 144.58 1113.07 Q148.584 1113.07 150.922 1110.96 Q153.26 1108.86 153.26 1105.25 Q153.26 1101.63 150.922 1099.53 Q148.584 1097.42 144.58 1097.42 Q142.705 1097.42 140.83 1097.84 Q138.978 1098.26 137.033 1099.13 L137.033 1081.77 Z\" fill=\"#000000\" fill-rule=\"nonzero\" fill-opacity=\"1\" /><path clip-path=\"url(#clip820)\" d=\"M100.76 770.337 Q97.1493 770.337 95.3206 773.902 Q93.515 777.444 93.515 784.573 Q93.515 791.68 95.3206 795.244 Q97.1493 798.786 100.76 798.786 Q104.395 798.786 106.2 795.244 Q108.029 791.68 108.029 784.573 Q108.029 777.444 106.2 773.902 Q104.395 770.337 100.76 770.337 M100.76 766.633 Q106.571 766.633 109.626 771.24 Q112.705 775.823 112.705 784.573 Q112.705 793.3 109.626 797.906 Q106.571 802.49 100.76 802.49 Q94.9502 802.49 91.8715 797.906 Q88.816 793.3 88.816 784.573 Q88.816 775.823 91.8715 771.24 Q94.9502 766.633 100.76 766.633 Z\" fill=\"#000000\" fill-rule=\"nonzero\" fill-opacity=\"1\" /><path clip-path=\"url(#clip820)\" d=\"M120.922 795.939 L125.807 795.939 L125.807 801.818 L120.922 801.818 L120.922 795.939 Z\" fill=\"#000000\" fill-rule=\"nonzero\" fill-opacity=\"1\" /><path clip-path=\"url(#clip820)\" d=\"M145.992 770.337 Q142.381 770.337 140.552 773.902 Q138.746 777.444 138.746 784.573 Q138.746 791.68 140.552 795.244 Q142.381 798.786 145.992 798.786 Q149.626 798.786 151.431 795.244 Q153.26 791.68 153.26 784.573 Q153.26 777.444 151.431 773.902 Q149.626 770.337 145.992 770.337 M145.992 766.633 Q151.802 766.633 154.857 771.24 Q157.936 775.823 157.936 784.573 Q157.936 793.3 154.857 797.906 Q151.802 802.49 145.992 802.49 Q140.181 802.49 137.103 797.906 Q134.047 793.3 134.047 784.573 Q134.047 775.823 137.103 771.24 Q140.181 766.633 145.992 766.633 Z\" fill=\"#000000\" fill-rule=\"nonzero\" fill-opacity=\"1\" /><path clip-path=\"url(#clip820)\" d=\"M101.756 455.822 Q98.1447 455.822 96.316 459.386 Q94.5104 462.928 94.5104 470.058 Q94.5104 477.164 96.316 480.729 Q98.1447 484.271 101.756 484.271 Q105.39 484.271 107.196 480.729 Q109.024 477.164 109.024 470.058 Q109.024 462.928 107.196 459.386 Q105.39 455.822 101.756 455.822 M101.756 452.118 Q107.566 452.118 110.621 456.724 Q113.7 461.308 113.7 470.058 Q113.7 478.785 110.621 483.391 Q107.566 487.974 101.756 487.974 Q95.9456 487.974 92.8669 483.391 Q89.8114 478.785 89.8114 470.058 Q89.8114 461.308 92.8669 456.724 Q95.9456 452.118 101.756 452.118 Z\" fill=\"#000000\" fill-rule=\"nonzero\" fill-opacity=\"1\" /><path clip-path=\"url(#clip820)\" d=\"M121.918 481.423 L126.802 481.423 L126.802 487.303 L121.918 487.303 L121.918 481.423 Z\" fill=\"#000000\" fill-rule=\"nonzero\" fill-opacity=\"1\" /><path clip-path=\"url(#clip820)\" d=\"M137.033 452.743 L155.39 452.743 L155.39 456.678 L141.316 456.678 L141.316 465.15 Q142.334 464.803 143.353 464.641 Q144.371 464.456 145.39 464.456 Q151.177 464.456 154.556 467.627 Q157.936 470.798 157.936 476.215 Q157.936 481.794 154.464 484.896 Q150.992 487.974 144.672 487.974 Q142.496 487.974 140.228 487.604 Q137.982 487.234 135.575 486.493 L135.575 481.794 Q137.658 482.928 139.881 483.484 Q142.103 484.039 144.58 484.039 Q148.584 484.039 150.922 481.933 Q153.26 479.826 153.26 476.215 Q153.26 472.604 150.922 470.498 Q148.584 468.391 144.58 468.391 Q142.705 468.391 140.83 468.808 Q138.978 469.224 137.033 470.104 L137.033 452.743 Z\" fill=\"#000000\" fill-rule=\"nonzero\" fill-opacity=\"1\" /><path clip-path=\"url(#clip820)\" d=\"M91.5706 168.852 L99.2095 168.852 L99.2095 142.487 L90.8993 144.154 L90.8993 139.894 L99.1632 138.228 L103.839 138.228 L103.839 168.852 L111.478 168.852 L111.478 172.788 L91.5706 172.788 L91.5706 168.852 Z\" fill=\"#000000\" fill-rule=\"nonzero\" fill-opacity=\"1\" /><path clip-path=\"url(#clip820)\" d=\"M120.922 166.908 L125.807 166.908 L125.807 172.788 L120.922 172.788 L120.922 166.908 Z\" fill=\"#000000\" fill-rule=\"nonzero\" fill-opacity=\"1\" /><path clip-path=\"url(#clip820)\" d=\"M145.992 141.306 Q142.381 141.306 140.552 144.871 Q138.746 148.413 138.746 155.542 Q138.746 162.649 140.552 166.214 Q142.381 169.755 145.992 169.755 Q149.626 169.755 151.431 166.214 Q153.26 162.649 153.26 155.542 Q153.26 148.413 151.431 144.871 Q149.626 141.306 145.992 141.306 M145.992 137.603 Q151.802 137.603 154.857 142.209 Q157.936 146.792 157.936 155.542 Q157.936 164.269 154.857 168.876 Q151.802 173.459 145.992 173.459 Q140.181 173.459 137.103 168.876 Q134.047 164.269 134.047 155.542 Q134.047 146.792 137.103 142.209 Q140.181 137.603 145.992 137.603 Z\" fill=\"#000000\" fill-rule=\"nonzero\" fill-opacity=\"1\" /><polyline clip-path=\"url(#clip822)\" style=\"stroke:#009af9; stroke-linecap:round; stroke-linejoin:round; stroke-width:4; stroke-opacity:1; fill:none\" points=\"255.035,155.508 257.073,155.581 259.112,155.784 261.151,156.136 263.189,156.61 265.228,157.13 267.267,157.587 269.305,157.86 271.344,157.839 273.383,157.456 275.421,156.705 277.46,155.651 279.499,154.427 281.537,153.219 283.576,152.238 285.615,151.68 287.653,151.694 289.692,152.348 291.731,153.612 293.769,155.351 295.808,157.338 297.847,159.287 299.885,160.894 301.924,161.88 303.963,162.043 306.001,161.294 308.04,159.676 310.079,157.368 312.117,154.664 314.156,151.939 316.195,149.592 318.233,147.991 320.272,147.416 322.31,148.011 324.349,149.76 326.388,152.479 328.426,155.837 330.465,159.394 332.504,162.664 334.542,165.179 336.581,166.555 338.62,166.553 340.658,165.113 342.697,162.372 344.736,158.648 346.774,154.407 348.813,150.201 350.852,146.596 352.89,144.096 354.929,143.073 356.968,143.717 359.006,146.003 361.045,149.689 363.084,154.344 365.122,159.399 367.161,164.22 369.2,168.185 371.238,170.769 373.277,171.608 375.316,170.554 377.354,167.693 379.393,163.339 381.432,158 383.47,152.317 385.509,146.982 387.548,142.66 389.586,139.899 391.625,139.069 393.664,140.308 395.702,143.509 397.741,148.326 399.78,154.216 401.818,160.503 403.857,166.457 405.896,171.38 407.934,174.688 409.973,175.983 412.012,175.096 414.05,172.11 416.089,167.352 418.128,161.349 420.166,154.776 422.205,148.373 424.244,142.86 426.282,138.861 428.321,136.829 430.36,136.997 432.398,139.356 434.437,143.654 436.476,149.427 438.514,156.055 440.553,162.826 442.592,169.02 444.63,173.983 446.669,177.202 448.707,178.353 450.746,177.336 452.785,174.281 454.823,169.533 456.862,163.606 458.901,157.13 460.939,150.781 462.978,145.209 465.017,140.971 467.055,138.476 469.094,137.946 471.133,139.398 473.171,142.648 475.21,147.336 477.249,152.971 479.287,158.978 481.326,164.768 483.365,169.79 485.403,173.591 487.442,175.854 489.481,176.423 491.519,175.317 493.558,172.715 495.597,168.935 497.635,164.391 499.674,159.554 501.713,154.896 503.751,150.848 505.79,147.759 507.829,145.865 509.867,145.274 511.906,145.963 513.945,147.79 515.983,150.512 518.022,153.821 520.061,157.377 522.099,160.84 524.138,163.911 526.177,166.353 528.215,168.011 530.254,168.82 532.293,168.808 534.331,168.076 536.37,166.792 538.409,165.156 540.447,163.384 542.486,161.68 544.525,160.217 546.563,159.117 548.602,158.449 550.641,158.221 552.679,158.389 554.718,158.866 556.757,159.535 558.795,160.272 560.834,160.954 562.873,161.484 564.911,161.794 566.95,161.854 568.989,161.676 571.027,161.31 573.066,160.831 575.104,160.336 577.143,159.922 579.182,159.682 581.22,159.688 583.259,159.984 585.298,160.58 587.336,161.452 589.375,162.547 591.414,163.787 593.452,165.079 595.491,166.329 597.53,167.449 599.568,168.367 601.607,169.038 603.646,169.442 605.684,169.591 607.723,169.519 609.762,169.279 611.8,168.935 613.839,168.547 615.878,168.168 617.916,167.831 619.955,167.542 621.994,167.285 624.032,167.016 626.071,166.672 628.11,166.182 630.148,165.475 632.187,164.497 634.226,163.22 636.264,161.656 638.303,159.865 640.342,157.956 642.38,156.083 644.419,154.444 646.458,153.26 648.496,152.762 650.535,153.166 652.574,154.653 654.612,157.343 656.651,161.281 658.69,166.413 660.728,172.586 662.767,179.543 664.806,186.932 666.844,194.319 668.883,201.222 670.922,207.129 672.96,211.546 674.999,214.028 677.038,214.215 679.076,211.872 681.115,206.909 683.154,199.403 685.192,189.606 687.231,177.936 689.27,164.966 691.308,151.395 693.347,138.005 695.385,125.623 697.424,115.064 699.463,107.08 701.501,102.312 703.54,101.24 705.579,104.15 707.617,111.105 709.656,121.938 711.695,136.246 713.733,153.413 715.772,172.639 717.811,192.981 719.849,213.403 721.888,232.841 723.927,250.258 725.965,264.71 728.004,275.395 730.043,281.707 732.081,283.269 734.12,279.957 736.159,271.908 738.197,259.515 740.236,243.401 742.275,224.388 744.313,203.447 746.352,181.649 748.391,160.097 750.429,139.874 752.468,121.977 754.507,107.266 756.545,96.4241 758.584,89.9167 760.623,87.9763 762.661,90.5943 764.7,97.528 766.739,108.321 768.777,122.335 770.816,138.789 772.855,156.811 774.893,175.483 776.932,193.9 778.971,211.211 781.009,226.67 783.048,239.671 785.087,249.769 787.125,256.705 789.164,260.405 791.203,260.976 793.241,258.691 795.28,253.961 797.319,247.309 799.357,239.328 801.396,230.647 803.435,221.89 805.473,213.641 807.512,206.411 809.551,200.615 811.589,196.55 813.628,194.388 815.667,194.173 817.705,195.824 819.744,199.152 821.782,203.873 823.821,209.637 825.86,216.048 827.898,222.696 829.937,229.176 831.976,235.12 834.014,240.208 836.053,244.192 838.092,246.897 840.13,248.234 842.169,248.193 844.208,246.839 846.246,244.299 848.285,240.754 850.324,236.416 852.362,231.514 854.401,226.28 856.44,220.929 858.478,215.652 860.517,210.602 862.556,205.891 864.594,201.589 866.633,197.726 868.672,194.297 870.71,191.275 872.749,188.618 874.788,186.284 876.826,184.241 878.865,182.483 880.904,181.037 882.942,179.968 884.981,179.386 887.02,179.445 889.058,180.336 891.097,182.282 893.136,185.523 895.174,190.303 897.213,196.855 899.252,205.378 901.29,216.024 903.329,228.877 905.368,243.942 907.406,261.132 909.445,280.261 911.484,301.044 913.522,323.094 915.561,345.938 917.6,369.025 919.638,391.746 921.677,413.456 923.716,433.497 925.754,451.23 927.793,466.058 929.832,477.456 931.87,484.992 933.909,488.354 935.948,487.365 937.986,481.995 940.025,472.367 942.064,458.758 944.102,441.592 946.141,421.427 948.179,398.936 950.218,374.883 952.257,350.095 954.295,325.432 956.334,301.752 958.373,279.882 960.411,260.58 962.45,244.513 964.489,232.224 966.527,224.119 968.566,220.444 970.605,221.282 972.643,226.549 974.682,235.997 976.721,249.227 978.759,265.707 980.798,284.791 982.837,305.747 984.875,327.787 986.914,350.099 988.953,371.876 990.991,392.352 993.03,410.828 995.069,426.698 997.107,439.472 999.146,448.796 1001.18,454.457 1003.22,456.393 1005.26,454.693 1007.3,449.588 1009.34,441.442 1011.38,430.733 1013.42,418.035 1015.46,403.992 1017.49,389.295 1019.53,374.65 1021.57,360.758 1023.61,348.284 1025.65,337.836 1027.69,329.945 1029.73,325.046 1031.76,323.469 1033.8,325.427 1035.84,331.016 1037.88,340.215 1039.92,352.891 1041.96,368.812 1044,387.655 1046.04,409.029 1048.07,432.484 1050.11,457.539 1052.15,483.693 1054.19,510.451 1056.23,537.335 1058.27,563.903 1060.31,589.761 1062.34,614.572 1064.38,638.065 1066.42,660.037 1068.46,680.35 1070.5,698.935 1072.54,715.782 1074.58,730.932 1076.62,744.468 1078.65,756.505 1080.69,767.18 1082.73,776.635 1084.77,785.014 1086.81,792.447 1088.85,799.046 1090.89,804.898 1092.92,810.062 1094.96,814.565 1097,818.406 1099.04,821.56 1101.08,823.98 1103.12,825.606 1105.16,826.372 1107.2,826.216 1109.23,825.089 1111.27,822.961 1113.31,819.831 1115.35,815.734 1117.39,810.745 1119.43,804.977 1121.47,798.59 1123.5,791.778 1125.54,784.775 1127.58,777.838 1129.62,771.245 1131.66,765.279 1133.7,760.22 1135.74,756.33 1137.77,753.84 1139.81,752.938 1141.85,753.757 1143.89,756.369 1145.93,760.77 1147.97,766.884 1150.01,774.556 1152.05,783.556 1154.08,793.584 1156.12,804.275 1158.16,815.216 1160.2,825.956 1162.24,836.025 1164.28,844.951 1166.32,852.28 1168.35,857.594 1170.39,860.533 1172.43,860.81 1174.47,858.227 1176.51,852.69 1178.55,844.215 1180.59,832.937 1182.63,819.106 1184.66,803.09 1186.7,785.358 1188.74,766.476 1190.78,747.086 1192.82,727.883 1194.86,709.596 1196.9,692.961 1198.93,678.692 1200.97,667.456 1203.01,659.844 1205.05,656.351 1207.09,657.348 1209.13,663.071 1211.17,673.6 1213.21,688.858 1215.24,708.606 1217.28,732.443 1219.32,759.822 1221.36,790.062 1223.4,822.37 1225.44,855.865 1227.48,889.613 1229.51,922.651 1231.55,954.032 1233.59,982.851 1235.63,1008.28 1237.67,1029.61 1239.71,1046.26 1241.75,1057.83 1243.79,1064.06 1245.82,1064.93 1247.86,1060.59 1249.9,1051.37 1251.94,1037.79 1253.98,1020.54 1256.02,1000.43 1258.06,978.388 1260.09,955.393 1262.13,932.463 1264.17,910.604 1266.21,890.765 1268.25,873.807 1270.29,860.456 1272.33,851.281 1274.37,846.664 1276.4,846.781 1278.44,851.598 1280.48,860.863 1282.52,874.121 1284.56,890.73 1286.6,909.885 1288.64,930.653 1290.67,952.017 1292.71,972.912 1294.75,992.283 1296.79,1009.12 1298.83,1022.53 1300.87,1031.73 1302.91,1036.15 1304.95,1035.42 1306.98,1029.39 1309.02,1018.17 1311.06,1002.1 1313.1,981.758 1315.14,957.941 1317.18,931.611 1319.22,903.876 1321.25,875.931 1323.29,849.008 1325.33,824.321 1327.37,803.008 1329.41,786.079 1331.45,774.365 1333.49,768.48 1335.53,768.789 1337.56,775.387 1339.6,788.095 1341.64,806.46 1343.68,829.78 1345.72,857.135 1347.76,887.425 1349.8,919.426 1351.83,951.844 1353.87,983.384 1355.91,1012.8 1357.95,1038.98 1359.99,1060.95 1362.03,1077.99 1364.07,1089.61 1366.11,1095.58 1368.14,1095.98 1370.18,1091.14 1372.22,1081.63 1374.26,1068.24 1376.3,1051.95 1378.34,1033.81 1380.38,1014.95 1382.41,996.455 1384.45,979.358 1386.49,964.547 1388.53,952.731 1390.57,944.402 1392.61,939.811 1394.65,938.965 1396.68,941.628 1398.72,947.353 1400.76,955.513 1402.8,965.353 1404.84,976.044 1406.88,986.744 1408.92,996.661 1410.96,1005.1 1412.99,1011.54 1415.03,1015.61 1417.07,1017.18 1419.11,1016.34 1421.15,1013.37 1423.19,1008.73 1425.23,1003.04 1427.26,996.999 1429.3,991.325 1431.34,986.718 1433.38,983.779 1435.42,982.964 1437.46,984.542 1439.5,988.567 1441.54,994.866 1443.57,1003.06 1445.61,1012.56 1447.65,1022.67 1449.69,1032.59 1451.73,1041.51 1453.77,1048.68 1455.81,1053.48 1457.84,1055.5 1459.88,1054.53 1461.92,1050.68 1463.96,1044.28 1466,1035.97 1468.04,1026.58 1470.08,1017.07 1472.12,1008.5 1474.15,1001.9 1476.19,998.174 1478.23,998.007 1480.27,1001.8 1482.31,1009.6 1484.35,1021.09 1486.39,1035.54 1488.42,1051.91 1490.46,1068.87 1492.5,1084.93 1494.54,1098.54 1496.58,1108.24 1498.62,1112.79 1500.66,1111.31 1502.7,1103.37 1504.73,1089.1 1506.77,1069.17 1508.81,1044.83 1510.85,1017.81 1512.89,990.219 1514.93,964.411 1516.97,942.775 1519,927.551 1521.04,920.63 1523.08,923.37 1525.12,936.452 1527.16,959.776 1529.2,992.43 1531.24,1032.71 1533.28,1078.24 1535.31,1126.08 1537.35,1173.02 1539.39,1215.76 1541.43,1251.21 1543.47,1276.74 1545.51,1290.41 1547.55,1291.17 1549.58,1278.93 1551.62,1254.64 1553.66,1220.18 1555.7,1178.25 1557.74,1132.16 1559.78,1085.52 1561.82,1041.97 1563.86,1004.86 1565.89,976.944 1567.93,960.162 1569.97,955.463 1572.01,962.736 1574.05,980.826 1576.09,1007.66 1578.13,1040.44 1580.16,1075.96 1582.2,1110.84 1584.24,1141.93 1586.28,1166.57 1588.32,1182.85 1590.36,1189.75 1592.4,1187.27 1594.44,1176.33 1596.47,1158.7 1598.51,1136.75 1600.55,1113.18 1602.59,1090.72 1604.63,1071.85 1606.67,1058.5 1608.71,1051.86 1610.74,1052.31 1612.78,1059.38 1614.82,1071.86 1616.86,1088 1618.9,1105.72 1620.94,1122.91 1622.98,1137.72 1625.02,1148.78 1627.05,1155.37 1629.09,1157.49 1631.13,1155.83 1633.17,1151.67 1635.21,1146.65 1637.25,1142.48 1639.29,1140.72 1641.32,1142.47 1643.36,1148.21 1645.4,1157.66 1647.44,1169.81 1649.48,1183.05 1651.52,1195.36 1653.56,1204.64 1655.59,1209.02 1657.63,1207.21 1659.67,1198.7 1661.71,1183.99 1663.75,1164.56 1665.79,1142.76 1667.83,1121.55 1669.87,1104.14 1671.9,1093.51 1673.94,1092.02 1675.98,1100.98 1678.02,1120.38 1680.06,1148.81 1682.1,1183.48 1684.14,1220.55 1686.17,1255.52 1688.21,1283.78 1690.25,1301.26 1692.29,1304.93 1694.33,1293.32 1696.37,1266.76 1698.41,1227.45 1700.45,1179.26 1702.48,1127.34 1704.52,1077.47 1706.56,1035.41 1708.6,1006.1 1710.64,993.09 1712.68,998.034 1714.72,1020.47 1716.75,1057.86 1718.79,1105.92 1720.83,1159.18 1722.87,1211.69 1724.91,1257.77 1726.95,1292.8 1728.99,1313.7 1731.03,1319.34 1733.06,1310.6 1735.1,1290.1 1737.14,1261.77 1739.18,1230.24 1741.22,1200.07 1743.26,1175.14 1745.3,1158.1 1747.33,1150.09 1749.37,1150.7 1751.41,1158.2 1753.45,1169.96 1755.49,1183.05 1757.53,1194.8 1759.57,1203.34 1761.61,1207.9 1763.64,1208.89 1765.68,1207.79 1767.72,1206.68 1769.76,1207.8 1771.8,1212.9 1773.84,1222.8 1775.88,1237.03 1777.91,1253.8 1779.95,1270.25 1781.99,1282.89 1784.03,1288.31 1786.07,1283.86 1788.11,1268.34 1790.15,1242.37 1792.19,1208.54 1794.22,1171.13 1796.26,1135.53 1798.3,1107.38 1800.34,1091.6 1802.38,1091.47 1804.42,1107.96 1806.46,1139.4 1808.49,1181.62 1810.53,1228.51 1812.57,1273 1814.61,1308.2 1816.65,1328.61 1818.69,1331.07 1820.73,1315.39 1822.77,1284.44 1824.8,1243.71 1826.84,1200.41 1828.88,1162.19 1830.92,1135.85 1832.96,1126.15 1835,1134.92 1837.04,1160.78 1839.07,1199.44 1841.11,1244.42 1843.15,1288.3 1845.19,1324.03 1847.23,1346.21 1849.27,1351.97 1851.31,1341.43 1853.35,1317.51 1855.38,1285.25 1857.42,1250.73 1859.46,1219.85 1861.5,1197.18 1863.54,1185.19 1865.58,1183.96 1867.62,1191.34 1869.65,1203.73 1871.69,1217 1873.73,1227.62 1875.77,1233.43 1877.81,1234.16 1879.85,1231.4 1881.89,1228 1883.92,1227.22 1885.96,1231.7 1888,1242.53 1890.04,1258.73 1892.08,1277.29 1894.12,1293.71 1896.16,1303.07 1898.2,1301.3 1900.23,1286.37 1902.27,1259.14 1904.31,1223.56 1906.35,1186.14 1908.39,1154.75 1910.43,1137.04 1912.47,1138.64 1914.5,1161.82 1916.54,1204.59 1918.58,1260.89 1920.62,1321.49 1922.66,1375.74 1924.7,1413.69 1926.74,1428.13 1928.78,1416.14 1930.81,1379.76 1932.85,1325.65 1934.89,1263.76 1936.93,1205.26 1938.97,1160.33 1941.01,1136.05 1943.05,1135.13 1945.08,1155.52 1947.12,1191.13 1949.16,1233.4 1951.2,1273.31 1953.24,1303.4 1955.28,1319.29 1957.32,1320.36 1959.36,1309.44 1961.39,1291.71 1963.43,1273.07 1965.47,1258.44 1967.51,1250.49 1969.55,1249.16 1971.59,1252.02 1973.63,1255.29 1975.66,1255.41 1977.7,1250.42 1979.74,1240.84 1981.78,1229.82 1983.82,1222.23 1985.86,1223.26 1987.9,1236.58 1989.94,1262.87 1991.97,1299.02 1994.01,1338.47 1996.05,1372.56 1998.09,1392.58 2000.13,1392.23 2002.17,1369.47 2004.21,1327.51 2006.24,1274.42 2008.28,1221.43 2010.32,1180.29 2012.36,1160.36 2014.4,1166.19 2016.44,1196.17 2018.48,1242.87 2020.52,1294.77 2022.55,1339.13 2024.59,1365.23 2026.63,1367.09 2028.67,1344.92 2030.71,1305.03 2032.75,1258.03 2034.79,1216.01 2036.82,1189.35 2038.86,1184.03 2040.9,1200.32 2042.94,1233.01 2044.98,1273.12 2047.02,1310.61 2049.06,1337.23 2051.1,1348.62 2053.13,1345.21 2055.17,1331.51 2057.21,1314.25 2059.25,1299.95 2061.29,1292.71 2063.33,1292.99 2065.37,1297.7 2067.4,1301.72 2069.44,1300.03 2071.48,1289.96 2073.52,1272.57 2075.56,1252.68 2077.6,1237.41 2079.64,1233.72 2081.68,1245.71 2083.71,1272.66 2085.75,1308.53 2087.79,1343.29 2089.83,1365.75 2091.87,1367.08 2093.91,1343.93 2095.95,1300.1 2097.98,1246.04 2100.02,1196.24 2102.06,1165.24 2104.1,1163.29 2106.14,1193.12 2108.18,1248.8 2110.22,1317.17 2112.26,1381.4 2114.29,1425.71 2116.33,1439.79 2118.37,1421.58 2120.41,1377.61 2122.45,1320.76 2124.49,1266.25 2126.53,1227.18 2128.56,1210.88 2130.6,1217.46 2132.64,1240.56 2134.68,1270.22 2136.72,1296.59 2138.76,1313.16 2140.8,1318.46 2142.83,1315.69 2144.87,1310.57 2146.91,1308.3 2148.95,1311.04 2150.99,1316.78 2153.03,1320.26 2155.07,1315.53 2157.11,1299.06 2159.14,1272.24 2161.18,1241.92 2163.22,1218.71 2165.26,1213.43 2167.3,1232.8 2169.34,1276.23 2171.38,1334.83 2173.41,1393.38 2175.45,1434.82 2177.49,1445.72 2179.53,1421.06 2181.57,1366.37 2183.61,1296.48 2185.65,1231.02 2187.69,1188.33 2189.72,1179.55 2191.76,1205.17 2193.8,1255.12 2195.84,1312.4 2197.88,1358.89 2199.92,1381.39 2201.96,1375.67 2203.99,1347.15 2206.03,1308.25 2208.07,1273.34 2210.11,1253.48 2212.15,1252.76 2214.19,1267.71 2216.23,1289.63 2218.27,1308.91 2220.3,1319.23 2222.34,1320.03 2224.38,1316.14 2226.42,1314.83 2228.46,1321.7 2230.5,1337.32 2232.54,1356.25 2234.57,1368.99 2236.61,1366.26 2238.65,1343.67 2240.69,1304.72 2242.73,1260.66 2244.77,1226.75 2246.81,1216.48 2248.85,1235.8 2250.88,1279.96 2252.92,1334.48 2254.96,1380 2257,1399.58 2259.04,1385.33 2261.08,1341.81 2263.12,1284.76 2265.15,1235.38 2267.19,1212.32 2269.23,1224.65 2271.27,1268.4 2273.31,1328.17 2275.35,1383.16 2277.39,1415.1 2279.43,1414.93 2281.46,1385.61 2283.5,1340.11 2285.54,1295.53 2287.58,1266.08 2289.62,1257.9 2291.66,1267.73 \"/>\n",
       "<path clip-path=\"url(#clip820)\" d=\"M2012.48 198.898 L2280.8 198.898 L2280.8 95.2176 L2012.48 95.2176  Z\" fill=\"#ffffff\" fill-rule=\"evenodd\" fill-opacity=\"1\"/>\n",
       "<polyline clip-path=\"url(#clip820)\" style=\"stroke:#000000; stroke-linecap:round; stroke-linejoin:round; stroke-width:4; stroke-opacity:1; fill:none\" points=\"2012.48,198.898 2280.8,198.898 2280.8,95.2176 2012.48,95.2176 2012.48,198.898 \"/>\n",
       "<polyline clip-path=\"url(#clip820)\" style=\"stroke:#009af9; stroke-linecap:round; stroke-linejoin:round; stroke-width:4; stroke-opacity:1; fill:none\" points=\"2036.47,147.058 2180.39,147.058 \"/>\n",
       "<path clip-path=\"url(#clip820)\" d=\"M2218.22 166.745 Q2216.42 171.375 2214.7 172.787 Q2212.99 174.199 2210.12 174.199 L2206.72 174.199 L2206.72 170.634 L2209.22 170.634 Q2210.98 170.634 2211.95 169.8 Q2212.92 168.967 2214.1 165.865 L2214.86 163.921 L2204.38 138.412 L2208.89 138.412 L2216.99 158.689 L2225.1 138.412 L2229.61 138.412 L2218.22 166.745 Z\" fill=\"#000000\" fill-rule=\"nonzero\" fill-opacity=\"1\" /><path clip-path=\"url(#clip820)\" d=\"M2236.9 160.402 L2244.54 160.402 L2244.54 134.037 L2236.23 135.703 L2236.23 131.444 L2244.49 129.778 L2249.17 129.778 L2249.17 160.402 L2256.81 160.402 L2256.81 164.338 L2236.9 164.338 L2236.9 160.402 Z\" fill=\"#000000\" fill-rule=\"nonzero\" fill-opacity=\"1\" /></svg>\n"
      ],
      "text/html": [
       "<img src=\"data:image/png;base64,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\" />"
      ]
     },
     "metadata": {},
     "output_type": "display_data"
    }
   ],
   "source": [
    "plot(energy)"
   ]
  },
  {
   "cell_type": "code",
   "execution_count": 11,
   "id": "862e5686",
   "metadata": {},
   "outputs": [
    {
     "name": "stdout",
     "output_type": "stream",
     "text": [
      "-1.2790673350546895\n"
     ]
    }
   ],
   "source": [
    "# test the function for periodic boundary conditions\n",
    "nq = 6\n",
    "P= 10000\n",
    "circuit, params = tfim_interpolation_circuit(nq, P; del_t=0.1, periodic=true)\n",
    "\n",
    "\n",
    "H_tfim = PauliSum(nq)\n",
    "topology = bricklayertopology(nq; periodic=true)\n",
    "for qind in 1:nq\n",
    "    add!(H_tfim, :X, qind, G)\n",
    "end\n",
    "\n",
    "for pair in topology\n",
    "    add!(H_tfim, [:Z, :Z], collect(pair), J)\n",
    "end\n",
    "\n",
    "\n",
    "max_weight = 10\n",
    "min_abs_coeff = 1e-7\n",
    "propagated = propagate(circuit, H_tfim, params)#; max_weight, min_abs_coeff)\n",
    "println(overlapwithplus(propagated)/nq)"
   ]
  },
  {
   "cell_type": "markdown",
   "id": "767b3130",
   "metadata": {},
   "source": [
    "ED for pbc TFIM:\n",
    "- nq = 3: -1.15470054 -0.66666667 (gs and 1st excited state)\n",
    "- nq = 4: -1.30656296 -1.20710678\n",
    "- nq = 5: -1.23107341 -1.0472136 \n",
    "- nq = 6: -1.2879011  -1.24401694"
   ]
  },
  {
   "cell_type": "markdown",
   "id": "3f4aa9c6",
   "metadata": {},
   "source": [
    "Observation: for even number of spins, by increasing P (and decreasing dt), we reach the ground state up to 10 qubits. \n",
    "But for odd number of spins, we always converge to the first excited state instead. This is because the TFIM preserves Z2 symmetry, and through the adiabatic evolution we are stuck in the same symmetry sector."
   ]
  },
  {
   "cell_type": "markdown",
   "id": "aad174fc",
   "metadata": {},
   "source": [
    "### Néel overlap (this works but only for odd spin number)"
   ]
  },
  {
   "cell_type": "code",
   "execution_count": 6,
   "id": "3d8009d6",
   "metadata": {},
   "outputs": [
    {
     "data": {
      "text/plain": [
       "overlapwithneel (generic function with 1 method)"
      ]
     },
     "metadata": {},
     "output_type": "display_data"
    }
   ],
   "source": [
    "function overlapwithneel(operator, nq::Int; \n",
    "                           up_on_odd::Bool=true, \n",
    "                           params=nothing)\n",
    "                           \n",
    "    # Create Néel state bit representation: indices of \"1\" bits\n",
    "    nb = neel_bits(nq; up_on_odd=up_on_odd)\n",
    "    \n",
    "    # Compute overlap with computational basis state\n",
    "    return overlapwithcomputational(operator, nb)\n",
    "end"
   ]
  },
  {
   "cell_type": "code",
   "execution_count": 7,
   "id": "8f55e329",
   "metadata": {},
   "outputs": [
    {
     "data": {
      "text/plain": [
       "neel_bits (generic function with 1 method)"
      ]
     },
     "metadata": {},
     "output_type": "display_data"
    }
   ],
   "source": [
    "function neel_bits(nq::Int; up_on_odd::Bool=true)\n",
    "    if up_on_odd\n",
    "        # |0101...> → \"1\" on even sites\n",
    "        return collect(2:2:nq)\n",
    "    else\n",
    "        # |1010...> → \"1\" on odd sites\n",
    "        return collect(1:2:nq)\n",
    "    end\n",
    "end"
   ]
  },
  {
   "cell_type": "code",
   "execution_count": 8,
   "id": "935e5be7",
   "metadata": {},
   "outputs": [
    {
     "data": {
      "text/plain": [
       "heisenberg_interpolation_circuit (generic function with 1 method)"
      ]
     },
     "metadata": {},
     "output_type": "display_data"
    }
   ],
   "source": [
    "function heisenberg_interpolation_circuit(nq, P; del_t= 0.1, J=1.0, hbar=1.0, topology=nothing, periodic = false) \n",
    "    tau = del_t * P # tau is total annealing time, divided into P steps/layers of circuit\n",
    "    if topology === nothing\n",
    "        topology = bricklayertopology(nq; periodic=periodic)\n",
    "    end\n",
    "    circuit = heisenbergtrottercircuit(nq, P;topology=topology)\n",
    "    periodic ? nbonds = nq : nbonds = nq - 1 # if periodic nq bonds, else nq-1 (1d chain)\n",
    "    total = P * (3*nbonds)\n",
    "    params  = Vector{Float64}(undef, total)\n",
    "    idx = 1\n",
    "\n",
    "    for m in 1:P # layers of trotterized circuit\n",
    "        s_m = (m - 0.5) / P\n",
    "        beta   = J * del_t / hbar    # ZZ coefficient\n",
    "        gamma  =  J * s_m * del_t / hbar     # XX/YY coefficient\n",
    "        θZZ = 2*beta\n",
    "        θXX = 2*gamma\n",
    "        θYY = 2*gamma\n",
    "    \n",
    "        @inbounds fill!(view(params, idx:idx+nbonds-1), θXX);             idx += nbonds\n",
    "        #println(params)\n",
    "        @inbounds fill!(view(params, idx:idx+nbonds-1), θYY);             idx += nbonds\n",
    "        #println(params)\n",
    "        @inbounds fill!(view(params, idx:idx+nbonds-1), θZZ);             idx += nbonds\n",
    "        #println(params)\n",
    "    end\n",
    "\n",
    "    \n",
    "    return circuit, params\n",
    "end\n"
   ]
  },
  {
   "cell_type": "code",
   "execution_count": 9,
   "id": "83085e2b",
   "metadata": {},
   "outputs": [
    {
     "name": "stdout",
     "output_type": "stream",
     "text": [
      "E_final = -1.5307141637686306\n"
     ]
    }
   ],
   "source": [
    "# test the function \n",
    "nq = 5\n",
    "P= 10000\n",
    "J=1.0 \n",
    "circuit, params = heisenberg_interpolation_circuit(nq, P; del_t=0.1)\n",
    "topology = bricklayertopology(nq; periodic=false)\n",
    "H_heis = PauliSum(nq)\n",
    "for (i,j) in topology\n",
    "    add!(H_heis, [:X,:X], [i,j], J)\n",
    "    add!(H_heis, [:Y,:Y], [i,j], J)\n",
    "    add!(H_heis, [:Z,:Z], [i,j], J)\n",
    "end\n",
    "max_weight = 10\n",
    "min_abs_coeff = 1e-7\n",
    "propH = propagate(circuit, H_heis, params; max_weight, min_abs_coeff)\n",
    "\n",
    "# Heisenberg-picture readout: ⟨+| U† H_heis U |+⟩\n",
    "println(\"E_final = \", overlapwithneel(propH, nq)/nq)"
   ]
  },
  {
   "cell_type": "markdown",
   "id": "ee544cae",
   "metadata": {},
   "source": [
    "Our results:(obc)\n",
    "- nq=3: -1.327942\n",
    "- nq=4: -1.27759\n",
    "- nq=5: -1.53071\n",
    "- nq=6: -1.4857734\n",
    "- nq=7: -1.6064"
   ]
  },
  {
   "cell_type": "markdown",
   "id": "f39f7846",
   "metadata": {},
   "source": [
    "### ED results Heisenberg: (obc)\n",
    "- nq = 3: -1.33333333 -1.33333333 0 0 (gs, 1st excited, 2nd excited, ..)\n",
    "- nq = 4: -1.6160254  -0.95710678\n",
    "- nq = 5: -1.542309   -1.542309   -0.96568542 -0.96568542\n",
    "- nq = 6: -1.66238476 -1.33466357 -1.33466357 -1.33466357\n",
    "- nq = 7: -1.62070839 -1.62070839 -1.3022311  -1.3022311"
   ]
  },
  {
   "cell_type": "markdown",
   "id": "4b179bf0",
   "metadata": {},
   "source": [
    "This works for odd number of spins (but takes ages). For even nq we are stuck somewhere in between gs and 1st excited state."
   ]
  },
  {
   "cell_type": "markdown",
   "id": "55bbdc29",
   "metadata": {},
   "source": [
    "## Breaking the SU(2) symmetry"
   ]
  },
  {
   "cell_type": "markdown",
   "id": "80598446",
   "metadata": {},
   "source": [
    "### X drive to Heisenberg Hamiltonian\n",
    "- Watch out: Heisenberg Hamiltonian commutes with the driver (X) that we used above --> i.e the Hamiltonian is conserved by the interpolating unitary\n",
    "- If we want to keep the plus state as the departure state for the interpolating Hamiltonian, we need to break the SU(2) symmetry of the Heisenberg Hamiltonian\n",
    "- One way to do this is to adjust the coeffs of the driver to all be positive but slightly different\n",
    "- Another approach is taking the overlap with the Neelstate. This should lead to similar results as the TFIM. Since the ZZ driver and Hamiltonian partially commute, we should stay in the symmetry sector of the Néel state."
   ]
  },
  {
   "cell_type": "code",
   "execution_count": 10,
   "id": "36b2a29c",
   "metadata": {},
   "outputs": [
    {
     "name": "stdout",
     "output_type": "stream",
     "text": [
      "Total params = 900000\n",
      "E_final = -1.2754788653236941\n"
     ]
    }
   ],
   "source": [
    "using PauliPropagation\n",
    "\n",
    "# --- hyperparams ---\n",
    "nq  = 3\n",
    "topology = bricklayertopology(nq; periodic=false)\n",
    "nbonds = nq - 1\n",
    "\n",
    "del_t = 0.1\n",
    "P= 100000\n",
    "tau = del_t * P\n",
    "\n",
    "hbar = 1.0\n",
    "G = 1.0\n",
    "J = 1.0\n",
    "g = [1,1.6,0.4] # break SU(2) symmetry of Heisenberg model\n",
    "# --- circuit: [X]*nq → [XX]*nbonds → [YY]*nbonds → [ZZ]*nbonds per layer ---\n",
    "function dqa_heisenbergtrottercircuit(nqubits::Int, nlayers::Int; topology)\n",
    "    circuit = Gate[]\n",
    "    for _ in 1:nlayers\n",
    "        for q in 1:nqubits\n",
    "            push!(circuit, PauliRotation(:X, q))\n",
    "        end\n",
    "        rxxlayer!(circuit, topology)\n",
    "        ryylayer!(circuit, topology)\n",
    "        rzzlayer!(circuit, topology)\n",
    "    end\n",
    "    return circuit\n",
    "end\n",
    "\n",
    "circuit = dqa_heisenbergtrottercircuit(nq, P; topology)\n",
    "\n",
    "# --- params packed as [X | XX | YY | ZZ] for each layer ---\n",
    "total  = P*(nq + 3*nbonds)\n",
    "params = Vector{Float64}(undef, total)\n",
    "println(\"Total params = \", total)\n",
    "idx = 1\n",
    "for m in 1:P\n",
    "    s_m = (m - 0.5) / P\n",
    "    beta   = -g .*[(1- s_m) * del_t / hbar]     # X coefficient\n",
    "    gamma  =  J * s_m       * del_t / hbar     # XX/YY/ZZ coefficient\n",
    "\n",
    "    θX  = 2 .*beta\n",
    "    θXX = 2*gamma\n",
    "    θYY = 2*gamma\n",
    "    θZZ = 2*gamma\n",
    "    #println(\"done\")\n",
    "    #@inbounds fill!(view(params, idx:idx+nq-1), θX);                  idx += nq\n",
    "    for i in 1:nq\n",
    "        @inbounds fill!(view(params, idx-1+i), θX[i]) # to avoid broadcasting\n",
    "    end\n",
    "    #println(params)\n",
    "    idx += nq\n",
    "    @inbounds fill!(view(params, idx:idx+nbonds-1), θXX);             idx += nbonds\n",
    "    #println(params)\n",
    "    @inbounds fill!(view(params, idx:idx+nbonds-1), θYY);             idx += nbonds\n",
    "    #println(params)\n",
    "    @inbounds fill!(view(params, idx:idx+nbonds-1), θZZ);             idx += nbonds\n",
    "    #println(params)\n",
    "end\n",
    "\n",
    "# --- final observable: Heisenberg only (no X term) ---\n",
    "H_heis = PauliSum(nq)\n",
    "for (i,j) in topology\n",
    "    add!(H_heis, [:X,:X], [i,j], J)\n",
    "    add!(H_heis, [:Y,:Y], [i,j], J)\n",
    "    add!(H_heis, [:Z,:Z], [i,j], J)\n",
    "end\n",
    "max_weight = 5\n",
    "min_abs_coeff = 1e-7\n",
    "propH = propagate(circuit, H_heis, params; max_weight, min_abs_coeff)\n",
    "\n",
    "# Heisenberg-picture readout: ⟨+| U† H_heis U |+⟩\n",
    "println(\"E_final = \", overlapwithplus(propH)/nq)\n"
   ]
  }
 ],
 "metadata": {
  "kernelspec": {
   "display_name": "Julia 1.11.5",
   "language": "julia",
   "name": "julia-1.11"
  },
  "language_info": {
   "file_extension": ".jl",
   "mimetype": "application/julia",
   "name": "julia",
   "version": "1.11.5"
  }
 },
 "nbformat": 4,
 "nbformat_minor": 5
}
