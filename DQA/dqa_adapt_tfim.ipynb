{
 "cells": [
  {
   "cell_type": "code",
   "execution_count": 1,
   "id": "4e8620f4",
   "metadata": {},
   "outputs": [],
   "source": [
    "using PauliPropagation\n",
    "using Plots\n",
    "using ReverseDiff\n",
    "using ReverseDiff: GradientTape, gradient!, compile, gradient\n",
    "using Bits\n",
    "using Random\n",
    "using Distributions: Uniform\n",
    "using NLopt"
   ]
  },
  {
   "cell_type": "markdown",
   "id": "062461d7",
   "metadata": {},
   "source": [
    "### GS of TFIM using Pauli Propagation\n",
    "- idea: initialise using DQA\n",
    "- then: do a few loops of adaptVQE for the final steps\n",
    "- problem: if we prepropagate, adapt-VQEs position sandwiches around U^\\dagger H U, so its like adaptVQE acts on plus first, then on the U from the interpolating Hamiltonian "
   ]
  },
  {
   "cell_type": "markdown",
   "id": "82245694",
   "metadata": {},
   "source": [
    "### AdaptVQE (full operator pool approach)"
   ]
  },
  {
   "cell_type": "code",
   "execution_count": 2,
   "id": "ec839933",
   "metadata": {},
   "outputs": [
    {
     "data": {
      "text/plain": [
       "tfim_1d_obc (generic function with 1 method)"
      ]
     },
     "metadata": {},
     "output_type": "display_data"
    }
   ],
   "source": [
    "function tfim_1d_obc(nq::Int;topology = nothing, gamma = 1.0)\n",
    "\n",
    "    if isnothing(topology)\n",
    "        topology = bricklayertopology(nq;periodic=false) #chain with obc\n",
    "    end\n",
    "\n",
    "    H = PauliSum(nq)\n",
    "    for qind in 1:nq\n",
    "        add!(H, :X, qind, gamma)\n",
    "    end\n",
    "    for pair in topology\n",
    "        add!(H, [:Z, :Z], collect(pair), 1.0)\n",
    "    end\n",
    "    return H\n",
    "end"
   ]
  },
  {
   "cell_type": "code",
   "execution_count": 3,
   "id": "932a74e1",
   "metadata": {},
   "outputs": [
    {
     "data": {
      "text/plain": [
       "neel_bits (generic function with 1 method)"
      ]
     },
     "metadata": {},
     "output_type": "display_data"
    }
   ],
   "source": [
    "function neel_bits(nq::Int; up_on_odd::Bool=true)\n",
    "    if up_on_odd\n",
    "        # |0101...> → \"1\" on even sites\n",
    "        return collect(2:2:nq)\n",
    "    else\n",
    "        # |1010...> → \"1\" on odd sites\n",
    "        return collect(1:2:nq)\n",
    "    end\n",
    "end"
   ]
  },
  {
   "cell_type": "code",
   "execution_count": 4,
   "id": "20d3be16",
   "metadata": {},
   "outputs": [
    {
     "data": {
      "text/plain": [
       "overlapwithneel (generic function with 1 method)"
      ]
     },
     "metadata": {},
     "output_type": "display_data"
    }
   ],
   "source": [
    "function overlapwithneel(operator, nq::Int; \n",
    "                           up_on_odd::Bool=true, \n",
    "                           params=nothing)\n",
    "                           \n",
    "    # Create Néel state bit representation: indices of \"1\" bits\n",
    "    nb = neel_bits(nq; up_on_odd=up_on_odd)\n",
    "    \n",
    "    # Compute overlap with computational basis state\n",
    "    return overlapwithcomputational(operator, nb)\n",
    "end"
   ]
  },
  {
   "cell_type": "code",
   "execution_count": 5,
   "id": "22590bf4",
   "metadata": {},
   "outputs": [
    {
     "data": {
      "text/plain": [
       "generate_full_bit_pool (generic function with 1 method)"
      ]
     },
     "metadata": {},
     "output_type": "display_data"
    }
   ],
   "source": [
    "function generate_full_bit_pool(nq::Int)\n",
    "    # Choose appropriate UInt type based on number of qubits (same as PP does)\n",
    "    # Work with bit representations directly (easier to manipulate)\n",
    "    UIntType = if nq <= 4\n",
    "        UInt8\n",
    "    elseif nq <= 8\n",
    "        UInt16\n",
    "    elseif nq <= 16\n",
    "        UInt32\n",
    "    else\n",
    "        UInt64\n",
    "    end\n",
    "    \n",
    "    # Here, we generate all non-identity bit patterns (therefore -1), which gives the full operator pool.\n",
    "    pool = UIntType[]\n",
    "    for i in 1:(4^nq - 1)\n",
    "        push!(pool, UIntType(i))\n",
    "    end\n",
    "    \n",
    "    return pool\n",
    "end"
   ]
  },
  {
   "cell_type": "code",
   "execution_count": 6,
   "id": "125bee81",
   "metadata": {},
   "outputs": [
    {
     "data": {
      "text/plain": [
       "bit_to_paulistring (generic function with 1 method)"
      ]
     },
     "metadata": {},
     "output_type": "display_data"
    }
   ],
   "source": [
    "# Function to convert bit representation to PauliString when needed\n",
    "function bit_to_paulistring(bit_repr, nq)\n",
    "    paulis = Symbol[]\n",
    "    sites = Int[]\n",
    "    \n",
    "    for qubit in 1:nq #going from right to left in bitstring\n",
    "        pauli_val = getpauli(bit_repr, qubit) # get pauli of qubit as 0,1,2,3\n",
    "        #println(\"Qubit $qubit: Pauli value = $pauli_val\")\n",
    "        if pauli_val != 0  # Skip identity (0) since Paulis are initialised as identity by default\n",
    "            pauli_symbol = [:I, :X, :Y, :Z][pauli_val + 1] # julia indexing starts at 1!\n",
    "            push!(paulis, pauli_symbol)\n",
    "            push!(sites, qubit)\n",
    "        end\n",
    "    end\n",
    "    \n",
    "    return PauliString(nq, paulis, sites, 1.0), paulis, sites\n",
    "end"
   ]
  },
  {
   "cell_type": "code",
   "execution_count": 7,
   "id": "a60faa87",
   "metadata": {},
   "outputs": [
    {
     "data": {
      "text/plain": [
       "calc_gradients"
      ]
     },
     "metadata": {},
     "output_type": "display_data"
    }
   ],
   "source": [
    "\"\"\"\n",
    "    calc_gradients(bit_pool, H, nq;\n",
    "                   circuit=nothing, params=nothing,\n",
    "                   tol=1e-12, verbose=false, up_on_odd=true)\n",
    "\n",
    "ADAPT-VQE gradients with in-place propagation:\n",
    "g_P = ⟨φ₀ | [U† H U, U† P U] i | φ₀⟩, where |φ₀⟩ is the Néel state\n",
    "selected by `up_on_odd`.\n",
    "\"\"\"\n",
    "function calc_gradients(bit_pool, H, nq;\n",
    "                        circuit::Union{Nothing,Any}=nothing,\n",
    "                        params::Union{Nothing,AbstractVector}=nothing,\n",
    "                        tol::Float64=1e-12,\n",
    "                        verbose::Bool=false,\n",
    "                        up_on_odd::Bool=true)\n",
    "\n",
    "    grads = Float64[]\n",
    "\n",
    "    # Pre-propagate H once: H_prop = U† H U (only if a circuit is provided)\n",
    "    H_prop = H\n",
    "    if circuit !== nothing\n",
    "        H_prop = deepcopy(H)                 # avoid mutating H\n",
    "        propagate!(circuit, H_prop, params)  # in-place propagation\n",
    "    end\n",
    "\n",
    "    # For each pool element, pre-propagate P (to P_prop) and form [H_prop, P_prop]\n",
    "    for (k, bit_repr) in enumerate(bit_pool)\n",
    "        P= bit_to_paulistring(bit_repr, nq)[1]\n",
    "        psum = PauliSum(nq)\n",
    "        P = add!(psum, P) # PP works with PauliSums (see datatypes example notebook)\n",
    "\n",
    "        P_prop = P\n",
    "        if circuit !== nothing\n",
    "            P_prop = deepcopy(P)                 # avoid mutating the pool op\n",
    "            propagate!(circuit, P_prop, params)  # in-place propagation\n",
    "        end\n",
    "        \n",
    "        C = commutator(H_prop, P_prop) \n",
    "        if !(iterate(C) !== nothing)           # if the commutator is empty \n",
    "            verbose && println(\"op[$k]: \", P, \"  commutator=0  → grad=0.0\")\n",
    "            push!(grads, 0.0)\n",
    "            continue\n",
    "        end\n",
    "        g = overlapwithneel(im * C, nq; up_on_odd=up_on_odd)\n",
    "        if abs(imag(g)) > tol\n",
    "            @warn \"Gradient has non-negligible imaginary part\" imag=imag(g) op=P\n",
    "        end\n",
    "\n",
    "        push!(grads, real(g))\n",
    "        verbose && println(\"op[$k]: \", P, \"  grad=\", real(g))\n",
    "    end\n",
    "\n",
    "    return grads\n",
    "end"
   ]
  },
  {
   "cell_type": "code",
   "execution_count": 8,
   "id": "9163e97c",
   "metadata": {},
   "outputs": [
    {
     "data": {
      "text/plain": [
       "pick_top_operator (generic function with 1 method)"
      ]
     },
     "metadata": {},
     "output_type": "display_data"
    }
   ],
   "source": [
    "function pick_top_operator(gradients::AbstractVector, operators::AbstractVector; rng=Random.GLOBAL_RNG)\n",
    "    length(gradients) == length(operators) || throw(ArgumentError(\"gradients and operators must have same length\"))\n",
    "    isempty(gradients) && throw(ArgumentError(\"gradients must not be empty\"))\n",
    "    \n",
    "    mags = abs.(gradients)\n",
    "    order = sortperm(mags, rev=true)  # indices sorted by |grad| descending (following the nature paper implementation)\n",
    "    gradients_sorted = gradients[order]\n",
    "    operators_sorted = operators[order]\n",
    "\n",
    "    max_mag = mags[order[1]]\n",
    "    tied_top = filter(i -> mags[i] == max_mag, order)\n",
    "\n",
    "    chosen_idx = rand(rng, tied_top)\n",
    "\n",
    "    return operators[chosen_idx], gradients[chosen_idx], gradients_sorted, operators_sorted\n",
    "end"
   ]
  },
  {
   "cell_type": "code",
   "execution_count": 9,
   "id": "c90863d7",
   "metadata": {},
   "outputs": [
    {
     "data": {
      "text/plain": [
       "check_convergence (generic function with 1 method)"
      ]
     },
     "metadata": {},
     "output_type": "display_data"
    }
   ],
   "source": [
    "function check_convergence(gradients; tol=1e-4)\n",
    "    max_grad = maximum(abs.(gradients))\n",
    "    return max_grad < tol, max_grad\n",
    "end"
   ]
  },
  {
   "cell_type": "code",
   "execution_count": 10,
   "id": "68dcb76e",
   "metadata": {},
   "outputs": [
    {
     "data": {
      "text/plain": [
       "pauli_rotation_from_bits (generic function with 1 method)"
      ]
     },
     "metadata": {},
     "output_type": "display_data"
    }
   ],
   "source": [
    "function pauli_rotation_from_bits(bit_repr, nq)\n",
    "    _, paulis, sites = bit_to_paulistring(bit_repr, nq) \n",
    "    return PauliRotation(paulis, sites)\n",
    "end"
   ]
  },
  {
   "cell_type": "code",
   "execution_count": 11,
   "id": "081b2540",
   "metadata": {},
   "outputs": [
    {
     "data": {
      "text/plain": [
       "append_from_bits! (generic function with 1 method)"
      ]
     },
     "metadata": {},
     "output_type": "display_data"
    }
   ],
   "source": [
    "function append_from_bits!(circuit, thetas, chose_op, nq; theta_init=rand())\n",
    "    gate = pauli_rotation_from_bits(chose_op, nq)\n",
    "    pushfirst!(circuit, gate)\n",
    "    pushfirst!(thetas, theta_init)\n",
    "    return circuit, thetas    # index of the new parameter\n",
    "end"
   ]
  },
  {
   "cell_type": "markdown",
   "id": "15cf6350",
   "metadata": {},
   "source": [
    "### Add the DQA initial state here:"
   ]
  },
  {
   "cell_type": "code",
   "execution_count": 12,
   "id": "9ada66ba",
   "metadata": {},
   "outputs": [],
   "source": []
  },
  {
   "cell_type": "code",
   "execution_count": 13,
   "id": "7466a271",
   "metadata": {},
   "outputs": [
    {
     "data": {
      "text/plain": [
       "fulllossfunction (generic function with 1 method)"
      ]
     },
     "metadata": {},
     "output_type": "display_data"
    }
   ],
   "source": [
    "function fulllossfunction(thetas, circuit, nq;gamma=1.0,topology = nothing, max_freq = Inf, max_weight = Inf)\n",
    "\n",
    "    if isnothing(topology)\n",
    "        topology = bricklayertopology(nq;periodic=false) #chain with obc\n",
    "    end\n",
    "\n",
    "    # differentiation libraries use custom types to trace through the computation\n",
    "    # we need to make all of our objects typed like that so that nothing breaks\n",
    "    CoeffType = eltype(thetas)\n",
    "\n",
    "    H = PauliSum(CoeffType, nq) #define Hamiltonian again (otherwise Reverse Diff breaks)\n",
    "    \n",
    "    for qind in 1:nq\n",
    "        add!(H, :X, qind, CoeffType(gamma))\n",
    "    end\n",
    "    for pair in topology\n",
    "        add!(H, [:Z, :Z], collect(pair), CoeffType(1.0))\n",
    "    end\n",
    "\n",
    "    # wrap the coefficients into PauliFreqTracker so that we can use `max_freq` truncation.\n",
    "    # usually this happens automatically but the in-place propagate!() function does not allow that.\n",
    "    wrapped_H = wrapcoefficients(H, PauliFreqTracker)\n",
    "    \n",
    "    # we also need to run the in-place version with `!`, because by default we copy the Pauli sum\n",
    "    output_H = propagate!(circuit, wrapped_H, thetas; max_freq, max_weight);\n",
    "    return overlapwithplus(output_H)\n",
    "end"
   ]
  },
  {
   "cell_type": "code",
   "execution_count": 14,
   "id": "6c49dfca",
   "metadata": {},
   "outputs": [
    {
     "data": {
      "text/plain": [
       "adam (generic function with 1 method)"
      ]
     },
     "metadata": {},
     "output_type": "display_data"
    }
   ],
   "source": [
    "# Adam optimizer\n",
    "function adam(thetas_init, closed_lossfunction, nq; eta=0.02, steps=100)\n",
    "    nparams = length(thetas_init)\n",
    "\n",
    " \n",
    "   # ReverseDiff tape on the tied loss (same as GD system)\n",
    "    tape = GradientTape(closed_lossfunction, thetas_init)\n",
    "    compiled_tape = compile(tape)\n",
    "\n",
    "    # Buffers & Adam state\n",
    "    grad = similar(thetas_init)\n",
    "    thetas = copy(thetas_init)\n",
    "    opt_energy = Vector{Float64}(undef, 0)\n",
    "\n",
    "    m = zero(thetas); v = zero(thetas)\n",
    "    β1, β2, ϵ = 0.9, 0.999, 1e-8\n",
    "\n",
    "    for t in 1:steps\n",
    "        gradient!(grad, tape, thetas)\n",
    "\n",
    "        # Adam update\n",
    "        m .= β1 .* m .+ (1 - β1) .* grad\n",
    "        v .= β2 .* v .+ (1 - β2) .* (grad .^ 2)\n",
    "        mhat = m ./ (1 - β1^t)\n",
    "        vhat = v ./ (1 - β2^t)\n",
    "        thetas .-= eta .* mhat ./ (sqrt.(vhat) .+ ϵ)\n",
    "\n",
    "        # Log E/Q using the tied view\n",
    "        push!(opt_energy, closed_lossfunction(thetas)/nq)\n",
    "    end\n",
    "    return thetas, opt_energy\n",
    "end\n"
   ]
  },
  {
   "cell_type": "code",
   "execution_count": 15,
   "id": "cd2013df",
   "metadata": {},
   "outputs": [
    {
     "data": {
      "text/plain": [
       "lbfgs_nlopt (generic function with 1 method)"
      ]
     },
     "metadata": {},
     "output_type": "display_data"
    }
   ],
   "source": [
    "# L-BFGS optimizer using NLopt package\n",
    "# https://nlopt.readthedocs.io/en/latest/NLopt_Reference/\n",
    "function lbfgs_nlopt(thetas_init, closed_lossfunction, nq;\n",
    "                     max_iters=500, xtol_rel=1e-8, ftol_rel=1e-12,\n",
    "                     max_time=Inf,\n",
    "                     lower_bounds=nothing, upper_bounds=nothing,\n",
    "                     verbose=false)\n",
    "\n",
    "    n  = length(thetas_init)\n",
    "\n",
    "    tape     = GradientTape(closed_lossfunction, thetas_init) #assume thetas_init is already Float64\n",
    "    compiled_tape = compile(tape)\n",
    "    gbuf     = zeros(n) # gradient buffer (preallocated), we need this for type stability between NLopt (C library) and Julia\n",
    "    opt_energy = Float64[]\n",
    "    evals = Ref(0)\n",
    "\n",
    "    opt = Opt(:LD_LBFGS, n) # NLopt package for L-BFGS algorithm\n",
    "    NLopt.maxeval!(opt, max_iters) # maximum number of function evaluations\n",
    "    #NLopt.xtol_rel!(opt, xtol_rel) # relative tolerance on optimization parameters (x axis) # this can cause stall at first step of optim\n",
    "    #NLopt.ftol_rel!(opt, ftol_rel) # relative tolerance on function value (f(x) axis)\n",
    "    NLopt.maxtime!(opt, isfinite(max_time) ? max_time : 0.0) # maximum time in seconds (0.0 means no cap)\n",
    "\n",
    "    # using these causes an error! (we're bounding the thetas during the adaptVQE anyways, so this is not necessarily needed)\n",
    "    if lower_bounds !== nothing\n",
    "        NLopt.lower_bounds!(opt, Float64.(lower_bounds))\n",
    "    end\n",
    "    if upper_bounds !== nothing\n",
    "        NLopt.upper_bounds!(opt, Float64.(upper_bounds))\n",
    "    end\n",
    "\n",
    "    NLopt.min_objective!(opt, (x, grad) -> begin # grad is write only that belongs to NLopt, sometimes NLopt wont ask for it, then it passes an empty array\n",
    "        fx = closed_lossfunction(x) :: Float64\n",
    "        if !isempty(grad)\n",
    "            gradient!(gbuf, compiled_tape, x) #ReverseDiff writes gradient into gbuf, then we copy into grad\n",
    "            @inbounds @simd for i in 1:n\n",
    "                grad[i] = gbuf[i]\n",
    "            end\n",
    "        end\n",
    "        evals[] += 1\n",
    "        push!(opt_energy, fx)\n",
    "        return fx\n",
    "    end)\n",
    "\n",
    "    minf, thetas, ret = NLopt.optimize(opt, thetas_init) # minf is best function / objective value found, thetas is the best params (that give minf), ret is termination code.\n",
    "    if verbose\n",
    "        @info \"NLopt LBFGS terminated\" status=ret evals=evals[] fmin=minf\n",
    "    end\n",
    "\n",
    "    return thetas, opt_energy/nq # LBFGS can do multiple function evaluations per iteration, so len(opt_energy) may be > max_iters.\n",
    "end\n"
   ]
  },
  {
   "cell_type": "code",
   "execution_count": 16,
   "id": "2a21de66",
   "metadata": {},
   "outputs": [
    {
     "data": {
      "text/plain": [
       "target_optimization (generic function with 1 method)"
      ]
     },
     "metadata": {},
     "output_type": "display_data"
    }
   ],
   "source": [
    "function target_optimization(nq, circuit, thetas; max_freq=Inf, max_weight=Inf, verbose = false)\n",
    "    # again, automatic diff example notebook for more details\n",
    "    closed_lossfunction = let const_nq=nq, const_max_freq=max_freq, const_max_weight=max_weight\n",
    "        # these are now all captured variables with known types and we return a function that only takes thetas s.t. ReverseDiff works\n",
    "        # See also \"closures\"\n",
    "        theta -> fulllossfunction(theta, circuit, const_nq; max_freq=const_max_freq, max_weight=const_max_weight)\n",
    "    end\n",
    "    \n",
    "    opt_thetas, opt_energy_gd = lbfgs_nlopt(thetas,closed_lossfunction,nq)\n",
    "    if verbose\n",
    "        println(\"Optimized thetas: \", opt_thetas)\n",
    "        println(\"Optimized energy per qubit: \", opt_energy_gd[end])\n",
    "\n",
    "        plot(opt_energy_gd)\n",
    "        display(plot!(title = \"Energy optimisation\", xlabel = \"runs\", ylabel = \"E/Q\"))\n",
    "    end\n",
    "\n",
    "    return opt_thetas, opt_energy_gd\n",
    "end"
   ]
  },
  {
   "cell_type": "code",
   "execution_count": 26,
   "id": "59a2c655",
   "metadata": {},
   "outputs": [
    {
     "data": {
      "text/plain": [
       "tfim_interpolation_circuit (generic function with 1 method)"
      ]
     },
     "metadata": {},
     "output_type": "display_data"
    }
   ],
   "source": [
    "function tfim_interpolation_circuit(nq, P; del_t= 0.1, J=1.0, G=1.0,  topology=nothing, periodic = false) \n",
    "    # drives from -X to target + X+ ZZ (TFIM)\n",
    "    tau = del_t * P # tau is total annealing time, divided into P steps/layers of circuit\n",
    "    if topology === nothing\n",
    "        topology = bricklayertopology(nq; periodic=periodic)\n",
    "    end\n",
    "\n",
    "    circuit = tfitrottercircuit(nq, P; topology=topology, start_with_ZZ=false) # 1st order trotter\n",
    "    periodic ? nbonds = nq : nbonds = nq - 1 # if periodic nq bonds, else nq-1 (1d chain)\n",
    "    total = P * (nq + nbonds)\n",
    "    params  = Vector{Float64}(undef, total)\n",
    "    idx = 1\n",
    "    \n",
    "    for m in 1:P # layers of trotterized circuit\n",
    "        s_m = (m - 0.5) / P\n",
    "\n",
    "        gamma_m = J* s_m * del_t /hbar\n",
    "        #println(gamma_m)   # paper Eq. (12)\n",
    "        beta_m = G*del_t*(2*s_m-1)/ hbar #(1-s_m) * del_t / hbar # paper Eq. (13a) - 1st order trotter\n",
    "        #println(beta_m)\n",
    "        theta_X = 2*beta_m\n",
    "        ##println(theta_X)              # angle for e^{-i theta_X X_j/2} - PauliRotation implementation in PP\n",
    "        theta_ZZ = 2*gamma_m              # angle for e^{-i theta_ZZ Z_j Z_{j+1}/2}, J=1\n",
    "        ##println(theta_ZZ)\n",
    "        @inbounds fill!(view(params, idx:idx+nq-1), theta_X);             idx += nq # set X angles,then shift the index\n",
    "        #println(params)\n",
    "        @inbounds fill!(view(params, idx:idx+nbonds-1), theta_ZZ);       idx += nbonds\n",
    "        #println(params)\n",
    "    end\n",
    "    # freeze the circuit to the params\n",
    "    circuit = freeze(circuit, params)\n",
    "    return circuit\n",
    "end\n"
   ]
  },
  {
   "cell_type": "code",
   "execution_count": 28,
   "id": "52707bce",
   "metadata": {},
   "outputs": [
    {
     "data": {
      "text/plain": [
       "2500-element Vector{Gate}:\n",
       " FrozenGate(PauliRotation([:X], [1]), parameter = -0.2)\n",
       " FrozenGate(PauliRotation([:X], [2]), parameter = -0.2)\n",
       " FrozenGate(PauliRotation([:X], [3]), parameter = -0.2)\n",
       " FrozenGate(PauliRotation([:Z, :Z], [1, 2]), parameter = 0.0002)\n",
       " FrozenGate(PauliRotation([:Z, :Z], [2, 3]), parameter = 0.0002)\n",
       " FrozenGate(PauliRotation([:X], [1]), parameter = -0.199)\n",
       " FrozenGate(PauliRotation([:X], [2]), parameter = -0.199)\n",
       " FrozenGate(PauliRotation([:X], [3]), parameter = -0.199)\n",
       " FrozenGate(PauliRotation([:Z, :Z], [1, 2]), parameter = 0.0006)\n",
       " FrozenGate(PauliRotation([:Z, :Z], [2, 3]), parameter = 0.0006)\n",
       " ⋮\n",
       " FrozenGate(PauliRotation([:X], [2]), parameter = 0.199)\n",
       " FrozenGate(PauliRotation([:X], [3]), parameter = 0.199)\n",
       " FrozenGate(PauliRotation([:Z, :Z], [1, 2]), parameter = 0.199)\n",
       " FrozenGate(PauliRotation([:Z, :Z], [2, 3]), parameter = 0.199)\n",
       " FrozenGate(PauliRotation([:X], [1]), parameter = 0.2)\n",
       " FrozenGate(PauliRotation([:X], [2]), parameter = 0.2)\n",
       " FrozenGate(PauliRotation([:X], [3]), parameter = 0.2)\n",
       " FrozenGate(PauliRotation([:Z, :Z], [1, 2]), parameter = 0.2)\n",
       " FrozenGate(PauliRotation([:Z, :Z], [2, 3]), parameter = 0.2)"
      ]
     },
     "metadata": {},
     "output_type": "display_data"
    }
   ],
   "source": [
    "# check datatypes\n",
    "circ = tfim_interpolation_circuit(3,500;topology=bricklayertopology(3))"
   ]
  },
  {
   "cell_type": "code",
   "execution_count": 31,
   "id": "13856200",
   "metadata": {},
   "outputs": [
    {
     "data": {
      "text/plain": [
       "adaptVQE_loop (generic function with 1 method)"
      ]
     },
     "metadata": {},
     "output_type": "display_data"
    }
   ],
   "source": [
    "function adaptVQE_loop(nq, hamiltonian, bit_pool; theta_init = rand(Uniform(-π, π)), max_iters=10, conv_tol=1e-4, interpol_circ=nothing, verbose=true)\n",
    "    circuit = Any[]      # initialize the adaptVQE circuit\n",
    "    thetas  = Float64[]; # initialize the parameter list\n",
    "    energy_per_loop = Float64[];\n",
    "    max_grads = Float64[] # collect for analysis\n",
    "    chosen_ops = UInt[]\n",
    "\n",
    "    for iter in 1:max_iters\n",
    "\n",
    "        # 1) Calculate gradients\n",
    "        grads = calc_gradients(bit_pool, hamiltonian, nq; circuit=circuit, params=thetas, tol=1e-12, verbose=false, up_on_odd=true)\n",
    "\n",
    "        # 2) Check convergence\n",
    "        converged, max_grad = check_convergence(grads; tol=conv_tol)\n",
    "        push!(max_grads, max_grad)\n",
    "        \n",
    "        if converged\n",
    "            println(\"Convergence achieved with max gradient < $conv_tol\")\n",
    "            break\n",
    "        end\n",
    "\n",
    "        # 3) Pick top operator\n",
    "        chose_op, grad_op, grads_sorted, _ = pick_top_operator(grads, bit_pool)\n",
    "\n",
    "        push!(chosen_ops, chose_op)\n",
    "\n",
    "        # 4) Append operator to circuit\n",
    "        circuit, thetas = append_from_bits!(circuit, thetas, chose_op, nq; theta_init=theta_init) # theta_init is multiplied by 2 in append function\n",
    "\n",
    "        ### DQA initialisation (append the frozen interpolation circuit, which we the overlap with teh driver gs (here plus))\n",
    "        if interpol_circ != nothing\n",
    "            append!(circuit, interpol_circ)\n",
    "        end \n",
    "        # 5) Optimize parameters\n",
    "        thetas, opt_energy_gd = target_optimization(nq, circuit, thetas; verbose=verbose)\n",
    "        # wrap the thetas to [-π,π] since they are angles\n",
    "        thetas = rem2pi.(thetas,RoundNearest) # does not seem to help the optimization\n",
    "        push!(energy_per_loop, opt_energy_gd[end])\n",
    "    end\n",
    "\n",
    "    # 6) Plot the gradient convergence\n",
    "    if verbose\n",
    "        plot(max_grads, marker=:o)\n",
    "        display(plot!(title = \"Max Gradient Convergence\", xlabel = \"Iteration\", ylabel = \"Max Gradient\"))\n",
    "    end\n",
    "\n",
    "    return circuit, thetas, chosen_ops, energy_per_loop, max_grads\n",
    "end"
   ]
  },
  {
   "cell_type": "code",
   "execution_count": 39,
   "id": "7ea429bc",
   "metadata": {},
   "outputs": [],
   "source": [
    "nq = 4\n",
    "P = 50\n",
    "interpol_circ = tfim_interpolation_circuit(nq, P)\n",
    "hamiltonian = tfim_1d_obc(nq, topology=bricklayertopology(nq;periodic=false))\n",
    "full_bit_pool = generate_full_bit_pool(nq)\n",
    "adapt_circuit, adapt_thetas, chosen_ops, energy_per_loop, max_grads = adaptVQE_loop(nq, hamiltonian, full_bit_pool;interpol_circ=interpol_circ, theta_init = rand(Uniform(-0.1,0.1)), max_iters=25, conv_tol=1e-4, verbose=false);"
   ]
  },
  {
   "cell_type": "code",
   "execution_count": 40,
   "id": "c48d11fa",
   "metadata": {},
   "outputs": [
    {
     "name": "stdout",
     "output_type": "stream",
     "text": [
      "[-0.23843936313539388, -0.22156214436419466, -0.3390667761991389, -0.7051727144005776, -0.7512915097200534, -0.7657407244130232, -0.8390459774300025, -0.8520375151439209, -0.929816776684068, -0.7881833190913805, -0.9702505024623043, -0.7551901920925109, -0.9270433606487258, -0.9414226856567943, -1.0088855578791431, -1.0887428395778722, -1.11326628926119, -1.1566782762677847, -0.8774921152384041, -1.0665578957140411, -1.1402747157074025, -1.1400894073088257, -1.1896926207859218, -1.1896926207859222, -1.1895649727469746]\n"
     ]
    }
   ],
   "source": [
    "println(energy_per_loop)"
   ]
  },
  {
   "cell_type": "code",
   "execution_count": null,
   "id": "6e6940d5",
   "metadata": {},
   "outputs": [],
   "source": []
  }
 ],
 "metadata": {
  "kernelspec": {
   "display_name": "Julia 1.11.5",
   "language": "julia",
   "name": "julia-1.11"
  },
  "language_info": {
   "file_extension": ".jl",
   "mimetype": "application/julia",
   "name": "julia",
   "version": "1.11.5"
  }
 },
 "nbformat": 4,
 "nbformat_minor": 5
}
